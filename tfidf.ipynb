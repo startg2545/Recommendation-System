{
 "cells": [
  {
   "cell_type": "markdown",
   "source": [
    "Import required packages"
   ],
   "metadata": {
    "collapsed": false
   },
   "id": "4975b875a2bf09a0"
  },
  {
   "cell_type": "code",
   "execution_count": 92,
   "id": "initial_id",
   "metadata": {
    "collapsed": true,
    "ExecuteTime": {
     "end_time": "2023-11-19T07:07:18.949483600Z",
     "start_time": "2023-11-19T07:07:18.924173200Z"
    }
   },
   "outputs": [],
   "source": [
    "import pandas as pd\n",
    "import re\n",
    "import numpy as np\n",
    "from sklearn.feature_extraction.text import TfidfVectorizer\n",
    "from sklearn.metrics.pairwise import cosine_similarity\n",
    "from sklearn.metrics.pairwise import linear_kernel"
   ]
  },
  {
   "cell_type": "markdown",
   "source": [
    "Read the file"
   ],
   "metadata": {
    "collapsed": false
   },
   "id": "b5f54b21a1aad86d"
  },
  {
   "cell_type": "code",
   "execution_count": 93,
   "outputs": [],
   "source": [
    "file = pd.read_excel('shortcourses2566.xlsx')"
   ],
   "metadata": {
    "collapsed": false,
    "ExecuteTime": {
     "end_time": "2023-11-19T07:07:20.320578300Z",
     "start_time": "2023-11-19T07:07:18.930461300Z"
    }
   },
   "id": "d3da61f397b9ca5d"
  },
  {
   "cell_type": "markdown",
   "source": [
    "Clean title with regular expresion"
   ],
   "metadata": {
    "collapsed": false
   },
   "id": "67bf7ef0f6dd9fe2"
  },
  {
   "cell_type": "code",
   "execution_count": 94,
   "outputs": [],
   "source": [
    "def clean_title(title):\n",
    "    return re.sub(\"[^a-zA-Z0-9 ]\", \"\", title)"
   ],
   "metadata": {
    "collapsed": false,
    "ExecuteTime": {
     "end_time": "2023-11-19T07:07:20.334714700Z",
     "start_time": "2023-11-19T07:07:20.323173900Z"
    }
   },
   "id": "e4dc26afbc54f2c0"
  },
  {
   "cell_type": "markdown",
   "source": [
    "Create dataframe of courses"
   ],
   "metadata": {
    "collapsed": false
   },
   "id": "65f01dea125beee9"
  },
  {
   "cell_type": "code",
   "execution_count": 95,
   "outputs": [],
   "source": [
    "content = file['หลักสูตรอบรมระยะสั้น'].drop_duplicates().fillna('')\n",
    "df = pd.DataFrame(content)\n",
    "content_clean = file['หลักสูตรอบรมระยะสั้น'].apply(clean_title).drop_duplicates().fillna('')\n",
    "df_clean = pd.DataFrame(content_clean)"
   ],
   "metadata": {
    "collapsed": false,
    "ExecuteTime": {
     "end_time": "2023-11-19T07:07:20.383194Z",
     "start_time": "2023-11-19T07:07:20.329197900Z"
    }
   },
   "id": "b3f21aedd43e6caf"
  },
  {
   "cell_type": "markdown",
   "source": [
    "Create tfidf matrix"
   ],
   "metadata": {
    "collapsed": false
   },
   "id": "c3989496741b31b6"
  },
  {
   "cell_type": "code",
   "execution_count": 96,
   "outputs": [],
   "source": [
    "tfidf = TfidfVectorizer(stop_words='english')\n",
    "tfidf_matrix = tfidf.fit_transform(content_clean)"
   ],
   "metadata": {
    "collapsed": false,
    "ExecuteTime": {
     "end_time": "2023-11-19T07:07:20.394392900Z",
     "start_time": "2023-11-19T07:07:20.389714700Z"
    }
   },
   "id": "cb5cd99f50462dca"
  },
  {
   "cell_type": "markdown",
   "source": [
    "Create cosine similarities"
   ],
   "metadata": {
    "collapsed": false
   },
   "id": "163e6b93447bfd83"
  },
  {
   "cell_type": "code",
   "execution_count": 97,
   "outputs": [],
   "source": [
    "cosine_similarities = linear_kernel(tfidf_matrix)"
   ],
   "metadata": {
    "collapsed": false,
    "ExecuteTime": {
     "end_time": "2023-11-19T07:07:20.406432600Z",
     "start_time": "2023-11-19T07:07:20.397902300Z"
    }
   },
   "id": "ddf0d8ab318c7c87"
  },
  {
   "cell_type": "markdown",
   "source": [
    "Create recommendation system function"
   ],
   "metadata": {
    "collapsed": false
   },
   "id": "eb50ecacd47aad8d"
  },
  {
   "cell_type": "code",
   "execution_count": 166,
   "outputs": [],
   "source": [
    "def get_cosine_similarity_recommendations(column, value, limit):\n",
    "    \"\"\"Return a dataframe of content recommendations based on TF-IDF cosine similarity.\n",
    "    \n",
    "    Args:\n",
    "        df (object): Pandas dataframe containing the text data. \n",
    "        column (string): Name of column used, i.e. 'title'. \n",
    "        value (string): Name of title to get recommendations for, i.e. 1982 Ferrari 308 GTSi For Sale by Auction\n",
    "        cosine_similarities (array): Cosine similarities matrix from linear_kernel\n",
    "        limit (int, optional): Optional limit on number of recommendations to return. \n",
    "        \n",
    "    Returns: \n",
    "        Pandas dataframe. \n",
    "    \"\"\"\n",
    "\n",
    "    # Return indices for the target dataframe column and drop any duplicates\n",
    "    indices = pd.Series(df[column]).drop_duplicates()\n",
    "    \n",
    "    # Get the index for the target value\n",
    "    count = 0\n",
    "    for name in indices:\n",
    "        if name == value:\n",
    "            break\n",
    "        else:\n",
    "            count = count + 1\n",
    "    target_index = count\n",
    "\n",
    "    # Get the cosine similarity scores for the target value\n",
    "    cosine_similarity_scores = list(enumerate(cosine_similarities[target_index]))\n",
    "\n",
    "    # Sort the cosine similarities in order of closest similarity\n",
    "    cosine_similarity_scores = sorted(cosine_similarity_scores, key=lambda x: x[1], reverse=True)\n",
    "\n",
    "    # Return tuple of the requested closest scores excluding the target item and index\n",
    "    cosine_similarity_scores = cosine_similarity_scores[1:limit+1]\n",
    "\n",
    "    # Extract the tuple values\n",
    "    index = (x[0] for x in cosine_similarity_scores)\n",
    "    scores = (x[1] for x in cosine_similarity_scores)\n",
    "\n",
    "    # Get the indices for the closest items\n",
    "    recommendation_indices = [i[0] for i in cosine_similarity_scores]\n",
    "\n",
    "    # Get the actutal recommendations\n",
    "    recommendations = df[column].iloc[recommendation_indices]\n",
    "\n",
    "    # Return a recommendations\n",
    "    recommendations = pd.DataFrame(list(zip(index, recommendations, scores)),\n",
    "                      columns=['index','recommendation', 'cosine_similarity_score'])\n",
    "\n",
    "    return recommendations"
   ],
   "metadata": {
    "collapsed": false,
    "ExecuteTime": {
     "end_time": "2023-11-19T07:10:36.110115800Z",
     "start_time": "2023-11-19T07:10:36.096714Z"
    }
   },
   "id": "991b48164c403112"
  },
  {
   "cell_type": "code",
   "execution_count": 167,
   "outputs": [
    {
     "data": {
      "text/plain": "   index                                     recommendation  \\\n0    111  วัสดุวิศวกรรม (Engineering Materials) 2566 - ร...   \n1    113  หุ่นยนต์วิจักษณ์ (Robotics Appreciation) 2566 ...   \n2     48  นักวางแผนข้อมูลเมือง (City Data Planner : CDP)...   \n3    129  เตรียมความพร้อมด้านดิจิทัลและทักษะภาษาอังกฤษ ส...   \n4     52  การเตรียมความพร้อมในการคุ้มครองข้อมูลส่วนบุคคล...   \n5    108                                 รังสีวิทยาวินิจฉัย   \n6      0  หลักการและพื้นฐานของเครื่องมือทางรังสีวิทยา (B...   \n7      1  การวินิจฉัยภาวะฉุกเฉินจากอุบัติเหตุ (Diagnosti...   \n8      2  การวินิจฉัยภาวะฉุกเฉินที่ไม่ได้เกิดจากอุบัติเห...   \n9      3  การพัฒนาปัญญาด้วยเกมต่อศัพท์ภาษาอังกฤษ (Intell...   \n\n   cosine_similarity_score  \n0                 0.415857  \n1                 0.184917  \n2                 0.135525  \n3                 0.133195  \n4                 0.128937  \n5                 0.116179  \n6                 0.000000  \n7                 0.000000  \n8                 0.000000  \n9                 0.000000  ",
      "text/html": "<div>\n<style scoped>\n    .dataframe tbody tr th:only-of-type {\n        vertical-align: middle;\n    }\n\n    .dataframe tbody tr th {\n        vertical-align: top;\n    }\n\n    .dataframe thead th {\n        text-align: right;\n    }\n</style>\n<table border=\"1\" class=\"dataframe\">\n  <thead>\n    <tr style=\"text-align: right;\">\n      <th></th>\n      <th>index</th>\n      <th>recommendation</th>\n      <th>cosine_similarity_score</th>\n    </tr>\n  </thead>\n  <tbody>\n    <tr>\n      <th>0</th>\n      <td>111</td>\n      <td>วัสดุวิศวกรรม (Engineering Materials) 2566 - ร...</td>\n      <td>0.415857</td>\n    </tr>\n    <tr>\n      <th>1</th>\n      <td>113</td>\n      <td>หุ่นยนต์วิจักษณ์ (Robotics Appreciation) 2566 ...</td>\n      <td>0.184917</td>\n    </tr>\n    <tr>\n      <th>2</th>\n      <td>48</td>\n      <td>นักวางแผนข้อมูลเมือง (City Data Planner : CDP)...</td>\n      <td>0.135525</td>\n    </tr>\n    <tr>\n      <th>3</th>\n      <td>129</td>\n      <td>เตรียมความพร้อมด้านดิจิทัลและทักษะภาษาอังกฤษ ส...</td>\n      <td>0.133195</td>\n    </tr>\n    <tr>\n      <th>4</th>\n      <td>52</td>\n      <td>การเตรียมความพร้อมในการคุ้มครองข้อมูลส่วนบุคคล...</td>\n      <td>0.128937</td>\n    </tr>\n    <tr>\n      <th>5</th>\n      <td>108</td>\n      <td>รังสีวิทยาวินิจฉัย</td>\n      <td>0.116179</td>\n    </tr>\n    <tr>\n      <th>6</th>\n      <td>0</td>\n      <td>หลักการและพื้นฐานของเครื่องมือทางรังสีวิทยา (B...</td>\n      <td>0.000000</td>\n    </tr>\n    <tr>\n      <th>7</th>\n      <td>1</td>\n      <td>การวินิจฉัยภาวะฉุกเฉินจากอุบัติเหตุ (Diagnosti...</td>\n      <td>0.000000</td>\n    </tr>\n    <tr>\n      <th>8</th>\n      <td>2</td>\n      <td>การวินิจฉัยภาวะฉุกเฉินที่ไม่ได้เกิดจากอุบัติเห...</td>\n      <td>0.000000</td>\n    </tr>\n    <tr>\n      <th>9</th>\n      <td>3</td>\n      <td>การพัฒนาปัญญาด้วยเกมต่อศัพท์ภาษาอังกฤษ (Intell...</td>\n      <td>0.000000</td>\n    </tr>\n  </tbody>\n</table>\n</div>"
     },
     "execution_count": 167,
     "metadata": {},
     "output_type": "execute_result"
    }
   ],
   "source": [
    "x = get_cosine_similarity_recommendations('หลักสูตรอบรมระยะสั้น',\n",
    "                                      'การวิเคราะห์ข้อมูลอัจฉริยะด้วย RapidMiner (Intelligence Data analysis with RapidMiner) รุ่นที่ 2',\n",
    "                                      10)\n",
    "x"
   ],
   "metadata": {
    "collapsed": false,
    "ExecuteTime": {
     "end_time": "2023-11-19T07:10:36.564537100Z",
     "start_time": "2023-11-19T07:10:36.557653900Z"
    }
   },
   "id": "c0f4db781812aba2"
  },
  {
   "cell_type": "markdown",
   "source": [
    "https://practicaldatascience.co.uk/data-science/how-to-create-content-recommendations-using-tf-idf"
   ],
   "metadata": {
    "collapsed": false
   },
   "id": "94a7a7174b87e26f"
  }
 ],
 "metadata": {
  "kernelspec": {
   "display_name": "Python 3",
   "language": "python",
   "name": "python3"
  },
  "language_info": {
   "codemirror_mode": {
    "name": "ipython",
    "version": 2
   },
   "file_extension": ".py",
   "mimetype": "text/x-python",
   "name": "python",
   "nbconvert_exporter": "python",
   "pygments_lexer": "ipython2",
   "version": "2.7.6"
  }
 },
 "nbformat": 4,
 "nbformat_minor": 5
}
