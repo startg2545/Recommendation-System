{
 "cells": [
  {
   "cell_type": "markdown",
   "id": "4975b875a2bf09a0",
   "metadata": {
    "collapsed": false,
    "jupyter": {
     "outputs_hidden": false
    }
   },
   "source": [
    "Import required packages"
   ]
  },
  {
   "cell_type": "code",
   "execution_count": 6,
   "id": "initial_id",
   "metadata": {
    "ExecuteTime": {
     "end_time": "2023-12-21T09:16:37.694029Z",
     "start_time": "2023-12-21T09:16:37.693522900Z"
    }
   },
   "outputs": [],
   "source": [
    "import pandas as pd\n",
    "import re\n",
    "from sklearn.feature_extraction.text import TfidfVectorizer\n",
    "from sklearn.metrics.pairwise import linear_kernel\n",
    "import translators as ts\n",
    "import pickle\n",
    "import sys\n",
    "import numpy as np"
   ]
  },
  {
   "cell_type": "markdown",
   "id": "9fd90e4c",
   "metadata": {},
   "source": [
    "Get filename from pickle"
   ]
  },
  {
   "cell_type": "code",
   "execution_count": 7,
   "id": "c3fb4e1a",
   "metadata": {},
   "outputs": [],
   "source": [
    "# Receive the user name from app.py\n",
    "user_input = 'James Hill'\n",
    "\n",
    "# Get filename from pickle\n",
    "with open('./pickle/filename.pickle', 'rb') as f:\n",
    "    filename = pickle.load(f)"
   ]
  },
  {
   "cell_type": "markdown",
   "id": "b5f54b21a1aad86d",
   "metadata": {
    "collapsed": false,
    "jupyter": {
     "outputs_hidden": false
    }
   },
   "source": [
    "Read the file"
   ]
  },
  {
   "cell_type": "code",
   "execution_count": 8,
   "id": "d3da61f397b9ca5d",
   "metadata": {
    "ExecuteTime": {
     "end_time": "2023-12-21T08:45:08.748060800Z",
     "start_time": "2023-12-21T08:45:07.278976400Z"
    },
    "collapsed": false,
    "jupyter": {
     "outputs_hidden": false
    }
   },
   "outputs": [],
   "source": [
    "file_name = './uploads/Sample Dataset.xlsx'\n",
    "file = pd.read_excel(file_name)"
   ]
  },
  {
   "cell_type": "markdown",
   "id": "e03155d2afd736eb",
   "metadata": {
    "collapsed": false,
    "jupyter": {
     "outputs_hidden": false
    }
   },
   "source": [
    "Language convert function"
   ]
  },
  {
   "cell_type": "code",
   "execution_count": 9,
   "id": "c368d2c6cb469623",
   "metadata": {
    "ExecuteTime": {
     "end_time": "2023-12-21T12:34:36.879980800Z",
     "start_time": "2023-12-21T12:34:36.874978200Z"
    },
    "collapsed": false,
    "jupyter": {
     "outputs_hidden": false
    }
   },
   "outputs": [],
   "source": [
    "def translate_eng(text):\n",
    "    return ts.translate_text(text)\n",
    "\n",
    "def is_english(text):\n",
    "    for char in text:\n",
    "        if char.isalpha() and char.isascii():\n",
    "            return True\n",
    "    return False"
   ]
  },
  {
   "cell_type": "markdown",
   "id": "67bf7ef0f6dd9fe2",
   "metadata": {
    "collapsed": false,
    "jupyter": {
     "outputs_hidden": false
    }
   },
   "source": [
    "Clean title with regular expresion"
   ]
  },
  {
   "cell_type": "code",
   "execution_count": 10,
   "id": "e4dc26afbc54f2c0",
   "metadata": {
    "ExecuteTime": {
     "end_time": "2023-12-21T08:45:09.156407200Z",
     "start_time": "2023-12-21T08:45:09.156407200Z"
    },
    "collapsed": false,
    "jupyter": {
     "outputs_hidden": false
    }
   },
   "outputs": [],
   "source": [
    "def clean_title(title):\n",
    "    return re.sub(\"[^a-zA-Z0-9 ]\", \"\", title)"
   ]
  },
  {
   "cell_type": "markdown",
   "id": "65f01dea125beee9",
   "metadata": {
    "collapsed": false,
    "jupyter": {
     "outputs_hidden": false
    }
   },
   "source": [
    "Create dataframe of courses"
   ]
  },
  {
   "cell_type": "code",
   "execution_count": 11,
   "id": "b3f21aedd43e6caf",
   "metadata": {
    "ExecuteTime": {
     "end_time": "2023-12-21T12:58:29.883698100Z",
     "start_time": "2023-12-21T12:58:18.788951800Z"
    },
    "collapsed": false,
    "jupyter": {
     "outputs_hidden": false
    }
   },
   "outputs": [],
   "source": [
    "# Take the series of courses from dataset column\n",
    "content = file['course'].drop_duplicates().fillna('')\n",
    "courses = content.sort_values().set_axis(range(0,len(content)))\n",
    "\n",
    "# Check if the course is in Thai language or not\n",
    "is_english_courses = courses.apply(is_english)\n",
    "thai_courses_not_trans = courses[is_english_courses == False]\n",
    "\n",
    "# Translate courses in a thai language to en english language\n",
    "thai_courses = thai_courses_not_trans.apply(translate_eng)\n",
    "english_courses = courses[is_english_courses == True]\n",
    "\n",
    "# Combine 2 series into a single series\n",
    "combined_courses = thai_courses._append(english_courses)\n",
    "\n",
    "# Convert combined courses to be in form of regular expression\n",
    "courses_clean = combined_courses.apply(clean_title).sort_index()"
   ]
  },
  {
   "cell_type": "code",
   "execution_count": 12,
   "id": "349242dd",
   "metadata": {},
   "outputs": [],
   "source": [
    "number_of_courses = len(courses)"
   ]
  },
  {
   "cell_type": "markdown",
   "id": "c3989496741b31b6",
   "metadata": {
    "collapsed": false,
    "jupyter": {
     "outputs_hidden": false
    }
   },
   "source": [
    "Create tfidf matrix"
   ]
  },
  {
   "cell_type": "code",
   "execution_count": 97,
   "id": "ea5994b5",
   "metadata": {},
   "outputs": [
    {
     "name": "stdout",
     "output_type": "stream",
     "text": [
      "0    Basic Computer Programming for ISNE\n",
      "1                             Calculus 1\n",
      "2         Data Structures and Algorithms\n",
      "3                    Engineering Drawing\n",
      "4                  Fundamental English 1\n",
      "5                   Introduction to ISNE\n",
      "Name: course, dtype: object\n"
     ]
    }
   ],
   "source": [
    "print(courses)"
   ]
  },
  {
   "cell_type": "code",
   "execution_count": 110,
   "id": "cfc29bd3",
   "metadata": {},
   "outputs": [
    {
     "name": "stdout",
     "output_type": "stream",
     "text": [
      "\n",
      "idf values:\n",
      "algorithms : 2.252762968495368\n",
      "and : 2.252762968495368\n",
      "basic : 2.252762968495368\n",
      "calculus : 2.252762968495368\n",
      "computer : 2.252762968495368\n",
      "data : 2.252762968495368\n",
      "drawing : 2.252762968495368\n",
      "engineering : 2.252762968495368\n",
      "english : 2.252762968495368\n",
      "for : 2.252762968495368\n",
      "fundamental : 2.252762968495368\n",
      "introduction : 2.252762968495368\n",
      "isne : 1.8472978603872037\n",
      "programming : 2.252762968495368\n",
      "structures : 2.252762968495368\n",
      "to : 2.252762968495368\n",
      "\n",
      "Word indexes:\n",
      "{'basic': 2, 'computer': 4, 'programming': 13, 'for': 9, 'isne': 12, 'calculus': 3, 'data': 5, 'structures': 14, 'and': 1, 'algorithms': 0, 'engineering': 7, 'drawing': 6, 'fundamental': 10, 'english': 8, 'introduction': 11, 'to': 15}\n",
      "\n",
      "tf-idf value:\n",
      "  (0, 12)\t0.37935894668725584\n",
      "  (0, 9)\t0.4626247911559474\n",
      "  (0, 13)\t0.4626247911559474\n",
      "  (0, 4)\t0.4626247911559474\n",
      "  (0, 2)\t0.4626247911559474\n",
      "  (1, 3)\t1.0\n",
      "  (2, 0)\t0.5\n",
      "  (2, 1)\t0.5\n",
      "  (2, 14)\t0.5\n",
      "  (2, 5)\t0.5\n",
      "  (3, 6)\t0.7071067811865476\n",
      "  (3, 7)\t0.7071067811865476\n",
      "  (4, 8)\t0.7071067811865476\n",
      "  (4, 10)\t0.7071067811865476\n",
      "  (5, 15)\t0.6117125098631682\n",
      "  (5, 11)\t0.6117125098631682\n",
      "  (5, 12)\t0.501613008756558\n",
      "\n",
      "tf-idf values in matrix form:\n",
      "[[0.         0.         0.46262479 0.         0.46262479 0.\n",
      "  0.         0.         0.         0.46262479 0.         0.\n",
      "  0.37935895 0.46262479 0.         0.        ]\n",
      " [0.         0.         0.         1.         0.         0.\n",
      "  0.         0.         0.         0.         0.         0.\n",
      "  0.         0.         0.         0.        ]\n",
      " [0.5        0.5        0.         0.         0.         0.5\n",
      "  0.         0.         0.         0.         0.         0.\n",
      "  0.         0.         0.5        0.        ]\n",
      " [0.         0.         0.         0.         0.         0.\n",
      "  0.70710678 0.70710678 0.         0.         0.         0.\n",
      "  0.         0.         0.         0.        ]\n",
      " [0.         0.         0.         0.         0.         0.\n",
      "  0.         0.         0.70710678 0.         0.70710678 0.\n",
      "  0.         0.         0.         0.        ]\n",
      " [0.         0.         0.         0.         0.         0.\n",
      "  0.         0.         0.         0.         0.         0.61171251\n",
      "  0.50161301 0.         0.         0.61171251]]\n"
     ]
    }
   ],
   "source": [
    "# set default for all parameters in TfidfVectorizer\n",
    "tfidf = TfidfVectorizer()\n",
    "\n",
    "# get tf-df values\n",
    "tfidf_matrix = tfidf.fit_transform(courses)\n",
    "# get idf values\n",
    "print('\\nidf values:')\n",
    "for ele1, ele2 in zip(tfidf.get_feature_names_out(), tfidf.idf_):\n",
    "\tprint(ele1, ':', ele2)\n",
    "\t\n",
    "# get indexing\n",
    "print('\\nWord indexes:')\n",
    "print(tfidf.vocabulary_)\n",
    "\n",
    "# display tf-idf values\n",
    "print('\\ntf-idf value:')\n",
    "print(tfidf_matrix)\n",
    "\n",
    "\n",
    "# in matrix form\n",
    "print('\\ntf-idf values in matrix form:')\n",
    "print(tfidf_matrix.toarray())"
   ]
  },
  {
   "cell_type": "markdown",
   "id": "f0180046",
   "metadata": {},
   "source": [
    "Create path"
   ]
  },
  {
   "cell_type": "code",
   "execution_count": 111,
   "id": "72a9699b",
   "metadata": {},
   "outputs": [],
   "source": [
    "import os\n",
    "# Specify the folder path\n",
    "folder_path = '/workspaces/recommendation-system/pickle'\n",
    "\n",
    "# Create the folder if it doesn't exist\n",
    "if not os.path.exists(folder_path):\n",
    "    os.makedirs(folder_path)"
   ]
  },
  {
   "cell_type": "markdown",
   "id": "16e1a530",
   "metadata": {},
   "source": [
    "Export variable"
   ]
  },
  {
   "cell_type": "code",
   "execution_count": 112,
   "id": "26016968",
   "metadata": {},
   "outputs": [],
   "source": [
    "file_path = os.path.join(folder_path, 'tfidf_matrix.pickle')\n",
    "with open(file_path, 'wb') as f:\n",
    "    pickle.dump(tfidf_matrix, f)"
   ]
  },
  {
   "cell_type": "markdown",
   "id": "163e6b93447bfd83",
   "metadata": {
    "collapsed": false,
    "jupyter": {
     "outputs_hidden": false
    }
   },
   "source": [
    "Create cosine similarities"
   ]
  },
  {
   "cell_type": "code",
   "execution_count": 114,
   "id": "ddf0d8ab318c7c87",
   "metadata": {
    "ExecuteTime": {
     "end_time": "2023-12-21T08:45:09.198366500Z",
     "start_time": "2023-12-21T08:45:09.198366500Z"
    },
    "collapsed": false,
    "jupyter": {
     "outputs_hidden": false
    }
   },
   "outputs": [
    {
     "data": {
      "text/plain": [
       "array([[1.        , 0.        , 0.        , 0.        , 0.        ,\n",
       "        0.19029138],\n",
       "       [0.        , 1.        , 0.        , 0.        , 0.        ,\n",
       "        0.        ],\n",
       "       [0.        , 0.        , 1.        , 0.        , 0.        ,\n",
       "        0.        ],\n",
       "       [0.        , 0.        , 0.        , 1.        , 0.        ,\n",
       "        0.        ],\n",
       "       [0.        , 0.        , 0.        , 0.        , 1.        ,\n",
       "        0.        ],\n",
       "       [0.19029138, 0.        , 0.        , 0.        , 0.        ,\n",
       "        1.        ]])"
      ]
     },
     "execution_count": 114,
     "metadata": {},
     "output_type": "execute_result"
    }
   ],
   "source": [
    "cosine_similarities = linear_kernel(tfidf_matrix)\n",
    "cosine_similarities"
   ]
  },
  {
   "cell_type": "markdown",
   "id": "eb50ecacd47aad8d",
   "metadata": {
    "collapsed": false,
    "jupyter": {
     "outputs_hidden": false
    }
   },
   "source": [
    "Create recommendation system function"
   ]
  },
  {
   "cell_type": "code",
   "execution_count": 12,
   "id": "991b48164c403112",
   "metadata": {
    "ExecuteTime": {
     "end_time": "2023-12-21T09:04:27.483370400Z",
     "start_time": "2023-12-21T09:04:27.451730600Z"
    },
    "collapsed": false,
    "jupyter": {
     "outputs_hidden": false
    }
   },
   "outputs": [],
   "source": [
    "def recommender_tfidf(course_name):\n",
    "    \"\"\"Return a dataframe of content recommendations based on TF-IDF cosine similarity.\n",
    "    \n",
    "    Args:\n",
    "        courses (object): Pandas Series containing the text data. \n",
    "        column (string): Name of column used, i.e. 'title'. \n",
    "        course_name (string): Name of title to get recommendations for, i.e. 1982 Ferrari 308 GTSi For Sale by Auction\n",
    "        cosine_similarities (array): Cosine similarities matrix from linear_kernel\n",
    "        \n",
    "    Returns: \n",
    "        Pandas dataframe. \n",
    "    \"\"\"\n",
    "\n",
    "    # Return indices for the target dataframe column and drop any duplicates\n",
    "    indices = pd.Series(courses).drop_duplicates()\n",
    "    \n",
    "    # Get the index for the target course_name\n",
    "    target_index = indices[indices == course_name].index[0]\n",
    "\n",
    "    # Get the cosine similarity scores for the target course_name\n",
    "    cosine_similarity_scores = list(enumerate(cosine_similarities[target_index]))\n",
    "    \n",
    "    # Sort the cosine similarities in order of closest similarity\n",
    "    cosine_similarity_scores = sorted(cosine_similarity_scores, key=lambda x: x[1], reverse=True)\n",
    "    \n",
    "    # Return tuple of the requested closest scores excluding the target item and index\n",
    "    cosine_similarity_scores = cosine_similarity_scores[1:number_of_courses]\n",
    "    cosine_similarity_scores = [(i, score) for i, score in cosine_similarity_scores if score != 0]\n",
    "    \n",
    "    # Extract the tuple course_names\n",
    "    index = (x[0] for x in cosine_similarity_scores)\n",
    "    scores = (x[1] for x in cosine_similarity_scores)\n",
    "    \n",
    "    # Get the indices for the closest items\n",
    "    recommendation_indices = [i[0] for i in cosine_similarity_scores]\n",
    "    \n",
    "    # Get the actual recommendations\n",
    "    recommendations = courses.iloc[recommendation_indices]\n",
    "    \n",
    "    # Return a recommendations\n",
    "    recommendations = pd.DataFrame(tuple(zip(index, recommendations, scores)),\n",
    "                      columns=['Index','Course', 'Cosine Similarity Score'])\n",
    "    \n",
    "    # Take index from column 'index'\n",
    "    idx = recommendations['Index']\n",
    "    \n",
    "    # Set and sort index\n",
    "    recommendations = recommendations.set_axis(idx).drop(columns='Index')\n",
    "    return recommendations"
   ]
  },
  {
   "cell_type": "code",
   "execution_count": 13,
   "id": "594104f8545fe00",
   "metadata": {
    "ExecuteTime": {
     "end_time": "2023-12-21T08:45:09.267634900Z",
     "start_time": "2023-12-21T08:45:09.264604200Z"
    },
    "collapsed": false,
    "jupyter": {
     "outputs_hidden": false
    }
   },
   "outputs": [],
   "source": [
    "def recommender_tfidf_all_courses(course_name):\n",
    "    \"\"\"Return a dataframe of content recommendations based on TF-IDF cosine similarity.\n",
    "    \n",
    "    Args:\n",
    "        courses (object): Pandas Series containing the text data. \n",
    "        column (string): Name of column used, i.e. 'title'. \n",
    "        course_name (string): Name of title to get recommendations for, i.e. 1982 Ferrari 308 GTSi For Sale by Auction\n",
    "        cosine_similarities (array): Cosine similarities matrix from linear_kernel\n",
    "        \n",
    "    Returns: \n",
    "        Pandas dataframe. \n",
    "    \"\"\"\n",
    "\n",
    "    # Return indices for the target dataframe column and drop any duplicates\n",
    "    indices = pd.Series(courses).drop_duplicates()\n",
    "\n",
    "    # Get the index for the target course_name\n",
    "    count = 0\n",
    "    for name in indices:\n",
    "        if name == course_name:\n",
    "            break\n",
    "        else:\n",
    "            count = count + 1\n",
    "    target_index = count\n",
    "\n",
    "    # Get the cosine similarity scores for the target course_name\n",
    "    cosine_similarity_scores = list(enumerate(cosine_similarities[target_index]))\n",
    "\n",
    "    # Sort the cosine similarities in order of closest similarity\n",
    "    cosine_similarity_scores = sorted(cosine_similarity_scores, key=lambda x: x[1], reverse=True)\n",
    "\n",
    "    # Return tuple of the requested closest scores excluding the target item and index\n",
    "    cosine_similarity_scores = cosine_similarity_scores[1:len(courses)]\n",
    "\n",
    "    # Extract the tuple course_names\n",
    "    index = (x[0] for x in cosine_similarity_scores)\n",
    "    scores = (x[1] for x in cosine_similarity_scores)\n",
    "\n",
    "    # Get the indices for the closest items\n",
    "    recommendation_indices = [i[0] for i in cosine_similarity_scores]\n",
    "\n",
    "    # Get the actual recommendations\n",
    "    recommendations = courses.iloc[recommendation_indices]\n",
    "\n",
    "    # Return a recommendations\n",
    "    recommendations = pd.DataFrame(tuple(zip(index, recommendations, scores)),\n",
    "                                   columns=['Index','Course', 'Score'])\n",
    "    \n",
    "    # Take index from column 'index'\n",
    "    idx = recommendations['Index']\n",
    "    \n",
    "    # Set and sort index \n",
    "    recommendations = recommendations.set_axis(idx).drop(columns='Index').sort_index()\n",
    "    return recommendations"
   ]
  },
  {
   "cell_type": "code",
   "execution_count": 14,
   "id": "fdf28ef643836d21",
   "metadata": {
    "ExecuteTime": {
     "end_time": "2023-12-21T08:45:09.345447100Z",
     "start_time": "2023-12-21T08:45:09.289622500Z"
    },
    "collapsed": false,
    "jupyter": {
     "outputs_hidden": false
    }
   },
   "outputs": [],
   "source": [
    "def recommender_tfidf_by_user(user_name, n_recommendations):\n",
    "\n",
    "    n_recommendations = number_of_courses - 1\n",
    "    \n",
    "    df = {\n",
    "        'User': pd.Series(file['username']),\n",
    "        'Course': pd.Series(file['course'])\n",
    "    }\n",
    "\n",
    "    user_course = pd.DataFrame(df)\n",
    "    selected_user_name = user_course.loc[user_course['User'] == user_name]\n",
    "    selected_courses = selected_user_name['Course']\n",
    "\n",
    "    recommended_courses = [ recommender_tfidf_all_courses(x) for x in selected_courses]\n",
    "\n",
    "    # pre dataframe\n",
    "    df = pd.DataFrame({\n",
    "        'Course': [],\n",
    "        'Score': []\n",
    "    }).rename_axis('Index')\n",
    "\n",
    "    for x in recommended_courses:\n",
    "        df = df._append(x)\n",
    "    df =  df.sort_values('Score', ascending=False).drop_duplicates('Course')\n",
    "    return df.head(n_recommendations)"
   ]
  },
  {
   "cell_type": "markdown",
   "id": "3c7f3fe7",
   "metadata": {},
   "source": [
    "Export to web page"
   ]
  },
  {
   "cell_type": "code",
   "execution_count": 16,
   "id": "e2425ec0689e85cb",
   "metadata": {
    "ExecuteTime": {
     "end_time": "2023-12-21T08:45:09.417517200Z",
     "start_time": "2023-12-21T08:45:09.304221600Z"
    },
    "collapsed": false,
    "jupyter": {
     "outputs_hidden": false
    }
   },
   "outputs": [],
   "source": [
    "# print(recommender_tfidf_by_user(user_input).to_html(index=False))"
   ]
  },
  {
   "cell_type": "markdown",
   "id": "4ec2f48232934fc9",
   "metadata": {
    "collapsed": false,
    "jupyter": {
     "outputs_hidden": false
    }
   },
   "source": [
    "References"
   ]
  },
  {
   "cell_type": "markdown",
   "id": "94a7a7174b87e26f",
   "metadata": {
    "collapsed": false,
    "jupyter": {
     "outputs_hidden": false
    }
   },
   "source": [
    "https://practicaldatascience.co.uk/data-science/how-to-create-content-recommendations-using-tf-idf\n",
    "https://lukkiddd.com/tf-idf-%E0%B8%84%E0%B8%B3%E0%B9%84%E0%B8%AB%E0%B8%99%E0%B8%AA%E0%B8%B3%E0%B8%84%E0%B8%B1%E0%B8%8D%E0%B8%99%E0%B8%B0-dd1e1568312e"
   ]
  },
  {
   "cell_type": "markdown",
   "id": "ddb9d8f471e4ee78",
   "metadata": {
    "collapsed": false,
    "jupyter": {
     "outputs_hidden": false
    }
   },
   "source": [
    "Training Test Part"
   ]
  },
  {
   "cell_type": "markdown",
   "id": "cdf30562b75a0367",
   "metadata": {
    "collapsed": false,
    "jupyter": {
     "outputs_hidden": false
    }
   },
   "source": [
    "Define how much similarity is to be recommended"
   ]
  },
  {
   "cell_type": "code",
   "execution_count": 17,
   "id": "af84469a",
   "metadata": {},
   "outputs": [],
   "source": [
    "threshold_value = 0.5  # Assume the similarity is symmetric"
   ]
  },
  {
   "cell_type": "markdown",
   "id": "f5d05b95",
   "metadata": {},
   "source": [
    "Calculate X and y"
   ]
  },
  {
   "cell_type": "code",
   "execution_count": 18,
   "id": "1f14300b",
   "metadata": {},
   "outputs": [],
   "source": [
    "X = tfidf_matrix.toarray()\n",
    "\n",
    "# Create a DataFrame from courses and item_list\n",
    "def get_mean(item):\n",
    "    arr = recommender_tfidf(item)['Cosine Similarity Score']\n",
    "    if arr.empty:\n",
    "        return 0\n",
    "    else:\n",
    "        return arr.mean()\n",
    "    \n",
    "\n",
    "def get_label(item):\n",
    "    mean = get_mean(item)\n",
    "    if mean > threshold_value:\n",
    "        return 'recommended'\n",
    "    else:\n",
    "        return 'not recommended'\n",
    "    \n",
    "y = [ get_label(course) for course in courses ]"
   ]
  },
  {
   "cell_type": "markdown",
   "id": "0f70b06f",
   "metadata": {},
   "source": [
    "Export variable"
   ]
  },
  {
   "cell_type": "code",
   "execution_count": 19,
   "id": "3ca45e3b",
   "metadata": {},
   "outputs": [],
   "source": [
    "file_path = os.path.join(folder_path, 'tfidf_X.pickle')\n",
    "with open(file_path, 'wb') as f:\n",
    "    pickle.dump(X, f)\n",
    "\n",
    "file_path = os.path.join(folder_path, 'tfidf_y.pickle')\n",
    "with open(file_path, 'wb') as f:\n",
    "    pickle.dump(y, f)"
   ]
  },
  {
   "cell_type": "markdown",
   "id": "da99576b",
   "metadata": {},
   "source": [
    "Reference"
   ]
  },
  {
   "cell_type": "markdown",
   "id": "cb362f72bacbb424",
   "metadata": {
    "collapsed": false,
    "jupyter": {
     "outputs_hidden": false
    }
   },
   "source": [
    "https://www.datacamp.com/tutorial/naive-bayes-scikit-learn\n",
    "https://chat.openai.com/share/a3144868-3e0d-4584-b443-b6c49efb9117"
   ]
  }
 ],
 "metadata": {
  "kernelspec": {
   "display_name": "Python 3 (ipykernel)",
   "language": "python",
   "name": "python3"
  },
  "language_info": {
   "codemirror_mode": {
    "name": "ipython",
    "version": 3
   },
   "file_extension": ".py",
   "mimetype": "text/x-python",
   "name": "python",
   "nbconvert_exporter": "python",
   "pygments_lexer": "ipython3",
   "version": "3.10.13"
  }
 },
 "nbformat": 4,
 "nbformat_minor": 5
}
