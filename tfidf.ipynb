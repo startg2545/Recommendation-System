{
 "cells": [
  {
   "cell_type": "markdown",
   "id": "4975b875a2bf09a0",
   "metadata": {
    "collapsed": false,
    "jupyter": {
     "outputs_hidden": false
    }
   },
   "source": [
    "Import required packages"
   ]
  },
  {
   "cell_type": "code",
   "execution_count": 1,
   "id": "initial_id",
   "metadata": {
    "ExecuteTime": {
     "end_time": "2023-12-21T09:16:37.694029Z",
     "start_time": "2023-12-21T09:16:37.693522900Z"
    }
   },
   "outputs": [],
   "source": [
    "import pandas as pd\n",
    "import re\n",
    "import numpy as np\n",
    "import spacy\n",
    "from collections import Counter\n",
    "from sklearn.feature_extraction.text import TfidfVectorizer\n",
    "from sklearn.metrics.pairwise import cosine_similarity, linear_kernel\n",
    "import translators as ts"
   ]
  },
  {
   "cell_type": "markdown",
   "id": "b5f54b21a1aad86d",
   "metadata": {
    "collapsed": false,
    "jupyter": {
     "outputs_hidden": false
    }
   },
   "source": [
    "Read the file"
   ]
  },
  {
   "cell_type": "code",
   "execution_count": 2,
   "id": "d3da61f397b9ca5d",
   "metadata": {
    "ExecuteTime": {
     "end_time": "2023-12-21T08:45:08.748060800Z",
     "start_time": "2023-12-21T08:45:07.278976400Z"
    },
    "collapsed": false,
    "jupyter": {
     "outputs_hidden": false
    }
   },
   "outputs": [],
   "source": [
    "file = pd.read_excel('shortcourses2566.xlsx')"
   ]
  },
  {
   "cell_type": "markdown",
   "id": "e03155d2afd736eb",
   "metadata": {
    "collapsed": false,
    "jupyter": {
     "outputs_hidden": false
    }
   },
   "source": [
    "Language convert function"
   ]
  },
  {
   "cell_type": "code",
   "execution_count": 3,
   "id": "c368d2c6cb469623",
   "metadata": {
    "ExecuteTime": {
     "end_time": "2023-12-21T12:34:36.879980800Z",
     "start_time": "2023-12-21T12:34:36.874978200Z"
    },
    "collapsed": false,
    "jupyter": {
     "outputs_hidden": false
    }
   },
   "outputs": [],
   "source": [
    "def translate_eng(text):\n",
    "    return ts.translate_text(text)\n",
    "\n",
    "def is_english(text):\n",
    "    for char in text:\n",
    "        if char.isalpha() and char.isascii():\n",
    "            return True\n",
    "    return False\n",
    "            "
   ]
  },
  {
   "cell_type": "markdown",
   "id": "67bf7ef0f6dd9fe2",
   "metadata": {
    "collapsed": false,
    "jupyter": {
     "outputs_hidden": false
    }
   },
   "source": [
    "Clean title with regular expresion"
   ]
  },
  {
   "cell_type": "code",
   "execution_count": 4,
   "id": "e4dc26afbc54f2c0",
   "metadata": {
    "ExecuteTime": {
     "end_time": "2023-12-21T08:45:09.156407200Z",
     "start_time": "2023-12-21T08:45:09.156407200Z"
    },
    "collapsed": false,
    "jupyter": {
     "outputs_hidden": false
    }
   },
   "outputs": [],
   "source": [
    "def clean_title(title):\n",
    "    return re.sub(\"[^a-zA-Z0-9 ]\", \"\", title)"
   ]
  },
  {
   "cell_type": "markdown",
   "id": "65f01dea125beee9",
   "metadata": {
    "collapsed": false,
    "jupyter": {
     "outputs_hidden": false
    }
   },
   "source": [
    "Create dataframe of courses"
   ]
  },
  {
   "cell_type": "code",
   "execution_count": 5,
   "id": "b3f21aedd43e6caf",
   "metadata": {
    "ExecuteTime": {
     "end_time": "2023-12-21T12:58:29.883698100Z",
     "start_time": "2023-12-21T12:58:18.788951800Z"
    },
    "collapsed": false,
    "jupyter": {
     "outputs_hidden": false
    }
   },
   "outputs": [],
   "source": [
    "# Take the series of courses from dataset column\n",
    "content = file['หลักสูตรอบรมระยะสั้น'].drop_duplicates().fillna('')\n",
    "courses = content.sort_values().set_axis(range(0,len(content)))\n",
    "\n",
    "# Check if the course is in Thai language or not\n",
    "is_english_courses = courses.apply(is_english)\n",
    "thai_courses_not_trans = courses[is_english_courses == False]\n",
    "\n",
    "# Translate courses in a thai language to en english language\n",
    "thai_courses = thai_courses_not_trans.apply(translate_eng)\n",
    "english_courses = courses[is_english_courses == True]\n",
    "\n",
    "# Combine 2 series into a single series\n",
    "combined_courses = thai_courses._append(english_courses)\n",
    "\n",
    "# Convert combined courses to be in form of regular expression\n",
    "courses_clean = combined_courses.apply(clean_title).sort_index()"
   ]
  },
  {
   "cell_type": "markdown",
   "id": "c3989496741b31b6",
   "metadata": {
    "collapsed": false,
    "jupyter": {
     "outputs_hidden": false
    }
   },
   "source": [
    "Create tfidf matrix"
   ]
  },
  {
   "cell_type": "code",
   "execution_count": 6,
   "id": "cb5cd99f50462dca",
   "metadata": {
    "ExecuteTime": {
     "end_time": "2023-12-21T09:48:55.526537500Z",
     "start_time": "2023-12-21T09:48:55.510531700Z"
    },
    "collapsed": false,
    "jupyter": {
     "outputs_hidden": false
    }
   },
   "outputs": [],
   "source": [
    "tfidf = TfidfVectorizer(stop_words='english')\n",
    "tfidf_matrix = tfidf.fit_transform(courses_clean)"
   ]
  },
  {
   "cell_type": "markdown",
   "id": "163e6b93447bfd83",
   "metadata": {
    "collapsed": false,
    "jupyter": {
     "outputs_hidden": false
    }
   },
   "source": [
    "Create cosine similarities"
   ]
  },
  {
   "cell_type": "code",
   "execution_count": 7,
   "id": "ddf0d8ab318c7c87",
   "metadata": {
    "ExecuteTime": {
     "end_time": "2023-12-21T08:45:09.198366500Z",
     "start_time": "2023-12-21T08:45:09.198366500Z"
    },
    "collapsed": false,
    "jupyter": {
     "outputs_hidden": false
    }
   },
   "outputs": [],
   "source": [
    "cosine_similarities = linear_kernel(tfidf_matrix)"
   ]
  },
  {
   "cell_type": "markdown",
   "id": "eb50ecacd47aad8d",
   "metadata": {
    "collapsed": false,
    "jupyter": {
     "outputs_hidden": false
    }
   },
   "source": [
    "Create recommendation system function"
   ]
  },
  {
   "cell_type": "code",
   "execution_count": 8,
   "id": "991b48164c403112",
   "metadata": {
    "ExecuteTime": {
     "end_time": "2023-12-21T09:04:27.483370400Z",
     "start_time": "2023-12-21T09:04:27.451730600Z"
    },
    "collapsed": false,
    "jupyter": {
     "outputs_hidden": false
    }
   },
   "outputs": [],
   "source": [
    "def recommender_tfidf(course_name, limit):\n",
    "    \"\"\"Return a dataframe of content recommendations based on TF-IDF cosine similarity.\n",
    "    \n",
    "    Args:\n",
    "        courses (object): Pandas Series containing the text data. \n",
    "        column (string): Name of column used, i.e. 'title'. \n",
    "        course_name (string): Name of title to get recommendations for, i.e. 1982 Ferrari 308 GTSi For Sale by Auction\n",
    "        cosine_similarities (array): Cosine similarities matrix from linear_kernel\n",
    "        limit (int, optional): Optional limit on number of recommendations to return. \n",
    "        \n",
    "    Returns: \n",
    "        Pandas dataframe. \n",
    "    \"\"\"\n",
    "\n",
    "    # Return indices for the target dataframe column and drop any duplicates\n",
    "    indices = pd.Series(courses).drop_duplicates()\n",
    "    \n",
    "    # Get the index for the target course_name\n",
    "    count = 0\n",
    "    for name in indices:\n",
    "        if name == course_name:\n",
    "            break\n",
    "        else:\n",
    "            count = count + 1\n",
    "    target_index = count\n",
    "\n",
    "    # Get the cosine similarity scores for the target course_name\n",
    "    cosine_similarity_scores = list(enumerate(cosine_similarities[target_index]))\n",
    "    \n",
    "    # Sort the cosine similarities in order of closest similarity\n",
    "    cosine_similarity_scores = sorted(cosine_similarity_scores, key=lambda x: x[1], reverse=True)\n",
    "    \n",
    "    # Return tuple of the requested closest scores excluding the target item and index\n",
    "    cosine_similarity_scores = cosine_similarity_scores[1:limit+1]\n",
    "    \n",
    "    # Extract the tuple course_names\n",
    "    index = (x[0] for x in cosine_similarity_scores)\n",
    "    scores = (x[1] for x in cosine_similarity_scores)\n",
    "    \n",
    "    # Get the indices for the closest items\n",
    "    recommendation_indices = [i[0] for i in cosine_similarity_scores]\n",
    "    \n",
    "    # Get the actual recommendations\n",
    "    recommendations = courses.iloc[recommendation_indices]\n",
    "    \n",
    "    # Return a recommendations\n",
    "    recommendations = pd.DataFrame(tuple(zip(index, recommendations, scores)),\n",
    "                      columns=['Index','Course', 'Cosine Similarity Score'])\n",
    "    \n",
    "    # Take index from column 'index'\n",
    "    idx = recommendations['Index']\n",
    "    \n",
    "    # Set and sort index\n",
    "    recommendations = recommendations.set_axis(idx).drop(columns='Index')\n",
    "    return recommendations"
   ]
  },
  {
   "cell_type": "markdown",
   "id": "1854ee47996040bd",
   "metadata": {
    "collapsed": false,
    "jupyter": {
     "outputs_hidden": false
    }
   },
   "source": [
    "Test recommendation system using TF-IDF"
   ]
  },
  {
   "cell_type": "code",
   "execution_count": 9,
   "id": "c0f4db781812aba2",
   "metadata": {
    "ExecuteTime": {
     "end_time": "2023-12-21T09:04:27.916332700Z",
     "start_time": "2023-12-21T09:04:27.909157700Z"
    },
    "collapsed": false,
    "jupyter": {
     "outputs_hidden": false
    }
   },
   "outputs": [
    {
     "data": {
      "text/html": [
       "<div>\n",
       "<style scoped>\n",
       "    .dataframe tbody tr th:only-of-type {\n",
       "        vertical-align: middle;\n",
       "    }\n",
       "\n",
       "    .dataframe tbody tr th {\n",
       "        vertical-align: top;\n",
       "    }\n",
       "\n",
       "    .dataframe thead th {\n",
       "        text-align: right;\n",
       "    }\n",
       "</style>\n",
       "<table border=\"1\" class=\"dataframe\">\n",
       "  <thead>\n",
       "    <tr style=\"text-align: right;\">\n",
       "      <th></th>\n",
       "      <th>Course</th>\n",
       "      <th>Cosine Similarity Score</th>\n",
       "    </tr>\n",
       "    <tr>\n",
       "      <th>Index</th>\n",
       "      <th></th>\n",
       "      <th></th>\n",
       "    </tr>\n",
       "  </thead>\n",
       "  <tbody>\n",
       "    <tr>\n",
       "      <th>132</th>\n",
       "      <td>หลักวิทยาการระบาด (Principles of Epidemiology)...</td>\n",
       "      <td>0.372441</td>\n",
       "    </tr>\n",
       "    <tr>\n",
       "      <th>37</th>\n",
       "      <td>การป้องกันการล้มสำหรับผู้สูงอายุ</td>\n",
       "      <td>0.341441</td>\n",
       "    </tr>\n",
       "    <tr>\n",
       "      <th>33</th>\n",
       "      <td>การบริบาลทางเภสัชกรรม สาขาผู้ป่วยมะเร็ง (ปี 25...</td>\n",
       "      <td>0.258951</td>\n",
       "    </tr>\n",
       "    <tr>\n",
       "      <th>1</th>\n",
       "      <td>Coaching Skill : Crafting a New You สำหรับนักศ...</td>\n",
       "      <td>0.000000</td>\n",
       "    </tr>\n",
       "    <tr>\n",
       "      <th>2</th>\n",
       "      <td>Coaching Skill : Crafting a New You สำหรับบุคล...</td>\n",
       "      <td>0.000000</td>\n",
       "    </tr>\n",
       "    <tr>\n",
       "      <th>3</th>\n",
       "      <td>Development Studies &amp; Social Research Speciali...</td>\n",
       "      <td>0.000000</td>\n",
       "    </tr>\n",
       "    <tr>\n",
       "      <th>4</th>\n",
       "      <td>Digital Transformation: e-Document</td>\n",
       "      <td>0.000000</td>\n",
       "    </tr>\n",
       "    <tr>\n",
       "      <th>5</th>\n",
       "      <td>Environmental Economics (USAC programs) - Fall...</td>\n",
       "      <td>0.000000</td>\n",
       "    </tr>\n",
       "    <tr>\n",
       "      <th>6</th>\n",
       "      <td>Global Citizenship – โรงเรียนมงฟอร์ตวิทยาลัย ส...</td>\n",
       "      <td>0.000000</td>\n",
       "    </tr>\n",
       "    <tr>\n",
       "      <th>7</th>\n",
       "      <td>Global Citizenship – โรงเรียนมงฟอร์ตวิทยาลัย ส...</td>\n",
       "      <td>0.000000</td>\n",
       "    </tr>\n",
       "  </tbody>\n",
       "</table>\n",
       "</div>"
      ],
      "text/plain": [
       "                                                  Course  \\\n",
       "Index                                                      \n",
       "132    หลักวิทยาการระบาด (Principles of Epidemiology)...   \n",
       "37                      การป้องกันการล้มสำหรับผู้สูงอายุ   \n",
       "33     การบริบาลทางเภสัชกรรม สาขาผู้ป่วยมะเร็ง (ปี 25...   \n",
       "1      Coaching Skill : Crafting a New You สำหรับนักศ...   \n",
       "2      Coaching Skill : Crafting a New You สำหรับบุคล...   \n",
       "3      Development Studies & Social Research Speciali...   \n",
       "4                     Digital Transformation: e-Document   \n",
       "5      Environmental Economics (USAC programs) - Fall...   \n",
       "6      Global Citizenship – โรงเรียนมงฟอร์ตวิทยาลัย ส...   \n",
       "7      Global Citizenship – โรงเรียนมงฟอร์ตวิทยาลัย ส...   \n",
       "\n",
       "       Cosine Similarity Score  \n",
       "Index                           \n",
       "132                   0.372441  \n",
       "37                    0.341441  \n",
       "33                    0.258951  \n",
       "1                     0.000000  \n",
       "2                     0.000000  \n",
       "3                     0.000000  \n",
       "4                     0.000000  \n",
       "5                     0.000000  \n",
       "6                     0.000000  \n",
       "7                     0.000000  "
      ]
     },
     "execution_count": 9,
     "metadata": {},
     "output_type": "execute_result"
    }
   ],
   "source": [
    "recommender_tfidf('Cancer Epidemiology and Prevention', 10)"
   ]
  },
  {
   "cell_type": "markdown",
   "id": "782f034ab119afb2",
   "metadata": {
    "collapsed": false,
    "jupyter": {
     "outputs_hidden": false
    }
   },
   "source": [
    "Predata for hybrid recommendation"
   ]
  },
  {
   "cell_type": "code",
   "execution_count": 10,
   "id": "594104f8545fe00",
   "metadata": {
    "ExecuteTime": {
     "end_time": "2023-12-21T08:45:09.267634900Z",
     "start_time": "2023-12-21T08:45:09.264604200Z"
    },
    "collapsed": false,
    "jupyter": {
     "outputs_hidden": false
    }
   },
   "outputs": [],
   "source": [
    "def recommender_tfidf_all_courses(course_name):\n",
    "    \"\"\"Return a dataframe of content recommendations based on TF-IDF cosine similarity.\n",
    "    \n",
    "    Args:\n",
    "        courses (object): Pandas Series containing the text data. \n",
    "        column (string): Name of column used, i.e. 'title'. \n",
    "        course_name (string): Name of title to get recommendations for, i.e. 1982 Ferrari 308 GTSi For Sale by Auction\n",
    "        cosine_similarities (array): Cosine similarities matrix from linear_kernel\n",
    "        \n",
    "    Returns: \n",
    "        Pandas dataframe. \n",
    "    \"\"\"\n",
    "\n",
    "    # Return indices for the target dataframe column and drop any duplicates\n",
    "    indices = pd.Series(courses).drop_duplicates()\n",
    "\n",
    "    # Get the index for the target course_name\n",
    "    count = 0\n",
    "    for name in indices:\n",
    "        if name == course_name:\n",
    "            break\n",
    "        else:\n",
    "            count = count + 1\n",
    "    target_index = count\n",
    "\n",
    "    # Get the cosine similarity scores for the target course_name\n",
    "    cosine_similarity_scores = list(enumerate(cosine_similarities[target_index]))\n",
    "\n",
    "    # Sort the cosine similarities in order of closest similarity\n",
    "    cosine_similarity_scores = sorted(cosine_similarity_scores, key=lambda x: x[1], reverse=True)\n",
    "\n",
    "    # Return tuple of the requested closest scores excluding the target item and index\n",
    "    cosine_similarity_scores = cosine_similarity_scores[1:len(courses)]\n",
    "\n",
    "    # Extract the tuple course_names\n",
    "    index = (x[0] for x in cosine_similarity_scores)\n",
    "    scores = (x[1] for x in cosine_similarity_scores)\n",
    "\n",
    "    # Get the indices for the closest items\n",
    "    recommendation_indices = [i[0] for i in cosine_similarity_scores]\n",
    "\n",
    "    # Get the actual recommendations\n",
    "    recommendations = courses.iloc[recommendation_indices]\n",
    "\n",
    "    # Return a recommendations\n",
    "    recommendations = pd.DataFrame(tuple(zip(index, recommendations, scores)),\n",
    "                                   columns=['Index','Course', 'Score'])\n",
    "    \n",
    "    # Take index from column 'index'\n",
    "    idx = recommendations['Index']\n",
    "    \n",
    "    # Set and sort index \n",
    "    recommendations = recommendations.set_axis(idx).drop(columns='Index').sort_index()\n",
    "    return recommendations"
   ]
  },
  {
   "cell_type": "code",
   "execution_count": 11,
   "id": "791def1b6f809e22",
   "metadata": {
    "ExecuteTime": {
     "end_time": "2023-12-21T08:45:09.333613900Z",
     "start_time": "2023-12-21T08:45:09.267634900Z"
    },
    "collapsed": false,
    "jupyter": {
     "outputs_hidden": false
    }
   },
   "outputs": [
    {
     "data": {
      "text/html": [
       "<div>\n",
       "<style scoped>\n",
       "    .dataframe tbody tr th:only-of-type {\n",
       "        vertical-align: middle;\n",
       "    }\n",
       "\n",
       "    .dataframe tbody tr th {\n",
       "        vertical-align: top;\n",
       "    }\n",
       "\n",
       "    .dataframe thead th {\n",
       "        text-align: right;\n",
       "    }\n",
       "</style>\n",
       "<table border=\"1\" class=\"dataframe\">\n",
       "  <thead>\n",
       "    <tr style=\"text-align: right;\">\n",
       "      <th></th>\n",
       "      <th>Course</th>\n",
       "      <th>Score</th>\n",
       "    </tr>\n",
       "    <tr>\n",
       "      <th>Index</th>\n",
       "      <th></th>\n",
       "      <th></th>\n",
       "    </tr>\n",
       "  </thead>\n",
       "  <tbody>\n",
       "    <tr>\n",
       "      <th>0</th>\n",
       "      <td>Cancer Epidemiology and Prevention</td>\n",
       "      <td>0.0</td>\n",
       "    </tr>\n",
       "    <tr>\n",
       "      <th>1</th>\n",
       "      <td>Coaching Skill : Crafting a New You สำหรับนักศ...</td>\n",
       "      <td>0.0</td>\n",
       "    </tr>\n",
       "    <tr>\n",
       "      <th>2</th>\n",
       "      <td>Coaching Skill : Crafting a New You สำหรับบุคล...</td>\n",
       "      <td>0.0</td>\n",
       "    </tr>\n",
       "    <tr>\n",
       "      <th>3</th>\n",
       "      <td>Development Studies &amp; Social Research Speciali...</td>\n",
       "      <td>0.0</td>\n",
       "    </tr>\n",
       "    <tr>\n",
       "      <th>4</th>\n",
       "      <td>Digital Transformation: e-Document</td>\n",
       "      <td>0.0</td>\n",
       "    </tr>\n",
       "    <tr>\n",
       "      <th>...</th>\n",
       "      <td>...</td>\n",
       "      <td>...</td>\n",
       "    </tr>\n",
       "    <tr>\n",
       "      <th>163</th>\n",
       "      <td>เวชศาสตร์ครอบครัวขั้นสูง</td>\n",
       "      <td>0.0</td>\n",
       "    </tr>\n",
       "    <tr>\n",
       "      <th>164</th>\n",
       "      <td>เวชศาสตร์ฟื้นฟูสำหรับแพทย์ฝึกอบรมเวชศาสตร์ฟื้น...</td>\n",
       "      <td>0.0</td>\n",
       "    </tr>\n",
       "    <tr>\n",
       "      <th>165</th>\n",
       "      <td>แปลงจุดแข็ง เป็นคุณค่า สร้างชีวิตสู่ความสุข  (...</td>\n",
       "      <td>0.0</td>\n",
       "    </tr>\n",
       "    <tr>\n",
       "      <th>166</th>\n",
       "      <td>แปลงจุดแข็ง เป็นคุณค่า สร้างชีวิตสู่ความสุข (S...</td>\n",
       "      <td>0.0</td>\n",
       "    </tr>\n",
       "    <tr>\n",
       "      <th>167</th>\n",
       "      <td>“ฟูมฟักทักษะสำคัญในชีวิตและการทำงาน Skills4Lif...</td>\n",
       "      <td>0.0</td>\n",
       "    </tr>\n",
       "  </tbody>\n",
       "</table>\n",
       "<p>167 rows × 2 columns</p>\n",
       "</div>"
      ],
      "text/plain": [
       "                                                  Course  Score\n",
       "Index                                                          \n",
       "0                     Cancer Epidemiology and Prevention    0.0\n",
       "1      Coaching Skill : Crafting a New You สำหรับนักศ...    0.0\n",
       "2      Coaching Skill : Crafting a New You สำหรับบุคล...    0.0\n",
       "3      Development Studies & Social Research Speciali...    0.0\n",
       "4                     Digital Transformation: e-Document    0.0\n",
       "...                                                  ...    ...\n",
       "163                             เวชศาสตร์ครอบครัวขั้นสูง    0.0\n",
       "164    เวชศาสตร์ฟื้นฟูสำหรับแพทย์ฝึกอบรมเวชศาสตร์ฟื้น...    0.0\n",
       "165    แปลงจุดแข็ง เป็นคุณค่า สร้างชีวิตสู่ความสุข  (...    0.0\n",
       "166    แปลงจุดแข็ง เป็นคุณค่า สร้างชีวิตสู่ความสุข (S...    0.0\n",
       "167    “ฟูมฟักทักษะสำคัญในชีวิตและการทำงาน Skills4Lif...    0.0\n",
       "\n",
       "[167 rows x 2 columns]"
      ]
     },
     "execution_count": 11,
     "metadata": {},
     "output_type": "execute_result"
    }
   ],
   "source": [
    "recommender_tfidf_all_courses('การวินิจฉัยภาวะฉุกเฉินจากอุบัติเหตุ (Diagnostic Radiology of Traumatic Emergency)')"
   ]
  },
  {
   "cell_type": "code",
   "execution_count": 12,
   "id": "fdf28ef643836d21",
   "metadata": {
    "ExecuteTime": {
     "end_time": "2023-12-21T08:45:09.345447100Z",
     "start_time": "2023-12-21T08:45:09.289622500Z"
    },
    "collapsed": false,
    "jupyter": {
     "outputs_hidden": false
    }
   },
   "outputs": [],
   "source": [
    "def recommender_tfidf_by_user(user_name, n_recommendations):\n",
    "    df = {\n",
    "        'User': pd.Series(file['ชื่อ-นามสกุล (อังกฤษ)']),\n",
    "        'Course': pd.Series(file['หลักสูตรอบรมระยะสั้น'])\n",
    "    }\n",
    "\n",
    "    user_course = pd.DataFrame(df)\n",
    "    selected_user_name = user_course.loc[user_course['User'] == user_name]\n",
    "    selected_courses = selected_user_name['Course']\n",
    "\n",
    "    recommended_courses = [ recommender_tfidf_all_courses(x) for x in selected_courses]\n",
    "\n",
    "    # pre dataframe\n",
    "    df = pd.DataFrame({\n",
    "        'Course': [],\n",
    "        'Score': []\n",
    "    }).rename_axis('Index')\n",
    "\n",
    "    for x in recommended_courses:\n",
    "        df = df._append(x)\n",
    "    df =  df.sort_values('Score', ascending=False).drop_duplicates('Course')\n",
    "    return df.head(n_recommendations)"
   ]
  },
  {
   "cell_type": "code",
   "execution_count": 13,
   "id": "e2425ec0689e85cb",
   "metadata": {
    "ExecuteTime": {
     "end_time": "2023-12-21T08:45:09.417517200Z",
     "start_time": "2023-12-21T08:45:09.304221600Z"
    },
    "collapsed": false,
    "jupyter": {
     "outputs_hidden": false
    }
   },
   "outputs": [
    {
     "data": {
      "text/html": [
       "<div>\n",
       "<style scoped>\n",
       "    .dataframe tbody tr th:only-of-type {\n",
       "        vertical-align: middle;\n",
       "    }\n",
       "\n",
       "    .dataframe tbody tr th {\n",
       "        vertical-align: top;\n",
       "    }\n",
       "\n",
       "    .dataframe thead th {\n",
       "        text-align: right;\n",
       "    }\n",
       "</style>\n",
       "<table border=\"1\" class=\"dataframe\">\n",
       "  <thead>\n",
       "    <tr style=\"text-align: right;\">\n",
       "      <th></th>\n",
       "      <th>Course</th>\n",
       "      <th>Score</th>\n",
       "    </tr>\n",
       "    <tr>\n",
       "      <th>Index</th>\n",
       "      <th></th>\n",
       "      <th></th>\n",
       "    </tr>\n",
       "  </thead>\n",
       "  <tbody>\n",
       "    <tr>\n",
       "      <th>43</th>\n",
       "      <td>การวินิจฉัยภาวะฉุกเฉินที่ไม่ได้เกิดจากอุบัติเห...</td>\n",
       "      <td>0.676301</td>\n",
       "    </tr>\n",
       "    <tr>\n",
       "      <th>42</th>\n",
       "      <td>การวินิจฉัยภาวะฉุกเฉินจากอุบัติเหตุ (Diagnosti...</td>\n",
       "      <td>0.676301</td>\n",
       "    </tr>\n",
       "    <tr>\n",
       "      <th>110</th>\n",
       "      <td>รังสีวิทยาวินิจฉัย</td>\n",
       "      <td>0.655652</td>\n",
       "    </tr>\n",
       "    <tr>\n",
       "      <th>131</th>\n",
       "      <td>หลักการและพื้นฐานของเครื่องมือทางรังสีวิทยา (B...</td>\n",
       "      <td>0.348124</td>\n",
       "    </tr>\n",
       "    <tr>\n",
       "      <th>152</th>\n",
       "      <td>เตรียมความพร้อมทางรังสีวิทยาสำหรับบุคลากรทางกา...</td>\n",
       "      <td>0.277816</td>\n",
       "    </tr>\n",
       "    <tr>\n",
       "      <th>29</th>\n",
       "      <td>การขับร้องประสานเสียงขั้นพื้นฐาน</td>\n",
       "      <td>0.256033</td>\n",
       "    </tr>\n",
       "    <tr>\n",
       "      <th>117</th>\n",
       "      <td>วิทยาศาสตร์การแพทย์คลินิก สาขาวิชาเวชศาสตร์ฉุก...</td>\n",
       "      <td>0.231116</td>\n",
       "    </tr>\n",
       "    <tr>\n",
       "      <th>140</th>\n",
       "      <td>หลักเศรษฐศาสตร์สาธารณสุข (Principle of Health ...</td>\n",
       "      <td>0.226498</td>\n",
       "    </tr>\n",
       "    <tr>\n",
       "      <th>130</th>\n",
       "      <td>หลักการบริหารงานสาธารณสุข (Principle of Public...</td>\n",
       "      <td>0.196069</td>\n",
       "    </tr>\n",
       "    <tr>\n",
       "      <th>133</th>\n",
       "      <td>หลักสูตรย่อยที่ 1 พื้นฐานการดูแลสุขภาพสัตว์เลี...</td>\n",
       "      <td>0.183915</td>\n",
       "    </tr>\n",
       "  </tbody>\n",
       "</table>\n",
       "</div>"
      ],
      "text/plain": [
       "                                                  Course     Score\n",
       "Index                                                             \n",
       "43     การวินิจฉัยภาวะฉุกเฉินที่ไม่ได้เกิดจากอุบัติเห...  0.676301\n",
       "42     การวินิจฉัยภาวะฉุกเฉินจากอุบัติเหตุ (Diagnosti...  0.676301\n",
       "110                                   รังสีวิทยาวินิจฉัย  0.655652\n",
       "131    หลักการและพื้นฐานของเครื่องมือทางรังสีวิทยา (B...  0.348124\n",
       "152    เตรียมความพร้อมทางรังสีวิทยาสำหรับบุคลากรทางกา...  0.277816\n",
       "29                      การขับร้องประสานเสียงขั้นพื้นฐาน  0.256033\n",
       "117    วิทยาศาสตร์การแพทย์คลินิก สาขาวิชาเวชศาสตร์ฉุก...  0.231116\n",
       "140    หลักเศรษฐศาสตร์สาธารณสุข (Principle of Health ...  0.226498\n",
       "130    หลักการบริหารงานสาธารณสุข (Principle of Public...  0.196069\n",
       "133    หลักสูตรย่อยที่ 1 พื้นฐานการดูแลสุขภาพสัตว์เลี...  0.183915"
      ]
     },
     "execution_count": 13,
     "metadata": {},
     "output_type": "execute_result"
    }
   ],
   "source": [
    "recommender_tfidf_by_user('PORPHAING JANTIP', 10)"
   ]
  },
  {
   "cell_type": "markdown",
   "id": "4ec2f48232934fc9",
   "metadata": {
    "collapsed": false,
    "jupyter": {
     "outputs_hidden": false
    }
   },
   "source": [
    "References"
   ]
  },
  {
   "cell_type": "markdown",
   "id": "94a7a7174b87e26f",
   "metadata": {
    "collapsed": false,
    "jupyter": {
     "outputs_hidden": false
    }
   },
   "source": [
    "https://practicaldatascience.co.uk/data-science/how-to-create-content-recommendations-using-tf-idf\n",
    "https://lukkiddd.com/tf-idf-%E0%B8%84%E0%B8%B3%E0%B9%84%E0%B8%AB%E0%B8%99%E0%B8%AA%E0%B8%B3%E0%B8%84%E0%B8%B1%E0%B8%8D%E0%B8%99%E0%B8%B0-dd1e1568312e"
   ]
  },
  {
   "cell_type": "markdown",
   "id": "ddb9d8f471e4ee78",
   "metadata": {
    "collapsed": false,
    "jupyter": {
     "outputs_hidden": false
    }
   },
   "source": [
    "Training Test Part"
   ]
  },
  {
   "cell_type": "markdown",
   "id": "cdf30562b75a0367",
   "metadata": {
    "collapsed": false,
    "jupyter": {
     "outputs_hidden": false
    }
   },
   "source": [
    "Generate label in each course"
   ]
  },
  {
   "cell_type": "code",
   "execution_count": 14,
   "id": "d7f11154302384b6",
   "metadata": {
    "ExecuteTime": {
     "end_time": "2023-12-21T08:45:09.417517200Z",
     "start_time": "2023-12-21T08:45:09.331810900Z"
    },
    "collapsed": false,
    "jupyter": {
     "outputs_hidden": false
    }
   },
   "outputs": [],
   "source": [
    "def generate_labels(matrix, threshold):\n",
    "    num_courses = len(matrix)\n",
    "    labels = np.zeros((num_courses, num_courses), dtype=int)\n",
    "    \n",
    "    for i in range(num_courses):\n",
    "        for j in range(i+1, num_courses):\n",
    "            similarity = matrix[i][j]\n",
    "            if similarity >= threshold:\n",
    "                labels[i][j] = 1\n",
    "                labels[j][i] = 1\n",
    "    return labels"
   ]
  },
  {
   "cell_type": "code",
   "execution_count": 15,
   "id": "4bc62956e5c60302",
   "metadata": {
    "ExecuteTime": {
     "end_time": "2023-12-21T08:45:09.433144800Z",
     "start_time": "2023-12-21T08:45:09.334131Z"
    },
    "collapsed": false,
    "jupyter": {
     "outputs_hidden": false
    }
   },
   "outputs": [
    {
     "name": "stdout",
     "output_type": "stream",
     "text": [
      "Labels:\n",
      "[[0 0 0 ... 0 0 0]\n",
      " [0 0 1 ... 0 0 0]\n",
      " [0 1 0 ... 0 0 0]\n",
      " ...\n",
      " [0 0 0 ... 0 1 0]\n",
      " [0 0 0 ... 1 0 0]\n",
      " [0 0 0 ... 0 0 0]]\n"
     ]
    }
   ],
   "source": [
    "threshold_value = 0.2  # Assume the similarity is symmetric\n",
    "labels = generate_labels(cosine_similarities, threshold_value)\n",
    "print(\"Labels:\")\n",
    "print(labels)"
   ]
  },
  {
   "cell_type": "code",
   "execution_count": 16,
   "id": "6f9d7911e888904e",
   "metadata": {
    "ExecuteTime": {
     "end_time": "2023-12-21T08:45:09.433144800Z",
     "start_time": "2023-12-21T08:45:09.349454700Z"
    },
    "collapsed": false,
    "jupyter": {
     "outputs_hidden": false
    }
   },
   "outputs": [],
   "source": [
    "def extract_similar_items(item_list, labels, number_of_courses):\n",
    "    similar_items = []\n",
    "    \n",
    "    for i in range(number_of_courses):\n",
    "        arr = []\n",
    "        for j, label in enumerate(labels[i]):\n",
    "            if label == 1:\n",
    "                arr.append(item_list[j])\n",
    "        similar_items.append(pd.Series(arr))\n",
    "\n",
    "    return pd.Series(similar_items)"
   ]
  },
  {
   "cell_type": "markdown",
   "id": "e9f035bd",
   "metadata": {},
   "source": [
    "Prepare for data"
   ]
  },
  {
   "cell_type": "code",
   "execution_count": 17,
   "id": "5cc31182ad866b3d",
   "metadata": {
    "ExecuteTime": {
     "end_time": "2023-12-21T08:45:09.593191300Z",
     "start_time": "2023-12-21T08:45:09.351955400Z"
    },
    "collapsed": false,
    "jupyter": {
     "outputs_hidden": false
    }
   },
   "outputs": [
    {
     "data": {
      "text/plain": [
       "0                         Cancer Epidemiology Prevention\n",
       "1                        Coaching Skill Crafting New You\n",
       "2                        Coaching Skill Crafting New You\n",
       "3      Development Studies Social Research Specializa...\n",
       "4                       Digital Transformation eDocument\n",
       "                             ...                        \n",
       "163                             Advanced Family Medicine\n",
       "164    Rehabilitation Rehabilitation Training Chiang ...\n",
       "165      Strengths Spotting Turn value bring happiness 1\n",
       "166      Strengths Spotting Turn value bring happiness 2\n",
       "167                                          Skills4Life\n",
       "Name: หลักสูตรอบรมระยะสั้น, Length: 168, dtype: object"
      ]
     },
     "execution_count": 17,
     "metadata": {},
     "output_type": "execute_result"
    }
   ],
   "source": [
    "number_of_courses = len(labels)\n",
    "similar_items = extract_similar_items(courses, labels, number_of_courses)\n",
    "\n",
    "en = spacy.load('en_core_web_lg')  # Load the English model\n",
    "stopwords = en.Defaults.stop_words  # Get the default stop words\n",
    "courses_stopwords = courses_clean.apply(lambda x: ' '.join([word for word in x.split() if word not in (stopwords)]))\n",
    "courses_stopwords"
   ]
  },
  {
   "cell_type": "markdown",
   "id": "5e8c2131",
   "metadata": {},
   "source": [
    "Show the statistics"
   ]
  },
  {
   "cell_type": "code",
   "execution_count": 18,
   "id": "9f7ff944",
   "metadata": {},
   "outputs": [
    {
     "name": "stdout",
     "output_type": "stream",
     "text": [
      "Similar items to Political Science and Public Administration for International Students (USAC programs) – Fall Semester 2023 are:\n",
      "0     Environmental Economics (USAC programs) - Fall...\n",
      "1     Political Science and Public Administration fo...\n",
      "2     Sociology and Anthropology of Northern Thailan...\n",
      "3     Sociology and Anthropology of Northern Thailan...\n",
      "4     Sustainable Agriculture Development (USAC prog...\n",
      "5     Sustainable Agriculture Development (USAC prog...\n",
      "6     Thai Cultural Education for International Stud...\n",
      "7     Thai Cultural Education for International Stud...\n",
      "8     Thai Cultural Education for International Stud...\n",
      "9     Thai Cultural Education for International Stud...\n",
      "10    World Economic Issues (USAC program) – Spring ...\n",
      "11    สารสนเทศทางสาธารณสุข 2566 (Public Health Infor...\n",
      "12    หลักการบริหารงานสาธารณสุข (Principle of Public...\n",
      "13              เทคโนโลยีและการค้าระหว่างประเทศ ปี 2566\n",
      "dtype: object\n"
     ]
    }
   ],
   "source": [
    "example_idx = 16  # change index of similar_item to observe similar items\n",
    "example = similar_items[example_idx]\n",
    "considered_course = courses[example_idx]\n",
    "\n",
    "if len(example) == 1:\n",
    "    print(f\"Similar item to {considered_course} is:\")\n",
    "    print(example)\n",
    "else:\n",
    "    print(f\"Similar items to {considered_course} are:\")\n",
    "    print(example)"
   ]
  },
  {
   "cell_type": "markdown",
   "id": "5a5c99a2d1ba5f50",
   "metadata": {
    "collapsed": false,
    "jupyter": {
     "outputs_hidden": false
    }
   },
   "source": [
    "Functions for label calculation"
   ]
  },
  {
   "cell_type": "code",
   "execution_count": 19,
   "id": "9857a9e91a2fd619",
   "metadata": {
    "ExecuteTime": {
     "end_time": "2023-12-21T11:17:29.783120300Z",
     "start_time": "2023-12-21T11:17:29.767004900Z"
    },
    "collapsed": false,
    "jupyter": {
     "outputs_hidden": false
    }
   },
   "outputs": [],
   "source": [
    "def most_weighted_word(labels):\n",
    "    # Convert document and labels into a regular expression form\n",
    "    labels = labels.str.lower()\n",
    "    \n",
    "    # TF-IDF Vectorization using the fit transform of all courses\n",
    "    vectorizer = TfidfVectorizer(stop_words='english', vocabulary=labels)\n",
    "    tfidf_matrix = vectorizer.fit_transform(courses_stopwords)\n",
    "    \n",
    "    # Sum up TF-IDF scores for each label across all documents\n",
    "    total_tfidf_scores = np.sum(tfidf_matrix, axis=0)\n",
    "    \n",
    "    # Get the most weighted label index\n",
    "    most_weighted_label_index = np.argmax(total_tfidf_scores)\n",
    "    \n",
    "    # Get the most weighted label\n",
    "    most_weighted_label = labels[most_weighted_label_index]\n",
    "    \n",
    "    return most_weighted_label\n",
    "\n",
    "def find_common_words(documents):\n",
    "    # Step 1: Tokenize the items\n",
    "    tokenized_items = [pd.Series(item.split()) for item in documents]\n",
    "\n",
    "    # Step 2: Create lists of words for each item\n",
    "    flattened_series = pd.Series(pd.concat(tokenized_items, ignore_index=True, names='word'))\n",
    "    flattened_series = flattened_series[~flattened_series.str.isnumeric()]  # Remove numbers\n",
    "    \n",
    "    # Step 3: Find common words\n",
    "    words_count = Counter(flattened_series)\n",
    "\n",
    "    # Step 4: Get the keys for dictionary's max values\n",
    "    max_words = [key for key, value in words_count.items() if value == max(words_count.values())]  \n",
    "    max_words = pd.Series(max_words)\n",
    "    \n",
    "    # Step 5: Take the most weighted word\n",
    "    result = most_weighted_word(max_words)\n",
    "    return result"
   ]
  },
  {
   "cell_type": "code",
   "execution_count": 20,
   "id": "ecd8ac0f64017b57",
   "metadata": {
    "ExecuteTime": {
     "end_time": "2023-12-21T11:17:31.078106600Z",
     "start_time": "2023-12-21T11:17:30.864075Z"
    },
    "collapsed": false,
    "jupyter": {
     "outputs_hidden": false
    }
   },
   "outputs": [],
   "source": [
    "# Append the course to their similar courses\n",
    "item_list = []\n",
    "for idx in range(number_of_courses):\n",
    "    # Assuming similar_items and courses are predefined lists\n",
    "    df = pd.Series(courses_stopwords[idx])._append(similar_items[idx])\n",
    "\n",
    "    # Reindex the DataFrame with consecutive integers starting from 1\n",
    "    df = df.reset_index(drop=True)\n",
    "    \n",
    "    # Rename the column properly\n",
    "    df = df.rename('similar courses')\n",
    "    \n",
    "    # Apply the clean title\n",
    "    df = df.apply(clean_title)\n",
    "    \n",
    "    # Find the most weighted word from similar courses\n",
    "    most_similar_courses = find_common_words(df)\n",
    "    \n",
    "    # Append the modified DataFrame to item_list\n",
    "    item_list.append(most_similar_courses)\n",
    "\n",
    "item_list = pd.Series(item_list, name='all similar courses')"
   ]
  },
  {
   "cell_type": "markdown",
   "id": "5e0983689b5d4052",
   "metadata": {
    "collapsed": false,
    "jupyter": {
     "outputs_hidden": false
    }
   },
   "source": [
    "So far, I'm able to calculate the label in a selected course. The next step is to take a list of labels that are calculated from all the courses."
   ]
  },
  {
   "cell_type": "markdown",
   "id": "cb362f72bacbb424",
   "metadata": {
    "collapsed": false,
    "jupyter": {
     "outputs_hidden": false
    }
   },
   "source": [
    "https://www.datacamp.com/tutorial/naive-bayes-scikit-learn\n",
    "https://chat.openai.com/share/a3144868-3e0d-4584-b443-b6c49efb9117"
   ]
  }
 ],
 "metadata": {
  "kernelspec": {
   "display_name": "Python 3 (ipykernel)",
   "language": "python",
   "name": "python3"
  },
  "language_info": {
   "codemirror_mode": {
    "name": "ipython",
    "version": 3
   },
   "file_extension": ".py",
   "mimetype": "text/x-python",
   "name": "python",
   "nbconvert_exporter": "python",
   "pygments_lexer": "ipython3",
   "version": "3.12.0"
  }
 },
 "nbformat": 4,
 "nbformat_minor": 5
}
