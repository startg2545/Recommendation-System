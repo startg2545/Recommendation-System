{
 "cells": [
  {
   "cell_type": "markdown",
   "source": [
    "Import required packages"
   ],
   "metadata": {
    "collapsed": false
   },
   "id": "4975b875a2bf09a0"
  },
  {
   "cell_type": "code",
   "execution_count": 80,
   "id": "initial_id",
   "metadata": {
    "collapsed": true,
    "ExecuteTime": {
     "end_time": "2023-11-30T16:42:06.384687200Z",
     "start_time": "2023-11-30T16:42:06.122682Z"
    }
   },
   "outputs": [],
   "source": [
    "import pandas as pd\n",
    "import re\n",
    "import numpy as np\n",
    "from sklearn.feature_extraction.text import TfidfVectorizer\n",
    "from sklearn.metrics.pairwise import cosine_similarity, linear_kernel"
   ]
  },
  {
   "cell_type": "markdown",
   "source": [
    "Read the file"
   ],
   "metadata": {
    "collapsed": false
   },
   "id": "b5f54b21a1aad86d"
  },
  {
   "cell_type": "code",
   "execution_count": 81,
   "outputs": [],
   "source": [
    "file = pd.read_excel('shortcourses2566.xlsx')"
   ],
   "metadata": {
    "collapsed": false,
    "ExecuteTime": {
     "end_time": "2023-11-30T16:42:08.607564200Z",
     "start_time": "2023-11-30T16:42:06.129542700Z"
    }
   },
   "id": "d3da61f397b9ca5d"
  },
  {
   "cell_type": "markdown",
   "source": [
    "Clean title with regular expresion"
   ],
   "metadata": {
    "collapsed": false
   },
   "id": "67bf7ef0f6dd9fe2"
  },
  {
   "cell_type": "code",
   "execution_count": 82,
   "outputs": [],
   "source": [
    "def clean_title(title):\n",
    "    return re.sub(\"[^a-zA-Z0-9 ]\", \"\", title)"
   ],
   "metadata": {
    "collapsed": false,
    "ExecuteTime": {
     "end_time": "2023-11-30T16:42:08.619047Z",
     "start_time": "2023-11-30T16:42:08.611981400Z"
    }
   },
   "id": "e4dc26afbc54f2c0"
  },
  {
   "cell_type": "markdown",
   "source": [
    "Create dataframe of courses"
   ],
   "metadata": {
    "collapsed": false
   },
   "id": "65f01dea125beee9"
  },
  {
   "cell_type": "code",
   "execution_count": 83,
   "outputs": [],
   "source": [
    "content = file['หลักสูตรอบรมระยะสั้น'].drop_duplicates().fillna('')\n",
    "courses = content.sort_values().set_axis(range(0,len(content)))\n",
    "courses_clean = courses.apply(clean_title)"
   ],
   "metadata": {
    "collapsed": false,
    "ExecuteTime": {
     "end_time": "2023-11-30T16:42:08.676988800Z",
     "start_time": "2023-11-30T16:42:08.619047Z"
    }
   },
   "id": "b3f21aedd43e6caf"
  },
  {
   "cell_type": "markdown",
   "source": [
    "Create tfidf matrix"
   ],
   "metadata": {
    "collapsed": false
   },
   "id": "c3989496741b31b6"
  },
  {
   "cell_type": "code",
   "execution_count": 84,
   "outputs": [],
   "source": [
    "tfidf = TfidfVectorizer(stop_words='english')\n",
    "tfidf_matrix = tfidf.fit_transform(courses_clean)"
   ],
   "metadata": {
    "collapsed": false,
    "ExecuteTime": {
     "end_time": "2023-11-30T16:42:08.704101500Z",
     "start_time": "2023-11-30T16:42:08.675952Z"
    }
   },
   "id": "cb5cd99f50462dca"
  },
  {
   "cell_type": "markdown",
   "source": [
    "Create cosine similarities"
   ],
   "metadata": {
    "collapsed": false
   },
   "id": "163e6b93447bfd83"
  },
  {
   "cell_type": "code",
   "execution_count": 85,
   "outputs": [],
   "source": [
    "cosine_similarities = linear_kernel(tfidf_matrix)"
   ],
   "metadata": {
    "collapsed": false,
    "ExecuteTime": {
     "end_time": "2023-11-30T16:42:08.742604700Z",
     "start_time": "2023-11-30T16:42:08.701553800Z"
    }
   },
   "id": "ddf0d8ab318c7c87"
  },
  {
   "cell_type": "markdown",
   "source": [
    "Create recommendation system function"
   ],
   "metadata": {
    "collapsed": false
   },
   "id": "eb50ecacd47aad8d"
  },
  {
   "cell_type": "code",
   "execution_count": 121,
   "outputs": [],
   "source": [
    "def recommender_tfidf(course_name, limit):\n",
    "    \"\"\"Return a dataframe of content recommendations based on TF-IDF cosine similarity.\n",
    "    \n",
    "    Args:\n",
    "        courses (object): Pandas Series containing the text data. \n",
    "        column (string): Name of column used, i.e. 'title'. \n",
    "        course_name (string): Name of title to get recommendations for, i.e. 1982 Ferrari 308 GTSi For Sale by Auction\n",
    "        cosine_similarities (array): Cosine similarities matrix from linear_kernel\n",
    "        limit (int, optional): Optional limit on number of recommendations to return. \n",
    "        \n",
    "    Returns: \n",
    "        Pandas dataframe. \n",
    "    \"\"\"\n",
    "\n",
    "    # Return indices for the target dataframe column and drop any duplicates\n",
    "    indices = pd.Series(courses).drop_duplicates()\n",
    "    \n",
    "    # Get the index for the target course_name\n",
    "    count = 0\n",
    "    for name in indices:\n",
    "        if name == course_name:\n",
    "            break\n",
    "        else:\n",
    "            count = count + 1\n",
    "    target_index = count\n",
    "\n",
    "    # Get the cosine similarity scores for the target course_name\n",
    "    cosine_similarity_scores = list(enumerate(cosine_similarities[target_index]))\n",
    "\n",
    "    # Sort the cosine similarities in order of closest similarity\n",
    "    cosine_similarity_scores = sorted(cosine_similarity_scores, key=lambda x: x[1], reverse=True)\n",
    "\n",
    "    # Return tuple of the requested closest scores excluding the target item and index\n",
    "    cosine_similarity_scores = cosine_similarity_scores[1:limit+1]\n",
    "    \n",
    "    # Extract the tuple course_names\n",
    "    index = (x[0] for x in cosine_similarity_scores)\n",
    "    scores = (x[1] for x in cosine_similarity_scores)\n",
    "\n",
    "    # Get the indices for the closest items\n",
    "    recommendation_indices = [i[0] for i in cosine_similarity_scores]\n",
    "\n",
    "    # Get the actual recommendations\n",
    "    recommendations = courses.iloc[recommendation_indices]\n",
    "\n",
    "    # Return a recommendations\n",
    "    recommendations = pd.DataFrame(tuple(zip(index, recommendations, scores)),\n",
    "                      columns=['Index','Course', 'Cosine Similarity Score'])\n",
    "\n",
    "    # Take index from column 'index'\n",
    "    idx = recommendations['Index']\n",
    "    \n",
    "    # Set and sort index\n",
    "    recommendations = recommendations.set_axis(idx).drop(columns='Index')\n",
    "\n",
    "    return recommendations"
   ],
   "metadata": {
    "collapsed": false,
    "ExecuteTime": {
     "end_time": "2023-11-30T16:46:50.018261200Z",
     "start_time": "2023-11-30T16:46:49.980929900Z"
    }
   },
   "id": "991b48164c403112"
  },
  {
   "cell_type": "markdown",
   "source": [
    "Test recommendation system using TF-IDF"
   ],
   "metadata": {
    "collapsed": false
   },
   "id": "1854ee47996040bd"
  },
  {
   "cell_type": "code",
   "execution_count": 122,
   "outputs": [
    {
     "data": {
      "text/plain": "                                                  Course  \\\nIndex                                                      \n43     การวินิจฉัยภาวะฉุกเฉินที่ไม่ได้เกิดจากอุบัติเห...   \n131    หลักการและพื้นฐานของเครื่องมือทางรังสีวิทยา (B...   \n152    เตรียมความพร้อมทางรังสีวิทยาสำหรับบุคลากรทางกา...   \n0                     Cancer Epidemiology and Prevention   \n1      Coaching Skill : Crafting a New You สำหรับนักศ...   \n2      Coaching Skill : Crafting a New You สำหรับบุคล...   \n3      Development Studies & Social Research Speciali...   \n4                     Digital Transformation: e-Document   \n5      Environmental Economics (USAC programs) - Fall...   \n6      Global Citizenship – โรงเรียนมงฟอร์ตวิทยาลัย ส...   \n\n       Cosine Similarity Score  \nIndex                           \n43                    0.697794  \n131                   0.360553  \n152                   0.249083  \n0                     0.000000  \n1                     0.000000  \n2                     0.000000  \n3                     0.000000  \n4                     0.000000  \n5                     0.000000  \n6                     0.000000  ",
      "text/html": "<div>\n<style scoped>\n    .dataframe tbody tr th:only-of-type {\n        vertical-align: middle;\n    }\n\n    .dataframe tbody tr th {\n        vertical-align: top;\n    }\n\n    .dataframe thead th {\n        text-align: right;\n    }\n</style>\n<table border=\"1\" class=\"dataframe\">\n  <thead>\n    <tr style=\"text-align: right;\">\n      <th></th>\n      <th>Course</th>\n      <th>Cosine Similarity Score</th>\n    </tr>\n    <tr>\n      <th>Index</th>\n      <th></th>\n      <th></th>\n    </tr>\n  </thead>\n  <tbody>\n    <tr>\n      <th>43</th>\n      <td>การวินิจฉัยภาวะฉุกเฉินที่ไม่ได้เกิดจากอุบัติเห...</td>\n      <td>0.697794</td>\n    </tr>\n    <tr>\n      <th>131</th>\n      <td>หลักการและพื้นฐานของเครื่องมือทางรังสีวิทยา (B...</td>\n      <td>0.360553</td>\n    </tr>\n    <tr>\n      <th>152</th>\n      <td>เตรียมความพร้อมทางรังสีวิทยาสำหรับบุคลากรทางกา...</td>\n      <td>0.249083</td>\n    </tr>\n    <tr>\n      <th>0</th>\n      <td>Cancer Epidemiology and Prevention</td>\n      <td>0.000000</td>\n    </tr>\n    <tr>\n      <th>1</th>\n      <td>Coaching Skill : Crafting a New You สำหรับนักศ...</td>\n      <td>0.000000</td>\n    </tr>\n    <tr>\n      <th>2</th>\n      <td>Coaching Skill : Crafting a New You สำหรับบุคล...</td>\n      <td>0.000000</td>\n    </tr>\n    <tr>\n      <th>3</th>\n      <td>Development Studies &amp; Social Research Speciali...</td>\n      <td>0.000000</td>\n    </tr>\n    <tr>\n      <th>4</th>\n      <td>Digital Transformation: e-Document</td>\n      <td>0.000000</td>\n    </tr>\n    <tr>\n      <th>5</th>\n      <td>Environmental Economics (USAC programs) - Fall...</td>\n      <td>0.000000</td>\n    </tr>\n    <tr>\n      <th>6</th>\n      <td>Global Citizenship – โรงเรียนมงฟอร์ตวิทยาลัย ส...</td>\n      <td>0.000000</td>\n    </tr>\n  </tbody>\n</table>\n</div>"
     },
     "execution_count": 122,
     "metadata": {},
     "output_type": "execute_result"
    }
   ],
   "source": [
    "recommender_tfidf('การวินิจฉัยภาวะฉุกเฉินจากอุบัติเหตุ (Diagnostic Radiology of Traumatic Emergency)', 10)"
   ],
   "metadata": {
    "collapsed": false,
    "ExecuteTime": {
     "end_time": "2023-11-30T16:46:50.492486Z",
     "start_time": "2023-11-30T16:46:50.428420Z"
    }
   },
   "id": "c0f4db781812aba2"
  },
  {
   "cell_type": "markdown",
   "source": [
    "Predata for hybrid recommendation"
   ],
   "metadata": {
    "collapsed": false
   },
   "id": "782f034ab119afb2"
  },
  {
   "cell_type": "code",
   "execution_count": 123,
   "outputs": [],
   "source": [
    "def recommender_tfidf_all_courses(course_name):\n",
    "    \"\"\"Return a dataframe of content recommendations based on TF-IDF cosine similarity.\n",
    "    \n",
    "    Args:\n",
    "        courses (object): Pandas Series containing the text data. \n",
    "        column (string): Name of column used, i.e. 'title'. \n",
    "        course_name (string): Name of title to get recommendations for, i.e. 1982 Ferrari 308 GTSi For Sale by Auction\n",
    "        cosine_similarities (array): Cosine similarities matrix from linear_kernel\n",
    "        \n",
    "    Returns: \n",
    "        Pandas dataframe. \n",
    "    \"\"\"\n",
    "\n",
    "    # Return indices for the target dataframe column and drop any duplicates\n",
    "    indices = pd.Series(courses).drop_duplicates()\n",
    "\n",
    "    # Get the index for the target course_name\n",
    "    count = 0\n",
    "    for name in indices:\n",
    "        if name == course_name:\n",
    "            break\n",
    "        else:\n",
    "            count = count + 1\n",
    "    target_index = count\n",
    "\n",
    "    # Get the cosine similarity scores for the target course_name\n",
    "    cosine_similarity_scores = list(enumerate(cosine_similarities[target_index]))\n",
    "\n",
    "    # Sort the cosine similarities in order of closest similarity\n",
    "    cosine_similarity_scores = sorted(cosine_similarity_scores, key=lambda x: x[1], reverse=True)\n",
    "\n",
    "    # Return tuple of the requested closest scores excluding the target item and index\n",
    "    cosine_similarity_scores = cosine_similarity_scores[1:len(courses)]\n",
    "\n",
    "    # Extract the tuple course_names\n",
    "    index = (x[0] for x in cosine_similarity_scores)\n",
    "    scores = (x[1] for x in cosine_similarity_scores)\n",
    "\n",
    "    # Get the indices for the closest items\n",
    "    recommendation_indices = [i[0] for i in cosine_similarity_scores]\n",
    "\n",
    "    # Get the actual recommendations\n",
    "    recommendations = courses.iloc[recommendation_indices]\n",
    "\n",
    "    # Return a recommendations\n",
    "    recommendations = pd.DataFrame(tuple(zip(index, recommendations, scores)),\n",
    "                                   columns=['Index','Course', 'Score'])\n",
    "    \n",
    "    # Take index from column 'index'\n",
    "    idx = recommendations['Index']\n",
    "    \n",
    "    # Set and sort index \n",
    "    recommendations = recommendations.set_axis(idx).drop(columns='Index').sort_index()\n",
    "    return recommendations"
   ],
   "metadata": {
    "collapsed": false,
    "ExecuteTime": {
     "end_time": "2023-11-30T16:52:31.948788700Z",
     "start_time": "2023-11-30T16:52:31.910602900Z"
    }
   },
   "id": "594104f8545fe00"
  },
  {
   "cell_type": "code",
   "execution_count": 124,
   "outputs": [
    {
     "data": {
      "text/plain": "                                                  Course  Score\nIndex                                                          \n0                     Cancer Epidemiology and Prevention    0.0\n1      Coaching Skill : Crafting a New You สำหรับนักศ...    0.0\n2      Coaching Skill : Crafting a New You สำหรับบุคล...    0.0\n3      Development Studies & Social Research Speciali...    0.0\n4                     Digital Transformation: e-Document    0.0\n...                                                  ...    ...\n163                             เวชศาสตร์ครอบครัวขั้นสูง    0.0\n164    เวชศาสตร์ฟื้นฟูสำหรับแพทย์ฝึกอบรมเวชศาสตร์ฟื้น...    0.0\n165    แปลงจุดแข็ง เป็นคุณค่า สร้างชีวิตสู่ความสุข  (...    0.0\n166    แปลงจุดแข็ง เป็นคุณค่า สร้างชีวิตสู่ความสุข (S...    0.0\n167    “ฟูมฟักทักษะสำคัญในชีวิตและการทำงาน Skills4Lif...    0.0\n\n[167 rows x 2 columns]",
      "text/html": "<div>\n<style scoped>\n    .dataframe tbody tr th:only-of-type {\n        vertical-align: middle;\n    }\n\n    .dataframe tbody tr th {\n        vertical-align: top;\n    }\n\n    .dataframe thead th {\n        text-align: right;\n    }\n</style>\n<table border=\"1\" class=\"dataframe\">\n  <thead>\n    <tr style=\"text-align: right;\">\n      <th></th>\n      <th>Course</th>\n      <th>Score</th>\n    </tr>\n    <tr>\n      <th>Index</th>\n      <th></th>\n      <th></th>\n    </tr>\n  </thead>\n  <tbody>\n    <tr>\n      <th>0</th>\n      <td>Cancer Epidemiology and Prevention</td>\n      <td>0.0</td>\n    </tr>\n    <tr>\n      <th>1</th>\n      <td>Coaching Skill : Crafting a New You สำหรับนักศ...</td>\n      <td>0.0</td>\n    </tr>\n    <tr>\n      <th>2</th>\n      <td>Coaching Skill : Crafting a New You สำหรับบุคล...</td>\n      <td>0.0</td>\n    </tr>\n    <tr>\n      <th>3</th>\n      <td>Development Studies &amp; Social Research Speciali...</td>\n      <td>0.0</td>\n    </tr>\n    <tr>\n      <th>4</th>\n      <td>Digital Transformation: e-Document</td>\n      <td>0.0</td>\n    </tr>\n    <tr>\n      <th>...</th>\n      <td>...</td>\n      <td>...</td>\n    </tr>\n    <tr>\n      <th>163</th>\n      <td>เวชศาสตร์ครอบครัวขั้นสูง</td>\n      <td>0.0</td>\n    </tr>\n    <tr>\n      <th>164</th>\n      <td>เวชศาสตร์ฟื้นฟูสำหรับแพทย์ฝึกอบรมเวชศาสตร์ฟื้น...</td>\n      <td>0.0</td>\n    </tr>\n    <tr>\n      <th>165</th>\n      <td>แปลงจุดแข็ง เป็นคุณค่า สร้างชีวิตสู่ความสุข  (...</td>\n      <td>0.0</td>\n    </tr>\n    <tr>\n      <th>166</th>\n      <td>แปลงจุดแข็ง เป็นคุณค่า สร้างชีวิตสู่ความสุข (S...</td>\n      <td>0.0</td>\n    </tr>\n    <tr>\n      <th>167</th>\n      <td>“ฟูมฟักทักษะสำคัญในชีวิตและการทำงาน Skills4Lif...</td>\n      <td>0.0</td>\n    </tr>\n  </tbody>\n</table>\n<p>167 rows × 2 columns</p>\n</div>"
     },
     "execution_count": 124,
     "metadata": {},
     "output_type": "execute_result"
    }
   ],
   "source": [
    "recommender_tfidf_all_courses('การวินิจฉัยภาวะฉุกเฉินจากอุบัติเหตุ (Diagnostic Radiology of Traumatic Emergency)')"
   ],
   "metadata": {
    "collapsed": false,
    "ExecuteTime": {
     "end_time": "2023-11-30T16:52:32.477817900Z",
     "start_time": "2023-11-30T16:52:32.467162200Z"
    }
   },
   "id": "791def1b6f809e22"
  },
  {
   "cell_type": "markdown",
   "source": [
    "References"
   ],
   "metadata": {
    "collapsed": false
   },
   "id": "4ec2f48232934fc9"
  },
  {
   "cell_type": "markdown",
   "source": [
    "https://practicaldatascience.co.uk/data-science/how-to-create-content-recommendations-using-tf-idf\n",
    "https://medium.com/analytics-vidhya/how-to-do-a-content-based-filtering-using-tf-idf-f623487ed0fd"
   ],
   "metadata": {
    "collapsed": false
   },
   "id": "94a7a7174b87e26f"
  }
 ],
 "metadata": {
  "kernelspec": {
   "display_name": "Python 3",
   "language": "python",
   "name": "python3"
  },
  "language_info": {
   "codemirror_mode": {
    "name": "ipython",
    "version": 2
   },
   "file_extension": ".py",
   "mimetype": "text/x-python",
   "name": "python",
   "nbconvert_exporter": "python",
   "pygments_lexer": "ipython2",
   "version": "2.7.6"
  }
 },
 "nbformat": 4,
 "nbformat_minor": 5
}
