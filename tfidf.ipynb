{
 "cells": [
  {
   "cell_type": "markdown",
   "source": [
    "Import required packages"
   ],
   "metadata": {
    "collapsed": false
   },
   "id": "4975b875a2bf09a0"
  },
  {
   "cell_type": "code",
   "execution_count": 123,
   "id": "initial_id",
   "metadata": {
    "collapsed": true,
    "ExecuteTime": {
     "end_time": "2023-11-30T06:56:45.839247500Z",
     "start_time": "2023-11-30T06:56:45.440303600Z"
    }
   },
   "outputs": [],
   "source": [
    "import pandas as pd\n",
    "import re\n",
    "import numpy as np\n",
    "from sklearn.feature_extraction.text import TfidfVectorizer\n",
    "from sklearn.metrics.pairwise import cosine_similarity, linear_kernel"
   ]
  },
  {
   "cell_type": "markdown",
   "source": [
    "Read the file"
   ],
   "metadata": {
    "collapsed": false
   },
   "id": "b5f54b21a1aad86d"
  },
  {
   "cell_type": "code",
   "execution_count": 124,
   "outputs": [],
   "source": [
    "file = pd.read_excel('shortcourses2566.xlsx')"
   ],
   "metadata": {
    "collapsed": false,
    "ExecuteTime": {
     "end_time": "2023-11-30T06:56:46.881546600Z",
     "start_time": "2023-11-30T06:56:45.447173700Z"
    }
   },
   "id": "d3da61f397b9ca5d"
  },
  {
   "cell_type": "markdown",
   "source": [
    "Clean title with regular expresion"
   ],
   "metadata": {
    "collapsed": false
   },
   "id": "67bf7ef0f6dd9fe2"
  },
  {
   "cell_type": "code",
   "execution_count": 125,
   "outputs": [],
   "source": [
    "def clean_title(title):\n",
    "    return re.sub(\"[^a-zA-Z0-9 ]\", \"\", title)"
   ],
   "metadata": {
    "collapsed": false,
    "ExecuteTime": {
     "end_time": "2023-11-30T06:56:46.891479Z",
     "start_time": "2023-11-30T06:56:46.883546Z"
    }
   },
   "id": "e4dc26afbc54f2c0"
  },
  {
   "cell_type": "markdown",
   "source": [
    "Create dataframe of courses"
   ],
   "metadata": {
    "collapsed": false
   },
   "id": "65f01dea125beee9"
  },
  {
   "cell_type": "code",
   "execution_count": 126,
   "outputs": [],
   "source": [
    "content = file['หลักสูตรอบรมระยะสั้น'].drop_duplicates().fillna('')\n",
    "courses = content.sort_values().set_axis(range(0,len(content)))\n",
    "courses_clean = courses.apply(clean_title)"
   ],
   "metadata": {
    "collapsed": false,
    "ExecuteTime": {
     "end_time": "2023-11-30T06:56:46.902741400Z",
     "start_time": "2023-11-30T06:56:46.889341200Z"
    }
   },
   "id": "b3f21aedd43e6caf"
  },
  {
   "cell_type": "markdown",
   "source": [
    "Create tfidf matrix"
   ],
   "metadata": {
    "collapsed": false
   },
   "id": "c3989496741b31b6"
  },
  {
   "cell_type": "code",
   "execution_count": 127,
   "outputs": [],
   "source": [
    "tfidf = TfidfVectorizer(stop_words='english')\n",
    "tfidf_matrix = tfidf.fit_transform(content_clean)"
   ],
   "metadata": {
    "collapsed": false,
    "ExecuteTime": {
     "end_time": "2023-11-30T06:56:46.921799900Z",
     "start_time": "2023-11-30T06:56:46.904734100Z"
    }
   },
   "id": "cb5cd99f50462dca"
  },
  {
   "cell_type": "markdown",
   "source": [
    "Create cosine similarities"
   ],
   "metadata": {
    "collapsed": false
   },
   "id": "163e6b93447bfd83"
  },
  {
   "cell_type": "code",
   "execution_count": 128,
   "outputs": [],
   "source": [
    "cosine_similarities = linear_kernel(tfidf_matrix)"
   ],
   "metadata": {
    "collapsed": false,
    "ExecuteTime": {
     "end_time": "2023-11-30T06:56:46.921799900Z",
     "start_time": "2023-11-30T06:56:46.913944800Z"
    }
   },
   "id": "ddf0d8ab318c7c87"
  },
  {
   "cell_type": "markdown",
   "source": [
    "Create recommendation system function"
   ],
   "metadata": {
    "collapsed": false
   },
   "id": "eb50ecacd47aad8d"
  },
  {
   "cell_type": "code",
   "execution_count": 129,
   "outputs": [],
   "source": [
    "def recommender_tfidf(course_name, limit):\n",
    "    \"\"\"Return a dataframe of content recommendations based on TF-IDF cosine similarity.\n",
    "    \n",
    "    Args:\n",
    "        courses (object): Pandas Series containing the text data. \n",
    "        column (string): Name of column used, i.e. 'title'. \n",
    "        course_name (string): Name of title to get recommendations for, i.e. 1982 Ferrari 308 GTSi For Sale by Auction\n",
    "        cosine_similarities (array): Cosine similarities matrix from linear_kernel\n",
    "        limit (int, optional): Optional limit on number of recommendations to return. \n",
    "        \n",
    "    Returns: \n",
    "        Pandas dataframe. \n",
    "    \"\"\"\n",
    "\n",
    "    # Return indices for the target dataframe column and drop any duplicates\n",
    "    indices = pd.Series(courses).drop_duplicates()\n",
    "    \n",
    "    # Get the index for the target course_name\n",
    "    count = 0\n",
    "    for name in indices:\n",
    "        if name == course_name:\n",
    "            break\n",
    "        else:\n",
    "            count = count + 1\n",
    "    target_index = count\n",
    "\n",
    "    # Get the cosine similarity scores for the target course_name\n",
    "    cosine_similarity_scores = list(enumerate(cosine_similarities[target_index]))\n",
    "\n",
    "    # Sort the cosine similarities in order of closest similarity\n",
    "    cosine_similarity_scores = sorted(cosine_similarity_scores, key=lambda x: x[1], reverse=True)\n",
    "\n",
    "    # Return tuple of the requested closest scores excluding the target item and index\n",
    "    cosine_similarity_scores = cosine_similarity_scores[1:limit+1]\n",
    "    \n",
    "    # Extract the tuple course_names\n",
    "    index = (x[0] for x in cosine_similarity_scores)\n",
    "    scores = (x[1] for x in cosine_similarity_scores)\n",
    "\n",
    "    # Get the indices for the closest items\n",
    "    recommendation_indices = [i[0] for i in cosine_similarity_scores]\n",
    "\n",
    "    # Get the actual recommendations\n",
    "    recommendations = courses.iloc[recommendation_indices]\n",
    "\n",
    "    # Return a recommendations\n",
    "    recommendations = pd.DataFrame(tuple(zip(index, recommendations, scores)),\n",
    "                      columns=['index','recommendation', 'cosine_similarity_score'])\n",
    "\n",
    "    return recommendations"
   ],
   "metadata": {
    "collapsed": false,
    "ExecuteTime": {
     "end_time": "2023-11-30T06:56:46.931679700Z",
     "start_time": "2023-11-30T06:56:46.922802100Z"
    }
   },
   "id": "991b48164c403112"
  },
  {
   "cell_type": "markdown",
   "source": [
    "Test recommendation system using TF-IDF"
   ],
   "metadata": {
    "collapsed": false
   },
   "id": "1854ee47996040bd"
  },
  {
   "cell_type": "code",
   "execution_count": 130,
   "outputs": [
    {
     "data": {
      "text/plain": "   index                                     recommendation  \\\n0     43  การวินิจฉัยภาวะฉุกเฉินที่ไม่ได้เกิดจากอุบัติเห...   \n1    131  หลักการและพื้นฐานของเครื่องมือทางรังสีวิทยา (B...   \n2    152  เตรียมความพร้อมทางรังสีวิทยาสำหรับบุคลากรทางกา...   \n3      0                 Cancer Epidemiology and Prevention   \n4      1  Coaching Skill : Crafting a New You สำหรับนักศ...   \n5      2  Coaching Skill : Crafting a New You สำหรับบุคล...   \n6      3  Development Studies & Social Research Speciali...   \n7      4                 Digital Transformation: e-Document   \n8      5  Environmental Economics (USAC programs) - Fall...   \n9      6  Global Citizenship – โรงเรียนมงฟอร์ตวิทยาลัย ส...   \n\n   cosine_similarity_score  \n0                 0.697794  \n1                 0.360553  \n2                 0.249083  \n3                 0.000000  \n4                 0.000000  \n5                 0.000000  \n6                 0.000000  \n7                 0.000000  \n8                 0.000000  \n9                 0.000000  ",
      "text/html": "<div>\n<style scoped>\n    .dataframe tbody tr th:only-of-type {\n        vertical-align: middle;\n    }\n\n    .dataframe tbody tr th {\n        vertical-align: top;\n    }\n\n    .dataframe thead th {\n        text-align: right;\n    }\n</style>\n<table border=\"1\" class=\"dataframe\">\n  <thead>\n    <tr style=\"text-align: right;\">\n      <th></th>\n      <th>index</th>\n      <th>recommendation</th>\n      <th>cosine_similarity_score</th>\n    </tr>\n  </thead>\n  <tbody>\n    <tr>\n      <th>0</th>\n      <td>43</td>\n      <td>การวินิจฉัยภาวะฉุกเฉินที่ไม่ได้เกิดจากอุบัติเห...</td>\n      <td>0.697794</td>\n    </tr>\n    <tr>\n      <th>1</th>\n      <td>131</td>\n      <td>หลักการและพื้นฐานของเครื่องมือทางรังสีวิทยา (B...</td>\n      <td>0.360553</td>\n    </tr>\n    <tr>\n      <th>2</th>\n      <td>152</td>\n      <td>เตรียมความพร้อมทางรังสีวิทยาสำหรับบุคลากรทางกา...</td>\n      <td>0.249083</td>\n    </tr>\n    <tr>\n      <th>3</th>\n      <td>0</td>\n      <td>Cancer Epidemiology and Prevention</td>\n      <td>0.000000</td>\n    </tr>\n    <tr>\n      <th>4</th>\n      <td>1</td>\n      <td>Coaching Skill : Crafting a New You สำหรับนักศ...</td>\n      <td>0.000000</td>\n    </tr>\n    <tr>\n      <th>5</th>\n      <td>2</td>\n      <td>Coaching Skill : Crafting a New You สำหรับบุคล...</td>\n      <td>0.000000</td>\n    </tr>\n    <tr>\n      <th>6</th>\n      <td>3</td>\n      <td>Development Studies &amp; Social Research Speciali...</td>\n      <td>0.000000</td>\n    </tr>\n    <tr>\n      <th>7</th>\n      <td>4</td>\n      <td>Digital Transformation: e-Document</td>\n      <td>0.000000</td>\n    </tr>\n    <tr>\n      <th>8</th>\n      <td>5</td>\n      <td>Environmental Economics (USAC programs) - Fall...</td>\n      <td>0.000000</td>\n    </tr>\n    <tr>\n      <th>9</th>\n      <td>6</td>\n      <td>Global Citizenship – โรงเรียนมงฟอร์ตวิทยาลัย ส...</td>\n      <td>0.000000</td>\n    </tr>\n  </tbody>\n</table>\n</div>"
     },
     "execution_count": 130,
     "metadata": {},
     "output_type": "execute_result"
    }
   ],
   "source": [
    "recommender_tfidf('การวินิจฉัยภาวะฉุกเฉินจากอุบัติเหตุ (Diagnostic Radiology of Traumatic Emergency)', 10)"
   ],
   "metadata": {
    "collapsed": false,
    "ExecuteTime": {
     "end_time": "2023-11-30T06:56:46.942702900Z",
     "start_time": "2023-11-30T06:56:46.933641900Z"
    }
   },
   "id": "c0f4db781812aba2"
  },
  {
   "cell_type": "markdown",
   "source": [
    "References"
   ],
   "metadata": {
    "collapsed": false
   },
   "id": "4ec2f48232934fc9"
  },
  {
   "cell_type": "markdown",
   "source": [
    "https://practicaldatascience.co.uk/data-science/how-to-create-content-recommendations-using-tf-idf\n",
    "https://medium.com/analytics-vidhya/how-to-do-a-content-based-filtering-using-tf-idf-f623487ed0fd"
   ],
   "metadata": {
    "collapsed": false
   },
   "id": "94a7a7174b87e26f"
  }
 ],
 "metadata": {
  "kernelspec": {
   "display_name": "Python 3",
   "language": "python",
   "name": "python3"
  },
  "language_info": {
   "codemirror_mode": {
    "name": "ipython",
    "version": 2
   },
   "file_extension": ".py",
   "mimetype": "text/x-python",
   "name": "python",
   "nbconvert_exporter": "python",
   "pygments_lexer": "ipython2",
   "version": "2.7.6"
  }
 },
 "nbformat": 4,
 "nbformat_minor": 5
}
