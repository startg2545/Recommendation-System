{
 "cells": [
  {
   "cell_type": "markdown",
   "source": [
    "Import required packages"
   ],
   "metadata": {
    "collapsed": false
   },
   "id": "4975b875a2bf09a0"
  },
  {
   "cell_type": "code",
   "execution_count": 107,
   "id": "initial_id",
   "metadata": {
    "collapsed": true,
    "ExecuteTime": {
     "end_time": "2023-12-21T09:16:37.694029Z",
     "start_time": "2023-12-21T09:16:37.693522900Z"
    }
   },
   "outputs": [],
   "source": [
    "import pandas as pd\n",
    "import re\n",
    "import numpy as np\n",
    "from collections import Counter\n",
    "from sklearn.feature_extraction.text import TfidfVectorizer\n",
    "from sklearn.metrics.pairwise import cosine_similarity, linear_kernel\n",
    "from googletrans import Translator"
   ]
  },
  {
   "cell_type": "markdown",
   "source": [
    "Read the file"
   ],
   "metadata": {
    "collapsed": false
   },
   "id": "b5f54b21a1aad86d"
  },
  {
   "cell_type": "code",
   "execution_count": 3,
   "outputs": [],
   "source": [
    "file = pd.read_excel('shortcourses2566.xlsx')"
   ],
   "metadata": {
    "collapsed": false,
    "ExecuteTime": {
     "end_time": "2023-12-21T08:45:08.748060800Z",
     "start_time": "2023-12-21T08:45:07.278976400Z"
    }
   },
   "id": "d3da61f397b9ca5d"
  },
  {
   "cell_type": "markdown",
   "source": [
    "Language convert function"
   ],
   "metadata": {
    "collapsed": false
   },
   "id": "e03155d2afd736eb"
  },
  {
   "cell_type": "code",
   "execution_count": 704,
   "outputs": [],
   "source": [
    "import translators as ts\n",
    "\n",
    "def translate_eng(text):\n",
    "    return ts.translate_text(text)\n",
    "\n",
    "def is_english(text):\n",
    "    for char in text:\n",
    "        if char.isalpha() and char.isascii():\n",
    "            return True\n",
    "    return False\n",
    "            "
   ],
   "metadata": {
    "collapsed": false,
    "ExecuteTime": {
     "end_time": "2023-12-21T12:34:36.879980800Z",
     "start_time": "2023-12-21T12:34:36.874978200Z"
    }
   },
   "id": "c368d2c6cb469623"
  },
  {
   "cell_type": "markdown",
   "source": [
    "Clean title with regular expresion"
   ],
   "metadata": {
    "collapsed": false
   },
   "id": "67bf7ef0f6dd9fe2"
  },
  {
   "cell_type": "code",
   "execution_count": 5,
   "outputs": [],
   "source": [
    "def clean_title(title):\n",
    "    return re.sub(\"[^a-zA-Z0-9 ]\", \"\", title)"
   ],
   "metadata": {
    "collapsed": false,
    "ExecuteTime": {
     "end_time": "2023-12-21T08:45:09.156407200Z",
     "start_time": "2023-12-21T08:45:09.156407200Z"
    }
   },
   "id": "e4dc26afbc54f2c0"
  },
  {
   "cell_type": "markdown",
   "source": [
    "Create dataframe of courses"
   ],
   "metadata": {
    "collapsed": false
   },
   "id": "65f01dea125beee9"
  },
  {
   "cell_type": "code",
   "execution_count": 745,
   "outputs": [],
   "source": [
    "# Take the series of courses from dataset column\n",
    "content = file['หลักสูตรอบรมระยะสั้น'].drop_duplicates().fillna('')\n",
    "courses = content.sort_values().set_axis(range(0,len(content)))\n",
    "\n",
    "# Check if the course is in Thai language or not\n",
    "is_english_courses = courses.apply(is_english)\n",
    "thai_courses_not_trans = courses[is_english_courses == False]\n",
    "\n",
    "# Translate courses in a thai language to en english language\n",
    "thai_courses = thai_courses_not_trans.apply(translate_eng)\n",
    "english_courses = courses[is_english_courses == True]\n",
    "\n",
    "# Combine 2 series into a single series\n",
    "combined_courses = thai_courses._append(english_courses)\n",
    "combined_courses.sort_index()\n",
    "\n",
    "# Convert combined courses to be in form of regular expression\n",
    "courses_clean = combined_courses.apply(clean_title)"
   ],
   "metadata": {
    "collapsed": false,
    "ExecuteTime": {
     "end_time": "2023-12-21T12:58:29.883698100Z",
     "start_time": "2023-12-21T12:58:18.788951800Z"
    }
   },
   "id": "b3f21aedd43e6caf"
  },
  {
   "cell_type": "markdown",
   "source": [
    "Create tfidf matrix"
   ],
   "metadata": {
    "collapsed": false
   },
   "id": "c3989496741b31b6"
  },
  {
   "cell_type": "code",
   "execution_count": 198,
   "outputs": [],
   "source": [
    "tfidf = TfidfVectorizer(stop_words='english')\n",
    "tfidf_matrix = tfidf.fit_transform(courses_clean)"
   ],
   "metadata": {
    "collapsed": false,
    "ExecuteTime": {
     "end_time": "2023-12-21T09:48:55.526537500Z",
     "start_time": "2023-12-21T09:48:55.510531700Z"
    }
   },
   "id": "cb5cd99f50462dca"
  },
  {
   "cell_type": "markdown",
   "source": [
    "Create cosine similarities"
   ],
   "metadata": {
    "collapsed": false
   },
   "id": "163e6b93447bfd83"
  },
  {
   "cell_type": "code",
   "execution_count": 8,
   "outputs": [],
   "source": [
    "cosine_similarities = linear_kernel(tfidf_matrix)"
   ],
   "metadata": {
    "collapsed": false,
    "ExecuteTime": {
     "end_time": "2023-12-21T08:45:09.198366500Z",
     "start_time": "2023-12-21T08:45:09.198366500Z"
    }
   },
   "id": "ddf0d8ab318c7c87"
  },
  {
   "cell_type": "markdown",
   "source": [
    "Create recommendation system function"
   ],
   "metadata": {
    "collapsed": false
   },
   "id": "eb50ecacd47aad8d"
  },
  {
   "cell_type": "code",
   "execution_count": 91,
   "outputs": [],
   "source": [
    "def recommender_tfidf(course_name, limit):\n",
    "    \"\"\"Return a dataframe of content recommendations based on TF-IDF cosine similarity.\n",
    "    \n",
    "    Args:\n",
    "        courses (object): Pandas Series containing the text data. \n",
    "        column (string): Name of column used, i.e. 'title'. \n",
    "        course_name (string): Name of title to get recommendations for, i.e. 1982 Ferrari 308 GTSi For Sale by Auction\n",
    "        cosine_similarities (array): Cosine similarities matrix from linear_kernel\n",
    "        limit (int, optional): Optional limit on number of recommendations to return. \n",
    "        \n",
    "    Returns: \n",
    "        Pandas dataframe. \n",
    "    \"\"\"\n",
    "\n",
    "    # Return indices for the target dataframe column and drop any duplicates\n",
    "    indices = pd.Series(courses).drop_duplicates()\n",
    "    \n",
    "    # Get the index for the target course_name\n",
    "    count = 0\n",
    "    for name in indices:\n",
    "        if name == course_name:\n",
    "            break\n",
    "        else:\n",
    "            count = count + 1\n",
    "    target_index = count\n",
    "\n",
    "    # Get the cosine similarity scores for the target course_name\n",
    "    cosine_similarity_scores = list(enumerate(cosine_similarities[target_index]))\n",
    "    \n",
    "    # Sort the cosine similarities in order of closest similarity\n",
    "    cosine_similarity_scores = sorted(cosine_similarity_scores, key=lambda x: x[1], reverse=True)\n",
    "    \n",
    "    # Return tuple of the requested closest scores excluding the target item and index\n",
    "    cosine_similarity_scores = cosine_similarity_scores[1:limit+1]\n",
    "    \n",
    "    # Extract the tuple course_names\n",
    "    index = (x[0] for x in cosine_similarity_scores)\n",
    "    scores = (x[1] for x in cosine_similarity_scores)\n",
    "    \n",
    "    # Get the indices for the closest items\n",
    "    recommendation_indices = [i[0] for i in cosine_similarity_scores]\n",
    "    \n",
    "    # Get the actual recommendations\n",
    "    recommendations = courses.iloc[recommendation_indices]\n",
    "    \n",
    "    # Return a recommendations\n",
    "    recommendations = pd.DataFrame(tuple(zip(index, recommendations, scores)),\n",
    "                      columns=['Index','Course', 'Cosine Similarity Score'])\n",
    "    \n",
    "    # Take index from column 'index'\n",
    "    idx = recommendations['Index']\n",
    "    \n",
    "    # Set and sort index\n",
    "    recommendations = recommendations.set_axis(idx).drop(columns='Index')\n",
    "    return recommendations"
   ],
   "metadata": {
    "collapsed": false,
    "ExecuteTime": {
     "end_time": "2023-12-21T09:04:27.483370400Z",
     "start_time": "2023-12-21T09:04:27.451730600Z"
    }
   },
   "id": "991b48164c403112"
  },
  {
   "cell_type": "markdown",
   "source": [
    "Test recommendation system using TF-IDF"
   ],
   "metadata": {
    "collapsed": false
   },
   "id": "1854ee47996040bd"
  },
  {
   "cell_type": "code",
   "execution_count": 92,
   "outputs": [
    {
     "data": {
      "text/plain": "                                                  Course  \\\nIndex                                                      \n132    หลักวิทยาการระบาด (Principles of Epidemiology)...   \n1      Coaching Skill : Crafting a New You สำหรับนักศ...   \n2      Coaching Skill : Crafting a New You สำหรับบุคล...   \n3      Development Studies & Social Research Speciali...   \n4                     Digital Transformation: e-Document   \n5      Environmental Economics (USAC programs) - Fall...   \n6      Global Citizenship – โรงเรียนมงฟอร์ตวิทยาลัย ส...   \n7      Global Citizenship – โรงเรียนมงฟอร์ตวิทยาลัย ส...   \n8      Global Citizenship – โรงเรียนสันป่าตองวิทยาคม ...   \n9        Global Citizenship – โรงเรียนแม่ริมวิทยาคม 2566   \n\n       Cosine Similarity Score  \nIndex                           \n132                   0.355453  \n1                     0.000000  \n2                     0.000000  \n3                     0.000000  \n4                     0.000000  \n5                     0.000000  \n6                     0.000000  \n7                     0.000000  \n8                     0.000000  \n9                     0.000000  ",
      "text/html": "<div>\n<style scoped>\n    .dataframe tbody tr th:only-of-type {\n        vertical-align: middle;\n    }\n\n    .dataframe tbody tr th {\n        vertical-align: top;\n    }\n\n    .dataframe thead th {\n        text-align: right;\n    }\n</style>\n<table border=\"1\" class=\"dataframe\">\n  <thead>\n    <tr style=\"text-align: right;\">\n      <th></th>\n      <th>Course</th>\n      <th>Cosine Similarity Score</th>\n    </tr>\n    <tr>\n      <th>Index</th>\n      <th></th>\n      <th></th>\n    </tr>\n  </thead>\n  <tbody>\n    <tr>\n      <th>132</th>\n      <td>หลักวิทยาการระบาด (Principles of Epidemiology)...</td>\n      <td>0.355453</td>\n    </tr>\n    <tr>\n      <th>1</th>\n      <td>Coaching Skill : Crafting a New You สำหรับนักศ...</td>\n      <td>0.000000</td>\n    </tr>\n    <tr>\n      <th>2</th>\n      <td>Coaching Skill : Crafting a New You สำหรับบุคล...</td>\n      <td>0.000000</td>\n    </tr>\n    <tr>\n      <th>3</th>\n      <td>Development Studies &amp; Social Research Speciali...</td>\n      <td>0.000000</td>\n    </tr>\n    <tr>\n      <th>4</th>\n      <td>Digital Transformation: e-Document</td>\n      <td>0.000000</td>\n    </tr>\n    <tr>\n      <th>5</th>\n      <td>Environmental Economics (USAC programs) - Fall...</td>\n      <td>0.000000</td>\n    </tr>\n    <tr>\n      <th>6</th>\n      <td>Global Citizenship – โรงเรียนมงฟอร์ตวิทยาลัย ส...</td>\n      <td>0.000000</td>\n    </tr>\n    <tr>\n      <th>7</th>\n      <td>Global Citizenship – โรงเรียนมงฟอร์ตวิทยาลัย ส...</td>\n      <td>0.000000</td>\n    </tr>\n    <tr>\n      <th>8</th>\n      <td>Global Citizenship – โรงเรียนสันป่าตองวิทยาคม ...</td>\n      <td>0.000000</td>\n    </tr>\n    <tr>\n      <th>9</th>\n      <td>Global Citizenship – โรงเรียนแม่ริมวิทยาคม 2566</td>\n      <td>0.000000</td>\n    </tr>\n  </tbody>\n</table>\n</div>"
     },
     "execution_count": 92,
     "metadata": {},
     "output_type": "execute_result"
    }
   ],
   "source": [
    "recommender_tfidf('Cancer Epidemiology and Prevention', 10)"
   ],
   "metadata": {
    "collapsed": false,
    "ExecuteTime": {
     "end_time": "2023-12-21T09:04:27.916332700Z",
     "start_time": "2023-12-21T09:04:27.909157700Z"
    }
   },
   "id": "c0f4db781812aba2"
  },
  {
   "cell_type": "markdown",
   "source": [
    "Predata for hybrid recommendation"
   ],
   "metadata": {
    "collapsed": false
   },
   "id": "782f034ab119afb2"
  },
  {
   "cell_type": "code",
   "execution_count": 12,
   "outputs": [],
   "source": [
    "def recommender_tfidf_all_courses(course_name):\n",
    "    \"\"\"Return a dataframe of content recommendations based on TF-IDF cosine similarity.\n",
    "    \n",
    "    Args:\n",
    "        courses (object): Pandas Series containing the text data. \n",
    "        column (string): Name of column used, i.e. 'title'. \n",
    "        course_name (string): Name of title to get recommendations for, i.e. 1982 Ferrari 308 GTSi For Sale by Auction\n",
    "        cosine_similarities (array): Cosine similarities matrix from linear_kernel\n",
    "        \n",
    "    Returns: \n",
    "        Pandas dataframe. \n",
    "    \"\"\"\n",
    "\n",
    "    # Return indices for the target dataframe column and drop any duplicates\n",
    "    indices = pd.Series(courses).drop_duplicates()\n",
    "\n",
    "    # Get the index for the target course_name\n",
    "    count = 0\n",
    "    for name in indices:\n",
    "        if name == course_name:\n",
    "            break\n",
    "        else:\n",
    "            count = count + 1\n",
    "    target_index = count\n",
    "\n",
    "    # Get the cosine similarity scores for the target course_name\n",
    "    cosine_similarity_scores = list(enumerate(cosine_similarities[target_index]))\n",
    "\n",
    "    # Sort the cosine similarities in order of closest similarity\n",
    "    cosine_similarity_scores = sorted(cosine_similarity_scores, key=lambda x: x[1], reverse=True)\n",
    "\n",
    "    # Return tuple of the requested closest scores excluding the target item and index\n",
    "    cosine_similarity_scores = cosine_similarity_scores[1:len(courses)]\n",
    "\n",
    "    # Extract the tuple course_names\n",
    "    index = (x[0] for x in cosine_similarity_scores)\n",
    "    scores = (x[1] for x in cosine_similarity_scores)\n",
    "\n",
    "    # Get the indices for the closest items\n",
    "    recommendation_indices = [i[0] for i in cosine_similarity_scores]\n",
    "\n",
    "    # Get the actual recommendations\n",
    "    recommendations = courses.iloc[recommendation_indices]\n",
    "\n",
    "    # Return a recommendations\n",
    "    recommendations = pd.DataFrame(tuple(zip(index, recommendations, scores)),\n",
    "                                   columns=['Index','Course', 'Score'])\n",
    "    \n",
    "    # Take index from column 'index'\n",
    "    idx = recommendations['Index']\n",
    "    \n",
    "    # Set and sort index \n",
    "    recommendations = recommendations.set_axis(idx).drop(columns='Index').sort_index()\n",
    "    return recommendations"
   ],
   "metadata": {
    "collapsed": false,
    "ExecuteTime": {
     "end_time": "2023-12-21T08:45:09.267634900Z",
     "start_time": "2023-12-21T08:45:09.264604200Z"
    }
   },
   "id": "594104f8545fe00"
  },
  {
   "cell_type": "code",
   "execution_count": 13,
   "outputs": [
    {
     "data": {
      "text/plain": "                                                  Course  Score\nIndex                                                          \n0                     Cancer Epidemiology and Prevention    0.0\n1      Coaching Skill : Crafting a New You สำหรับนักศ...    0.0\n2      Coaching Skill : Crafting a New You สำหรับบุคล...    0.0\n3      Development Studies & Social Research Speciali...    0.0\n4                     Digital Transformation: e-Document    0.0\n...                                                  ...    ...\n163                             เวชศาสตร์ครอบครัวขั้นสูง    0.0\n164    เวชศาสตร์ฟื้นฟูสำหรับแพทย์ฝึกอบรมเวชศาสตร์ฟื้น...    0.0\n165    แปลงจุดแข็ง เป็นคุณค่า สร้างชีวิตสู่ความสุข  (...    0.0\n166    แปลงจุดแข็ง เป็นคุณค่า สร้างชีวิตสู่ความสุข (S...    0.0\n167    “ฟูมฟักทักษะสำคัญในชีวิตและการทำงาน Skills4Lif...    0.0\n\n[167 rows x 2 columns]",
      "text/html": "<div>\n<style scoped>\n    .dataframe tbody tr th:only-of-type {\n        vertical-align: middle;\n    }\n\n    .dataframe tbody tr th {\n        vertical-align: top;\n    }\n\n    .dataframe thead th {\n        text-align: right;\n    }\n</style>\n<table border=\"1\" class=\"dataframe\">\n  <thead>\n    <tr style=\"text-align: right;\">\n      <th></th>\n      <th>Course</th>\n      <th>Score</th>\n    </tr>\n    <tr>\n      <th>Index</th>\n      <th></th>\n      <th></th>\n    </tr>\n  </thead>\n  <tbody>\n    <tr>\n      <th>0</th>\n      <td>Cancer Epidemiology and Prevention</td>\n      <td>0.0</td>\n    </tr>\n    <tr>\n      <th>1</th>\n      <td>Coaching Skill : Crafting a New You สำหรับนักศ...</td>\n      <td>0.0</td>\n    </tr>\n    <tr>\n      <th>2</th>\n      <td>Coaching Skill : Crafting a New You สำหรับบุคล...</td>\n      <td>0.0</td>\n    </tr>\n    <tr>\n      <th>3</th>\n      <td>Development Studies &amp; Social Research Speciali...</td>\n      <td>0.0</td>\n    </tr>\n    <tr>\n      <th>4</th>\n      <td>Digital Transformation: e-Document</td>\n      <td>0.0</td>\n    </tr>\n    <tr>\n      <th>...</th>\n      <td>...</td>\n      <td>...</td>\n    </tr>\n    <tr>\n      <th>163</th>\n      <td>เวชศาสตร์ครอบครัวขั้นสูง</td>\n      <td>0.0</td>\n    </tr>\n    <tr>\n      <th>164</th>\n      <td>เวชศาสตร์ฟื้นฟูสำหรับแพทย์ฝึกอบรมเวชศาสตร์ฟื้น...</td>\n      <td>0.0</td>\n    </tr>\n    <tr>\n      <th>165</th>\n      <td>แปลงจุดแข็ง เป็นคุณค่า สร้างชีวิตสู่ความสุข  (...</td>\n      <td>0.0</td>\n    </tr>\n    <tr>\n      <th>166</th>\n      <td>แปลงจุดแข็ง เป็นคุณค่า สร้างชีวิตสู่ความสุข (S...</td>\n      <td>0.0</td>\n    </tr>\n    <tr>\n      <th>167</th>\n      <td>“ฟูมฟักทักษะสำคัญในชีวิตและการทำงาน Skills4Lif...</td>\n      <td>0.0</td>\n    </tr>\n  </tbody>\n</table>\n<p>167 rows × 2 columns</p>\n</div>"
     },
     "execution_count": 13,
     "metadata": {},
     "output_type": "execute_result"
    }
   ],
   "source": [
    "recommender_tfidf_all_courses('การวินิจฉัยภาวะฉุกเฉินจากอุบัติเหตุ (Diagnostic Radiology of Traumatic Emergency)')"
   ],
   "metadata": {
    "collapsed": false,
    "ExecuteTime": {
     "end_time": "2023-12-21T08:45:09.333613900Z",
     "start_time": "2023-12-21T08:45:09.267634900Z"
    }
   },
   "id": "791def1b6f809e22"
  },
  {
   "cell_type": "code",
   "execution_count": 14,
   "outputs": [],
   "source": [
    "def recommender_tfidf_by_user(user_name, n_recommendations):\n",
    "    df = {\n",
    "        'User': pd.Series(file['ชื่อ-นามสกุล (อังกฤษ)']),\n",
    "        'Course': pd.Series(file['หลักสูตรอบรมระยะสั้น'])\n",
    "    }\n",
    "\n",
    "    user_course = pd.DataFrame(df)\n",
    "    selected_user_name = user_course.loc[user_course['User'] == user_name]\n",
    "    selected_courses = selected_user_name['Course']\n",
    "\n",
    "    recommended_courses = [ recommender_tfidf_all_courses(x) for x in selected_courses]\n",
    "\n",
    "    # pre dataframe\n",
    "    df = pd.DataFrame({\n",
    "        'Course': [],\n",
    "        'Score': []\n",
    "    }).rename_axis('Index')\n",
    "\n",
    "    for x in recommended_courses:\n",
    "        df = df._append(x)\n",
    "    df =  df.sort_values('Score', ascending=False).drop_duplicates('Course')\n",
    "    return df.head(n_recommendations)"
   ],
   "metadata": {
    "collapsed": false,
    "ExecuteTime": {
     "end_time": "2023-12-21T08:45:09.345447100Z",
     "start_time": "2023-12-21T08:45:09.289622500Z"
    }
   },
   "id": "fdf28ef643836d21"
  },
  {
   "cell_type": "code",
   "execution_count": 15,
   "outputs": [
    {
     "data": {
      "text/plain": "                                                  Course     Score\nIndex                                                             \n43     การวินิจฉัยภาวะฉุกเฉินที่ไม่ได้เกิดจากอุบัติเห...  0.697794\n42     การวินิจฉัยภาวะฉุกเฉินจากอุบัติเหตุ (Diagnosti...  0.697794\n131    หลักการและพื้นฐานของเครื่องมือทางรังสีวิทยา (B...  0.360553\n152    เตรียมความพร้อมทางรังสีวิทยาสำหรับบุคลากรทางกา...  0.249083\n140    หลักเศรษฐศาสตร์สาธารณสุข (Principle of Health ...  0.221962\n130    หลักการบริหารงานสาธารณสุข (Principle of Public...  0.193087\n133    หลักสูตรย่อยที่ 1 พื้นฐานการดูแลสุขภาพสัตว์เลี...  0.191831\n32     การตรวจวิเคราะห์พื้นฐานทางพิษวิทยาและการตรวจวิ...  0.180715\n154    เทคโนโลยีก๊าซชีวภาพ : หลักการการออกแบบ และการใ...  0.157094\n161    เรียนรู้การคิดเชิงออกแบบ (Design Thinking) : ท...  0.000000",
      "text/html": "<div>\n<style scoped>\n    .dataframe tbody tr th:only-of-type {\n        vertical-align: middle;\n    }\n\n    .dataframe tbody tr th {\n        vertical-align: top;\n    }\n\n    .dataframe thead th {\n        text-align: right;\n    }\n</style>\n<table border=\"1\" class=\"dataframe\">\n  <thead>\n    <tr style=\"text-align: right;\">\n      <th></th>\n      <th>Course</th>\n      <th>Score</th>\n    </tr>\n    <tr>\n      <th>Index</th>\n      <th></th>\n      <th></th>\n    </tr>\n  </thead>\n  <tbody>\n    <tr>\n      <th>43</th>\n      <td>การวินิจฉัยภาวะฉุกเฉินที่ไม่ได้เกิดจากอุบัติเห...</td>\n      <td>0.697794</td>\n    </tr>\n    <tr>\n      <th>42</th>\n      <td>การวินิจฉัยภาวะฉุกเฉินจากอุบัติเหตุ (Diagnosti...</td>\n      <td>0.697794</td>\n    </tr>\n    <tr>\n      <th>131</th>\n      <td>หลักการและพื้นฐานของเครื่องมือทางรังสีวิทยา (B...</td>\n      <td>0.360553</td>\n    </tr>\n    <tr>\n      <th>152</th>\n      <td>เตรียมความพร้อมทางรังสีวิทยาสำหรับบุคลากรทางกา...</td>\n      <td>0.249083</td>\n    </tr>\n    <tr>\n      <th>140</th>\n      <td>หลักเศรษฐศาสตร์สาธารณสุข (Principle of Health ...</td>\n      <td>0.221962</td>\n    </tr>\n    <tr>\n      <th>130</th>\n      <td>หลักการบริหารงานสาธารณสุข (Principle of Public...</td>\n      <td>0.193087</td>\n    </tr>\n    <tr>\n      <th>133</th>\n      <td>หลักสูตรย่อยที่ 1 พื้นฐานการดูแลสุขภาพสัตว์เลี...</td>\n      <td>0.191831</td>\n    </tr>\n    <tr>\n      <th>32</th>\n      <td>การตรวจวิเคราะห์พื้นฐานทางพิษวิทยาและการตรวจวิ...</td>\n      <td>0.180715</td>\n    </tr>\n    <tr>\n      <th>154</th>\n      <td>เทคโนโลยีก๊าซชีวภาพ : หลักการการออกแบบ และการใ...</td>\n      <td>0.157094</td>\n    </tr>\n    <tr>\n      <th>161</th>\n      <td>เรียนรู้การคิดเชิงออกแบบ (Design Thinking) : ท...</td>\n      <td>0.000000</td>\n    </tr>\n  </tbody>\n</table>\n</div>"
     },
     "execution_count": 15,
     "metadata": {},
     "output_type": "execute_result"
    }
   ],
   "source": [
    "recommender_tfidf_by_user('PORPHAING JANTIP', 10)"
   ],
   "metadata": {
    "collapsed": false,
    "ExecuteTime": {
     "end_time": "2023-12-21T08:45:09.417517200Z",
     "start_time": "2023-12-21T08:45:09.304221600Z"
    }
   },
   "id": "e2425ec0689e85cb"
  },
  {
   "cell_type": "markdown",
   "source": [
    "References"
   ],
   "metadata": {
    "collapsed": false
   },
   "id": "4ec2f48232934fc9"
  },
  {
   "cell_type": "markdown",
   "source": [
    "https://practicaldatascience.co.uk/data-science/how-to-create-content-recommendations-using-tf-idf\n",
    "https://lukkiddd.com/tf-idf-%E0%B8%84%E0%B8%B3%E0%B9%84%E0%B8%AB%E0%B8%99%E0%B8%AA%E0%B8%B3%E0%B8%84%E0%B8%B1%E0%B8%8D%E0%B8%99%E0%B8%B0-dd1e1568312e"
   ],
   "metadata": {
    "collapsed": false
   },
   "id": "94a7a7174b87e26f"
  },
  {
   "cell_type": "markdown",
   "source": [
    "Training Test Part"
   ],
   "metadata": {
    "collapsed": false
   },
   "id": "ddb9d8f471e4ee78"
  },
  {
   "cell_type": "markdown",
   "source": [
    "Generate label in each course"
   ],
   "metadata": {
    "collapsed": false
   },
   "id": "cdf30562b75a0367"
  },
  {
   "cell_type": "code",
   "execution_count": 16,
   "outputs": [],
   "source": [
    "def generate_labels(matrix, threshold):\n",
    "    num_courses = len(matrix)\n",
    "    labels = np.zeros((num_courses, num_courses), dtype=int)\n",
    "    \n",
    "    for i in range(num_courses):\n",
    "        for j in range(i+1, num_courses):\n",
    "            similarity = matrix[i][j]\n",
    "            if similarity >= threshold:\n",
    "                labels[i][j] = 1\n",
    "                labels[j][i] = 1\n",
    "    return labels"
   ],
   "metadata": {
    "collapsed": false,
    "ExecuteTime": {
     "end_time": "2023-12-21T08:45:09.417517200Z",
     "start_time": "2023-12-21T08:45:09.331810900Z"
    }
   },
   "id": "d7f11154302384b6"
  },
  {
   "cell_type": "code",
   "execution_count": 17,
   "outputs": [
    {
     "name": "stdout",
     "output_type": "stream",
     "text": [
      "Labels:\n",
      "[[0 0 0 ... 0 0 0]\n",
      " [0 0 1 ... 0 0 0]\n",
      " [0 1 0 ... 0 0 0]\n",
      " ...\n",
      " [0 0 0 ... 0 1 0]\n",
      " [0 0 0 ... 1 0 0]\n",
      " [0 0 0 ... 0 0 0]]\n"
     ]
    }
   ],
   "source": [
    "threshold_value = 0.2  # Assume the similarity is symmetric\n",
    "labels = generate_labels(cosine_similarities, threshold_value)\n",
    "print(\"Labels:\")\n",
    "print(labels)"
   ],
   "metadata": {
    "collapsed": false,
    "ExecuteTime": {
     "end_time": "2023-12-21T08:45:09.433144800Z",
     "start_time": "2023-12-21T08:45:09.334131Z"
    }
   },
   "id": "4bc62956e5c60302"
  },
  {
   "cell_type": "code",
   "execution_count": 18,
   "outputs": [],
   "source": [
    "def extract_similar_items(item_list, labels, number_of_courses):\n",
    "    similar_items = []\n",
    "    \n",
    "    for i in range(number_of_courses):\n",
    "        arr = []\n",
    "        for j, label in enumerate(labels[i]):\n",
    "            if label == 1:\n",
    "                arr.append(item_list[j])\n",
    "        similar_items.append(pd.Series(arr))\n",
    "\n",
    "    return pd.Series(similar_items)"
   ],
   "metadata": {
    "collapsed": false,
    "ExecuteTime": {
     "end_time": "2023-12-21T08:45:09.433144800Z",
     "start_time": "2023-12-21T08:45:09.349454700Z"
    }
   },
   "id": "6f9d7911e888904e"
  },
  {
   "cell_type": "code",
   "execution_count": 19,
   "outputs": [
    {
     "name": "stdout",
     "output_type": "stream",
     "text": [
      "Similar item to Cancer Epidemiology and Prevention is:\n",
      "0    หลักวิทยาการระบาด (Principles of Epidemiology)...\n",
      "dtype: object\n"
     ]
    }
   ],
   "source": [
    "number_of_courses = len(labels)\n",
    "\n",
    "similar_items = extract_similar_items(courses, labels, number_of_courses)\n",
    "\n",
    "# Show the statistics\n",
    "example_idx = 0  # change index of similar_item to observe similar items\n",
    "example = similar_items[example_idx]\n",
    "considered_course = courses[example_idx]\n",
    "\n",
    "if len(example) == 1:\n",
    "    print(f\"Similar item to {considered_course} is:\")\n",
    "    print(example)\n",
    "else:\n",
    "    print(f\"Similar items to {considered_course} are:\")\n",
    "    print(example)"
   ],
   "metadata": {
    "collapsed": false,
    "ExecuteTime": {
     "end_time": "2023-12-21T08:45:09.593191300Z",
     "start_time": "2023-12-21T08:45:09.351955400Z"
    }
   },
   "id": "5cc31182ad866b3d"
  },
  {
   "cell_type": "markdown",
   "source": [
    "Functions for label calculation"
   ],
   "metadata": {
    "collapsed": false
   },
   "id": "5a5c99a2d1ba5f50"
  },
  {
   "cell_type": "code",
   "execution_count": 522,
   "outputs": [
    {
     "name": "stderr",
     "output_type": "stream",
     "text": [
      "<>:36: SyntaxWarning: \"is\" with a literal. Did you mean \"==\"?\n",
      "<>:36: SyntaxWarning: \"is\" with a literal. Did you mean \"==\"?\n",
      "C:\\Users\\Jiro.DESKTOP-HOK2CVB\\AppData\\Local\\Temp\\ipykernel_24616\\1119618710.py:36: SyntaxWarning: \"is\" with a literal. Did you mean \"==\"?\n",
      "  if len(max_words) is 0:\n"
     ]
    }
   ],
   "source": [
    "def most_weighted_word(labels):\n",
    "    # Convert document and labels into a regular expression form\n",
    "    labels = labels.str.lower()\n",
    "    \n",
    "    # TF-IDF Vectorization using the fit transform of all courses\n",
    "    vectorizer = TfidfVectorizer(stop_words='english', vocabulary=labels)\n",
    "    tfidf_matrix = vectorizer.fit_transform(courses_clean)\n",
    "    \n",
    "    # Sum up TF-IDF scores for each label across all documents\n",
    "    total_tfidf_scores = np.sum(tfidf_matrix, axis=0)\n",
    "    \n",
    "    # Get the most weighted label index\n",
    "    most_weighted_label_index = np.argmax(total_tfidf_scores)\n",
    "    \n",
    "    # Get the most weighted label\n",
    "    most_weighted_label = labels[most_weighted_label_index]\n",
    "    \n",
    "    return most_weighted_label\n",
    "\n",
    "def find_common_words(documents):\n",
    "    # Step 1: Tokenize the items\n",
    "    tokenized_items = [pd.Series(item.split()) for item in documents]\n",
    "\n",
    "    # Step 2: Create lists of words for each item\n",
    "    flattened_series = pd.concat(tokenized_items, ignore_index=True, names='word')\n",
    "    flattened_series = [ element for element in flattened_series if element.isnumeric() == False] # Remove number element\n",
    "    \n",
    "    # Step 3: Find common words\n",
    "    words_count = Counter(flattened_series)\n",
    "\n",
    "    # Step 4: Get the keys for dictionary's max values\n",
    "    max_words = [key for key, value in words_count.items() if value == max(words_count.values())]  \n",
    "    max_words = pd.Series(max_words)\n",
    "    \n",
    "    # Step 5: Take the most weighted word\n",
    "    if len(max_words) is 0:\n",
    "        return documents[0]\n",
    "    # result = most_weighted_word(max_words)\n",
    "    # \n",
    "    # return result"
   ],
   "metadata": {
    "collapsed": false,
    "ExecuteTime": {
     "end_time": "2023-12-21T11:17:29.783120300Z",
     "start_time": "2023-12-21T11:17:29.767004900Z"
    }
   },
   "id": "9857a9e91a2fd619"
  },
  {
   "cell_type": "code",
   "execution_count": 523,
   "outputs": [
    {
     "data": {
      "text/plain": "[None,\n None,\n None,\n None,\n None,\n None,\n None,\n None,\n None,\n None,\n None,\n None,\n None,\n None,\n None,\n None,\n None,\n None,\n None,\n None,\n None,\n None,\n None,\n None,\n None,\n None,\n None,\n None,\n None,\n '',\n None,\n None,\n None,\n '   2567  2',\n '   2567  3',\n '   2567  3',\n None,\n '',\n None,\n None,\n None,\n None,\n None,\n None,\n None,\n None,\n None,\n None,\n None,\n None,\n '  1',\n '  2',\n '',\n None,\n None,\n None,\n '  10',\n '  11',\n '  12',\n '  13',\n '  14',\n '  2',\n '  3',\n '  4',\n '  5',\n '  6',\n '  7',\n '  8',\n '  9',\n None,\n None,\n None,\n None,\n None,\n None,\n None,\n None,\n None,\n None,\n '',\n '',\n '',\n '  ',\n '',\n None,\n None,\n None,\n None,\n None,\n '',\n None,\n None,\n None,\n None,\n None,\n None,\n None,\n None,\n '',\n None,\n None,\n None,\n None,\n None,\n None,\n None,\n None,\n None,\n None,\n None,\n '',\n None,\n None,\n ' ',\n ' ',\n ' ',\n ' ',\n ' ',\n None,\n None,\n ' ',\n None,\n None,\n None,\n None,\n '  1',\n '  2',\n '  3',\n '  4',\n '  5',\n None,\n None,\n None,\n None,\n None,\n None,\n None,\n None,\n None,\n None,\n None,\n None,\n None,\n None,\n None,\n '   2565',\n None,\n None,\n '  2565  2',\n None,\n None,\n None,\n None,\n '  4',\n None,\n None,\n None,\n None,\n None,\n None,\n None,\n None,\n None,\n '',\n ' ',\n None,\n None,\n None]"
     },
     "execution_count": 523,
     "metadata": {},
     "output_type": "execute_result"
    }
   ],
   "source": [
    "# Append the course to their similar courses \n",
    "item_list = []\n",
    "for idx in range(number_of_courses):\n",
    "    # Assuming similar_items and courses are predefined lists\n",
    "    df = similar_items[idx]._append(pd.Series(courses[idx]))\n",
    "\n",
    "    # Reindex the DataFrame with consecutive integers starting from 1\n",
    "    df = df.reset_index(drop=True)\n",
    "    \n",
    "    # Rename the column properly\n",
    "    df = df.rename('similar courses')\n",
    "    \n",
    "    # Apply the clean title\n",
    "    df = df.apply(clean_title)\n",
    "    \n",
    "    # Find the most weighted word from similar courses\n",
    "    most_similar_courses = find_common_words(df)\n",
    "    \n",
    "    # Append the modified DataFrame to item_list\n",
    "    item_list.append(most_similar_courses)\n",
    "\n",
    "item_list\n",
    "# item_list = pd.Series(item_list, name='all similar courses')\n",
    "\n",
    "# # Find duplicated word(s) from similar courses\n",
    "# label = find_common_words(item_list)\n",
    "# \n",
    "# print(\"duplicated words across different items:\")\n",
    "# label"
   ],
   "metadata": {
    "collapsed": false,
    "ExecuteTime": {
     "end_time": "2023-12-21T11:17:31.078106600Z",
     "start_time": "2023-12-21T11:17:30.864075Z"
    }
   },
   "id": "ecd8ac0f64017b57"
  },
  {
   "cell_type": "markdown",
   "source": [
    "So far, I'm able to calculate the label in a selected course. The next step is to take a list of labels that are calculated from all the courses."
   ],
   "metadata": {
    "collapsed": false
   },
   "id": "5e0983689b5d4052"
  },
  {
   "cell_type": "markdown",
   "source": [
    "https://www.datacamp.com/tutorial/naive-bayes-scikit-learn\n",
    "https://chat.openai.com/share/a3144868-3e0d-4584-b443-b6c49efb9117"
   ],
   "metadata": {
    "collapsed": false
   },
   "id": "cb362f72bacbb424"
  }
 ],
 "metadata": {
  "kernelspec": {
   "display_name": "Python 3",
   "language": "python",
   "name": "python3"
  },
  "language_info": {
   "codemirror_mode": {
    "name": "ipython",
    "version": 2
   },
   "file_extension": ".py",
   "mimetype": "text/x-python",
   "name": "python",
   "nbconvert_exporter": "python",
   "pygments_lexer": "ipython2",
   "version": "2.7.6"
  }
 },
 "nbformat": 4,
 "nbformat_minor": 5
}
