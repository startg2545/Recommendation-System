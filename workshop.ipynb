{
 "cells": [
  {
   "cell_type": "code",
   "execution_count": 141,
   "id": "initial_id",
   "metadata": {
    "collapsed": true,
    "ExecuteTime": {
     "end_time": "2023-11-19T07:12:23.476923700Z",
     "start_time": "2023-11-19T07:12:23.327326300Z"
    }
   },
   "outputs": [],
   "source": [
    "from tfidf import get_cosine_similarity_recommendations"
   ]
  },
  {
   "cell_type": "code",
   "execution_count": 143,
   "outputs": [
    {
     "data": {
      "text/plain": "   index                                     recommendation  \\\n0    111  วัสดุวิศวกรรม (Engineering Materials) 2566 - ร...   \n1    113  หุ่นยนต์วิจักษณ์ (Robotics Appreciation) 2566 ...   \n2     48  นักวางแผนข้อมูลเมือง (City Data Planner : CDP)...   \n3    129  เตรียมความพร้อมด้านดิจิทัลและทักษะภาษาอังกฤษ ส...   \n4     52  การเตรียมความพร้อมในการคุ้มครองข้อมูลส่วนบุคคล...   \n5    108                                 รังสีวิทยาวินิจฉัย   \n6      0  หลักการและพื้นฐานของเครื่องมือทางรังสีวิทยา (B...   \n7      1  การวินิจฉัยภาวะฉุกเฉินจากอุบัติเหตุ (Diagnosti...   \n8      2  การวินิจฉัยภาวะฉุกเฉินที่ไม่ได้เกิดจากอุบัติเห...   \n9      3  การพัฒนาปัญญาด้วยเกมต่อศัพท์ภาษาอังกฤษ (Intell...   \n\n   cosine_similarity_score  \n0                 0.415857  \n1                 0.184917  \n2                 0.135525  \n3                 0.133195  \n4                 0.128937  \n5                 0.116179  \n6                 0.000000  \n7                 0.000000  \n8                 0.000000  \n9                 0.000000  ",
      "text/html": "<div>\n<style scoped>\n    .dataframe tbody tr th:only-of-type {\n        vertical-align: middle;\n    }\n\n    .dataframe tbody tr th {\n        vertical-align: top;\n    }\n\n    .dataframe thead th {\n        text-align: right;\n    }\n</style>\n<table border=\"1\" class=\"dataframe\">\n  <thead>\n    <tr style=\"text-align: right;\">\n      <th></th>\n      <th>index</th>\n      <th>recommendation</th>\n      <th>cosine_similarity_score</th>\n    </tr>\n  </thead>\n  <tbody>\n    <tr>\n      <th>0</th>\n      <td>111</td>\n      <td>วัสดุวิศวกรรม (Engineering Materials) 2566 - ร...</td>\n      <td>0.415857</td>\n    </tr>\n    <tr>\n      <th>1</th>\n      <td>113</td>\n      <td>หุ่นยนต์วิจักษณ์ (Robotics Appreciation) 2566 ...</td>\n      <td>0.184917</td>\n    </tr>\n    <tr>\n      <th>2</th>\n      <td>48</td>\n      <td>นักวางแผนข้อมูลเมือง (City Data Planner : CDP)...</td>\n      <td>0.135525</td>\n    </tr>\n    <tr>\n      <th>3</th>\n      <td>129</td>\n      <td>เตรียมความพร้อมด้านดิจิทัลและทักษะภาษาอังกฤษ ส...</td>\n      <td>0.133195</td>\n    </tr>\n    <tr>\n      <th>4</th>\n      <td>52</td>\n      <td>การเตรียมความพร้อมในการคุ้มครองข้อมูลส่วนบุคคล...</td>\n      <td>0.128937</td>\n    </tr>\n    <tr>\n      <th>5</th>\n      <td>108</td>\n      <td>รังสีวิทยาวินิจฉัย</td>\n      <td>0.116179</td>\n    </tr>\n    <tr>\n      <th>6</th>\n      <td>0</td>\n      <td>หลักการและพื้นฐานของเครื่องมือทางรังสีวิทยา (B...</td>\n      <td>0.000000</td>\n    </tr>\n    <tr>\n      <th>7</th>\n      <td>1</td>\n      <td>การวินิจฉัยภาวะฉุกเฉินจากอุบัติเหตุ (Diagnosti...</td>\n      <td>0.000000</td>\n    </tr>\n    <tr>\n      <th>8</th>\n      <td>2</td>\n      <td>การวินิจฉัยภาวะฉุกเฉินที่ไม่ได้เกิดจากอุบัติเห...</td>\n      <td>0.000000</td>\n    </tr>\n    <tr>\n      <th>9</th>\n      <td>3</td>\n      <td>การพัฒนาปัญญาด้วยเกมต่อศัพท์ภาษาอังกฤษ (Intell...</td>\n      <td>0.000000</td>\n    </tr>\n  </tbody>\n</table>\n</div>"
     },
     "execution_count": 143,
     "metadata": {},
     "output_type": "execute_result"
    }
   ],
   "source": [
    "recommendations = get_cosine_similarity_recommendations('หลักสูตรอบรมระยะสั้น',\n",
    "                                      'การวิเคราะห์ข้อมูลอัจฉริยะด้วย RapidMiner (Intelligence Data analysis with RapidMiner) รุ่นที่ 2',\n",
    "                                      10)\n",
    "recommendations.head(10)"
   ],
   "metadata": {
    "collapsed": false,
    "ExecuteTime": {
     "end_time": "2023-11-19T07:12:25.036916700Z",
     "start_time": "2023-11-19T07:12:24.893036600Z"
    }
   },
   "id": "47df1f975b5657b5"
  }
 ],
 "metadata": {
  "kernelspec": {
   "display_name": "Python 3",
   "language": "python",
   "name": "python3"
  },
  "language_info": {
   "codemirror_mode": {
    "name": "ipython",
    "version": 2
   },
   "file_extension": ".py",
   "mimetype": "text/x-python",
   "name": "python",
   "nbconvert_exporter": "python",
   "pygments_lexer": "ipython2",
   "version": "2.7.6"
  }
 },
 "nbformat": 4,
 "nbformat_minor": 5
}
