{
 "cells": [
  {
   "cell_type": "code",
   "execution_count": 39,
   "id": "initial_id",
   "metadata": {
    "collapsed": true,
    "ExecuteTime": {
     "end_time": "2023-11-30T16:56:27.273716500Z",
     "start_time": "2023-11-30T16:56:27.242746400Z"
    }
   },
   "outputs": [],
   "source": [
    "from knn import recommender_knn_all_courses\n",
    "from tfidf import recommender_tfidf_all_courses\n",
    "import importlib\n",
    "import pandas as pd"
   ]
  },
  {
   "cell_type": "code",
   "execution_count": 40,
   "outputs": [
    {
     "name": "stdout",
     "output_type": "stream",
     "text": [
      "Number of students who fill cmu email: 1268\n",
      "Number of students who fill other email: 4853\n",
      "Number of students who do not fill email: 6\n",
      "Number of students who do not specify education: 123\n",
      "Number of students who do not specify education: 4229\n",
      "Number of students who do not specify education: 1775\n",
      "Number of students who are in arrears: 531\n",
      "Number of students whose payment was not approved: 124\n",
      "Number of students with payment approval: 5472\n",
      "Number of students who did not fill address: 4005\n",
      "Number of students who filled address: 2122\n",
      "Selected movie: การวินิจฉัยภาวะฉุกเฉินจากอุบัติเหตุ (Diagnostic Radiology of Traumatic Emergency) Index: 42\n",
      "Searching for recommendations...\n",
      "Selected movie: การวินิจฉัยภาวะฉุกเฉินจากอุบัติเหตุ (Diagnostic Radiology of Traumatic Emergency) Index: 42\n",
      "Searching for recommendations...\n"
     ]
    },
    {
     "data": {
      "text/plain": "<module 'tfidf' from 'C:\\\\Users\\\\Jiro.DESKTOP-HOK2CVB\\\\Desktop\\\\Local Repository\\\\Project\\\\Recommender System\\\\tfidf.py'>"
     },
     "execution_count": 40,
     "metadata": {},
     "output_type": "execute_result"
    }
   ],
   "source": [
    "importlib.reload(knn)\n",
    "importlib.reload(tfidf)"
   ],
   "metadata": {
    "collapsed": false,
    "ExecuteTime": {
     "end_time": "2023-11-30T16:56:33.982690300Z",
     "start_time": "2023-11-30T16:56:30.051718100Z"
    }
   },
   "id": "e6d34137e10f56fb"
  },
  {
   "cell_type": "code",
   "execution_count": 32,
   "outputs": [
    {
     "data": {
      "text/plain": "                                                  Course  Score\nIndex                                                          \n0                     Cancer Epidemiology and Prevention    0.0\n1      Coaching Skill : Crafting a New You สำหรับนักศ...    0.0\n2      Coaching Skill : Crafting a New You สำหรับบุคล...    0.0\n3      Development Studies & Social Research Speciali...    0.0\n4                     Digital Transformation: e-Document    0.0\n...                                                  ...    ...\n163                             เวชศาสตร์ครอบครัวขั้นสูง    0.0\n164    เวชศาสตร์ฟื้นฟูสำหรับแพทย์ฝึกอบรมเวชศาสตร์ฟื้น...    0.0\n165    แปลงจุดแข็ง เป็นคุณค่า สร้างชีวิตสู่ความสุข  (...    0.0\n166    แปลงจุดแข็ง เป็นคุณค่า สร้างชีวิตสู่ความสุข (S...    0.0\n167    “ฟูมฟักทักษะสำคัญในชีวิตและการทำงาน Skills4Lif...    0.0\n\n[167 rows x 2 columns]",
      "text/html": "<div>\n<style scoped>\n    .dataframe tbody tr th:only-of-type {\n        vertical-align: middle;\n    }\n\n    .dataframe tbody tr th {\n        vertical-align: top;\n    }\n\n    .dataframe thead th {\n        text-align: right;\n    }\n</style>\n<table border=\"1\" class=\"dataframe\">\n  <thead>\n    <tr style=\"text-align: right;\">\n      <th></th>\n      <th>Course</th>\n      <th>Score</th>\n    </tr>\n    <tr>\n      <th>Index</th>\n      <th></th>\n      <th></th>\n    </tr>\n  </thead>\n  <tbody>\n    <tr>\n      <th>0</th>\n      <td>Cancer Epidemiology and Prevention</td>\n      <td>0.0</td>\n    </tr>\n    <tr>\n      <th>1</th>\n      <td>Coaching Skill : Crafting a New You สำหรับนักศ...</td>\n      <td>0.0</td>\n    </tr>\n    <tr>\n      <th>2</th>\n      <td>Coaching Skill : Crafting a New You สำหรับบุคล...</td>\n      <td>0.0</td>\n    </tr>\n    <tr>\n      <th>3</th>\n      <td>Development Studies &amp; Social Research Speciali...</td>\n      <td>0.0</td>\n    </tr>\n    <tr>\n      <th>4</th>\n      <td>Digital Transformation: e-Document</td>\n      <td>0.0</td>\n    </tr>\n    <tr>\n      <th>...</th>\n      <td>...</td>\n      <td>...</td>\n    </tr>\n    <tr>\n      <th>163</th>\n      <td>เวชศาสตร์ครอบครัวขั้นสูง</td>\n      <td>0.0</td>\n    </tr>\n    <tr>\n      <th>164</th>\n      <td>เวชศาสตร์ฟื้นฟูสำหรับแพทย์ฝึกอบรมเวชศาสตร์ฟื้น...</td>\n      <td>0.0</td>\n    </tr>\n    <tr>\n      <th>165</th>\n      <td>แปลงจุดแข็ง เป็นคุณค่า สร้างชีวิตสู่ความสุข  (...</td>\n      <td>0.0</td>\n    </tr>\n    <tr>\n      <th>166</th>\n      <td>แปลงจุดแข็ง เป็นคุณค่า สร้างชีวิตสู่ความสุข (S...</td>\n      <td>0.0</td>\n    </tr>\n    <tr>\n      <th>167</th>\n      <td>“ฟูมฟักทักษะสำคัญในชีวิตและการทำงาน Skills4Lif...</td>\n      <td>0.0</td>\n    </tr>\n  </tbody>\n</table>\n<p>167 rows × 2 columns</p>\n</div>"
     },
     "execution_count": 32,
     "metadata": {},
     "output_type": "execute_result"
    }
   ],
   "source": [
    "tfidf_output = recommender_tfidf_all_courses('การวินิจฉัยภาวะฉุกเฉินจากอุบัติเหตุ (Diagnostic Radiology of Traumatic Emergency)')\n",
    "tfidf_output"
   ],
   "metadata": {
    "collapsed": false,
    "ExecuteTime": {
     "end_time": "2023-11-30T16:53:19.024075400Z",
     "start_time": "2023-11-30T16:53:18.994908700Z"
    }
   },
   "id": "4dee939a523005dc"
  },
  {
   "cell_type": "code",
   "execution_count": 28,
   "outputs": [
    {
     "name": "stdout",
     "output_type": "stream",
     "text": [
      "Selected movie: การวินิจฉัยภาวะฉุกเฉินจากอุบัติเหตุ (Diagnostic Radiology of Traumatic Emergency) Index: 42\n",
      "Searching for recommendations...\n"
     ]
    },
    {
     "data": {
      "text/plain": "                                                Course     Score\n0                   Cancer Epidemiology and Prevention  0.000000\n1    Coaching Skill : Crafting a New You สำหรับนักศ...  0.000000\n2    Coaching Skill : Crafting a New You สำหรับบุคล...  0.000000\n3    Development Studies & Social Research Speciali...  0.017835\n4                   Digital Transformation: e-Document  0.000000\n..                                                 ...       ...\n163                           เวชศาสตร์ครอบครัวขั้นสูง  0.000000\n164  เวชศาสตร์ฟื้นฟูสำหรับแพทย์ฝึกอบรมเวชศาสตร์ฟื้น...  0.000000\n165  แปลงจุดแข็ง เป็นคุณค่า สร้างชีวิตสู่ความสุข  (...  0.000000\n166  แปลงจุดแข็ง เป็นคุณค่า สร้างชีวิตสู่ความสุข (S...  0.000000\n167  “ฟูมฟักทักษะสำคัญในชีวิตและการทำงาน Skills4Lif...  0.000000\n\n[167 rows x 2 columns]",
      "text/html": "<div>\n<style scoped>\n    .dataframe tbody tr th:only-of-type {\n        vertical-align: middle;\n    }\n\n    .dataframe tbody tr th {\n        vertical-align: top;\n    }\n\n    .dataframe thead th {\n        text-align: right;\n    }\n</style>\n<table border=\"1\" class=\"dataframe\">\n  <thead>\n    <tr style=\"text-align: right;\">\n      <th></th>\n      <th>Course</th>\n      <th>Score</th>\n    </tr>\n  </thead>\n  <tbody>\n    <tr>\n      <th>0</th>\n      <td>Cancer Epidemiology and Prevention</td>\n      <td>0.000000</td>\n    </tr>\n    <tr>\n      <th>1</th>\n      <td>Coaching Skill : Crafting a New You สำหรับนักศ...</td>\n      <td>0.000000</td>\n    </tr>\n    <tr>\n      <th>2</th>\n      <td>Coaching Skill : Crafting a New You สำหรับบุคล...</td>\n      <td>0.000000</td>\n    </tr>\n    <tr>\n      <th>3</th>\n      <td>Development Studies &amp; Social Research Speciali...</td>\n      <td>0.017835</td>\n    </tr>\n    <tr>\n      <th>4</th>\n      <td>Digital Transformation: e-Document</td>\n      <td>0.000000</td>\n    </tr>\n    <tr>\n      <th>...</th>\n      <td>...</td>\n      <td>...</td>\n    </tr>\n    <tr>\n      <th>163</th>\n      <td>เวชศาสตร์ครอบครัวขั้นสูง</td>\n      <td>0.000000</td>\n    </tr>\n    <tr>\n      <th>164</th>\n      <td>เวชศาสตร์ฟื้นฟูสำหรับแพทย์ฝึกอบรมเวชศาสตร์ฟื้น...</td>\n      <td>0.000000</td>\n    </tr>\n    <tr>\n      <th>165</th>\n      <td>แปลงจุดแข็ง เป็นคุณค่า สร้างชีวิตสู่ความสุข  (...</td>\n      <td>0.000000</td>\n    </tr>\n    <tr>\n      <th>166</th>\n      <td>แปลงจุดแข็ง เป็นคุณค่า สร้างชีวิตสู่ความสุข (S...</td>\n      <td>0.000000</td>\n    </tr>\n    <tr>\n      <th>167</th>\n      <td>“ฟูมฟักทักษะสำคัญในชีวิตและการทำงาน Skills4Lif...</td>\n      <td>0.000000</td>\n    </tr>\n  </tbody>\n</table>\n<p>167 rows × 2 columns</p>\n</div>"
     },
     "execution_count": 28,
     "metadata": {},
     "output_type": "execute_result"
    }
   ],
   "source": [
    "knn_output = recommender_knn_all_courses('การวินิจฉัยภาวะฉุกเฉินจากอุบัติเหตุ (Diagnostic Radiology of Traumatic Emergency)')\n",
    "knn_output"
   ],
   "metadata": {
    "collapsed": false,
    "ExecuteTime": {
     "end_time": "2023-11-30T16:53:02.106148900Z",
     "start_time": "2023-11-30T16:53:02.028741900Z"
    }
   },
   "id": "1e0930ffde518db6"
  },
  {
   "cell_type": "code",
   "execution_count": 45,
   "outputs": [
    {
     "data": {
      "text/plain": "Index\n43     0.726190\n131    0.320202\n152    0.215003\n110    0.114077\n124    0.034311\n         ...   \n59     0.000000\n60     0.000000\n61     0.000000\n62     0.000000\n167    0.000000\nName: Score, Length: 167, dtype: float64"
     },
     "execution_count": 45,
     "metadata": {},
     "output_type": "execute_result"
    }
   ],
   "source": [
    "hybrid_table = pd.Series(tfidf_output.loc[:, 'Score'] * 0.5 + knn_output.loc[:, 'Score'] * 0.5, name='Score')\n",
    "hybrid_table.sort_values(ascending=False)"
   ],
   "metadata": {
    "collapsed": false,
    "ExecuteTime": {
     "end_time": "2023-11-30T16:58:45.386646300Z",
     "start_time": "2023-11-30T16:58:45.372778400Z"
    }
   },
   "id": "250e729e6b9e64c2"
  }
 ],
 "metadata": {
  "kernelspec": {
   "display_name": "Python 3",
   "language": "python",
   "name": "python3"
  },
  "language_info": {
   "codemirror_mode": {
    "name": "ipython",
    "version": 2
   },
   "file_extension": ".py",
   "mimetype": "text/x-python",
   "name": "python",
   "nbconvert_exporter": "python",
   "pygments_lexer": "ipython2",
   "version": "2.7.6"
  }
 },
 "nbformat": 4,
 "nbformat_minor": 5
}
