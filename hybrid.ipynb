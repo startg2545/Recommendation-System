{
 "cells": [
  {
   "cell_type": "code",
   "execution_count": 9,
   "id": "initial_id",
   "metadata": {
    "ExecuteTime": {
     "end_time": "2023-12-02T18:27:31.109473500Z",
     "start_time": "2023-12-02T18:27:31.077665100Z"
    },
    "collapsed": true
   },
   "outputs": [],
   "source": [
    "from knn import recommender_knn_all_courses\n",
    "from tfidf import recommender_tfidf_all_courses\n",
    "import importlib\n",
    "import pandas as pd\n",
    "from fuzzywuzzy import process"
   ]
  },
  {
   "cell_type": "markdown",
   "id": "d6b63757422dea3",
   "metadata": {
    "collapsed": false
   },
   "source": [
    "Take list of courses"
   ]
  },
  {
   "cell_type": "code",
   "execution_count": 10,
   "id": "fe9cc80a12641c06",
   "metadata": {
    "ExecuteTime": {
     "end_time": "2023-12-02T18:27:32.179411400Z",
     "start_time": "2023-12-02T18:27:31.081952200Z"
    },
    "collapsed": false
   },
   "outputs": [
    {
     "data": {
      "text/plain": [
       "0                     Cancer Epidemiology and Prevention\n",
       "1      Coaching Skill : Crafting a New You สำหรับนักศ...\n",
       "2      Coaching Skill : Crafting a New You สำหรับบุคล...\n",
       "3      Development Studies & Social Research Speciali...\n",
       "4                     Digital Transformation: e-Document\n",
       "                             ...                        \n",
       "163                             เวชศาสตร์ครอบครัวขั้นสูง\n",
       "164    เวชศาสตร์ฟื้นฟูสำหรับแพทย์ฝึกอบรมเวชศาสตร์ฟื้น...\n",
       "165    แปลงจุดแข็ง เป็นคุณค่า สร้างชีวิตสู่ความสุข  (...\n",
       "166    แปลงจุดแข็ง เป็นคุณค่า สร้างชีวิตสู่ความสุข (S...\n",
       "167    “ฟูมฟักทักษะสำคัญในชีวิตและการทำงาน Skills4Lif...\n",
       "Name: หลักสูตรอบรมระยะสั้น, Length: 168, dtype: object"
      ]
     },
     "execution_count": 10,
     "metadata": {},
     "output_type": "execute_result"
    }
   ],
   "source": [
    "file = pd.read_excel('shortcourses2566.xlsx')\n",
    "courses = pd.DataFrame(file)['หลักสูตรอบรมระยะสั้น'].drop_duplicates()\n",
    "courses = courses.sort_values().set_axis(range(0,len(courses)))\n",
    "courses"
   ]
  },
  {
   "cell_type": "markdown",
   "id": "e82f3a59159dd172",
   "metadata": {
    "collapsed": false
   },
   "source": [
    "Take output of TF-IDF recommender"
   ]
  },
  {
   "cell_type": "code",
   "execution_count": 11,
   "id": "4dee939a523005dc",
   "metadata": {
    "ExecuteTime": {
     "end_time": "2023-12-02T18:27:32.187255800Z",
     "start_time": "2023-12-02T18:27:32.171865500Z"
    },
    "collapsed": false
   },
   "outputs": [
    {
     "data": {
      "text/html": [
       "<div>\n",
       "<style scoped>\n",
       "    .dataframe tbody tr th:only-of-type {\n",
       "        vertical-align: middle;\n",
       "    }\n",
       "\n",
       "    .dataframe tbody tr th {\n",
       "        vertical-align: top;\n",
       "    }\n",
       "\n",
       "    .dataframe thead th {\n",
       "        text-align: right;\n",
       "    }\n",
       "</style>\n",
       "<table border=\"1\" class=\"dataframe\">\n",
       "  <thead>\n",
       "    <tr style=\"text-align: right;\">\n",
       "      <th></th>\n",
       "      <th>Course</th>\n",
       "      <th>Score</th>\n",
       "    </tr>\n",
       "    <tr>\n",
       "      <th>Index</th>\n",
       "      <th></th>\n",
       "      <th></th>\n",
       "    </tr>\n",
       "  </thead>\n",
       "  <tbody>\n",
       "    <tr>\n",
       "      <th>0</th>\n",
       "      <td>Cancer Epidemiology and Prevention</td>\n",
       "      <td>0.0</td>\n",
       "    </tr>\n",
       "    <tr>\n",
       "      <th>1</th>\n",
       "      <td>Coaching Skill : Crafting a New You สำหรับนักศ...</td>\n",
       "      <td>0.0</td>\n",
       "    </tr>\n",
       "    <tr>\n",
       "      <th>2</th>\n",
       "      <td>Coaching Skill : Crafting a New You สำหรับบุคล...</td>\n",
       "      <td>0.0</td>\n",
       "    </tr>\n",
       "    <tr>\n",
       "      <th>3</th>\n",
       "      <td>Development Studies &amp; Social Research Speciali...</td>\n",
       "      <td>0.0</td>\n",
       "    </tr>\n",
       "    <tr>\n",
       "      <th>4</th>\n",
       "      <td>Digital Transformation: e-Document</td>\n",
       "      <td>0.0</td>\n",
       "    </tr>\n",
       "    <tr>\n",
       "      <th>...</th>\n",
       "      <td>...</td>\n",
       "      <td>...</td>\n",
       "    </tr>\n",
       "    <tr>\n",
       "      <th>163</th>\n",
       "      <td>เวชศาสตร์ครอบครัวขั้นสูง</td>\n",
       "      <td>0.0</td>\n",
       "    </tr>\n",
       "    <tr>\n",
       "      <th>164</th>\n",
       "      <td>เวชศาสตร์ฟื้นฟูสำหรับแพทย์ฝึกอบรมเวชศาสตร์ฟื้น...</td>\n",
       "      <td>0.0</td>\n",
       "    </tr>\n",
       "    <tr>\n",
       "      <th>165</th>\n",
       "      <td>แปลงจุดแข็ง เป็นคุณค่า สร้างชีวิตสู่ความสุข  (...</td>\n",
       "      <td>0.0</td>\n",
       "    </tr>\n",
       "    <tr>\n",
       "      <th>166</th>\n",
       "      <td>แปลงจุดแข็ง เป็นคุณค่า สร้างชีวิตสู่ความสุข (S...</td>\n",
       "      <td>0.0</td>\n",
       "    </tr>\n",
       "    <tr>\n",
       "      <th>167</th>\n",
       "      <td>“ฟูมฟักทักษะสำคัญในชีวิตและการทำงาน Skills4Lif...</td>\n",
       "      <td>0.0</td>\n",
       "    </tr>\n",
       "  </tbody>\n",
       "</table>\n",
       "<p>167 rows × 2 columns</p>\n",
       "</div>"
      ],
      "text/plain": [
       "                                                  Course  Score\n",
       "Index                                                          \n",
       "0                     Cancer Epidemiology and Prevention    0.0\n",
       "1      Coaching Skill : Crafting a New You สำหรับนักศ...    0.0\n",
       "2      Coaching Skill : Crafting a New You สำหรับบุคล...    0.0\n",
       "3      Development Studies & Social Research Speciali...    0.0\n",
       "4                     Digital Transformation: e-Document    0.0\n",
       "...                                                  ...    ...\n",
       "163                             เวชศาสตร์ครอบครัวขั้นสูง    0.0\n",
       "164    เวชศาสตร์ฟื้นฟูสำหรับแพทย์ฝึกอบรมเวชศาสตร์ฟื้น...    0.0\n",
       "165    แปลงจุดแข็ง เป็นคุณค่า สร้างชีวิตสู่ความสุข  (...    0.0\n",
       "166    แปลงจุดแข็ง เป็นคุณค่า สร้างชีวิตสู่ความสุข (S...    0.0\n",
       "167    “ฟูมฟักทักษะสำคัญในชีวิตและการทำงาน Skills4Lif...    0.0\n",
       "\n",
       "[167 rows x 2 columns]"
      ]
     },
     "execution_count": 11,
     "metadata": {},
     "output_type": "execute_result"
    }
   ],
   "source": [
    "tfidf_output = recommender_tfidf_all_courses('การวินิจฉัยภาวะฉุกเฉินจากอุบัติเหตุ (Diagnostic Radiology of Traumatic Emergency)')\n",
    "tfidf_output"
   ]
  },
  {
   "cell_type": "markdown",
   "id": "5f13ee7d0ec9cf4b",
   "metadata": {
    "collapsed": false
   },
   "source": [
    "Take output of KNN recommender"
   ]
  },
  {
   "cell_type": "code",
   "execution_count": 12,
   "id": "1e0930ffde518db6",
   "metadata": {
    "ExecuteTime": {
     "end_time": "2023-12-02T18:27:32.293662Z",
     "start_time": "2023-12-02T18:27:32.187255800Z"
    },
    "collapsed": false
   },
   "outputs": [
    {
     "name": "stdout",
     "output_type": "stream",
     "text": [
      "Selected movie: การวินิจฉัยภาวะฉุกเฉินจากอุบัติเหตุ (Diagnostic Radiology of Traumatic Emergency) Index: 42\n",
      "Searching for recommendations...\n"
     ]
    },
    {
     "data": {
      "text/html": [
       "<div>\n",
       "<style scoped>\n",
       "    .dataframe tbody tr th:only-of-type {\n",
       "        vertical-align: middle;\n",
       "    }\n",
       "\n",
       "    .dataframe tbody tr th {\n",
       "        vertical-align: top;\n",
       "    }\n",
       "\n",
       "    .dataframe thead th {\n",
       "        text-align: right;\n",
       "    }\n",
       "</style>\n",
       "<table border=\"1\" class=\"dataframe\">\n",
       "  <thead>\n",
       "    <tr style=\"text-align: right;\">\n",
       "      <th></th>\n",
       "      <th>Course</th>\n",
       "      <th>Score</th>\n",
       "    </tr>\n",
       "    <tr>\n",
       "      <th>Index</th>\n",
       "      <th></th>\n",
       "      <th></th>\n",
       "    </tr>\n",
       "  </thead>\n",
       "  <tbody>\n",
       "    <tr>\n",
       "      <th>0</th>\n",
       "      <td>Cancer Epidemiology and Prevention</td>\n",
       "      <td>0.000000</td>\n",
       "    </tr>\n",
       "    <tr>\n",
       "      <th>1</th>\n",
       "      <td>Coaching Skill : Crafting a New You สำหรับนักศ...</td>\n",
       "      <td>0.000000</td>\n",
       "    </tr>\n",
       "    <tr>\n",
       "      <th>2</th>\n",
       "      <td>Coaching Skill : Crafting a New You สำหรับบุคล...</td>\n",
       "      <td>0.000000</td>\n",
       "    </tr>\n",
       "    <tr>\n",
       "      <th>3</th>\n",
       "      <td>Development Studies &amp; Social Research Speciali...</td>\n",
       "      <td>0.017835</td>\n",
       "    </tr>\n",
       "    <tr>\n",
       "      <th>4</th>\n",
       "      <td>Digital Transformation: e-Document</td>\n",
       "      <td>0.000000</td>\n",
       "    </tr>\n",
       "    <tr>\n",
       "      <th>...</th>\n",
       "      <td>...</td>\n",
       "      <td>...</td>\n",
       "    </tr>\n",
       "    <tr>\n",
       "      <th>163</th>\n",
       "      <td>เวชศาสตร์ครอบครัวขั้นสูง</td>\n",
       "      <td>0.000000</td>\n",
       "    </tr>\n",
       "    <tr>\n",
       "      <th>164</th>\n",
       "      <td>เวชศาสตร์ฟื้นฟูสำหรับแพทย์ฝึกอบรมเวชศาสตร์ฟื้น...</td>\n",
       "      <td>0.000000</td>\n",
       "    </tr>\n",
       "    <tr>\n",
       "      <th>165</th>\n",
       "      <td>แปลงจุดแข็ง เป็นคุณค่า สร้างชีวิตสู่ความสุข  (...</td>\n",
       "      <td>0.000000</td>\n",
       "    </tr>\n",
       "    <tr>\n",
       "      <th>166</th>\n",
       "      <td>แปลงจุดแข็ง เป็นคุณค่า สร้างชีวิตสู่ความสุข (S...</td>\n",
       "      <td>0.000000</td>\n",
       "    </tr>\n",
       "    <tr>\n",
       "      <th>167</th>\n",
       "      <td>“ฟูมฟักทักษะสำคัญในชีวิตและการทำงาน Skills4Lif...</td>\n",
       "      <td>0.000000</td>\n",
       "    </tr>\n",
       "  </tbody>\n",
       "</table>\n",
       "<p>167 rows × 2 columns</p>\n",
       "</div>"
      ],
      "text/plain": [
       "                                                  Course     Score\n",
       "Index                                                             \n",
       "0                     Cancer Epidemiology and Prevention  0.000000\n",
       "1      Coaching Skill : Crafting a New You สำหรับนักศ...  0.000000\n",
       "2      Coaching Skill : Crafting a New You สำหรับบุคล...  0.000000\n",
       "3      Development Studies & Social Research Speciali...  0.017835\n",
       "4                     Digital Transformation: e-Document  0.000000\n",
       "...                                                  ...       ...\n",
       "163                             เวชศาสตร์ครอบครัวขั้นสูง  0.000000\n",
       "164    เวชศาสตร์ฟื้นฟูสำหรับแพทย์ฝึกอบรมเวชศาสตร์ฟื้น...  0.000000\n",
       "165    แปลงจุดแข็ง เป็นคุณค่า สร้างชีวิตสู่ความสุข  (...  0.000000\n",
       "166    แปลงจุดแข็ง เป็นคุณค่า สร้างชีวิตสู่ความสุข (S...  0.000000\n",
       "167    “ฟูมฟักทักษะสำคัญในชีวิตและการทำงาน Skills4Lif...  0.000000\n",
       "\n",
       "[167 rows x 2 columns]"
      ]
     },
     "execution_count": 12,
     "metadata": {},
     "output_type": "execute_result"
    }
   ],
   "source": [
    "knn_output = recommender_knn_all_courses('การวินิจฉัยภาวะฉุกเฉินจากอุบัติเหตุ (Diagnostic Radiology of Traumatic Emergency)')\n",
    "knn_output"
   ]
  },
  {
   "cell_type": "markdown",
   "id": "8816789ee9abe68",
   "metadata": {
    "collapsed": false
   },
   "source": [
    "Hybrid Recommender System"
   ]
  },
  {
   "cell_type": "code",
   "execution_count": 13,
   "id": "4d5c699afe57bfd9",
   "metadata": {
    "ExecuteTime": {
     "end_time": "2023-12-02T18:27:32.293662Z",
     "start_time": "2023-12-02T18:27:32.233723100Z"
    },
    "collapsed": false
   },
   "outputs": [],
   "source": [
    "def recommender_hybrid_all_courses(course_name):\n",
    "    idx = process.extractOne(course_name, courses)[2]\n",
    "    remain_courses = courses.drop(idx)\n",
    "    knn_score = recommender_knn_all_courses(course_name).loc[:, 'Score']\n",
    "    tfidf_score = recommender_tfidf_all_courses(course_name).loc[:, 'Score']\n",
    "    hybrid_score = knn_score * 0.5 + tfidf_score * 0.5\n",
    "    df = {\n",
    "        'Course': remain_courses,\n",
    "        'Score': hybrid_score,\n",
    "    }\n",
    "    hybrid_output = pd.DataFrame(data=df)\n",
    "    return hybrid_output"
   ]
  },
  {
   "cell_type": "code",
   "execution_count": 14,
   "id": "41071bb83a108af4",
   "metadata": {
    "ExecuteTime": {
     "end_time": "2023-12-02T18:27:32.340991300Z",
     "start_time": "2023-12-02T18:27:32.262400Z"
    },
    "collapsed": false
   },
   "outputs": [
    {
     "name": "stdout",
     "output_type": "stream",
     "text": [
      "Selected movie: การวินิจฉัยภาวะฉุกเฉินจากอุบัติเหตุ (Diagnostic Radiology of Traumatic Emergency) Index: 42\n",
      "Searching for recommendations...\n"
     ]
    },
    {
     "data": {
      "text/html": [
       "<div>\n",
       "<style scoped>\n",
       "    .dataframe tbody tr th:only-of-type {\n",
       "        vertical-align: middle;\n",
       "    }\n",
       "\n",
       "    .dataframe tbody tr th {\n",
       "        vertical-align: top;\n",
       "    }\n",
       "\n",
       "    .dataframe thead th {\n",
       "        text-align: right;\n",
       "    }\n",
       "</style>\n",
       "<table border=\"1\" class=\"dataframe\">\n",
       "  <thead>\n",
       "    <tr style=\"text-align: right;\">\n",
       "      <th></th>\n",
       "      <th>Course</th>\n",
       "      <th>Score</th>\n",
       "    </tr>\n",
       "  </thead>\n",
       "  <tbody>\n",
       "    <tr>\n",
       "      <th>0</th>\n",
       "      <td>Cancer Epidemiology and Prevention</td>\n",
       "      <td>0.000000</td>\n",
       "    </tr>\n",
       "    <tr>\n",
       "      <th>1</th>\n",
       "      <td>Coaching Skill : Crafting a New You สำหรับนักศ...</td>\n",
       "      <td>0.000000</td>\n",
       "    </tr>\n",
       "    <tr>\n",
       "      <th>2</th>\n",
       "      <td>Coaching Skill : Crafting a New You สำหรับบุคล...</td>\n",
       "      <td>0.000000</td>\n",
       "    </tr>\n",
       "    <tr>\n",
       "      <th>3</th>\n",
       "      <td>Development Studies &amp; Social Research Speciali...</td>\n",
       "      <td>0.008917</td>\n",
       "    </tr>\n",
       "    <tr>\n",
       "      <th>4</th>\n",
       "      <td>Digital Transformation: e-Document</td>\n",
       "      <td>0.000000</td>\n",
       "    </tr>\n",
       "    <tr>\n",
       "      <th>...</th>\n",
       "      <td>...</td>\n",
       "      <td>...</td>\n",
       "    </tr>\n",
       "    <tr>\n",
       "      <th>163</th>\n",
       "      <td>เวชศาสตร์ครอบครัวขั้นสูง</td>\n",
       "      <td>0.000000</td>\n",
       "    </tr>\n",
       "    <tr>\n",
       "      <th>164</th>\n",
       "      <td>เวชศาสตร์ฟื้นฟูสำหรับแพทย์ฝึกอบรมเวชศาสตร์ฟื้น...</td>\n",
       "      <td>0.000000</td>\n",
       "    </tr>\n",
       "    <tr>\n",
       "      <th>165</th>\n",
       "      <td>แปลงจุดแข็ง เป็นคุณค่า สร้างชีวิตสู่ความสุข  (...</td>\n",
       "      <td>0.000000</td>\n",
       "    </tr>\n",
       "    <tr>\n",
       "      <th>166</th>\n",
       "      <td>แปลงจุดแข็ง เป็นคุณค่า สร้างชีวิตสู่ความสุข (S...</td>\n",
       "      <td>0.000000</td>\n",
       "    </tr>\n",
       "    <tr>\n",
       "      <th>167</th>\n",
       "      <td>“ฟูมฟักทักษะสำคัญในชีวิตและการทำงาน Skills4Lif...</td>\n",
       "      <td>0.000000</td>\n",
       "    </tr>\n",
       "  </tbody>\n",
       "</table>\n",
       "<p>167 rows × 2 columns</p>\n",
       "</div>"
      ],
      "text/plain": [
       "                                                Course     Score\n",
       "0                   Cancer Epidemiology and Prevention  0.000000\n",
       "1    Coaching Skill : Crafting a New You สำหรับนักศ...  0.000000\n",
       "2    Coaching Skill : Crafting a New You สำหรับบุคล...  0.000000\n",
       "3    Development Studies & Social Research Speciali...  0.008917\n",
       "4                   Digital Transformation: e-Document  0.000000\n",
       "..                                                 ...       ...\n",
       "163                           เวชศาสตร์ครอบครัวขั้นสูง  0.000000\n",
       "164  เวชศาสตร์ฟื้นฟูสำหรับแพทย์ฝึกอบรมเวชศาสตร์ฟื้น...  0.000000\n",
       "165  แปลงจุดแข็ง เป็นคุณค่า สร้างชีวิตสู่ความสุข  (...  0.000000\n",
       "166  แปลงจุดแข็ง เป็นคุณค่า สร้างชีวิตสู่ความสุข (S...  0.000000\n",
       "167  “ฟูมฟักทักษะสำคัญในชีวิตและการทำงาน Skills4Lif...  0.000000\n",
       "\n",
       "[167 rows x 2 columns]"
      ]
     },
     "execution_count": 14,
     "metadata": {},
     "output_type": "execute_result"
    }
   ],
   "source": [
    "recommender_hybrid_all_courses('การวินิจฉัยภาวะฉุกเฉินจากอุบัติเหตุ (Diagnostic Radiology of Traumatic Emergency)')"
   ]
  },
  {
   "cell_type": "code",
   "execution_count": 17,
   "id": "85ffcfb2d2f1e7e7",
   "metadata": {
    "ExecuteTime": {
     "end_time": "2023-12-02T18:27:46.960787400Z",
     "start_time": "2023-12-02T18:27:46.955243800Z"
    },
    "collapsed": false
   },
   "outputs": [],
   "source": [
    "def recommender_hybrid_by_user(user_name, n_recommendations):\n",
    "    df = {\n",
    "        'User': pd.Series(file['ชื่อ-นามสกุล (อังกฤษ)']),\n",
    "        'Course': pd.Series(file['หลักสูตรอบรมระยะสั้น'])\n",
    "    }\n",
    "\n",
    "    user_course = pd.DataFrame(df)\n",
    "    selected_user_name = user_course.loc[user_course['User'] == user_name]\n",
    "    selected_courses = selected_user_name['Course']\n",
    "\n",
    "    recommended_courses = [ recommender_hybrid_all_courses(x) for x in selected_courses]\n",
    "\n",
    "    # pre dataframe\n",
    "    df = pd.DataFrame({\n",
    "        'Course': [],\n",
    "        'Score': []\n",
    "    }).rename_axis('Index')\n",
    "\n",
    "    for x in recommended_courses:\n",
    "        df = df._append(x)\n",
    "    df =  df.sort_values('Score', ascending=False).drop_duplicates('Course')\n",
    "    return df.head(n_recommendations)"
   ]
  },
  {
   "cell_type": "code",
   "execution_count": 16,
   "id": "7e7fd7ce4e123839",
   "metadata": {
    "ExecuteTime": {
     "end_time": "2023-12-02T18:27:41.664377900Z",
     "start_time": "2023-12-02T18:27:41.461828400Z"
    },
    "collapsed": false
   },
   "outputs": [
    {
     "name": "stdout",
     "output_type": "stream",
     "text": [
      "Selected movie: หลักการและพื้นฐานของเครื่องมือทางรังสีวิทยา (Basic Principle of Diagnostic Radiology Imaging Instruments) Index: 131\n",
      "Searching for recommendations...\n",
      "Selected movie: การวินิจฉัยภาวะฉุกเฉินที่ไม่ได้เกิดจากอุบัติเหตุ (Diagnostic Radiology of Non-Traumatic Emergency) Index: 43\n",
      "Searching for recommendations...\n",
      "Selected movie: การวินิจฉัยภาวะฉุกเฉินจากอุบัติเหตุ (Diagnostic Radiology of Traumatic Emergency) Index: 42\n",
      "Searching for recommendations...\n"
     ]
    },
    {
     "data": {
      "text/html": [
       "<div>\n",
       "<style scoped>\n",
       "    .dataframe tbody tr th:only-of-type {\n",
       "        vertical-align: middle;\n",
       "    }\n",
       "\n",
       "    .dataframe tbody tr th {\n",
       "        vertical-align: top;\n",
       "    }\n",
       "\n",
       "    .dataframe thead th {\n",
       "        text-align: right;\n",
       "    }\n",
       "</style>\n",
       "<table border=\"1\" class=\"dataframe\">\n",
       "  <thead>\n",
       "    <tr style=\"text-align: right;\">\n",
       "      <th></th>\n",
       "      <th>Course</th>\n",
       "      <th>Score</th>\n",
       "    </tr>\n",
       "  </thead>\n",
       "  <tbody>\n",
       "    <tr>\n",
       "      <th>43</th>\n",
       "      <td>การวินิจฉัยภาวะฉุกเฉินที่ไม่ได้เกิดจากอุบัติเห...</td>\n",
       "      <td>0.726190</td>\n",
       "    </tr>\n",
       "    <tr>\n",
       "      <th>42</th>\n",
       "      <td>การวินิจฉัยภาวะฉุกเฉินจากอุบัติเหตุ (Diagnosti...</td>\n",
       "      <td>0.726190</td>\n",
       "    </tr>\n",
       "    <tr>\n",
       "      <th>131</th>\n",
       "      <td>หลักการและพื้นฐานของเครื่องมือทางรังสีวิทยา (B...</td>\n",
       "      <td>0.320202</td>\n",
       "    </tr>\n",
       "    <tr>\n",
       "      <th>152</th>\n",
       "      <td>เตรียมความพร้อมทางรังสีวิทยาสำหรับบุคลากรทางกา...</td>\n",
       "      <td>0.265576</td>\n",
       "    </tr>\n",
       "    <tr>\n",
       "      <th>110</th>\n",
       "      <td>รังสีวิทยาวินิจฉัย</td>\n",
       "      <td>0.129466</td>\n",
       "    </tr>\n",
       "    <tr>\n",
       "      <th>140</th>\n",
       "      <td>หลักเศรษฐศาสตร์สาธารณสุข (Principle of Health ...</td>\n",
       "      <td>0.110981</td>\n",
       "    </tr>\n",
       "    <tr>\n",
       "      <th>133</th>\n",
       "      <td>หลักสูตรย่อยที่ 1 พื้นฐานการดูแลสุขภาพสัตว์เลี...</td>\n",
       "      <td>0.104536</td>\n",
       "    </tr>\n",
       "    <tr>\n",
       "      <th>130</th>\n",
       "      <td>หลักการบริหารงานสาธารณสุข (Principle of Public...</td>\n",
       "      <td>0.096543</td>\n",
       "    </tr>\n",
       "    <tr>\n",
       "      <th>32</th>\n",
       "      <td>การตรวจวิเคราะห์พื้นฐานทางพิษวิทยาและการตรวจวิ...</td>\n",
       "      <td>0.090358</td>\n",
       "    </tr>\n",
       "    <tr>\n",
       "      <th>154</th>\n",
       "      <td>เทคโนโลยีก๊าซชีวภาพ : หลักการการออกแบบ และการใ...</td>\n",
       "      <td>0.078547</td>\n",
       "    </tr>\n",
       "  </tbody>\n",
       "</table>\n",
       "</div>"
      ],
      "text/plain": [
       "                                                Course     Score\n",
       "43   การวินิจฉัยภาวะฉุกเฉินที่ไม่ได้เกิดจากอุบัติเห...  0.726190\n",
       "42   การวินิจฉัยภาวะฉุกเฉินจากอุบัติเหตุ (Diagnosti...  0.726190\n",
       "131  หลักการและพื้นฐานของเครื่องมือทางรังสีวิทยา (B...  0.320202\n",
       "152  เตรียมความพร้อมทางรังสีวิทยาสำหรับบุคลากรทางกา...  0.265576\n",
       "110                                 รังสีวิทยาวินิจฉัย  0.129466\n",
       "140  หลักเศรษฐศาสตร์สาธารณสุข (Principle of Health ...  0.110981\n",
       "133  หลักสูตรย่อยที่ 1 พื้นฐานการดูแลสุขภาพสัตว์เลี...  0.104536\n",
       "130  หลักการบริหารงานสาธารณสุข (Principle of Public...  0.096543\n",
       "32   การตรวจวิเคราะห์พื้นฐานทางพิษวิทยาและการตรวจวิ...  0.090358\n",
       "154  เทคโนโลยีก๊าซชีวภาพ : หลักการการออกแบบ และการใ...  0.078547"
      ]
     },
     "execution_count": 16,
     "metadata": {},
     "output_type": "execute_result"
    }
   ],
   "source": [
    "recommender_hybrid_by_user('PORPHAING JANTIP', 10)"
   ]
  }
 ],
 "metadata": {
  "kernelspec": {
   "display_name": "Python 3",
   "language": "python",
   "name": "python3"
  },
  "language_info": {
   "codemirror_mode": {
    "name": "ipython",
    "version": 2
   },
   "file_extension": ".py",
   "mimetype": "text/x-python",
   "name": "python",
   "nbconvert_exporter": "python",
   "pygments_lexer": "ipython2",
   "version": "3.12.0"
  }
 },
 "nbformat": 4,
 "nbformat_minor": 5
}
