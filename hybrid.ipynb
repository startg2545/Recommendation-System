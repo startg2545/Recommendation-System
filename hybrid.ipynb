{
 "cells": [
  {
   "cell_type": "markdown",
   "id": "ab6c4e4bacf216d9",
   "metadata": {
    "jupyter": {
     "outputs_hidden": false
    }
   },
   "source": [
    "Import required packages"
   ]
  },
  {
   "cell_type": "code",
   "execution_count": 1,
   "id": "c62dc7f1ed89ae7",
   "metadata": {
    "ExecuteTime": {
     "end_time": "2023-12-18T18:39:49.685745600Z",
     "start_time": "2023-12-18T18:39:47.031153200Z"
    },
    "jupyter": {
     "outputs_hidden": false
    },
    "scrolled": true
   },
   "outputs": [
    {
     "name": "stderr",
     "output_type": "stream",
     "text": [
      "/workspaces/recommendation-system/.conda/lib/python3.12/site-packages/fuzzywuzzy/fuzz.py:11: UserWarning: Using slow pure-python SequenceMatcher. Install python-Levenshtein to remove this warning\n",
      "  warnings.warn('Using slow pure-python SequenceMatcher. Install python-Levenshtein to remove this warning')\n"
     ]
    }
   ],
   "source": [
    "import pandas as pd\n",
    "import numpy as np\n",
    "import matplotlib.pyplot as plt\n",
    "from sklearn.metrics.pairwise import linear_kernel\n",
    "from copy import deepcopy\n",
    "from scipy.spatial.distance import pdist, squareform\n",
    "from scipy.sparse import csr_matrix\n",
    "from sklearn.neighbors import NearestNeighbors\n",
    "from fuzzywuzzy import process\n",
    "from sklearn.metrics import mean_squared_error, mean_absolute_error\n",
    "import pickle"
   ]
  },
  {
   "cell_type": "markdown",
   "id": "242b11ab91b6317c",
   "metadata": {
    "jupyter": {
     "outputs_hidden": false
    }
   },
   "source": [
    "Read the file"
   ]
  },
  {
   "cell_type": "code",
   "execution_count": 2,
   "id": "bd28f4af2e948d19",
   "metadata": {
    "ExecuteTime": {
     "end_time": "2023-12-18T18:39:51.444179100Z",
     "start_time": "2023-12-18T18:39:49.685745600Z"
    },
    "jupyter": {
     "outputs_hidden": false
    }
   },
   "outputs": [],
   "source": [
    "file = pd.read_excel('shortcourses2566.xlsx')"
   ]
  },
  {
   "cell_type": "markdown",
   "id": "818fa3df70292be8",
   "metadata": {
    "jupyter": {
     "outputs_hidden": false
    }
   },
   "source": [
    "Count the number of courses"
   ]
  },
  {
   "cell_type": "code",
   "execution_count": 3,
   "id": "31e9dd8b82ea460",
   "metadata": {
    "ExecuteTime": {
     "end_time": "2023-12-18T18:39:51.458187600Z",
     "start_time": "2023-12-18T18:39:51.452079500Z"
    },
    "jupyter": {
     "outputs_hidden": false
    }
   },
   "outputs": [],
   "source": [
    "course_counts = pd.DataFrame(file)['หลักสูตรอบรมระยะสั้น'].value_counts()\n",
    "courses = pd.Series(course_counts.index)\n",
    "courses = courses.sort_values().set_axis(range(0,len(courses)))\n",
    "number_of_courses = len(course_counts)"
   ]
  },
  {
   "cell_type": "markdown",
   "id": "660047dea5f5e30f",
   "metadata": {
    "jupyter": {
     "outputs_hidden": false
    }
   },
   "source": [
    "Create Series of users"
   ]
  },
  {
   "cell_type": "code",
   "execution_count": 4,
   "id": "4a15f7567347c8ad",
   "metadata": {
    "ExecuteTime": {
     "end_time": "2023-12-18T18:39:51.499231600Z",
     "start_time": "2023-12-18T18:39:51.457342900Z"
    },
    "jupyter": {
     "outputs_hidden": false
    }
   },
   "outputs": [
    {
     "data": {
      "text/plain": [
       "0             PORPHAING JANTIP\n",
       "1         THANAKORN DARASRISAK\n",
       "2             KARNJANA EAMTANG\n",
       "3             KARNJANA EAMTANG\n",
       "4       THITIMUN VORATHONGCHAI\n",
       "                 ...          \n",
       "6122         KITTINON SANTASUP\n",
       "6123      WITTAWAT SERMSRIPONG\n",
       "6124               NON NAKKARA\n",
       "6125         PHATTHARAPHON LIN\n",
       "6126      THANAPAT SEEMAKAJOHN\n",
       "Name: User, Length: 6127, dtype: object"
      ]
     },
     "execution_count": 4,
     "metadata": {},
     "output_type": "execute_result"
    }
   ],
   "source": [
    "s_name = file.loc[:, 'ชื่อ-นามสกุล (อังกฤษ)']\n",
    "Users = pd.Series(s_name, name='User')\n",
    "Users"
   ]
  },
  {
   "cell_type": "markdown",
   "id": "f7b2c49bcdf31b35",
   "metadata": {
    "jupyter": {
     "outputs_hidden": false
    }
   },
   "source": [
    "Create Series of emails"
   ]
  },
  {
   "cell_type": "code",
   "execution_count": 5,
   "id": "e13822d070f92ca",
   "metadata": {
    "ExecuteTime": {
     "end_time": "2023-12-18T18:39:51.499231600Z",
     "start_time": "2023-12-18T18:39:51.475626Z"
    },
    "jupyter": {
     "outputs_hidden": false
    }
   },
   "outputs": [
    {
     "data": {
      "text/plain": [
       "0            tanghaoren17@gamil.com\n",
       "1               tuakung21@gmail.com\n",
       "2            karnjana.aon@gmail.com\n",
       "3            karnjana.aon@gmail.com\n",
       "4          thitimun.rama1@gmail.com\n",
       "                   ...             \n",
       "6122           kittinon_s@cmu.ac.th\n",
       "6123        wittawat_serm@cmu.ac.th\n",
       "6124          non_nakkara@cmu.ac.th\n",
       "6125    phattharaphon_lin@cmu.ac.th\n",
       "6126         thanapat_see@cmu.ac.th\n",
       "Name: Email, Length: 6127, dtype: object"
      ]
     },
     "execution_count": 5,
     "metadata": {},
     "output_type": "execute_result"
    }
   ],
   "source": [
    "s_email = file.loc[:, 'อีเมล'].fillna(\"\")\n",
    "Emails = pd.Series(s_email ,name='Email')\n",
    "Emails"
   ]
  },
  {
   "cell_type": "markdown",
   "id": "11949f5819447936",
   "metadata": {
    "jupyter": {
     "outputs_hidden": false
    }
   },
   "source": [
    "Provide a score to each user based on their email domain"
   ]
  },
  {
   "cell_type": "code",
   "execution_count": 6,
   "id": "f1e524c073f32b43",
   "metadata": {
    "ExecuteTime": {
     "end_time": "2023-12-18T18:39:51.499231600Z",
     "start_time": "2023-12-18T18:39:51.498725900Z"
    },
    "jupyter": {
     "outputs_hidden": false
    }
   },
   "outputs": [
    {
     "data": {
      "text/plain": [
       "0       1\n",
       "1       1\n",
       "2       1\n",
       "3       1\n",
       "4       1\n",
       "       ..\n",
       "6122    2\n",
       "6123    2\n",
       "6124    2\n",
       "6125    2\n",
       "6126    2\n",
       "Name: Score Email, Length: 6127, dtype: int64"
      ]
     },
     "execution_count": 6,
     "metadata": {},
     "output_type": "execute_result"
    }
   ],
   "source": [
    "email_score = []\n",
    "for data in Emails:\n",
    "    if data != '':\n",
    "        if data.split('@')[1] == 'cmu.ac.th':\n",
    "            email_score.append(2)\n",
    "        else:\n",
    "            email_score.append(1)\n",
    "    else:\n",
    "        email_score.append(0)\n",
    "email_score = pd.Series(email_score, name='Score Email')\n",
    "\n",
    "email_score"
   ]
  },
  {
   "cell_type": "markdown",
   "id": "76c0ab19ea19d307",
   "metadata": {
    "jupyter": {
     "outputs_hidden": false
    }
   },
   "source": [
    "Email Score Statistic"
   ]
  },
  {
   "cell_type": "code",
   "execution_count": 7,
   "id": "85ccdb4be641eebc",
   "metadata": {
    "ExecuteTime": {
     "end_time": "2023-12-18T18:39:51.534380500Z",
     "start_time": "2023-12-18T18:39:51.499231600Z"
    },
    "jupyter": {
     "outputs_hidden": false
    }
   },
   "outputs": [
    {
     "name": "stdout",
     "output_type": "stream",
     "text": [
      "Number of students who filled cmu email: 1268\n",
      "Number of students who filled other email: 4853\n",
      "Number of students who did not fill email: 6\n"
     ]
    }
   ],
   "source": [
    "zero_score_count = email_score.where(email_score == 0).count()\n",
    "one_score_count = email_score.where(email_score == 1).count()\n",
    "two_score_count = email_score.where(email_score == 2).count()\n",
    "\n",
    "print(\"Number of students who filled cmu email:\", two_score_count)\n",
    "print(\"Number of students who filled other email:\", one_score_count)\n",
    "print(\"Number of students who did not fill email:\", zero_score_count)"
   ]
  },
  {
   "cell_type": "markdown",
   "id": "7994ef4c99d630db",
   "metadata": {
    "jupyter": {
     "outputs_hidden": false
    }
   },
   "source": [
    "Create function to calculate age-education score"
   ]
  },
  {
   "cell_type": "code",
   "execution_count": 8,
   "id": "4394064aa1feef7e",
   "metadata": {
    "ExecuteTime": {
     "end_time": "2023-12-18T18:39:51.534380500Z",
     "start_time": "2023-12-18T18:39:51.515527300Z"
    },
    "jupyter": {
     "outputs_hidden": false
    }
   },
   "outputs": [],
   "source": [
    "def getAgeEducationScore(age, limit_age):\n",
    "    if age <= limit_age:\n",
    "        score = 0\n",
    "    elif age <= limit_age + 2:\n",
    "        score = 1\n",
    "    else:\n",
    "        score = 2\n",
    "    return score"
   ]
  },
  {
   "cell_type": "markdown",
   "id": "d4f7e41e9f63192",
   "metadata": {
    "jupyter": {
     "outputs_hidden": false
    }
   },
   "source": [
    "Create set of the educational range"
   ]
  },
  {
   "cell_type": "code",
   "execution_count": 9,
   "id": "c0007cbf8f688400",
   "metadata": {
    "ExecuteTime": {
     "end_time": "2023-12-18T18:39:51.622959800Z",
     "start_time": "2023-12-18T18:39:51.518977700Z"
    },
    "jupyter": {
     "outputs_hidden": false
    }
   },
   "outputs": [],
   "source": [
    "set_nan = {'อื่นๆ (-)', np.nan}\n",
    "set_primaryschool = {'ประถมศึกษา', 'อื่นๆ (ป.4)', 'อื่นๆ (ป.7)', 'อื่นๆ (ป7)'}\n",
    "set_middleschool = {'มัธยมศึกษาตอนต้น', 'Secondary school', 'อื่นๆ (มศ.3)'}\n",
    "set_highschool = {'มัธยมศึกษาตอนปลาย', 'High school', 'Vocational', 'การศึกษานอกระบบ', \n",
    "                  'ประกาศนียบัตรวิชาชีพ (ปวช.)', 'อื่นๆ (ม.ปลาย จบหลักสูตรEMR เป็นจนท.ปฏิบัติการ)',\n",
    "                  'อื่นๆ (กำลังศึกษาชั้นมัธยมศึกษาตอนปลาย)', 'อื่นๆ (กำลังศึกษาชั้นมัธยมศึกษาปีที่6)', \n",
    "                  'อื่นๆ (มศ.5)'}\n",
    "set_bachelor = {'ปริญญาตรี', 'Bachelor degree', 'Diploma', 'High Vocational', \n",
    "                'ประกาศนียบัตรวิชาชีพชั้นสูง (ปวส.)', 'อื่นๆ (กำลังศึกษาในระดับปริญญาตรี)', \n",
    "                'อื่นๆ (กำลังศึกษาปริญญาตรี สาขารังสีเทคนิค)', 'อื่นๆ (ปริญญาแพทยศาสตร์บัณฑิต)', \n",
    "                'อื่นๆ (นักศึกษาแพทย์ปี 5)', 'อื่นๆ (นักศึกษาแพทย์ มช ปี4 ศูนย์เชียงราย)', \n",
    "                'อื่นๆ (แพทยศาสตร์บัณฑิต)', 'อื่นๆ (แพทย์)', 'อื่นๆ (ประกาศณียบัตรผู้ช่วยพยาบาล)', \n",
    "                'อนุปริญญา', 'อื่นๆ (ป.ตรี)', 'อื่นๆ (ผู้ช่วยพยาบาล)'}\n",
    "set_masterdocter = {'ปริญญาโท', 'ปริญญาเอก', \"Master's degree\", 'Other (OBGYN specalist lavel 1)', \n",
    "                    'Other (Residency)', 'Ph.D.', 'อื่นๆ (Internal Medicine)', \n",
    "                    'อื่นๆ (เฉพาะทาง)', 'อื่นๆ (วุฒิบัตร)', 'อื่นๆ (วว.ออร์โธปิดิกส์)', \n",
    "                    'อื่นๆ (วุฒิบัตรแสดงความรู้ความชำนาญในการประกอบวิชาชีพเภสัชกรรม สาขาเภสัชบำบัด)', \n",
    "                    'อื่นๆ (วุฒิบัตรผู้เชี่ยวชาญสาขาทันตกรรมทั่วไป)', 'อื่นๆ (วุฒิบัตรศัลยศาสตร์และแม็กซิลโลเฟเชียล)'}\n",
    "\n",
    "list_degree = ((set_nan, 0), (set_primaryschool, 16), (set_middleschool, 19), \n",
    "               (set_highschool, 22), (set_bachelor,26), (set_masterdocter,40))"
   ]
  },
  {
   "cell_type": "markdown",
   "id": "35f525151c3e465",
   "metadata": {
    "jupyter": {
     "outputs_hidden": false
    }
   },
   "source": [
    "Create Series of Age-Education"
   ]
  },
  {
   "cell_type": "code",
   "execution_count": 10,
   "id": "de572cfc3eba1999",
   "metadata": {
    "ExecuteTime": {
     "end_time": "2023-12-18T18:39:51.692348500Z",
     "start_time": "2023-12-18T18:39:51.562665300Z"
    },
    "jupyter": {
     "outputs_hidden": false
    }
   },
   "outputs": [],
   "source": [
    "ages = file.loc[:, 'อายุ']\n",
    "educations = file.loc[:, 'วุฒิการศึกษา']\n",
    "age_education_scores = []\n",
    "\n",
    "for i,x in enumerate(educations):\n",
    "    for y in list_degree:\n",
    "        if x in y[0]:\n",
    "            age_education_scores.append(getAgeEducationScore(ages[i], y[1]))\n",
    "            \n",
    "age_education_scores = pd.Series(age_education_scores, name='Age Education Score')"
   ]
  },
  {
   "cell_type": "markdown",
   "id": "979576370fd029e",
   "metadata": {
    "jupyter": {
     "outputs_hidden": false
    }
   },
   "source": [
    "Age-Education Score Statistic"
   ]
  },
  {
   "cell_type": "code",
   "execution_count": 11,
   "id": "a048e86a9da172fb",
   "metadata": {
    "ExecuteTime": {
     "end_time": "2023-12-18T18:39:51.693379Z",
     "start_time": "2023-12-18T18:39:51.562665300Z"
    },
    "jupyter": {
     "outputs_hidden": false
    }
   },
   "outputs": [
    {
     "name": "stdout",
     "output_type": "stream",
     "text": [
      "Number of students who are currently in the educational system: 4229\n",
      "Number of students who were recently graduated: 487\n",
      "Number of students who are not in the educational system: 1411\n"
     ]
    }
   ],
   "source": [
    "zero_score_count = age_education_scores.where(age_education_scores == 0).count()\n",
    "one_score_count = age_education_scores.where(age_education_scores == 1).count()\n",
    "two_score_count = age_education_scores.where(age_education_scores == 2).count()\n",
    "\n",
    "print(\"Number of students who are currently in the educational system:\", zero_score_count)\n",
    "print(\"Number of students who were recently graduated:\", one_score_count)\n",
    "print(\"Number of students who are not in the educational system:\", two_score_count)"
   ]
  },
  {
   "cell_type": "markdown",
   "id": "8a43ca4f431f2471",
   "metadata": {
    "jupyter": {
     "outputs_hidden": false
    }
   },
   "source": [
    "Create Series of status"
   ]
  },
  {
   "cell_type": "code",
   "execution_count": 12,
   "id": "d688c9723aa362ed",
   "metadata": {
    "ExecuteTime": {
     "end_time": "2023-12-18T18:39:51.693379Z",
     "start_time": "2023-12-18T18:39:51.574844Z"
    },
    "jupyter": {
     "outputs_hidden": false
    }
   },
   "outputs": [
    {
     "data": {
      "text/plain": [
       "0       ชำระเงิน\n",
       "1       ชำระเงิน\n",
       "2       ชำระเงิน\n",
       "3       ชำระเงิน\n",
       "4       ชำระเงิน\n",
       "          ...   \n",
       "6122    ชำระเงิน\n",
       "6123    ชำระเงิน\n",
       "6124    ชำระเงิน\n",
       "6125    ชำระเงิน\n",
       "6126    ชำระเงิน\n",
       "Name: Status, Length: 6127, dtype: object"
      ]
     },
     "execution_count": 12,
     "metadata": {},
     "output_type": "execute_result"
    }
   ],
   "source": [
    "status = file.loc[:, 'สถานะ'].fillna(\"\")\n",
    "status = pd.Series(status ,name='Status')\n",
    "status"
   ]
  },
  {
   "cell_type": "markdown",
   "id": "1ab166a2f299918e",
   "metadata": {
    "jupyter": {
     "outputs_hidden": false
    }
   },
   "source": [
    "Provide a score to each user based on their purchase status"
   ]
  },
  {
   "cell_type": "code",
   "execution_count": 13,
   "id": "7389c71cff1839dc",
   "metadata": {
    "ExecuteTime": {
     "end_time": "2023-12-18T18:39:51.693379Z",
     "start_time": "2023-12-18T18:39:51.581932Z"
    },
    "jupyter": {
     "outputs_hidden": false
    }
   },
   "outputs": [],
   "source": [
    "payment_score = []\n",
    "for x in status:\n",
    "    if x == 'ชำระเงิน':\n",
    "        payment_score.append(2)\n",
    "    if x == 'ไม่ผ่านการอนุมัติ':\n",
    "        payment_score.append(1)\n",
    "    if x == 'ค้างชำระ':\n",
    "        payment_score.append(0)\n",
    "payment_score = pd.Series(payment_score)"
   ]
  },
  {
   "cell_type": "markdown",
   "id": "bbe2c423280fccea",
   "metadata": {
    "jupyter": {
     "outputs_hidden": false
    }
   },
   "source": [
    "Purchase Status Score Statistics"
   ]
  },
  {
   "cell_type": "code",
   "execution_count": 14,
   "id": "af5c05716dc6be6c",
   "metadata": {
    "ExecuteTime": {
     "end_time": "2023-12-18T18:39:51.693379Z",
     "start_time": "2023-12-18T18:39:51.591464700Z"
    },
    "jupyter": {
     "outputs_hidden": false
    }
   },
   "outputs": [
    {
     "name": "stdout",
     "output_type": "stream",
     "text": [
      "Number of students who are in arrears: 531\n",
      "Number of students whose payment was not approved: 124\n",
      "Number of students with payment approval: 5472\n"
     ]
    }
   ],
   "source": [
    "zero_score_count = payment_score.where(payment_score == 0).count()\n",
    "one_score_count = payment_score.where(payment_score == 1).count()\n",
    "two_score_count = payment_score.where(payment_score == 2).count()\n",
    "\n",
    "print(\"Number of students who are in arrears:\", zero_score_count)\n",
    "print(\"Number of students whose payment was not approved:\", one_score_count)\n",
    "print(\"Number of students with payment approval:\", two_score_count)"
   ]
  },
  {
   "cell_type": "markdown",
   "id": "7b64d7f595919afc",
   "metadata": {
    "jupyter": {
     "outputs_hidden": false
    }
   },
   "source": [
    "Create Series of address"
   ]
  },
  {
   "cell_type": "code",
   "execution_count": 15,
   "id": "512d74529e0b4578",
   "metadata": {
    "ExecuteTime": {
     "end_time": "2023-12-18T18:39:51.693379Z",
     "start_time": "2023-12-18T18:39:51.606951500Z"
    },
    "jupyter": {
     "outputs_hidden": false
    }
   },
   "outputs": [
    {
     "data": {
      "text/plain": [
       "0                                                        \n",
       "1       125/27 ซ.3 ถ.ราษฎรยินดี ต.หน้าเมือง อ.เมือง จ....\n",
       "2                                                        \n",
       "3                                                        \n",
       "4                                                        \n",
       "                              ...                        \n",
       "6122                                                     \n",
       "6123                                                     \n",
       "6124                                                     \n",
       "6125                                                     \n",
       "6126                                                     \n",
       "Name: Status, Length: 6127, dtype: object"
      ]
     },
     "execution_count": 15,
     "metadata": {},
     "output_type": "execute_result"
    }
   ],
   "source": [
    "address = file.loc[:, 'ที่อยู่'].fillna(\"\")\n",
    "address = pd.Series(address ,name='Status')\n",
    "address"
   ]
  },
  {
   "cell_type": "markdown",
   "id": "bc82718ebc22fa02",
   "metadata": {
    "jupyter": {
     "outputs_hidden": false
    }
   },
   "source": [
    "Provide a score to each user based on whether they provide address information or not"
   ]
  },
  {
   "cell_type": "code",
   "execution_count": 16,
   "id": "b9a87d97e4849723",
   "metadata": {
    "ExecuteTime": {
     "end_time": "2023-12-18T18:39:51.693379Z",
     "start_time": "2023-12-18T18:39:51.611206900Z"
    },
    "jupyter": {
     "outputs_hidden": false
    }
   },
   "outputs": [],
   "source": [
    "address_score = [ 0 if x == '' else 1 for x in address]\n",
    "address_score = pd.Series(address_score)"
   ]
  },
  {
   "cell_type": "markdown",
   "id": "3cfd7655f531aaed",
   "metadata": {
    "jupyter": {
     "outputs_hidden": false
    }
   },
   "source": [
    "Address Score Statistic"
   ]
  },
  {
   "cell_type": "code",
   "execution_count": 17,
   "id": "bc8ff404b275ce14",
   "metadata": {
    "ExecuteTime": {
     "end_time": "2023-12-18T18:39:51.693379Z",
     "start_time": "2023-12-18T18:39:51.622959800Z"
    },
    "jupyter": {
     "outputs_hidden": false
    }
   },
   "outputs": [
    {
     "name": "stdout",
     "output_type": "stream",
     "text": [
      "Number of students who did not fill address: 4005\n",
      "Number of students who filled address: 2122\n"
     ]
    }
   ],
   "source": [
    "zero_score_count = address_score.where(address_score == 0).count()\n",
    "one_score_count = address_score.where(address_score == 1).count()\n",
    "\n",
    "print(\"Number of students who did not fill address:\", zero_score_count)\n",
    "print(\"Number of students who filled address:\", one_score_count)"
   ]
  },
  {
   "cell_type": "markdown",
   "id": "f88cc6dae77adc9d",
   "metadata": {
    "jupyter": {
     "outputs_hidden": false
    }
   },
   "source": [
    "Create Series of data"
   ]
  },
  {
   "cell_type": "code",
   "execution_count": 18,
   "id": "d0ae6d0df56337d4",
   "metadata": {
    "ExecuteTime": {
     "end_time": "2023-12-18T18:39:51.693379Z",
     "start_time": "2023-12-18T18:39:51.626252900Z"
    },
    "jupyter": {
     "outputs_hidden": false
    }
   },
   "outputs": [],
   "source": [
    "enrollment = file.loc[:, 'วันที่สมัครอบรม'].fillna(\"\")\n",
    "enrollment = pd.Series(enrollment ,name='Date')\n",
    "enrollment = enrollment.str.slice(start=-8, stop=-6)"
   ]
  },
  {
   "cell_type": "markdown",
   "id": "c9d55bf9908ccd0",
   "metadata": {
    "jupyter": {
     "outputs_hidden": false
    }
   },
   "source": [
    "Provide a score to each user based on their enrollment time"
   ]
  },
  {
   "cell_type": "code",
   "execution_count": 19,
   "id": "c488cb07689f69a4",
   "metadata": {
    "ExecuteTime": {
     "end_time": "2023-12-18T18:39:51.864814600Z",
     "start_time": "2023-12-18T18:39:51.638742300Z"
    },
    "jupyter": {
     "outputs_hidden": false
    }
   },
   "outputs": [],
   "source": [
    "enrollment_set = {'08','09','10','15'}\n",
    "enrollment_score = [ 1 if x in enrollment_set else 0 for x in enrollment]\n",
    "enrollment_score = pd.Series(enrollment_score)"
   ]
  },
  {
   "cell_type": "markdown",
   "id": "3eff94d988b82526",
   "metadata": {
    "jupyter": {
     "outputs_hidden": false
    }
   },
   "source": [
    "Create DataFrame by merging these 4 Series and calculate impressive level"
   ]
  },
  {
   "cell_type": "code",
   "execution_count": 20,
   "id": "a69ab169d7212ec1",
   "metadata": {
    "ExecuteTime": {
     "end_time": "2023-12-18T18:39:51.866824600Z",
     "start_time": "2023-12-18T18:39:51.646402700Z"
    },
    "jupyter": {
     "outputs_hidden": false
    }
   },
   "outputs": [],
   "source": [
    "user = file.loc[:, 'ชื่อ-นามสกุล (อังกฤษ)']\n",
    "course = file.loc[:, 'หลักสูตรอบรมระยะสั้น']\n",
    "d = {\n",
    "    'User': user,\n",
    "    'Course': course,\n",
    "    'Email Score': email_score,\n",
    "    'Age Education Score': age_education_scores,\n",
    "    'Enrollment': enrollment_score,\n",
    "    'Payment Score': payment_score,\n",
    "    'Address Score': address_score,\n",
    "    'Score': 1 + email_score*0.375 + age_education_scores*0.25 + enrollment_score*0.5  + payment_score*1 + address_score*0.25\n",
    "}\n",
    "df = pd.DataFrame(d)"
   ]
  },
  {
   "cell_type": "markdown",
   "id": "f9b0843359f94dcd",
   "metadata": {
    "jupyter": {
     "outputs_hidden": false
    }
   },
   "source": [
    "Create user-course table"
   ]
  },
  {
   "cell_type": "code",
   "execution_count": 21,
   "id": "3cf45ac79877d587",
   "metadata": {
    "ExecuteTime": {
     "end_time": "2023-12-18T18:39:51.867824Z",
     "start_time": "2023-12-18T18:39:51.677133900Z"
    },
    "jupyter": {
     "outputs_hidden": false
    }
   },
   "outputs": [],
   "source": [
    "# all user, course, score have the same length\n",
    "data = {\n",
    "    'User': df['User'],\n",
    "    'Course': df['Course'],\n",
    "    'Score': df['Score'],\n",
    "}\n",
    "\n",
    "predata = pd.DataFrame(data)\n"
   ]
  },
  {
   "cell_type": "markdown",
   "id": "9bece3af0bc2daa3",
   "metadata": {
    "jupyter": {
     "outputs_hidden": false
    }
   },
   "source": [
    "Calculate sparsity and csr matrix"
   ]
  },
  {
   "cell_type": "code",
   "execution_count": 22,
   "id": "a9c28176080eabd0",
   "metadata": {
    "ExecuteTime": {
     "end_time": "2023-12-18T18:39:51.995817100Z",
     "start_time": "2023-12-18T18:39:51.684843500Z"
    },
    "jupyter": {
     "outputs_hidden": false
    }
   },
   "outputs": [],
   "source": [
    "# Pivot table by rotating course\n",
    "data = pd.pivot_table(predata, values='Score', index='Course', columns='User').fillna(0)\n",
    "# pd.set_option('display.max_rows', data.shape[0]+1)\n",
    "# pd.set_option('display.max_columns', data.shape[0]+1)\n",
    "\n"
   ]
  },
  {
   "cell_type": "markdown",
   "id": "d621c378",
   "metadata": {},
   "source": [
    "Load tfidf_matrix"
   ]
  },
  {
   "cell_type": "code",
   "execution_count": 23,
   "id": "6d1f6969",
   "metadata": {},
   "outputs": [
    {
     "data": {
      "text/plain": [
       "\"this will save 'tfidf_matrix' to a file named 'tfidf_matrix.pickle' in the same directory as 'tfidf.ipynb', \\nand then load it from that file in 'knn.ipynb'.\""
      ]
     },
     "execution_count": 23,
     "metadata": {},
     "output_type": "execute_result"
    }
   ],
   "source": [
    "with open('tfidf_matrix.pickle', 'rb') as f:\n",
    "    tfidf_matrix = pickle.load(f)\n",
    "'''this will save 'tfidf_matrix' to a file named 'tfidf_matrix.pickle' in the same directory as 'tfidf.ipynb', \n",
    "and then load it from that file in 'knn.ipynb'.'''"
   ]
  },
  {
   "cell_type": "markdown",
   "metadata": {},
   "source": [
    "Create Item-User rated matrix"
   ]
  },
  {
   "cell_type": "code",
   "execution_count": 24,
   "id": "ccc117194ab7b14d",
   "metadata": {
    "ExecuteTime": {
     "end_time": "2023-12-18T18:39:51.995817100Z",
     "start_time": "2023-12-18T18:39:51.766360700Z"
    },
    "jupyter": {
     "outputs_hidden": false
    }
   },
   "outputs": [],
   "source": [
    "knn_matrix = csr_matrix(data.values)"
   ]
  },
  {
   "cell_type": "code",
   "execution_count": 25,
   "id": "16ed0cbd",
   "metadata": {},
   "outputs": [],
   "source": [
    "from scipy.sparse import hstack\n",
    "\n",
    "combined_matrix = hstack([tfidf_matrix, knn_matrix])"
   ]
  },
  {
   "cell_type": "markdown",
   "id": "b6273ad2dab1c8c9",
   "metadata": {
    "jupyter": {
     "outputs_hidden": false
    }
   },
   "source": [
    "Euclidean Distance & Cosine Similarity"
   ]
  },
  {
   "cell_type": "code",
   "execution_count": 26,
   "id": "757c2d0e75f07f69",
   "metadata": {
    "ExecuteTime": {
     "end_time": "2023-12-18T18:39:51.995817100Z",
     "start_time": "2023-12-18T18:39:51.782664700Z"
    },
    "jupyter": {
     "outputs_hidden": false
    }
   },
   "outputs": [
    {
     "data": {
      "text/plain": [
       "'This will create a new matrix where each row is the concatenation of the \\ncorresponding rows from tfidf_matrix and knn_matrix. The NearestNeighbors model\\nis then fit on this combined matrix.'"
      ]
     },
     "execution_count": 26,
     "metadata": {},
     "output_type": "execute_result"
    }
   ],
   "source": [
    "model_knn = NearestNeighbors(metric='cosine', algorithm='brute').fit(knn_matrix)\n",
    "model_combined = NearestNeighbors(metric='cosine', algorithm='brute').fit(combined_matrix)\n",
    "'''This will create a new matrix where each row is the concatenation of the \n",
    "corresponding rows from tfidf_matrix and knn_matrix. The NearestNeighbors model\n",
    "is then fit on this combined matrix.'''"
   ]
  },
  {
   "cell_type": "markdown",
   "id": "d161ff61",
   "metadata": {},
   "source": [
    "Recommender function using KNN model"
   ]
  },
  {
   "cell_type": "code",
   "execution_count": 27,
   "id": "4b6c8f03d2186801",
   "metadata": {
    "ExecuteTime": {
     "end_time": "2023-12-18T18:39:51.995817100Z",
     "start_time": "2023-12-18T18:39:51.801279800Z"
    },
    "jupyter": {
     "outputs_hidden": false
    }
   },
   "outputs": [],
   "source": [
    "def recommender_knn(course_name):\n",
    "    n_recommendations = int( number_of_courses ** (1/2) )\n",
    "    idx = process.extractOne(course_name, courses)[2]\n",
    "    distances, indices = model_knn.kneighbors(knn_matrix[idx], n_neighbors=n_recommendations+1, return_distance=True)\n",
    "    recommendations = [courses[i].where(i!=idx) for i in indices]\n",
    "    recommended_courses = recommendations[0][1:]\n",
    "    course_distances = distances[0][1:]\n",
    "    d = {\n",
    "        'Course': recommended_courses,\n",
    "        'Cosine Distance': course_distances\n",
    "    }\n",
    "    results = pd.DataFrame(data=d)\n",
    "    n_distance = results['Cosine Distance'].where(results['Cosine Distance'] < 0.8).count()\n",
    "    return results.head(n_distance)"
   ]
  },
  {
   "cell_type": "code",
   "execution_count": 28,
   "id": "5a532f42e3ecba85",
   "metadata": {
    "ExecuteTime": {
     "end_time": "2023-12-18T18:39:51.995817100Z",
     "start_time": "2023-12-18T18:39:51.809402400Z"
    },
    "jupyter": {
     "outputs_hidden": false
    }
   },
   "outputs": [
    {
     "data": {
      "text/html": [
       "<div>\n",
       "<style scoped>\n",
       "    .dataframe tbody tr th:only-of-type {\n",
       "        vertical-align: middle;\n",
       "    }\n",
       "\n",
       "    .dataframe tbody tr th {\n",
       "        vertical-align: top;\n",
       "    }\n",
       "\n",
       "    .dataframe thead th {\n",
       "        text-align: right;\n",
       "    }\n",
       "</style>\n",
       "<table border=\"1\" class=\"dataframe\">\n",
       "  <thead>\n",
       "    <tr style=\"text-align: right;\">\n",
       "      <th></th>\n",
       "      <th>Course</th>\n",
       "      <th>Cosine Distance</th>\n",
       "    </tr>\n",
       "  </thead>\n",
       "  <tbody>\n",
       "    <tr>\n",
       "      <th>152</th>\n",
       "      <td>เตรียมความพร้อมทางรังสีวิทยาสำหรับบุคลากรทางกา...</td>\n",
       "      <td>0.672307</td>\n",
       "    </tr>\n",
       "    <tr>\n",
       "      <th>42</th>\n",
       "      <td>การวินิจฉัยภาวะฉุกเฉินจากอุบัติเหตุ (Diagnosti...</td>\n",
       "      <td>0.722699</td>\n",
       "    </tr>\n",
       "    <tr>\n",
       "      <th>43</th>\n",
       "      <td>การวินิจฉัยภาวะฉุกเฉินที่ไม่ได้เกิดจากอุบัติเห...</td>\n",
       "      <td>0.754774</td>\n",
       "    </tr>\n",
       "  </tbody>\n",
       "</table>\n",
       "</div>"
      ],
      "text/plain": [
       "                                                Course  Cosine Distance\n",
       "152  เตรียมความพร้อมทางรังสีวิทยาสำหรับบุคลากรทางกา...         0.672307\n",
       "42   การวินิจฉัยภาวะฉุกเฉินจากอุบัติเหตุ (Diagnosti...         0.722699\n",
       "43   การวินิจฉัยภาวะฉุกเฉินที่ไม่ได้เกิดจากอุบัติเห...         0.754774"
      ]
     },
     "execution_count": 28,
     "metadata": {},
     "output_type": "execute_result"
    }
   ],
   "source": [
    "recommender_knn('หลักการและพื้นฐานของเครื่องมือทางรังสีวิทยา (Basic Principle of Diagnostic Radiology Imaging Instruments)')"
   ]
  },
  {
   "cell_type": "markdown",
   "id": "2a13a4f3",
   "metadata": {},
   "source": [
    "Recommender function using hybrid model"
   ]
  },
  {
   "cell_type": "code",
   "execution_count": 29,
   "id": "dcc9d555",
   "metadata": {},
   "outputs": [],
   "source": [
    "def recommender_hybrid(course_name):\n",
    "    n_recommendations = int( number_of_courses ** (1/2) )\n",
    "    idx = process.extractOne(course_name, courses)[2]\n",
    "    distances, indices = model_combined.kneighbors(combined_matrix[idx], n_neighbors=n_recommendations+1, return_distance=True)\n",
    "    recommendations = [courses[i].where(i!=idx) for i in indices]\n",
    "    recommended_courses = recommendations[0][1:]\n",
    "    course_distances = distances[0][1:]\n",
    "    d = {\n",
    "        'Course': recommended_courses,\n",
    "        'Cosine Distance': course_distances\n",
    "    }\n",
    "    results = pd.DataFrame(data=d)\n",
    "    n_distance = results['Cosine Distance'].where(results['Cosine Distance'] < 0.8).count()\n",
    "    return results.head(n_distance)"
   ]
  },
  {
   "cell_type": "code",
   "execution_count": 30,
   "id": "65736836",
   "metadata": {},
   "outputs": [
    {
     "data": {
      "text/html": [
       "<div>\n",
       "<style scoped>\n",
       "    .dataframe tbody tr th:only-of-type {\n",
       "        vertical-align: middle;\n",
       "    }\n",
       "\n",
       "    .dataframe tbody tr th {\n",
       "        vertical-align: top;\n",
       "    }\n",
       "\n",
       "    .dataframe thead th {\n",
       "        text-align: right;\n",
       "    }\n",
       "</style>\n",
       "<table border=\"1\" class=\"dataframe\">\n",
       "  <thead>\n",
       "    <tr style=\"text-align: right;\">\n",
       "      <th></th>\n",
       "      <th>Course</th>\n",
       "      <th>Cosine Distance</th>\n",
       "    </tr>\n",
       "  </thead>\n",
       "  <tbody>\n",
       "    <tr>\n",
       "      <th>152</th>\n",
       "      <td>เตรียมความพร้อมทางรังสีวิทยาสำหรับบุคลากรทางกา...</td>\n",
       "      <td>0.672318</td>\n",
       "    </tr>\n",
       "    <tr>\n",
       "      <th>42</th>\n",
       "      <td>การวินิจฉัยภาวะฉุกเฉินจากอุบัติเหตุ (Diagnosti...</td>\n",
       "      <td>0.722705</td>\n",
       "    </tr>\n",
       "    <tr>\n",
       "      <th>43</th>\n",
       "      <td>การวินิจฉัยภาวะฉุกเฉินที่ไม่ได้เกิดจากอุบัติเห...</td>\n",
       "      <td>0.754771</td>\n",
       "    </tr>\n",
       "  </tbody>\n",
       "</table>\n",
       "</div>"
      ],
      "text/plain": [
       "                                                Course  Cosine Distance\n",
       "152  เตรียมความพร้อมทางรังสีวิทยาสำหรับบุคลากรทางกา...         0.672318\n",
       "42   การวินิจฉัยภาวะฉุกเฉินจากอุบัติเหตุ (Diagnosti...         0.722705\n",
       "43   การวินิจฉัยภาวะฉุกเฉินที่ไม่ได้เกิดจากอุบัติเห...         0.754771"
      ]
     },
     "execution_count": 30,
     "metadata": {},
     "output_type": "execute_result"
    }
   ],
   "source": [
    "recommender_hybrid('หลักการและพื้นฐานของเครื่องมือทางรังสีวิทยา (Basic Principle of Diagnostic Radiology Imaging Instruments)')"
   ]
  },
  {
   "cell_type": "markdown",
   "id": "57e8ab6a",
   "metadata": {},
   "source": [
    "KNN Recommender function for all courses"
   ]
  },
  {
   "cell_type": "code",
   "execution_count": 31,
   "id": "1691c4447c9c28ce",
   "metadata": {
    "ExecuteTime": {
     "end_time": "2023-12-18T18:39:52.011252Z",
     "start_time": "2023-12-18T18:39:51.859110300Z"
    },
    "jupyter": {
     "outputs_hidden": false
    }
   },
   "outputs": [],
   "source": [
    "def recommender_knn_all_courses(course_name):\n",
    "    idx = process.extractOne(course_name, courses)[2]\n",
    "    # print('Selected movie:', courses[idx], 'Index:', idx)\n",
    "    distances, indices = model_knn.kneighbors(knn_matrix[idx], n_neighbors=len(courses))\n",
    "    recommendations = [courses[i].where(i!=idx) for i in indices]\n",
    "    recommended_courses = recommendations[0][1:]\n",
    "    scores = 1 - distances\n",
    "    course_distances = scores[0][1:]\n",
    "    d = {\n",
    "        'Course': recommended_courses,\n",
    "        'Score': course_distances\n",
    "    }\n",
    "    results = pd.DataFrame(data=d)\n",
    "    results = results.sort_index().rename_axis('Index')\n",
    "    return results"
   ]
  },
  {
   "cell_type": "markdown",
   "id": "dfd00900",
   "metadata": {},
   "source": [
    "KNN Recommender function using username"
   ]
  },
  {
   "cell_type": "code",
   "execution_count": 32,
   "id": "e662f15c252f7be0",
   "metadata": {
    "ExecuteTime": {
     "end_time": "2023-12-18T18:39:52.123339100Z",
     "start_time": "2023-12-18T18:39:51.944581800Z"
    },
    "jupyter": {
     "outputs_hidden": false
    }
   },
   "outputs": [],
   "source": [
    "def recommender_knn_by_user(user_name, n_recommendations):\n",
    "    df = {\n",
    "        'User': pd.Series(file['ชื่อ-นามสกุล (อังกฤษ)']),\n",
    "        'Course': pd.Series(file['หลักสูตรอบรมระยะสั้น'])\n",
    "    }\n",
    "    \n",
    "    user_course = pd.DataFrame(df)\n",
    "    selected_user_name = user_course.loc[user_course['User'] == user_name]\n",
    "    selected_courses = selected_user_name['Course']\n",
    "    \n",
    "    recommended_courses = [ recommender_knn_all_courses(x) for x in selected_courses]\n",
    "    \n",
    "    # pre dataframe\n",
    "    df = pd.DataFrame({\n",
    "        'Course': [],\n",
    "        'Score': []\n",
    "    }).rename_axis('Index')\n",
    "    \n",
    "    for x in recommended_courses:\n",
    "        df = df._append(x)\n",
    "    df =  df.sort_values('Score', ascending=False).drop_duplicates('Course')\n",
    "    return df.head(n_recommendations)"
   ]
  },
  {
   "cell_type": "markdown",
   "id": "d5af0666",
   "metadata": {},
   "source": [
    "Hybrid Recommender function for all courses"
   ]
  },
  {
   "cell_type": "code",
   "execution_count": 33,
   "id": "a4a4d349",
   "metadata": {},
   "outputs": [],
   "source": [
    "def recommender_hybrid_all_courses(course_name):\n",
    "    idx = process.extractOne(course_name, courses)[2]\n",
    "    # print('Selected movie:', courses[idx], 'Index:', idx)\n",
    "    distances, indices = model_combined.kneighbors(combined_matrix[idx], n_neighbors=len(courses))\n",
    "    recommendations = [courses[i].where(i!=idx) for i in indices]\n",
    "    recommended_courses = recommendations[0][1:]\n",
    "    scores = 1 - distances\n",
    "    course_distances = scores[0][1:]\n",
    "    d = {\n",
    "        'Course': recommended_courses,\n",
    "        'Score': course_distances\n",
    "    }\n",
    "    results = pd.DataFrame(data=d)\n",
    "    results = results.sort_index().rename_axis('Index')\n",
    "    return results"
   ]
  },
  {
   "cell_type": "markdown",
   "id": "a2fbf79a",
   "metadata": {},
   "source": [
    "Hybrid Recommender function using username"
   ]
  },
  {
   "cell_type": "code",
   "execution_count": 34,
   "id": "a95d82d2",
   "metadata": {},
   "outputs": [],
   "source": [
    "def recommender_hybrid_by_user(user_name, n_recommendations):\n",
    "    df = {\n",
    "        'User': pd.Series(file['ชื่อ-นามสกุล (อังกฤษ)']),\n",
    "        'Course': pd.Series(file['หลักสูตรอบรมระยะสั้น'])\n",
    "    }\n",
    "    \n",
    "    user_course = pd.DataFrame(df)\n",
    "    selected_user_name = user_course.loc[user_course['User'] == user_name]\n",
    "    selected_courses = selected_user_name['Course']\n",
    "    \n",
    "    recommended_courses = [ recommender_hybrid_all_courses(x) for x in selected_courses]\n",
    "    \n",
    "    # pre dataframe\n",
    "    df = pd.DataFrame({\n",
    "        'Course': [],\n",
    "        'Score': []\n",
    "    }).rename_axis('Index')\n",
    "    \n",
    "    for x in recommended_courses:\n",
    "        df = df._append(x)\n",
    "    df =  df.sort_values('Score', ascending=False).drop_duplicates('Course')\n",
    "    return df.head(n_recommendations)"
   ]
  },
  {
   "cell_type": "markdown",
   "id": "429d96f86e0c15be",
   "metadata": {
    "jupyter": {
     "outputs_hidden": false
    }
   },
   "source": [
    "Items show permanence whereas, people change with time\n",
    "Items are fewer in numbers to deal with. Which leads to smaller similarity matrix. Amazon and Netflix use it!\n",
    "Better for New users:\n",
    "— Him selecting just one item will let us provide recommendations\n",
    "— But for user based, new user has to wait until next build of similarity matrix (which is the only computational part of the framework)"
   ]
  },
  {
   "cell_type": "code",
   "execution_count": 44,
   "id": "bf895bd5e81470f1",
   "metadata": {
    "ExecuteTime": {
     "end_time": "2023-12-18T18:39:52.150574Z",
     "start_time": "2023-12-18T18:39:51.945100Z"
    },
    "jupyter": {
     "outputs_hidden": false
    }
   },
   "outputs": [
    {
     "data": {
      "text/html": [
       "<div>\n",
       "<style scoped>\n",
       "    .dataframe tbody tr th:only-of-type {\n",
       "        vertical-align: middle;\n",
       "    }\n",
       "\n",
       "    .dataframe tbody tr th {\n",
       "        vertical-align: top;\n",
       "    }\n",
       "\n",
       "    .dataframe thead th {\n",
       "        text-align: right;\n",
       "    }\n",
       "</style>\n",
       "<table border=\"1\" class=\"dataframe\">\n",
       "  <thead>\n",
       "    <tr style=\"text-align: right;\">\n",
       "      <th></th>\n",
       "      <th>Course</th>\n",
       "      <th>Score</th>\n",
       "    </tr>\n",
       "    <tr>\n",
       "      <th>Index</th>\n",
       "      <th></th>\n",
       "      <th></th>\n",
       "    </tr>\n",
       "  </thead>\n",
       "  <tbody>\n",
       "    <tr>\n",
       "      <th>43</th>\n",
       "      <td>การวินิจฉัยภาวะฉุกเฉินที่ไม่ได้เกิดจากอุบัติเห...</td>\n",
       "      <td>0.753351</td>\n",
       "    </tr>\n",
       "    <tr>\n",
       "      <th>131</th>\n",
       "      <td>หลักการและพื้นฐานของเครื่องมือทางรังสีวิทยา (B...</td>\n",
       "      <td>0.277301</td>\n",
       "    </tr>\n",
       "    <tr>\n",
       "      <th>110</th>\n",
       "      <td>รังสีวิทยาวินิจฉัย</td>\n",
       "      <td>0.219784</td>\n",
       "    </tr>\n",
       "    <tr>\n",
       "      <th>152</th>\n",
       "      <td>เตรียมความพร้อมทางรังสีวิทยาสำหรับบุคลากรทางกา...</td>\n",
       "      <td>0.176883</td>\n",
       "    </tr>\n",
       "    <tr>\n",
       "      <th>124</th>\n",
       "      <td>สารสนเทศทางสาธารณสุข 2566 (Public Health Infor...</td>\n",
       "      <td>0.073328</td>\n",
       "    </tr>\n",
       "    <tr>\n",
       "      <th>41</th>\n",
       "      <td>การวิจัยแบบผสมผสานทางสุขภาพ (Mixed Methods Res...</td>\n",
       "      <td>0.032697</td>\n",
       "    </tr>\n",
       "    <tr>\n",
       "      <th>136</th>\n",
       "      <td>หลักสูตรอบรมเข้มข้นระยะสั้นแพทย์-วิศวกรรมและวิ...</td>\n",
       "      <td>0.022270</td>\n",
       "    </tr>\n",
       "    <tr>\n",
       "      <th>117</th>\n",
       "      <td>วิทยาศาสตร์การแพทย์คลินิก สาขาวิชาเวชศาสตร์ฉุก...</td>\n",
       "      <td>0.018849</td>\n",
       "    </tr>\n",
       "    <tr>\n",
       "      <th>98</th>\n",
       "      <td>ทักษะความเป็นนักดนตรี</td>\n",
       "      <td>0.017921</td>\n",
       "    </tr>\n",
       "    <tr>\n",
       "      <th>123</th>\n",
       "      <td>สอบคัดเลือกเพื่อเข้าอบรมหลักสูตรอบรมเข้มข้นระย...</td>\n",
       "      <td>0.015647</td>\n",
       "    </tr>\n",
       "  </tbody>\n",
       "</table>\n",
       "</div>"
      ],
      "text/plain": [
       "                                                  Course     Score\n",
       "Index                                                             \n",
       "43     การวินิจฉัยภาวะฉุกเฉินที่ไม่ได้เกิดจากอุบัติเห...  0.753351\n",
       "131    หลักการและพื้นฐานของเครื่องมือทางรังสีวิทยา (B...  0.277301\n",
       "110                                   รังสีวิทยาวินิจฉัย  0.219784\n",
       "152    เตรียมความพร้อมทางรังสีวิทยาสำหรับบุคลากรทางกา...  0.176883\n",
       "124    สารสนเทศทางสาธารณสุข 2566 (Public Health Infor...  0.073328\n",
       "41     การวิจัยแบบผสมผสานทางสุขภาพ (Mixed Methods Res...  0.032697\n",
       "136    หลักสูตรอบรมเข้มข้นระยะสั้นแพทย์-วิศวกรรมและวิ...  0.022270\n",
       "117    วิทยาศาสตร์การแพทย์คลินิก สาขาวิชาเวชศาสตร์ฉุก...  0.018849\n",
       "98                                 ทักษะความเป็นนักดนตรี  0.017921\n",
       "123    สอบคัดเลือกเพื่อเข้าอบรมหลักสูตรอบรมเข้มข้นระย...  0.015647"
      ]
     },
     "execution_count": 44,
     "metadata": {},
     "output_type": "execute_result"
    }
   ],
   "source": [
    "recommender_knn_by_user('THANAKORN DARASRISAK', 10)"
   ]
  },
  {
   "cell_type": "markdown",
   "id": "f8ea4f22d3481e98",
   "metadata": {
    "jupyter": {
     "outputs_hidden": false
    }
   },
   "source": [
    "Training and Testing"
   ]
  },
  {
   "cell_type": "code",
   "execution_count": 36,
   "id": "ce5d56e62ccafebc",
   "metadata": {
    "ExecuteTime": {
     "end_time": "2023-12-18T18:39:52.172255700Z",
     "start_time": "2023-12-18T18:39:51.995817100Z"
    },
    "jupyter": {
     "outputs_hidden": false
    }
   },
   "outputs": [],
   "source": [
    "from sklearn.model_selection import train_test_split\n",
    "from sklearn.neighbors import KNeighborsRegressor"
   ]
  },
  {
   "cell_type": "markdown",
   "id": "aec6362ea62ebee2",
   "metadata": {
    "jupyter": {
     "outputs_hidden": false
    }
   },
   "source": [
    "Predata of training"
   ]
  },
  {
   "cell_type": "code",
   "execution_count": 37,
   "id": "41466518225fa551",
   "metadata": {
    "ExecuteTime": {
     "end_time": "2023-12-18T18:39:52.232962500Z",
     "start_time": "2023-12-18T18:39:52.003192800Z"
    },
    "jupyter": {
     "outputs_hidden": false
    }
   },
   "outputs": [
    {
     "data": {
      "text/html": [
       "<div>\n",
       "<style scoped>\n",
       "    .dataframe tbody tr th:only-of-type {\n",
       "        vertical-align: middle;\n",
       "    }\n",
       "\n",
       "    .dataframe tbody tr th {\n",
       "        vertical-align: top;\n",
       "    }\n",
       "\n",
       "    .dataframe thead th {\n",
       "        text-align: right;\n",
       "    }\n",
       "</style>\n",
       "<table border=\"1\" class=\"dataframe\">\n",
       "  <thead>\n",
       "    <tr style=\"text-align: right;\">\n",
       "      <th></th>\n",
       "      <th>Course</th>\n",
       "      <th>Score</th>\n",
       "    </tr>\n",
       "  </thead>\n",
       "  <tbody>\n",
       "  </tbody>\n",
       "</table>\n",
       "</div>"
      ],
      "text/plain": [
       "Empty DataFrame\n",
       "Columns: [Course, Score]\n",
       "Index: []"
      ]
     },
     "execution_count": 37,
     "metadata": {},
     "output_type": "execute_result"
    }
   ],
   "source": [
    "# Take 2 columns from Table\n",
    "course_score = df[['Course', 'Score']]\n",
    "\n",
    "# Sort the course\n",
    "course = df['Course'].sort_values().unique()\n",
    "\n",
    "# Calculate the mean of each course\n",
    "course_mean = course_score.groupby('Course')\n",
    "course_mean = course_mean.mean().loc[:, 'Score']\n",
    "\n",
    "# Take 2 columns from Table\n",
    "course_user = df[['Course', 'User']]\n",
    "\n",
    "# Count the number of users who enrolled each course \n",
    "course_count = course_user.value_counts('Course')\n",
    "course_count = course_count.sort_index()\n",
    "\n",
    "# Take feature columns from Table\n",
    "course_feature = df[['Course', 'Email Score', 'Age Education Score', 'Enrollment', 'Payment Score', 'Address Score']]\n",
    "agg_functions = {\n",
    "    'Email Score': 'mean',\n",
    "    'Age Education Score': 'mean',\n",
    "    'Enrollment': 'mean',\n",
    "    'Payment Score': 'mean',\n",
    "    'Address Score': 'mean',\n",
    "}\n",
    "course_feature = course_feature.groupby('Course').aggregate(agg_functions)\n",
    "course_score[course_score['Score'] > 5]"
   ]
  },
  {
   "cell_type": "markdown",
   "id": "b8f342827b015aa",
   "metadata": {
    "jupyter": {
     "outputs_hidden": false
    }
   },
   "source": [
    "Create the train dataframe"
   ]
  },
  {
   "cell_type": "code",
   "execution_count": 38,
   "id": "b584c42e911d1ebd",
   "metadata": {
    "ExecuteTime": {
     "end_time": "2023-12-18T18:39:52.295872300Z",
     "start_time": "2023-12-18T18:39:52.035996400Z"
    },
    "jupyter": {
     "outputs_hidden": false
    }
   },
   "outputs": [],
   "source": [
    "course_feature['Count'] = course_count\n",
    "course_feature['Score'] = course_mean\n",
    "train_df = pd.DataFrame(course_feature)\n",
    "pd.set_option('display.max_rows', train_df.shape[0]+1)\n",
    "filtered_train_df = train_df[train_df['Score'] > 4]"
   ]
  },
  {
   "cell_type": "markdown",
   "id": "a0e1c30467cab51a",
   "metadata": {
    "jupyter": {
     "outputs_hidden": false
    }
   },
   "source": [
    "Split the train and the test"
   ]
  },
  {
   "cell_type": "code",
   "execution_count": 39,
   "id": "83e5605b241f020f",
   "metadata": {
    "ExecuteTime": {
     "end_time": "2023-12-18T18:44:43.166472200Z",
     "start_time": "2023-12-18T18:44:43.122671100Z"
    },
    "jupyter": {
     "outputs_hidden": false
    }
   },
   "outputs": [],
   "source": [
    "# Get X and y features variables\n",
    "X = train_df[['Email Score', 'Age Education Score', 'Enrollment', 'Payment Score', 'Address Score', 'Count']]\n",
    "y = train_df['Score']\n",
    "\n",
    "# Use the train test split function\n",
    "X_train, X_test, y_train, y_test = train_test_split(\n",
    "    X, y, random_state=10, test_size=0.25\n",
    ")"
   ]
  },
  {
   "cell_type": "code",
   "execution_count": 40,
   "id": "1ebfde189788d1b0",
   "metadata": {
    "ExecuteTime": {
     "end_time": "2023-12-18T18:39:52.408068500Z",
     "start_time": "2023-12-18T18:39:52.081372400Z"
    },
    "jupyter": {
     "outputs_hidden": false
    }
   },
   "outputs": [],
   "source": [
    "regressor = KNeighborsRegressor(n_neighbors=3)\n",
    "regressor.fit(X_train, y_train)\n",
    "predictions = regressor.predict(X_test)"
   ]
  },
  {
   "cell_type": "code",
   "execution_count": 41,
   "id": "d31f84dd1f099bca",
   "metadata": {
    "ExecuteTime": {
     "end_time": "2023-12-18T18:39:53.180956300Z",
     "start_time": "2023-12-18T18:39:52.110328300Z"
    },
    "jupyter": {
     "outputs_hidden": false
    }
   },
   "outputs": [
    {
     "name": "stdout",
     "output_type": "stream",
     "text": [
      "Mean Squared Error: 0.07524013250199839\n",
      "Mean Absolute Error: 0.10501315558555732\n"
     ]
    }
   ],
   "source": [
    "print(\"Mean Squared Error:\", mean_squared_error(predictions,y_test) / 4)\n",
    "print(\"Mean Absolute Error:\", mean_absolute_error(predictions,y_test) / 4)"
   ]
  }
 ],
 "metadata": {
  "kernelspec": {
   "display_name": "Python 3 (ipykernel)",
   "language": "python",
   "name": "python3"
  },
  "language_info": {
   "codemirror_mode": {
    "name": "ipython",
    "version": 3
   },
   "file_extension": ".py",
   "mimetype": "text/x-python",
   "name": "python",
   "nbconvert_exporter": "python",
   "pygments_lexer": "ipython3",
   "version": "3.12.0"
  }
 },
 "nbformat": 4,
 "nbformat_minor": 5
}
