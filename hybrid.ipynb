{
 "cells": [
  {
   "cell_type": "markdown",
   "id": "ab6c4e4bacf216d9",
   "metadata": {
    "jupyter": {
     "outputs_hidden": false
    }
   },
   "source": [
    "Import required packages"
   ]
  },
  {
   "cell_type": "code",
   "execution_count": 1,
   "id": "c62dc7f1ed89ae7",
   "metadata": {
    "ExecuteTime": {
     "end_time": "2023-12-18T18:39:49.685745600Z",
     "start_time": "2023-12-18T18:39:47.031153200Z"
    },
    "jupyter": {
     "outputs_hidden": false
    },
    "scrolled": true
   },
   "outputs": [],
   "source": [
    "import pandas as pd\n",
    "from sklearn.neighbors import NearestNeighbors\n",
    "from fuzzywuzzy import process\n",
    "from sklearn.metrics import mean_squared_error, mean_absolute_error\n",
    "import pickle"
   ]
  },
  {
   "cell_type": "code",
   "execution_count": 2,
   "id": "e494fdf8",
   "metadata": {},
   "outputs": [],
   "source": [
    "file = pd.read_excel('shortcourses2566.xlsx')"
   ]
  },
  {
   "cell_type": "markdown",
   "id": "c179669f",
   "metadata": {},
   "source": [
    "Count the number of courses"
   ]
  },
  {
   "cell_type": "code",
   "execution_count": 3,
   "id": "0f80a6f9",
   "metadata": {},
   "outputs": [],
   "source": [
    "course_counts = pd.DataFrame(file)['หลักสูตรอบรมระยะสั้น'].value_counts()\n",
    "courses = pd.Series(course_counts.index)\n",
    "courses = courses.sort_values().set_axis(range(0,len(courses)))\n",
    "number_of_courses = len(course_counts)"
   ]
  },
  {
   "cell_type": "markdown",
   "id": "d621c378",
   "metadata": {},
   "source": [
    "Load matrices"
   ]
  },
  {
   "cell_type": "code",
   "execution_count": 4,
   "id": "6d1f6969",
   "metadata": {},
   "outputs": [],
   "source": [
    "with open('knn_matrix.pickle', 'rb') as f:\n",
    "    knn_matrix = pickle.load(f)\n",
    "\n",
    "with open('tfidf_matrix.pickle', 'rb') as f:\n",
    "    tfidf_matrix = pickle.load(f)"
   ]
  },
  {
   "cell_type": "markdown",
   "id": "d9ea9140",
   "metadata": {},
   "source": [
    "Combine knn_matrix and tfidf_matrix together"
   ]
  },
  {
   "cell_type": "code",
   "execution_count": 5,
   "id": "16ed0cbd",
   "metadata": {},
   "outputs": [],
   "source": [
    "from sklearn.preprocessing import normalize\n",
    "from scipy.sparse import hstack\n",
    "\n",
    "# Set the weight\n",
    "tfidf_weight = 0.3\n",
    "knn_weight = 0.7\n",
    "\n",
    "# Normalize the matrices\n",
    "tfidf_matrix_normalized = normalize(tfidf_matrix)\n",
    "knn_matrix_normalized = normalize(knn_matrix)\n",
    "\n",
    "# Combined the normalized metrices\n",
    "combined_matrix = hstack([tfidf_matrix_normalized, knn_matrix_normalized])"
   ]
  },
  {
   "cell_type": "markdown",
   "id": "b6273ad2dab1c8c9",
   "metadata": {
    "jupyter": {
     "outputs_hidden": false
    }
   },
   "source": [
    "Euclidean Distance & Cosine Similarity"
   ]
  },
  {
   "cell_type": "code",
   "execution_count": 24,
   "id": "757c2d0e75f07f69",
   "metadata": {
    "ExecuteTime": {
     "end_time": "2023-12-18T18:39:51.995817100Z",
     "start_time": "2023-12-18T18:39:51.782664700Z"
    },
    "jupyter": {
     "outputs_hidden": false
    }
   },
   "outputs": [
    {
     "data": {
      "text/plain": [
       "'This will create a new matrix where each row is the concatenation of the \\ncorresponding rows from tfidf_matrix and knn_matrix. The NearestNeighbors model\\nis then fit on this combined matrix.'"
      ]
     },
     "execution_count": 24,
     "metadata": {},
     "output_type": "execute_result"
    }
   ],
   "source": [
    "model_combined = NearestNeighbors(metric='cosine', algorithm='brute').fit(combined_matrix)\n",
    "'''This will create a new matrix where each row is the concatenation of the \n",
    "corresponding rows from tfidf_matrix and knn_matrix. The NearestNeighbors model\n",
    "is then fit on this combined matrix.'''"
   ]
  },
  {
   "cell_type": "markdown",
   "id": "2a13a4f3",
   "metadata": {},
   "source": [
    "Recommender function using hybrid model"
   ]
  },
  {
   "cell_type": "code",
   "execution_count": 9,
   "id": "dcc9d555",
   "metadata": {},
   "outputs": [],
   "source": [
    "def recommender_hybrid(course_name):\n",
    "    n_recommendations = int( number_of_courses ** (1/2) )\n",
    "    idx = process.extractOne(course_name, courses)[2]\n",
    "    distances, indices = model_combined.kneighbors(combined_matrix[idx], n_neighbors=n_recommendations+1, return_distance=True)\n",
    "    recommendations = [courses[i].where(i!=idx) for i in indices]\n",
    "    recommended_courses = recommendations[0][1:]\n",
    "    course_distances = distances[0][1:]\n",
    "    d = {\n",
    "        'Course': recommended_courses,\n",
    "        'Cosine Distance': course_distances\n",
    "    }\n",
    "    results = pd.DataFrame(data=d)\n",
    "    n_distance = results['Cosine Distance'].where(results['Cosine Distance'] < 0.8).count()\n",
    "    return results.head(n_distance)"
   ]
  },
  {
   "cell_type": "code",
   "execution_count": 10,
   "id": "65736836",
   "metadata": {},
   "outputs": [
    {
     "data": {
      "text/html": [
       "<div>\n",
       "<style scoped>\n",
       "    .dataframe tbody tr th:only-of-type {\n",
       "        vertical-align: middle;\n",
       "    }\n",
       "\n",
       "    .dataframe tbody tr th {\n",
       "        vertical-align: top;\n",
       "    }\n",
       "\n",
       "    .dataframe thead th {\n",
       "        text-align: right;\n",
       "    }\n",
       "</style>\n",
       "<table border=\"1\" class=\"dataframe\">\n",
       "  <thead>\n",
       "    <tr style=\"text-align: right;\">\n",
       "      <th></th>\n",
       "      <th>Course</th>\n",
       "      <th>Cosine Distance</th>\n",
       "    </tr>\n",
       "  </thead>\n",
       "  <tbody>\n",
       "    <tr>\n",
       "      <th>42</th>\n",
       "      <td>การวินิจฉัยภาวะฉุกเฉินจากอุบัติเหตุ (Diagnosti...</td>\n",
       "      <td>0.687288</td>\n",
       "    </tr>\n",
       "    <tr>\n",
       "      <th>43</th>\n",
       "      <td>การวินิจฉัยภาวะฉุกเฉินที่ไม่ได้เกิดจากอุบัติเห...</td>\n",
       "      <td>0.703325</td>\n",
       "    </tr>\n",
       "    <tr>\n",
       "      <th>110</th>\n",
       "      <td>รังสีวิทยาวินิจฉัย</td>\n",
       "      <td>0.721580</td>\n",
       "    </tr>\n",
       "    <tr>\n",
       "      <th>152</th>\n",
       "      <td>เตรียมความพร้อมทางรังสีวิทยาสำหรับบุคลากรทางกา...</td>\n",
       "      <td>0.723664</td>\n",
       "    </tr>\n",
       "  </tbody>\n",
       "</table>\n",
       "</div>"
      ],
      "text/plain": [
       "                                                Course  Cosine Distance\n",
       "42   การวินิจฉัยภาวะฉุกเฉินจากอุบัติเหตุ (Diagnosti...         0.687288\n",
       "43   การวินิจฉัยภาวะฉุกเฉินที่ไม่ได้เกิดจากอุบัติเห...         0.703325\n",
       "110                                 รังสีวิทยาวินิจฉัย         0.721580\n",
       "152  เตรียมความพร้อมทางรังสีวิทยาสำหรับบุคลากรทางกา...         0.723664"
      ]
     },
     "execution_count": 10,
     "metadata": {},
     "output_type": "execute_result"
    }
   ],
   "source": [
    "recommender_hybrid('หลักการและพื้นฐานของเครื่องมือทางรังสีวิทยา (Basic Principle of Diagnostic Radiology Imaging Instruments)')"
   ]
  },
  {
   "cell_type": "markdown",
   "id": "57e8ab6a",
   "metadata": {},
   "source": [
    "KNN Recommender function for all courses"
   ]
  },
  {
   "cell_type": "code",
   "execution_count": 11,
   "id": "1691c4447c9c28ce",
   "metadata": {
    "ExecuteTime": {
     "end_time": "2023-12-18T18:39:52.011252Z",
     "start_time": "2023-12-18T18:39:51.859110300Z"
    },
    "jupyter": {
     "outputs_hidden": false
    }
   },
   "outputs": [],
   "source": [
    "def recommender_knn_all_courses(course_name):\n",
    "    idx = process.extractOne(course_name, courses)[2]\n",
    "    # print('Selected movie:', courses[idx], 'Index:', idx)\n",
    "    distances, indices = model_knn.kneighbors(knn_matrix[idx], n_neighbors=len(courses))\n",
    "    recommendations = [courses[i].where(i!=idx) for i in indices]\n",
    "    recommended_courses = recommendations[0][1:]\n",
    "    scores = 1 - distances\n",
    "    course_distances = scores[0][1:]\n",
    "    d = {\n",
    "        'Course': recommended_courses,\n",
    "        'Score': course_distances\n",
    "    }\n",
    "    results = pd.DataFrame(data=d)\n",
    "    results = results.sort_index().rename_axis('Index')\n",
    "    return results"
   ]
  },
  {
   "cell_type": "markdown",
   "id": "dfd00900",
   "metadata": {},
   "source": [
    "KNN Recommender function using username"
   ]
  },
  {
   "cell_type": "code",
   "execution_count": 12,
   "id": "e662f15c252f7be0",
   "metadata": {
    "ExecuteTime": {
     "end_time": "2023-12-18T18:39:52.123339100Z",
     "start_time": "2023-12-18T18:39:51.944581800Z"
    },
    "jupyter": {
     "outputs_hidden": false
    }
   },
   "outputs": [],
   "source": [
    "def recommender_knn_by_user(user_name, n_recommendations):\n",
    "    df = {\n",
    "        'User': pd.Series(file['ชื่อ-นามสกุล (อังกฤษ)']),\n",
    "        'Course': pd.Series(file['หลักสูตรอบรมระยะสั้น'])\n",
    "    }\n",
    "    \n",
    "    user_course = pd.DataFrame(df)\n",
    "    selected_user_name = user_course.loc[user_course['User'] == user_name]\n",
    "    selected_courses = selected_user_name['Course']\n",
    "    \n",
    "    recommended_courses = [ recommender_knn_all_courses(x) for x in selected_courses]\n",
    "    \n",
    "    # pre dataframe\n",
    "    df = pd.DataFrame({\n",
    "        'Course': [],\n",
    "        'Score': []\n",
    "    }).rename_axis('Index')\n",
    "    \n",
    "    for x in recommended_courses:\n",
    "        df = df._append(x)\n",
    "    df =  df.sort_values('Score', ascending=False).drop_duplicates('Course')\n",
    "    return df.head(n_recommendations)"
   ]
  },
  {
   "cell_type": "markdown",
   "id": "d5af0666",
   "metadata": {},
   "source": [
    "Hybrid Recommender function for all courses"
   ]
  },
  {
   "cell_type": "code",
   "execution_count": 13,
   "id": "a4a4d349",
   "metadata": {},
   "outputs": [],
   "source": [
    "def recommender_hybrid_all_courses(course_name):\n",
    "    idx = process.extractOne(course_name, courses)[2]\n",
    "    # print('Selected movie:', courses[idx], 'Index:', idx)\n",
    "    distances, indices = model_combined.kneighbors(combined_matrix[idx], n_neighbors=len(courses))\n",
    "    recommendations = [courses[i].where(i!=idx) for i in indices]\n",
    "    recommended_courses = recommendations[0][1:]\n",
    "    scores = 1 - distances\n",
    "    course_distances = scores[0][1:]\n",
    "    d = {\n",
    "        'Course': recommended_courses,\n",
    "        'Score': course_distances\n",
    "    }\n",
    "    results = pd.DataFrame(data=d)\n",
    "    results = results.sort_index().rename_axis('Index')\n",
    "    return results"
   ]
  },
  {
   "cell_type": "markdown",
   "id": "a2fbf79a",
   "metadata": {},
   "source": [
    "Hybrid Recommender function using username"
   ]
  },
  {
   "cell_type": "code",
   "execution_count": 14,
   "id": "a95d82d2",
   "metadata": {},
   "outputs": [],
   "source": [
    "def recommender_hybrid_by_user(user_name, n_recommendations):\n",
    "    df = {\n",
    "        'User': pd.Series(file['ชื่อ-นามสกุล (อังกฤษ)']),\n",
    "        'Course': pd.Series(file['หลักสูตรอบรมระยะสั้น'])\n",
    "    }\n",
    "    \n",
    "    user_course = pd.DataFrame(df)\n",
    "    selected_user_name = user_course.loc[user_course['User'] == user_name]\n",
    "    selected_courses = selected_user_name['Course']\n",
    "    \n",
    "    recommended_courses = [ recommender_hybrid_all_courses(x) for x in selected_courses]\n",
    "    \n",
    "    # pre dataframe\n",
    "    df = pd.DataFrame({\n",
    "        'Course': [],\n",
    "        'Score': []\n",
    "    }).rename_axis('Index')\n",
    "    \n",
    "    for x in recommended_courses:\n",
    "        df = df._append(x)\n",
    "    df =  df.sort_values('Score', ascending=False).drop_duplicates('Course')\n",
    "    return df.head(n_recommendations)"
   ]
  },
  {
   "cell_type": "markdown",
   "id": "429d96f86e0c15be",
   "metadata": {
    "jupyter": {
     "outputs_hidden": false
    }
   },
   "source": [
    "Items show permanence whereas, people change with time\n",
    "Items are fewer in numbers to deal with. Which leads to smaller similarity matrix. Amazon and Netflix use it!\n",
    "Better for New users:\n",
    "— Him selecting just one item will let us provide recommendations\n",
    "— But for user based, new user has to wait until next build of similarity matrix (which is the only computational part of the framework)"
   ]
  },
  {
   "cell_type": "code",
   "execution_count": 15,
   "id": "bf895bd5e81470f1",
   "metadata": {
    "ExecuteTime": {
     "end_time": "2023-12-18T18:39:52.150574Z",
     "start_time": "2023-12-18T18:39:51.945100Z"
    },
    "jupyter": {
     "outputs_hidden": false
    }
   },
   "outputs": [
    {
     "data": {
      "text/html": [
       "<div>\n",
       "<style scoped>\n",
       "    .dataframe tbody tr th:only-of-type {\n",
       "        vertical-align: middle;\n",
       "    }\n",
       "\n",
       "    .dataframe tbody tr th {\n",
       "        vertical-align: top;\n",
       "    }\n",
       "\n",
       "    .dataframe thead th {\n",
       "        text-align: right;\n",
       "    }\n",
       "</style>\n",
       "<table border=\"1\" class=\"dataframe\">\n",
       "  <thead>\n",
       "    <tr style=\"text-align: right;\">\n",
       "      <th></th>\n",
       "      <th>Course</th>\n",
       "      <th>Score</th>\n",
       "    </tr>\n",
       "    <tr>\n",
       "      <th>Index</th>\n",
       "      <th></th>\n",
       "      <th></th>\n",
       "    </tr>\n",
       "  </thead>\n",
       "  <tbody>\n",
       "    <tr>\n",
       "      <th>43</th>\n",
       "      <td>การวินิจฉัยภาวะฉุกเฉินที่ไม่ได้เกิดจากอุบัติเห...</td>\n",
       "      <td>0.714826</td>\n",
       "    </tr>\n",
       "    <tr>\n",
       "      <th>110</th>\n",
       "      <td>รังสีวิทยาวินิจฉัย</td>\n",
       "      <td>0.437718</td>\n",
       "    </tr>\n",
       "    <tr>\n",
       "      <th>131</th>\n",
       "      <td>หลักการและพื้นฐานของเครื่องมือทางรังสีวิทยา (B...</td>\n",
       "      <td>0.312712</td>\n",
       "    </tr>\n",
       "    <tr>\n",
       "      <th>152</th>\n",
       "      <td>เตรียมความพร้อมทางรังสีวิทยาสำหรับบุคลากรทางกา...</td>\n",
       "      <td>0.227350</td>\n",
       "    </tr>\n",
       "    <tr>\n",
       "      <th>117</th>\n",
       "      <td>วิทยาศาสตร์การแพทย์คลินิก สาขาวิชาเวชศาสตร์ฉุก...</td>\n",
       "      <td>0.124982</td>\n",
       "    </tr>\n",
       "    <tr>\n",
       "      <th>124</th>\n",
       "      <td>สารสนเทศทางสาธารณสุข 2566 (Public Health Infor...</td>\n",
       "      <td>0.036664</td>\n",
       "    </tr>\n",
       "    <tr>\n",
       "      <th>41</th>\n",
       "      <td>การวิจัยแบบผสมผสานทางสุขภาพ (Mixed Methods Res...</td>\n",
       "      <td>0.016349</td>\n",
       "    </tr>\n",
       "    <tr>\n",
       "      <th>136</th>\n",
       "      <td>หลักสูตรอบรมเข้มข้นระยะสั้นแพทย์-วิศวกรรมและวิ...</td>\n",
       "      <td>0.011135</td>\n",
       "    </tr>\n",
       "    <tr>\n",
       "      <th>98</th>\n",
       "      <td>ทักษะความเป็นนักดนตรี</td>\n",
       "      <td>0.008960</td>\n",
       "    </tr>\n",
       "    <tr>\n",
       "      <th>123</th>\n",
       "      <td>สอบคัดเลือกเพื่อเข้าอบรมหลักสูตรอบรมเข้มข้นระย...</td>\n",
       "      <td>0.007824</td>\n",
       "    </tr>\n",
       "  </tbody>\n",
       "</table>\n",
       "</div>"
      ],
      "text/plain": [
       "                                                  Course     Score\n",
       "Index                                                             \n",
       "43     การวินิจฉัยภาวะฉุกเฉินที่ไม่ได้เกิดจากอุบัติเห...  0.714826\n",
       "110                                   รังสีวิทยาวินิจฉัย  0.437718\n",
       "131    หลักการและพื้นฐานของเครื่องมือทางรังสีวิทยา (B...  0.312712\n",
       "152    เตรียมความพร้อมทางรังสีวิทยาสำหรับบุคลากรทางกา...  0.227350\n",
       "117    วิทยาศาสตร์การแพทย์คลินิก สาขาวิชาเวชศาสตร์ฉุก...  0.124982\n",
       "124    สารสนเทศทางสาธารณสุข 2566 (Public Health Infor...  0.036664\n",
       "41     การวิจัยแบบผสมผสานทางสุขภาพ (Mixed Methods Res...  0.016349\n",
       "136    หลักสูตรอบรมเข้มข้นระยะสั้นแพทย์-วิศวกรรมและวิ...  0.011135\n",
       "98                                 ทักษะความเป็นนักดนตรี  0.008960\n",
       "123    สอบคัดเลือกเพื่อเข้าอบรมหลักสูตรอบรมเข้มข้นระย...  0.007824"
      ]
     },
     "execution_count": 15,
     "metadata": {},
     "output_type": "execute_result"
    }
   ],
   "source": [
    "recommender_hybrid_by_user('THANAKORN DARASRISAK', 10)"
   ]
  },
  {
   "cell_type": "markdown",
   "id": "f8ea4f22d3481e98",
   "metadata": {
    "jupyter": {
     "outputs_hidden": false
    }
   },
   "source": [
    "Training and Testing part"
   ]
  },
  {
   "cell_type": "code",
   "execution_count": 16,
   "id": "ce5d56e62ccafebc",
   "metadata": {
    "ExecuteTime": {
     "end_time": "2023-12-18T18:39:52.172255700Z",
     "start_time": "2023-12-18T18:39:51.995817100Z"
    },
    "jupyter": {
     "outputs_hidden": false
    }
   },
   "outputs": [],
   "source": [
    "from sklearn.model_selection import train_test_split\n",
    "from sklearn.neighbors import KNeighborsRegressor\n",
    "from sklearn.naive_bayes import GaussianNB\n",
    "from sklearn.metrics import accuracy_score, precision_score, recall_score, f1_score"
   ]
  },
  {
   "cell_type": "markdown",
   "id": "de7122e9",
   "metadata": {},
   "source": [
    "k nearest neighbors"
   ]
  },
  {
   "cell_type": "markdown",
   "id": "0b1b0554",
   "metadata": {},
   "source": [
    "Predata of training"
   ]
  },
  {
   "cell_type": "code",
   "execution_count": 17,
   "metadata": {},
   "outputs": [],
   "source": [
    "with open('knn_X.pickle', 'rb') as f:\n",
    "    knn_X = pickle.load(f)\n",
    "\n",
    "with open('knn_y.pickle', 'rb') as f:\n",
    "    knn_y = pickle.load(f)"
   ]
  },
  {
   "cell_type": "markdown",
   "id": "a0e1c30467cab51a",
   "metadata": {
    "jupyter": {
     "outputs_hidden": false
    }
   },
   "source": [
    "Split the train and the test"
   ]
  },
  {
   "cell_type": "code",
   "execution_count": 18,
   "id": "83e5605b241f020f",
   "metadata": {
    "ExecuteTime": {
     "end_time": "2023-12-18T18:44:43.166472200Z",
     "start_time": "2023-12-18T18:44:43.122671100Z"
    },
    "jupyter": {
     "outputs_hidden": false
    }
   },
   "outputs": [],
   "source": [
    "# Use the train test split function\n",
    "X_train, X_test, y_train, y_test = train_test_split(\n",
    "    knn_X, knn_y, random_state=42, test_size=0.25\n",
    ")"
   ]
  },
  {
   "cell_type": "code",
   "execution_count": 19,
   "id": "1ebfde189788d1b0",
   "metadata": {
    "ExecuteTime": {
     "end_time": "2023-12-18T18:39:52.408068500Z",
     "start_time": "2023-12-18T18:39:52.081372400Z"
    },
    "jupyter": {
     "outputs_hidden": false
    }
   },
   "outputs": [],
   "source": [
    "regressor = KNeighborsRegressor(n_neighbors=3)\n",
    "regressor.fit(X_train, y_train)\n",
    "predictions = regressor.predict(X_test)"
   ]
  },
  {
   "cell_type": "code",
   "execution_count": 20,
   "id": "211ba17f",
   "metadata": {},
   "outputs": [
    {
     "name": "stdout",
     "output_type": "stream",
     "text": [
      "Mean Squared Error: 0.07170706993639227\n",
      "Mean Absolute Error: 0.08857031613000077\n"
     ]
    }
   ],
   "source": [
    "print(\"Mean Squared Error:\", mean_squared_error(predictions,y_test) / 4)\n",
    "print(\"Mean Absolute Error:\", mean_absolute_error(predictions,y_test) / 4)"
   ]
  },
  {
   "cell_type": "markdown",
   "id": "30d579b1",
   "metadata": {},
   "source": [
    "Term Frequency and Inverse Document Frequency"
   ]
  },
  {
   "cell_type": "markdown",
   "id": "df4e0afe",
   "metadata": {},
   "source": [
    "Predata of training"
   ]
  },
  {
   "cell_type": "code",
   "execution_count": 21,
   "id": "4a5ada54",
   "metadata": {},
   "outputs": [],
   "source": [
    "with open('tfidf_X.pickle', 'rb') as f:\n",
    "    tfidf_X = pickle.load(f)\n",
    "with open('tfidf_y.pickle', 'rb') as f:\n",
    "    tfidf_y = pickle.load(f)"
   ]
  },
  {
   "cell_type": "markdown",
   "id": "59f27fa9",
   "metadata": {},
   "source": [
    "Split the train and the test"
   ]
  },
  {
   "cell_type": "code",
   "execution_count": 22,
   "id": "3eb5a748",
   "metadata": {},
   "outputs": [],
   "source": [
    "# Split the train test data\n",
    "X_train, X_test, y_train, y_test = train_test_split(tfidf_X, tfidf_y, test_size=0.2, random_state=42)\n",
    "\n",
    "# Fit model selection\n",
    "naive_bayes = GaussianNB()\n",
    "naive_bayes.fit(X_train, y_train)\n",
    "predictions = naive_bayes.predict(X_test)\n",
    "\n",
    "# Convert the output to a boolean number\n",
    "predictions = [ 1 if x == 'recommended' else 0 for x in predictions]\n",
    "y_test = [ 1 if x == 'recommended' else 0 for x in y_test]"
   ]
  },
  {
   "cell_type": "markdown",
   "id": "3c8000ef",
   "metadata": {},
   "source": [
    "Measure the performance for our parameters"
   ]
  },
  {
   "cell_type": "code",
   "execution_count": 23,
   "id": "d31f84dd1f099bca",
   "metadata": {
    "ExecuteTime": {
     "end_time": "2023-12-18T18:39:53.180956300Z",
     "start_time": "2023-12-18T18:39:52.110328300Z"
    },
    "jupyter": {
     "outputs_hidden": false
    }
   },
   "outputs": [
    {
     "name": "stdout",
     "output_type": "stream",
     "text": [
      "Accuracy: 0.9705882352941176 \n",
      "Precision: 0.9747899159663864, \n",
      "Recall: 0.9705882352941176, \n",
      "F1: 0.9714520773344304\n"
     ]
    }
   ],
   "source": [
    "accuracy = accuracy_score(y_test, predictions)\n",
    "precision = precision_score(y_test, predictions, average='weighted')\n",
    "recall = recall_score(y_test, predictions, average='weighted')\n",
    "f1 = f1_score(y_test, predictions, average='weighted')\n",
    "\n",
    "print(f'Accuracy: {accuracy} \\nPrecision: {precision}, \\nRecall: {recall}, \\nF1: {f1}')"
   ]
  }
 ],
 "metadata": {
  "kernelspec": {
   "display_name": "Python 3 (ipykernel)",
   "language": "python",
   "name": "python3"
  },
  "language_info": {
   "codemirror_mode": {
    "name": "ipython",
    "version": 3
   },
   "file_extension": ".py",
   "mimetype": "text/x-python",
   "name": "python",
   "nbconvert_exporter": "python",
   "pygments_lexer": "ipython3",
   "version": "3.12.0"
  }
 },
 "nbformat": 4,
 "nbformat_minor": 5
}
