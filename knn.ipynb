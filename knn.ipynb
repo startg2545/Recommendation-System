{
 "cells": [
  {
   "cell_type": "markdown",
   "metadata": {},
   "source": [
    "Import required packages"
   ]
  },
  {
   "cell_type": "code",
   "execution_count": 6,
   "metadata": {},
   "outputs": [],
   "source": [
    "import pandas as pd\n",
    "import numpy as np\n",
    "import pickle\n",
    "from scipy.sparse import csr_matrix\n",
    "from sklearn.neighbors import NearestNeighbors\n",
    "from fuzzywuzzy import process"
   ]
  },
  {
   "cell_type": "code",
   "execution_count": 7,
   "metadata": {},
   "outputs": [],
   "source": [
    "file_name = 'dataset.xlsx'\n",
    "file = pd.read_excel(file_name)"
   ]
  },
  {
   "cell_type": "markdown",
   "metadata": {},
   "source": [
    "Count the number of courses"
   ]
  },
  {
   "cell_type": "code",
   "execution_count": 8,
   "metadata": {},
   "outputs": [],
   "source": [
    "course_counts = pd.DataFrame(file)['course'].value_counts()\n",
    "courses = pd.Series(course_counts.index)\n",
    "courses = courses.sort_values().set_axis(range(0,len(courses)))\n",
    "number_of_courses = len(course_counts)"
   ]
  },
  {
   "cell_type": "markdown",
   "metadata": {},
   "source": [
    "Create path"
   ]
  },
  {
   "cell_type": "code",
   "execution_count": 9,
   "metadata": {},
   "outputs": [],
   "source": [
    "import os\n",
    "# Specify the folder path\n",
    "folder_path = '/workspaces/recommendation-system/pickle'\n",
    "\n",
    "# Create the folder if it doesn't exist\n",
    "if not os.path.exists(folder_path):\n",
    "    os.makedirs(folder_path)\n",
    "\n",
    "# Specify the file path\n",
    "file_path = os.path.join(folder_path, 'knn.pickle')"
   ]
  },
  {
   "cell_type": "markdown",
   "metadata": {},
   "source": [
    "Create Series of users"
   ]
  },
  {
   "cell_type": "code",
   "execution_count": 10,
   "metadata": {},
   "outputs": [
    {
     "data": {
      "text/plain": [
       "0             PORPHAING JANTIP\n",
       "1         THANAKORN DARASRISAK\n",
       "2             KARNJANA EAMTANG\n",
       "3             KARNJANA EAMTANG\n",
       "4       THITIMUN VORATHONGCHAI\n",
       "                 ...          \n",
       "6122         KITTINON SANTASUP\n",
       "6123      WITTAWAT SERMSRIPONG\n",
       "6124               NON NAKKARA\n",
       "6125         PHATTHARAPHON LIN\n",
       "6126      THANAPAT SEEMAKAJOHN\n",
       "Name: User, Length: 6127, dtype: object"
      ]
     },
     "execution_count": 10,
     "metadata": {},
     "output_type": "execute_result"
    }
   ],
   "source": [
    "s_name = file.loc[:, 'username']\n",
    "Users = pd.Series(s_name, name='User')\n",
    "Users"
   ]
  },
  {
   "cell_type": "markdown",
   "metadata": {},
   "source": [
    "Create Series of emails"
   ]
  },
  {
   "cell_type": "code",
   "execution_count": 11,
   "metadata": {},
   "outputs": [
    {
     "data": {
      "text/plain": [
       "0            tanghaoren17@gamil.com\n",
       "1               tuakung21@gmail.com\n",
       "2            karnjana.aon@gmail.com\n",
       "3            karnjana.aon@gmail.com\n",
       "4          thitimun.rama1@gmail.com\n",
       "                   ...             \n",
       "6122           kittinon_s@cmu.ac.th\n",
       "6123        wittawat_serm@cmu.ac.th\n",
       "6124          non_nakkara@cmu.ac.th\n",
       "6125    phattharaphon_lin@cmu.ac.th\n",
       "6126         thanapat_see@cmu.ac.th\n",
       "Name: Email, Length: 6127, dtype: object"
      ]
     },
     "execution_count": 11,
     "metadata": {},
     "output_type": "execute_result"
    }
   ],
   "source": [
    "s_email = file.loc[:, 'email'].fillna(\"\")\n",
    "Emails = pd.Series(s_email ,name='Email')\n",
    "Emails"
   ]
  },
  {
   "cell_type": "markdown",
   "metadata": {},
   "source": [
    "Provide a score to each user based on their email domain"
   ]
  },
  {
   "cell_type": "code",
   "execution_count": 12,
   "metadata": {},
   "outputs": [
    {
     "data": {
      "text/plain": [
       "0       1\n",
       "1       1\n",
       "2       1\n",
       "3       1\n",
       "4       1\n",
       "       ..\n",
       "6122    2\n",
       "6123    2\n",
       "6124    2\n",
       "6125    2\n",
       "6126    2\n",
       "Name: Score Email, Length: 6127, dtype: int64"
      ]
     },
     "execution_count": 12,
     "metadata": {},
     "output_type": "execute_result"
    }
   ],
   "source": [
    "email_score = []\n",
    "for data in Emails:\n",
    "    if data != '':\n",
    "        if data.split('@')[1] == 'cmu.ac.th':\n",
    "            email_score.append(2)\n",
    "        else:\n",
    "            email_score.append(1)\n",
    "    else:\n",
    "        email_score.append(0)\n",
    "email_score = pd.Series(email_score, name='Score Email')\n",
    "\n",
    "email_score"
   ]
  },
  {
   "cell_type": "markdown",
   "metadata": {},
   "source": [
    "Email Score Statistic"
   ]
  },
  {
   "cell_type": "code",
   "execution_count": 13,
   "metadata": {},
   "outputs": [
    {
     "name": "stdout",
     "output_type": "stream",
     "text": [
      "Number of students who filled cmu email: 1268\n",
      "Number of students who filled other email: 4853\n",
      "Number of students who did not fill email: 6\n"
     ]
    }
   ],
   "source": [
    "zero_score_count = email_score.where(email_score == 0).count()\n",
    "one_score_count = email_score.where(email_score == 1).count()\n",
    "two_score_count = email_score.where(email_score == 2).count()\n",
    "\n",
    "print(\"Number of students who filled cmu email:\", two_score_count)\n",
    "print(\"Number of students who filled other email:\", one_score_count)\n",
    "print(\"Number of students who did not fill email:\", zero_score_count)"
   ]
  },
  {
   "cell_type": "markdown",
   "metadata": {},
   "source": [
    "Create function to calculate age-education score"
   ]
  },
  {
   "cell_type": "code",
   "execution_count": 14,
   "metadata": {},
   "outputs": [],
   "source": [
    "def getAgeEducationScore(age, limit_age):\n",
    "    if age <= limit_age:\n",
    "        score = 0\n",
    "    elif age <= limit_age + 2:\n",
    "        score = 1\n",
    "    else:\n",
    "        score = 2\n",
    "    return score"
   ]
  },
  {
   "cell_type": "markdown",
   "metadata": {},
   "source": [
    "Create set of the educational range"
   ]
  },
  {
   "cell_type": "code",
   "execution_count": 15,
   "metadata": {},
   "outputs": [],
   "source": [
    "set_nan = {'อื่นๆ (-)', np.nan}\n",
    "set_primaryschool = {'ประถมศึกษา', 'อื่นๆ (ป.4)', 'อื่นๆ (ป.7)', 'อื่นๆ (ป7)'}\n",
    "set_middleschool = {'มัธยมศึกษาตอนต้น', 'Secondary school', 'อื่นๆ (มศ.3)'}\n",
    "set_highschool = {'มัธยมศึกษาตอนปลาย', 'High school', 'Vocational', 'การศึกษานอกระบบ', \n",
    "                  'ประกาศนียบัตรวิชาชีพ (ปวช.)', 'อื่นๆ (ม.ปลาย จบหลักสูตรEMR เป็นจนท.ปฏิบัติการ)',\n",
    "                  'อื่นๆ (กำลังศึกษาชั้นมัธยมศึกษาตอนปลาย)', 'อื่นๆ (กำลังศึกษาชั้นมัธยมศึกษาปีที่6)', \n",
    "                  'อื่นๆ (มศ.5)'}\n",
    "set_bachelor = {'ปริญญาตรี', 'Bachelor degree', 'Diploma', 'High Vocational', \n",
    "                'ประกาศนียบัตรวิชาชีพชั้นสูง (ปวส.)', 'อื่นๆ (กำลังศึกษาในระดับปริญญาตรี)', \n",
    "                'อื่นๆ (กำลังศึกษาปริญญาตรี สาขารังสีเทคนิค)', 'อื่นๆ (ปริญญาแพทยศาสตร์บัณฑิต)', \n",
    "                'อื่นๆ (นักศึกษาแพทย์ปี 5)', 'อื่นๆ (นักศึกษาแพทย์ มช ปี4 ศูนย์เชียงราย)', \n",
    "                'อื่นๆ (แพทยศาสตร์บัณฑิต)', 'อื่นๆ (แพทย์)', 'อื่นๆ (ประกาศณียบัตรผู้ช่วยพยาบาล)', \n",
    "                'อนุปริญญา', 'อื่นๆ (ป.ตรี)', 'อื่นๆ (ผู้ช่วยพยาบาล)'}\n",
    "set_masterdocter = {'ปริญญาโท', 'ปริญญาเอก', \"Master's degree\", 'Other (OBGYN specalist lavel 1)', \n",
    "                    'Other (Residency)', 'Ph.D.', 'อื่นๆ (Internal Medicine)', \n",
    "                    'อื่นๆ (เฉพาะทาง)', 'อื่นๆ (วุฒิบัตร)', 'อื่นๆ (วว.ออร์โธปิดิกส์)', \n",
    "                    'อื่นๆ (วุฒิบัตรแสดงความรู้ความชำนาญในการประกอบวิชาชีพเภสัชกรรม สาขาเภสัชบำบัด)', \n",
    "                    'อื่นๆ (วุฒิบัตรผู้เชี่ยวชาญสาขาทันตกรรมทั่วไป)', 'อื่นๆ (วุฒิบัตรศัลยศาสตร์และแม็กซิลโลเฟเชียล)'}\n",
    "\n",
    "list_degree = ((set_nan, 0), (set_primaryschool, 16), (set_middleschool, 19), \n",
    "               (set_highschool, 22), (set_bachelor,26), (set_masterdocter,40))"
   ]
  },
  {
   "cell_type": "markdown",
   "metadata": {},
   "source": [
    "Create Series of Age-Education"
   ]
  },
  {
   "cell_type": "code",
   "execution_count": 16,
   "metadata": {},
   "outputs": [],
   "source": [
    "ages = file.loc[:, 'age']\n",
    "educations = file.loc[:, 'education']\n",
    "age_education_scores = []\n",
    "\n",
    "for i,x in enumerate(educations):\n",
    "    for y in list_degree:\n",
    "        if x in y[0]:\n",
    "            age_education_scores.append(getAgeEducationScore(ages[i], y[1]))\n",
    "            \n",
    "age_education_scores = pd.Series(age_education_scores, name='Age Education Score')"
   ]
  },
  {
   "cell_type": "markdown",
   "metadata": {},
   "source": [
    "Age-Education Score Statistic"
   ]
  },
  {
   "cell_type": "code",
   "execution_count": 17,
   "metadata": {},
   "outputs": [
    {
     "name": "stdout",
     "output_type": "stream",
     "text": [
      "Number of students who are currently in the educational system: 4229\n",
      "Number of students who were recently graduated: 487\n",
      "Number of students who are not in the educational system: 1411\n"
     ]
    }
   ],
   "source": [
    "zero_score_count = age_education_scores.where(age_education_scores == 0).count()\n",
    "one_score_count = age_education_scores.where(age_education_scores == 1).count()\n",
    "two_score_count = age_education_scores.where(age_education_scores == 2).count()\n",
    "\n",
    "print(\"Number of students who are currently in the educational system:\", zero_score_count)\n",
    "print(\"Number of students who were recently graduated:\", one_score_count)\n",
    "print(\"Number of students who are not in the educational system:\", two_score_count)"
   ]
  },
  {
   "cell_type": "markdown",
   "metadata": {},
   "source": [
    "Create Series of status"
   ]
  },
  {
   "cell_type": "code",
   "execution_count": 18,
   "metadata": {},
   "outputs": [
    {
     "data": {
      "text/plain": [
       "0       ชำระเงิน\n",
       "1       ชำระเงิน\n",
       "2       ชำระเงิน\n",
       "3       ชำระเงิน\n",
       "4       ชำระเงิน\n",
       "          ...   \n",
       "6122    ชำระเงิน\n",
       "6123    ชำระเงิน\n",
       "6124    ชำระเงิน\n",
       "6125    ชำระเงิน\n",
       "6126    ชำระเงิน\n",
       "Name: Status, Length: 6127, dtype: object"
      ]
     },
     "execution_count": 18,
     "metadata": {},
     "output_type": "execute_result"
    }
   ],
   "source": [
    "status = file.loc[:, 'payment'].fillna(\"\")\n",
    "status = pd.Series(status ,name='Status')\n",
    "status"
   ]
  },
  {
   "cell_type": "markdown",
   "metadata": {},
   "source": [
    "Provide a score to each user based on their purchase status"
   ]
  },
  {
   "cell_type": "code",
   "execution_count": 19,
   "metadata": {},
   "outputs": [],
   "source": [
    "payment_score = []\n",
    "for x in status:\n",
    "    if x == 'ชำระเงิน':\n",
    "        payment_score.append(2)\n",
    "    if x == 'ไม่ผ่านการอนุมัติ':\n",
    "        payment_score.append(1)\n",
    "    if x == 'ค้างชำระ':\n",
    "        payment_score.append(0)\n",
    "payment_score = pd.Series(payment_score)"
   ]
  },
  {
   "cell_type": "markdown",
   "metadata": {},
   "source": [
    "Purchase Status Score Statistics"
   ]
  },
  {
   "cell_type": "code",
   "execution_count": 20,
   "metadata": {},
   "outputs": [
    {
     "name": "stdout",
     "output_type": "stream",
     "text": [
      "Number of students who are in arrears: 531\n",
      "Number of students whose payment was not approved: 124\n",
      "Number of students with payment approval: 5472\n"
     ]
    }
   ],
   "source": [
    "zero_score_count = payment_score.where(payment_score == 0).count()\n",
    "one_score_count = payment_score.where(payment_score == 1).count()\n",
    "two_score_count = payment_score.where(payment_score == 2).count()\n",
    "\n",
    "print(\"Number of students who are in arrears:\", zero_score_count)\n",
    "print(\"Number of students whose payment was not approved:\", one_score_count)\n",
    "print(\"Number of students with payment approval:\", two_score_count)"
   ]
  },
  {
   "cell_type": "markdown",
   "metadata": {},
   "source": [
    "Create Series of address"
   ]
  },
  {
   "cell_type": "code",
   "execution_count": 21,
   "metadata": {},
   "outputs": [
    {
     "data": {
      "text/plain": [
       "0                                                        \n",
       "1       125/27 ซ.3 ถ.ราษฎรยินดี ต.หน้าเมือง อ.เมือง จ....\n",
       "2                                                        \n",
       "3                                                        \n",
       "4                                                        \n",
       "                              ...                        \n",
       "6122                                                     \n",
       "6123                                                     \n",
       "6124                                                     \n",
       "6125                                                     \n",
       "6126                                                     \n",
       "Name: Status, Length: 6127, dtype: object"
      ]
     },
     "execution_count": 21,
     "metadata": {},
     "output_type": "execute_result"
    }
   ],
   "source": [
    "address = file.loc[:, 'address'].fillna(\"\")\n",
    "address = pd.Series(address ,name='Status')\n",
    "address"
   ]
  },
  {
   "cell_type": "markdown",
   "metadata": {},
   "source": [
    "Provide a score to each user based on whether they provide address information or not"
   ]
  },
  {
   "cell_type": "code",
   "execution_count": 22,
   "metadata": {},
   "outputs": [],
   "source": [
    "address_score = [ 0 if x == '' else 1 for x in address]\n",
    "address_score = pd.Series(address_score)"
   ]
  },
  {
   "cell_type": "markdown",
   "metadata": {},
   "source": [
    "Address Score Statistic"
   ]
  },
  {
   "cell_type": "code",
   "execution_count": 23,
   "metadata": {},
   "outputs": [
    {
     "name": "stdout",
     "output_type": "stream",
     "text": [
      "Number of students who did not fill address: 4005\n",
      "Number of students who filled address: 2122\n"
     ]
    }
   ],
   "source": [
    "zero_score_count = address_score.where(address_score == 0).count()\n",
    "one_score_count = address_score.where(address_score == 1).count()\n",
    "\n",
    "print(\"Number of students who did not fill address:\", zero_score_count)\n",
    "print(\"Number of students who filled address:\", one_score_count)"
   ]
  },
  {
   "cell_type": "markdown",
   "metadata": {},
   "source": [
    "Create Series of data"
   ]
  },
  {
   "cell_type": "code",
   "execution_count": 24,
   "metadata": {},
   "outputs": [],
   "source": [
    "time = file.loc[:, 'time'].fillna(\"\")\n",
    "time = pd.Series(time ,name='Time')\n",
    "time = time.str.slice(start=-8, stop=-6)"
   ]
  },
  {
   "cell_type": "markdown",
   "metadata": {},
   "source": [
    "Provide a score to each user based on their enrollment time"
   ]
  },
  {
   "cell_type": "code",
   "execution_count": 25,
   "metadata": {},
   "outputs": [],
   "source": [
    "time_set = {'08','09','10','15'}  # if the time is in this set, it is considered as a good time\n",
    "time_score = [ 1 if x in time_set else 0 for x in time]\n",
    "time_score = pd.Series(time_score)"
   ]
  },
  {
   "cell_type": "markdown",
   "metadata": {},
   "source": [
    "Create DataFrame by merging these 4 Series and calculate impressive level"
   ]
  },
  {
   "cell_type": "code",
   "execution_count": 26,
   "metadata": {},
   "outputs": [
    {
     "data": {
      "text/html": [
       "<div>\n",
       "<style scoped>\n",
       "    .dataframe tbody tr th:only-of-type {\n",
       "        vertical-align: middle;\n",
       "    }\n",
       "\n",
       "    .dataframe tbody tr th {\n",
       "        vertical-align: top;\n",
       "    }\n",
       "\n",
       "    .dataframe thead th {\n",
       "        text-align: right;\n",
       "    }\n",
       "</style>\n",
       "<table border=\"1\" class=\"dataframe\">\n",
       "  <thead>\n",
       "    <tr style=\"text-align: right;\">\n",
       "      <th></th>\n",
       "      <th>User</th>\n",
       "      <th>Course</th>\n",
       "      <th>Email Score</th>\n",
       "      <th>Age Education Score</th>\n",
       "      <th>Time</th>\n",
       "      <th>Payment Score</th>\n",
       "      <th>Address Score</th>\n",
       "      <th>Score</th>\n",
       "    </tr>\n",
       "  </thead>\n",
       "  <tbody>\n",
       "    <tr>\n",
       "      <th>0</th>\n",
       "      <td>PORPHAING JANTIP</td>\n",
       "      <td>หลักการและพื้นฐานของเครื่องมือทางรังสีวิทยา (B...</td>\n",
       "      <td>1</td>\n",
       "      <td>0</td>\n",
       "      <td>1</td>\n",
       "      <td>2</td>\n",
       "      <td>0</td>\n",
       "      <td>3.875</td>\n",
       "    </tr>\n",
       "    <tr>\n",
       "      <th>1</th>\n",
       "      <td>THANAKORN DARASRISAK</td>\n",
       "      <td>การวินิจฉัยภาวะฉุกเฉินจากอุบัติเหตุ (Diagnosti...</td>\n",
       "      <td>1</td>\n",
       "      <td>1</td>\n",
       "      <td>1</td>\n",
       "      <td>2</td>\n",
       "      <td>1</td>\n",
       "      <td>4.375</td>\n",
       "    </tr>\n",
       "    <tr>\n",
       "      <th>2</th>\n",
       "      <td>KARNJANA EAMTANG</td>\n",
       "      <td>การวินิจฉัยภาวะฉุกเฉินจากอุบัติเหตุ (Diagnosti...</td>\n",
       "      <td>1</td>\n",
       "      <td>2</td>\n",
       "      <td>0</td>\n",
       "      <td>2</td>\n",
       "      <td>0</td>\n",
       "      <td>3.875</td>\n",
       "    </tr>\n",
       "    <tr>\n",
       "      <th>3</th>\n",
       "      <td>KARNJANA EAMTANG</td>\n",
       "      <td>การวินิจฉัยภาวะฉุกเฉินที่ไม่ได้เกิดจากอุบัติเห...</td>\n",
       "      <td>1</td>\n",
       "      <td>2</td>\n",
       "      <td>0</td>\n",
       "      <td>2</td>\n",
       "      <td>0</td>\n",
       "      <td>3.875</td>\n",
       "    </tr>\n",
       "    <tr>\n",
       "      <th>4</th>\n",
       "      <td>THITIMUN VORATHONGCHAI</td>\n",
       "      <td>หลักการและพื้นฐานของเครื่องมือทางรังสีวิทยา (B...</td>\n",
       "      <td>1</td>\n",
       "      <td>2</td>\n",
       "      <td>0</td>\n",
       "      <td>2</td>\n",
       "      <td>0</td>\n",
       "      <td>3.875</td>\n",
       "    </tr>\n",
       "    <tr>\n",
       "      <th>5</th>\n",
       "      <td>PEERACHET POOSUNTISOMPUN</td>\n",
       "      <td>การวินิจฉัยภาวะฉุกเฉินที่ไม่ได้เกิดจากอุบัติเห...</td>\n",
       "      <td>1</td>\n",
       "      <td>0</td>\n",
       "      <td>0</td>\n",
       "      <td>2</td>\n",
       "      <td>0</td>\n",
       "      <td>3.375</td>\n",
       "    </tr>\n",
       "    <tr>\n",
       "      <th>6</th>\n",
       "      <td>WARACHAN CHAIKANTA</td>\n",
       "      <td>การวินิจฉัยภาวะฉุกเฉินที่ไม่ได้เกิดจากอุบัติเห...</td>\n",
       "      <td>1</td>\n",
       "      <td>2</td>\n",
       "      <td>1</td>\n",
       "      <td>2</td>\n",
       "      <td>0</td>\n",
       "      <td>4.375</td>\n",
       "    </tr>\n",
       "    <tr>\n",
       "      <th>7</th>\n",
       "      <td>WARACHAN CHAIKANTA</td>\n",
       "      <td>การวินิจฉัยภาวะฉุกเฉินจากอุบัติเหตุ (Diagnosti...</td>\n",
       "      <td>1</td>\n",
       "      <td>2</td>\n",
       "      <td>1</td>\n",
       "      <td>2</td>\n",
       "      <td>0</td>\n",
       "      <td>4.375</td>\n",
       "    </tr>\n",
       "    <tr>\n",
       "      <th>8</th>\n",
       "      <td>WARIT DENSRISEREEKUL</td>\n",
       "      <td>หลักการและพื้นฐานของเครื่องมือทางรังสีวิทยา (B...</td>\n",
       "      <td>1</td>\n",
       "      <td>2</td>\n",
       "      <td>0</td>\n",
       "      <td>2</td>\n",
       "      <td>1</td>\n",
       "      <td>4.125</td>\n",
       "    </tr>\n",
       "    <tr>\n",
       "      <th>9</th>\n",
       "      <td>NARINTIPP SHUSANG</td>\n",
       "      <td>หลักการและพื้นฐานของเครื่องมือทางรังสีวิทยา (B...</td>\n",
       "      <td>1</td>\n",
       "      <td>2</td>\n",
       "      <td>0</td>\n",
       "      <td>2</td>\n",
       "      <td>0</td>\n",
       "      <td>3.875</td>\n",
       "    </tr>\n",
       "    <tr>\n",
       "      <th>10</th>\n",
       "      <td>NARINTIPP SHUSANG</td>\n",
       "      <td>การวินิจฉัยภาวะฉุกเฉินที่ไม่ได้เกิดจากอุบัติเห...</td>\n",
       "      <td>1</td>\n",
       "      <td>2</td>\n",
       "      <td>0</td>\n",
       "      <td>1</td>\n",
       "      <td>0</td>\n",
       "      <td>2.875</td>\n",
       "    </tr>\n",
       "    <tr>\n",
       "      <th>11</th>\n",
       "      <td>NUSSAREEYA CHOBNGAM</td>\n",
       "      <td>การวินิจฉัยภาวะฉุกเฉินที่ไม่ได้เกิดจากอุบัติเห...</td>\n",
       "      <td>1</td>\n",
       "      <td>1</td>\n",
       "      <td>0</td>\n",
       "      <td>2</td>\n",
       "      <td>0</td>\n",
       "      <td>3.625</td>\n",
       "    </tr>\n",
       "    <tr>\n",
       "      <th>12</th>\n",
       "      <td>NUSSAREEYA CHOBNGAM</td>\n",
       "      <td>การวินิจฉัยภาวะฉุกเฉินจากอุบัติเหตุ (Diagnosti...</td>\n",
       "      <td>1</td>\n",
       "      <td>1</td>\n",
       "      <td>0</td>\n",
       "      <td>2</td>\n",
       "      <td>0</td>\n",
       "      <td>3.625</td>\n",
       "    </tr>\n",
       "    <tr>\n",
       "      <th>13</th>\n",
       "      <td>AMPORN MALISORN</td>\n",
       "      <td>การพัฒนาปัญญาด้วยเกมต่อศัพท์ภาษาอังกฤษ (Intell...</td>\n",
       "      <td>1</td>\n",
       "      <td>0</td>\n",
       "      <td>0</td>\n",
       "      <td>0</td>\n",
       "      <td>0</td>\n",
       "      <td>1.375</td>\n",
       "    </tr>\n",
       "    <tr>\n",
       "      <th>14</th>\n",
       "      <td>SUNANTHA THINRAJ</td>\n",
       "      <td>การวินิจฉัยภาวะฉุกเฉินที่ไม่ได้เกิดจากอุบัติเห...</td>\n",
       "      <td>1</td>\n",
       "      <td>2</td>\n",
       "      <td>0</td>\n",
       "      <td>2</td>\n",
       "      <td>0</td>\n",
       "      <td>3.875</td>\n",
       "    </tr>\n",
       "    <tr>\n",
       "      <th>15</th>\n",
       "      <td>APISARA PHAOWTAJAI</td>\n",
       "      <td>หลักการและพื้นฐานของเครื่องมือทางรังสีวิทยา (B...</td>\n",
       "      <td>1</td>\n",
       "      <td>1</td>\n",
       "      <td>0</td>\n",
       "      <td>2</td>\n",
       "      <td>0</td>\n",
       "      <td>3.625</td>\n",
       "    </tr>\n",
       "    <tr>\n",
       "      <th>16</th>\n",
       "      <td>PUKKAPOL SUVANNACHART</td>\n",
       "      <td>การวินิจฉัยภาวะฉุกเฉินที่ไม่ได้เกิดจากอุบัติเห...</td>\n",
       "      <td>1</td>\n",
       "      <td>0</td>\n",
       "      <td>1</td>\n",
       "      <td>2</td>\n",
       "      <td>0</td>\n",
       "      <td>3.875</td>\n",
       "    </tr>\n",
       "    <tr>\n",
       "      <th>17</th>\n",
       "      <td>TING ZHOU</td>\n",
       "      <td>เตรียมความพร้อมด้านดิจิทัลและทักษะภาษาอังกฤษ ส...</td>\n",
       "      <td>1</td>\n",
       "      <td>2</td>\n",
       "      <td>1</td>\n",
       "      <td>2</td>\n",
       "      <td>1</td>\n",
       "      <td>4.625</td>\n",
       "    </tr>\n",
       "    <tr>\n",
       "      <th>18</th>\n",
       "      <td>WARUNYAPORN PHROMPHAT</td>\n",
       "      <td>หลักสูตรอบรมเทคนิคการแพทย์เฉพาะทาง 16 หน่วยกิต...</td>\n",
       "      <td>1</td>\n",
       "      <td>2</td>\n",
       "      <td>0</td>\n",
       "      <td>2</td>\n",
       "      <td>1</td>\n",
       "      <td>4.125</td>\n",
       "    </tr>\n",
       "    <tr>\n",
       "      <th>19</th>\n",
       "      <td>THANUNCHANOK KOMGRONG</td>\n",
       "      <td>หลักการและพื้นฐานของเครื่องมือทางรังสีวิทยา (B...</td>\n",
       "      <td>1</td>\n",
       "      <td>0</td>\n",
       "      <td>0</td>\n",
       "      <td>2</td>\n",
       "      <td>0</td>\n",
       "      <td>3.375</td>\n",
       "    </tr>\n",
       "  </tbody>\n",
       "</table>\n",
       "</div>"
      ],
      "text/plain": [
       "                        User  \\\n",
       "0           PORPHAING JANTIP   \n",
       "1       THANAKORN DARASRISAK   \n",
       "2           KARNJANA EAMTANG   \n",
       "3           KARNJANA EAMTANG   \n",
       "4     THITIMUN VORATHONGCHAI   \n",
       "5   PEERACHET POOSUNTISOMPUN   \n",
       "6         WARACHAN CHAIKANTA   \n",
       "7         WARACHAN CHAIKANTA   \n",
       "8       WARIT DENSRISEREEKUL   \n",
       "9          NARINTIPP SHUSANG   \n",
       "10         NARINTIPP SHUSANG   \n",
       "11       NUSSAREEYA CHOBNGAM   \n",
       "12       NUSSAREEYA CHOBNGAM   \n",
       "13           AMPORN MALISORN   \n",
       "14          SUNANTHA THINRAJ   \n",
       "15        APISARA PHAOWTAJAI   \n",
       "16     PUKKAPOL SUVANNACHART   \n",
       "17                 TING ZHOU   \n",
       "18     WARUNYAPORN PHROMPHAT   \n",
       "19     THANUNCHANOK KOMGRONG   \n",
       "\n",
       "                                               Course  Email Score  \\\n",
       "0   หลักการและพื้นฐานของเครื่องมือทางรังสีวิทยา (B...            1   \n",
       "1   การวินิจฉัยภาวะฉุกเฉินจากอุบัติเหตุ (Diagnosti...            1   \n",
       "2   การวินิจฉัยภาวะฉุกเฉินจากอุบัติเหตุ (Diagnosti...            1   \n",
       "3   การวินิจฉัยภาวะฉุกเฉินที่ไม่ได้เกิดจากอุบัติเห...            1   \n",
       "4   หลักการและพื้นฐานของเครื่องมือทางรังสีวิทยา (B...            1   \n",
       "5   การวินิจฉัยภาวะฉุกเฉินที่ไม่ได้เกิดจากอุบัติเห...            1   \n",
       "6   การวินิจฉัยภาวะฉุกเฉินที่ไม่ได้เกิดจากอุบัติเห...            1   \n",
       "7   การวินิจฉัยภาวะฉุกเฉินจากอุบัติเหตุ (Diagnosti...            1   \n",
       "8   หลักการและพื้นฐานของเครื่องมือทางรังสีวิทยา (B...            1   \n",
       "9   หลักการและพื้นฐานของเครื่องมือทางรังสีวิทยา (B...            1   \n",
       "10  การวินิจฉัยภาวะฉุกเฉินที่ไม่ได้เกิดจากอุบัติเห...            1   \n",
       "11  การวินิจฉัยภาวะฉุกเฉินที่ไม่ได้เกิดจากอุบัติเห...            1   \n",
       "12  การวินิจฉัยภาวะฉุกเฉินจากอุบัติเหตุ (Diagnosti...            1   \n",
       "13  การพัฒนาปัญญาด้วยเกมต่อศัพท์ภาษาอังกฤษ (Intell...            1   \n",
       "14  การวินิจฉัยภาวะฉุกเฉินที่ไม่ได้เกิดจากอุบัติเห...            1   \n",
       "15  หลักการและพื้นฐานของเครื่องมือทางรังสีวิทยา (B...            1   \n",
       "16  การวินิจฉัยภาวะฉุกเฉินที่ไม่ได้เกิดจากอุบัติเห...            1   \n",
       "17  เตรียมความพร้อมด้านดิจิทัลและทักษะภาษาอังกฤษ ส...            1   \n",
       "18  หลักสูตรอบรมเทคนิคการแพทย์เฉพาะทาง 16 หน่วยกิต...            1   \n",
       "19  หลักการและพื้นฐานของเครื่องมือทางรังสีวิทยา (B...            1   \n",
       "\n",
       "    Age Education Score  Time  Payment Score  Address Score  Score  \n",
       "0                     0     1              2              0  3.875  \n",
       "1                     1     1              2              1  4.375  \n",
       "2                     2     0              2              0  3.875  \n",
       "3                     2     0              2              0  3.875  \n",
       "4                     2     0              2              0  3.875  \n",
       "5                     0     0              2              0  3.375  \n",
       "6                     2     1              2              0  4.375  \n",
       "7                     2     1              2              0  4.375  \n",
       "8                     2     0              2              1  4.125  \n",
       "9                     2     0              2              0  3.875  \n",
       "10                    2     0              1              0  2.875  \n",
       "11                    1     0              2              0  3.625  \n",
       "12                    1     0              2              0  3.625  \n",
       "13                    0     0              0              0  1.375  \n",
       "14                    2     0              2              0  3.875  \n",
       "15                    1     0              2              0  3.625  \n",
       "16                    0     1              2              0  3.875  \n",
       "17                    2     1              2              1  4.625  \n",
       "18                    2     0              2              1  4.125  \n",
       "19                    0     0              2              0  3.375  "
      ]
     },
     "execution_count": 26,
     "metadata": {},
     "output_type": "execute_result"
    }
   ],
   "source": [
    "user = file.loc[:, 'username']\n",
    "course = file.loc[:, 'course']\n",
    "d = {\n",
    "    'User': user,\n",
    "    'Course': course,\n",
    "    'Email Score': email_score,\n",
    "    'Age Education Score': age_education_scores,\n",
    "    'Time': time_score,\n",
    "    'Payment Score': payment_score,\n",
    "    'Address Score': address_score,\n",
    "    'Score': 1 + email_score*0.375 + age_education_scores*0.25 + time_score*0.5  + payment_score*1 + address_score*0.25\n",
    "}\n",
    "knn_features = pd.DataFrame(d)\n",
    "knn_features.head(20)"
   ]
  },
  {
   "cell_type": "markdown",
   "metadata": {},
   "source": [
    "Create user-course table"
   ]
  },
  {
   "cell_type": "code",
   "execution_count": 27,
   "metadata": {},
   "outputs": [],
   "source": [
    "# all user, course, score have the same length\n",
    "data = {\n",
    "    'User': knn_features['User'],\n",
    "    'Course': knn_features['Course'],\n",
    "    'Score': knn_features['Score'],\n",
    "}\n",
    "\n",
    "predata = pd.DataFrame(data)"
   ]
  },
  {
   "cell_type": "markdown",
   "metadata": {},
   "source": [
    "Export variable"
   ]
  },
  {
   "cell_type": "code",
   "execution_count": 28,
   "metadata": {},
   "outputs": [],
   "source": [
    "with open(file_path, 'wb') as f:\n",
    "    pickle.dump(knn_features, f)"
   ]
  },
  {
   "cell_type": "markdown",
   "metadata": {},
   "source": [
    "Calculate sparsity and csr matrix"
   ]
  },
  {
   "cell_type": "code",
   "execution_count": 29,
   "metadata": {},
   "outputs": [],
   "source": [
    "# Pivot table by rotating course\n",
    "data = pd.pivot_table(predata, values='Score', index='Course', columns='User').fillna(0)\n",
    "\n",
    "# Convert dataframe to sparse matrix\n",
    "knn_matrix = csr_matrix(data.values)"
   ]
  },
  {
   "cell_type": "code",
   "execution_count": 30,
   "metadata": {},
   "outputs": [],
   "source": [
    "model_knn = NearestNeighbors(metric='cosine', algorithm='brute').fit(knn_matrix)"
   ]
  },
  {
   "cell_type": "markdown",
   "metadata": {},
   "source": [
    "Recommender function using KNN model"
   ]
  },
  {
   "cell_type": "code",
   "execution_count": 31,
   "metadata": {},
   "outputs": [],
   "source": [
    "def recommender_knn(course_name):\n",
    "    n_recommendations = int( number_of_courses ** (1/2) )\n",
    "    idx = process.extractOne(course_name, courses)[2]\n",
    "    distances, indices = model_knn.kneighbors(knn_matrix[idx], n_neighbors=n_recommendations+1, return_distance=True)\n",
    "    recommendations = [courses[i].where(i!=idx) for i in indices]\n",
    "    recommended_courses = recommendations[0][1:]\n",
    "    course_distances = distances[0][1:]\n",
    "    d = {\n",
    "        'Course': recommended_courses,\n",
    "        'Cosine Distance': course_distances\n",
    "    }\n",
    "    results = pd.DataFrame(data=d)\n",
    "    n_distance = results['Cosine Distance'].where(results['Cosine Distance'] < 0.8).count()\n",
    "    return results.head(n_distance)"
   ]
  },
  {
   "cell_type": "code",
   "execution_count": 32,
   "metadata": {},
   "outputs": [
    {
     "data": {
      "text/html": [
       "<div>\n",
       "<style scoped>\n",
       "    .dataframe tbody tr th:only-of-type {\n",
       "        vertical-align: middle;\n",
       "    }\n",
       "\n",
       "    .dataframe tbody tr th {\n",
       "        vertical-align: top;\n",
       "    }\n",
       "\n",
       "    .dataframe thead th {\n",
       "        text-align: right;\n",
       "    }\n",
       "</style>\n",
       "<table border=\"1\" class=\"dataframe\">\n",
       "  <thead>\n",
       "    <tr style=\"text-align: right;\">\n",
       "      <th></th>\n",
       "      <th>Course</th>\n",
       "      <th>Cosine Distance</th>\n",
       "    </tr>\n",
       "  </thead>\n",
       "  <tbody>\n",
       "    <tr>\n",
       "      <th>152</th>\n",
       "      <td>เตรียมความพร้อมทางรังสีวิทยาสำหรับบุคลากรทางกา...</td>\n",
       "      <td>0.672307</td>\n",
       "    </tr>\n",
       "    <tr>\n",
       "      <th>42</th>\n",
       "      <td>การวินิจฉัยภาวะฉุกเฉินจากอุบัติเหตุ (Diagnosti...</td>\n",
       "      <td>0.722699</td>\n",
       "    </tr>\n",
       "    <tr>\n",
       "      <th>43</th>\n",
       "      <td>การวินิจฉัยภาวะฉุกเฉินที่ไม่ได้เกิดจากอุบัติเห...</td>\n",
       "      <td>0.754774</td>\n",
       "    </tr>\n",
       "  </tbody>\n",
       "</table>\n",
       "</div>"
      ],
      "text/plain": [
       "                                                Course  Cosine Distance\n",
       "152  เตรียมความพร้อมทางรังสีวิทยาสำหรับบุคลากรทางกา...         0.672307\n",
       "42   การวินิจฉัยภาวะฉุกเฉินจากอุบัติเหตุ (Diagnosti...         0.722699\n",
       "43   การวินิจฉัยภาวะฉุกเฉินที่ไม่ได้เกิดจากอุบัติเห...         0.754774"
      ]
     },
     "execution_count": 32,
     "metadata": {},
     "output_type": "execute_result"
    }
   ],
   "source": [
    "recommender_knn('หลักการและพื้นฐานของเครื่องมือทางรังสีวิทยา (Basic Principle of Diagnostic Radiology Imaging Instruments)')"
   ]
  },
  {
   "cell_type": "markdown",
   "metadata": {},
   "source": [
    "Predata of training"
   ]
  },
  {
   "cell_type": "code",
   "execution_count": 33,
   "metadata": {},
   "outputs": [],
   "source": [
    "# Take 2 columns from Table\n",
    "course_score = knn_features[['Course', 'Score']]\n",
    "\n",
    "# Sort the course\n",
    "course = knn_features['Course'].sort_values().unique()\n",
    "\n",
    "# Calculate the mean of each course\n",
    "course_mean = course_score.groupby('Course')\n",
    "course_mean = course_mean.mean().loc[:, 'Score']\n",
    "\n",
    "# Take 2 columns from Table\n",
    "course_user = knn_features[['Course', 'User']]\n",
    "\n",
    "# Count the number of users who enrolled each course \n",
    "course_count = course_user.value_counts('Course')\n",
    "course_count = course_count.sort_index()\n",
    "\n",
    "# Take feature columns from Table\n",
    "course_feature = knn_features[['Course', 'Email Score', 'Age Education Score', 'Time', 'Payment Score', 'Address Score']]\n",
    "agg_functions = {\n",
    "    'Email Score': 'mean',\n",
    "    'Age Education Score': 'mean',\n",
    "    'Time': 'mean',\n",
    "    'Payment Score': 'mean',\n",
    "    'Address Score': 'mean',\n",
    "}\n",
    "course_feature = course_feature.groupby('Course').aggregate(agg_functions)"
   ]
  },
  {
   "cell_type": "markdown",
   "metadata": {},
   "source": [
    "Create the train dataframe"
   ]
  },
  {
   "cell_type": "code",
   "execution_count": 34,
   "metadata": {},
   "outputs": [],
   "source": [
    "course_feature['Count'] = course_count\n",
    "course_feature['Score'] = course_mean\n",
    "train_df = pd.DataFrame(course_feature)\n",
    "pd.set_option('display.max_rows', train_df.shape[0]+1)\n",
    "filtered_train_df = train_df[train_df['Score'] > 4]"
   ]
  },
  {
   "cell_type": "code",
   "execution_count": 35,
   "metadata": {},
   "outputs": [],
   "source": [
    "# Get X and y features variables\n",
    "X = train_df[['Email Score', 'Age Education Score', 'Time', 'Payment Score', 'Address Score', 'Count']]\n",
    "y = train_df['Score']"
   ]
  },
  {
   "cell_type": "code",
   "execution_count": 37,
   "metadata": {},
   "outputs": [],
   "source": [
    "with open(file_path, 'wb') as f:\n",
    "    pickle.dump(X, f)\n",
    "with open(file_path, 'wb') as f:\n",
    "    pickle.dump(y, f)"
   ]
  }
 ],
 "metadata": {
  "kernelspec": {
   "display_name": "Python 3",
   "language": "python",
   "name": "python3"
  },
  "language_info": {
   "codemirror_mode": {
    "name": "ipython",
    "version": 3
   },
   "file_extension": ".py",
   "mimetype": "text/x-python",
   "name": "python",
   "nbconvert_exporter": "python",
   "pygments_lexer": "ipython3",
   "version": "3.12.0"
  }
 },
 "nbformat": 4,
 "nbformat_minor": 2
}
