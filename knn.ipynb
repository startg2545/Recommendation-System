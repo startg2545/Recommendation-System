{
 "cells": [
  {
   "cell_type": "markdown",
   "source": [
    "Import required packages"
   ],
   "metadata": {
    "collapsed": false
   },
   "id": "ab6c4e4bacf216d9"
  },
  {
   "cell_type": "code",
   "execution_count": null,
   "outputs": [],
   "source": [
    "import pandas as pd\n",
    "import numpy as np\n",
    "import math\n",
    "import matplotlib.pyplot as plt\n",
    "from sklearn.metrics.pairwise import linear_kernel\n",
    "from copy import deepcopy\n",
    "from scipy.spatial.distance import pdist, squareform\n",
    "from scipy.sparse import csr_matrix\n",
    "from sklearn.neighbors import NearestNeighbors, KNeighborsClassifier\n",
    "from fuzzywuzzy import process\n",
    "from sklearn.model_selection import train_test_split"
   ],
   "metadata": {
    "collapsed": false
   },
   "id": "c62dc7f1ed89ae7"
  },
  {
   "cell_type": "markdown",
   "source": [
    "Read the file"
   ],
   "metadata": {
    "collapsed": false
   },
   "id": "242b11ab91b6317c"
  },
  {
   "cell_type": "code",
   "execution_count": null,
   "outputs": [],
   "source": [
    "file = pd.read_excel('shortcourses2566.xlsx')"
   ],
   "metadata": {
    "collapsed": false
   },
   "id": "bd28f4af2e948d19"
  },
  {
   "cell_type": "markdown",
   "source": [
    "Count the number of courses"
   ],
   "metadata": {
    "collapsed": false
   },
   "id": "818fa3df70292be8"
  },
  {
   "cell_type": "code",
   "execution_count": null,
   "outputs": [],
   "source": [
    "course_counts = pd.DataFrame(file)['หลักสูตรอบรมระยะสั้น'].value_counts()\n",
    "courses = pd.Series(course_counts.index)\n",
    "courses = courses.sort_values().set_axis(range(0,len(courses)))"
   ],
   "metadata": {
    "collapsed": false
   },
   "id": "31e9dd8b82ea460"
  },
  {
   "cell_type": "markdown",
   "source": [
    "Create Series of users"
   ],
   "metadata": {
    "collapsed": false
   },
   "id": "660047dea5f5e30f"
  },
  {
   "cell_type": "code",
   "execution_count": null,
   "outputs": [],
   "source": [
    "s_name = file.loc[:, 'ชื่อ-นามสกุล (อังกฤษ)']\n",
    "Users = pd.Series(s_name, name='User')\n",
    "Users"
   ],
   "metadata": {
    "collapsed": false
   },
   "id": "4a15f7567347c8ad"
  },
  {
   "cell_type": "markdown",
   "source": [
    "Create Series of emails"
   ],
   "metadata": {
    "collapsed": false
   },
   "id": "f7b2c49bcdf31b35"
  },
  {
   "cell_type": "code",
   "execution_count": null,
   "outputs": [],
   "source": [
    "s_email = file.loc[:, 'อีเมล'].fillna(\"\")\n",
    "Emails = pd.Series(s_email ,name='Email')\n",
    "Emails"
   ],
   "metadata": {
    "collapsed": false
   },
   "id": "e13822d070f92ca"
  },
  {
   "cell_type": "markdown",
   "source": [
    "Provide a score to each user based on their email domain"
   ],
   "metadata": {
    "collapsed": false
   },
   "id": "11949f5819447936"
  },
  {
   "cell_type": "code",
   "execution_count": null,
   "outputs": [],
   "source": [
    "email_score = []\n",
    "for data in Emails:\n",
    "    if data != '':\n",
    "        if data.split('@')[1] == 'cmu.ac.th':\n",
    "            email_score.append(2)\n",
    "        else:\n",
    "            email_score.append(1)\n",
    "    else:\n",
    "        email_score.append(0)\n",
    "email_score = pd.Series(email_score, name='Score Email')\n",
    "\n",
    "email_score"
   ],
   "metadata": {
    "collapsed": false
   },
   "id": "f1e524c073f32b43"
  },
  {
   "cell_type": "markdown",
   "source": [
    "Email Score Statistic"
   ],
   "metadata": {
    "collapsed": false
   },
   "id": "76c0ab19ea19d307"
  },
  {
   "cell_type": "code",
   "execution_count": null,
   "outputs": [],
   "source": [
    "zero_score_count = email_score.where(email_score == 0).count()\n",
    "one_score_count = email_score.where(email_score == 1).count()\n",
    "two_score_count = email_score.where(email_score == 2).count()\n",
    "\n",
    "print(\"Number of students who fill cmu email:\", two_score_count)\n",
    "print(\"Number of students who fill other email:\", one_score_count)\n",
    "print(\"Number of students who do not fill email:\", zero_score_count)"
   ],
   "metadata": {
    "collapsed": false
   },
   "id": "85ccdb4be641eebc"
  },
  {
   "cell_type": "markdown",
   "source": [
    "Create function to calculate age-education score"
   ],
   "metadata": {
    "collapsed": false
   },
   "id": "7994ef4c99d630db"
  },
  {
   "cell_type": "code",
   "execution_count": null,
   "outputs": [],
   "source": [
    "def getAgeEducationScore(age, limit_age):\n",
    "    if age <= limit_age:\n",
    "        score = 1\n",
    "    elif limit_age == 0:\n",
    "        score = 0\n",
    "    else:\n",
    "        score = 3\n",
    "    return score"
   ],
   "metadata": {
    "collapsed": false
   },
   "id": "4394064aa1feef7e"
  },
  {
   "cell_type": "markdown",
   "source": [
    "Create set of the educational range"
   ],
   "metadata": {
    "collapsed": false
   },
   "id": "d4f7e41e9f63192"
  },
  {
   "cell_type": "code",
   "execution_count": null,
   "outputs": [],
   "source": [
    "set_nan = {'อื่นๆ (-)', np.nan}\n",
    "set_primaryschool = {'ประถมศึกษา', 'อื่นๆ (ป.4)', 'อื่นๆ (ป.7)', 'อื่นๆ (ป7)'}\n",
    "set_middleschool = {'มัธยมศึกษาตอนต้น', 'Secondary school', 'อื่นๆ (มศ.3)'}\n",
    "set_highschool = {'มัธยมศึกษาตอนปลาย', 'High school', 'Vocational', 'การศึกษานอกระบบ', \n",
    "                  'ประกาศนียบัตรวิชาชีพ (ปวช.)', 'อื่นๆ (ม.ปลาย จบหลักสูตรEMR เป็นจนท.ปฏิบัติการ)',\n",
    "                  'อื่นๆ (กำลังศึกษาชั้นมัธยมศึกษาตอนปลาย)', 'อื่นๆ (กำลังศึกษาชั้นมัธยมศึกษาปีที่6)', \n",
    "                  'อื่นๆ (มศ.5)'}\n",
    "set_bachelor = {'ปริญญาตรี', 'Bachelor degree', 'Diploma', 'High Vocational', \n",
    "                'ประกาศนียบัตรวิชาชีพชั้นสูง (ปวส.)', 'อื่นๆ (กำลังศึกษาในระดับปริญญาตรี)', \n",
    "                'อื่นๆ (กำลังศึกษาปริญญาตรี สาขารังสีเทคนิค)', 'อื่นๆ (ปริญญาแพทยศาสตร์บัณฑิต)', \n",
    "                'อื่นๆ (นักศึกษาแพทย์ปี 5)', 'อื่นๆ (นักศึกษาแพทย์ มช ปี4 ศูนย์เชียงราย)', \n",
    "                'อื่นๆ (แพทยศาสตร์บัณฑิต)', 'อื่นๆ (แพทย์)', 'อื่นๆ (ประกาศณียบัตรผู้ช่วยพยาบาล)', \n",
    "                'อนุปริญญา', 'อื่นๆ (ป.ตรี)', 'อื่นๆ (ผู้ช่วยพยาบาล)'}\n",
    "set_masterdocter = {'ปริญญาโท', 'ปริญญาเอก', \"Master's degree\", 'Other (OBGYN specalist lavel 1)', \n",
    "                    'Other (Residency)', 'Ph.D.', 'อื่นๆ (Internal Medicine)', \n",
    "                    'อื่นๆ (เฉพาะทาง)', 'อื่นๆ (วุฒิบัตร)', 'อื่นๆ (วว.ออร์โธปิดิกส์)', \n",
    "                    'อื่นๆ (วุฒิบัตรแสดงความรู้ความชำนาญในการประกอบวิชาชีพเภสัชกรรม สาขาเภสัชบำบัด)', \n",
    "                    'อื่นๆ (วุฒิบัตรผู้เชี่ยวชาญสาขาทันตกรรมทั่วไป)', 'อื่นๆ (วุฒิบัตรศัลยศาสตร์และแม็กซิลโลเฟเชียล)'}\n",
    "\n",
    "list_degree = ((set_nan, 0), (set_primaryschool, 16), (set_middleschool, 19), \n",
    "               (set_highschool, 22), (set_bachelor,26), (set_masterdocter,40))"
   ],
   "metadata": {
    "collapsed": false
   },
   "id": "c0007cbf8f688400"
  },
  {
   "cell_type": "markdown",
   "source": [
    "Create Series of Age-Education"
   ],
   "metadata": {
    "collapsed": false
   },
   "id": "35f525151c3e465"
  },
  {
   "cell_type": "code",
   "execution_count": null,
   "outputs": [],
   "source": [
    "ages = file.loc[:, 'อายุ']\n",
    "educations = file.loc[:, 'วุฒิการศึกษา']\n",
    "age_education_scores = []\n",
    "\n",
    "for i,x in enumerate(educations):\n",
    "    for y in list_degree:\n",
    "        if x in y[0]:\n",
    "            age_education_scores.append(getAgeEducationScore(ages[i], y[1]))\n",
    "            \n",
    "age_education_scores = pd.Series(age_education_scores, name='Age Education Score')"
   ],
   "metadata": {
    "collapsed": false
   },
   "id": "de572cfc3eba1999"
  },
  {
   "cell_type": "markdown",
   "source": [
    "Age-Education Score Statistic"
   ],
   "metadata": {
    "collapsed": false
   },
   "id": "979576370fd029e"
  },
  {
   "cell_type": "code",
   "execution_count": null,
   "outputs": [],
   "source": [
    "zero_score_count = age_education_scores.where(age_education_scores == 0).count()\n",
    "one_score_count = age_education_scores.where(age_education_scores == 1).count()\n",
    "three_score_count = age_education_scores.where(age_education_scores == 3).count()\n",
    "\n",
    "print(\"Number of students who do not specify education:\", zero_score_count)\n",
    "print(\"Number of students who do not specify education:\", one_score_count)\n",
    "print(\"Number of students who do not specify education:\", three_score_count)"
   ],
   "metadata": {
    "collapsed": false
   },
   "id": "a048e86a9da172fb"
  },
  {
   "cell_type": "markdown",
   "source": [
    "Create Series of status"
   ],
   "metadata": {
    "collapsed": false
   },
   "id": "8a43ca4f431f2471"
  },
  {
   "cell_type": "code",
   "execution_count": null,
   "outputs": [],
   "source": [
    "status = file.loc[:, 'สถานะ'].fillna(\"\")\n",
    "status = pd.Series(status ,name='Status')\n",
    "status"
   ],
   "metadata": {
    "collapsed": false
   },
   "id": "d688c9723aa362ed"
  },
  {
   "cell_type": "markdown",
   "source": [
    "Provide a score to each user based on their purchase status"
   ],
   "metadata": {
    "collapsed": false
   },
   "id": "1ab166a2f299918e"
  },
  {
   "cell_type": "code",
   "execution_count": null,
   "outputs": [],
   "source": [
    "status_score = []\n",
    "for x in status:\n",
    "    if x == 'ชำระเงิน':\n",
    "        status_score.append(8)\n",
    "    if x == 'ไม่ผ่านการอนุมัติ':\n",
    "        status_score.append(7)\n",
    "    if x == 'ค้างชำระ':\n",
    "        status_score.append(5)\n",
    "status_score = pd.Series(status_score)"
   ],
   "metadata": {
    "collapsed": false
   },
   "id": "7389c71cff1839dc"
  },
  {
   "cell_type": "markdown",
   "source": [
    "Purchase Status Score Statistics"
   ],
   "metadata": {
    "collapsed": false
   },
   "id": "bbe2c423280fccea"
  },
  {
   "cell_type": "code",
   "execution_count": null,
   "outputs": [],
   "source": [
    "five_score_count = status_score.where(status_score == 5).count()\n",
    "seven_score_count = status_score.where(status_score == 7).count()\n",
    "eight_score_count = status_score.where(status_score == 8).count()\n",
    "\n",
    "print(\"Number of students who are in arrears:\", five_score_count)\n",
    "print(\"Number of students whose payment was not approved:\", seven_score_count)\n",
    "print(\"Number of students with payment approval:\", eight_score_count)"
   ],
   "metadata": {
    "collapsed": false
   },
   "id": "af5c05716dc6be6c"
  },
  {
   "cell_type": "markdown",
   "source": [
    "Create Series of address"
   ],
   "metadata": {
    "collapsed": false
   },
   "id": "7b64d7f595919afc"
  },
  {
   "cell_type": "code",
   "execution_count": null,
   "outputs": [],
   "source": [
    "address = file.loc[:, 'ที่อยู่'].fillna(\"\")\n",
    "address = pd.Series(address ,name='Status')\n",
    "address"
   ],
   "metadata": {
    "collapsed": false
   },
   "id": "512d74529e0b4578"
  },
  {
   "cell_type": "markdown",
   "source": [
    "Provide a score to each user based on whether they provide address information or not"
   ],
   "metadata": {
    "collapsed": false
   },
   "id": "bc82718ebc22fa02"
  },
  {
   "cell_type": "code",
   "execution_count": null,
   "outputs": [],
   "source": [
    "address_score = [ 1 if x == '' else 2 for x in address]\n",
    "address_score = pd.Series(address_score)"
   ],
   "metadata": {
    "collapsed": false
   },
   "id": "b9a87d97e4849723"
  },
  {
   "cell_type": "markdown",
   "source": [
    "Address Score Statistic"
   ],
   "metadata": {
    "collapsed": false
   },
   "id": "3cfd7655f531aaed"
  },
  {
   "cell_type": "code",
   "execution_count": null,
   "outputs": [],
   "source": [
    "three_score_count = address_score.where(address_score == 1).count()\n",
    "four_score_count = address_score.where(address_score == 2).count()\n",
    "\n",
    "print(\"Number of students who did not fill address:\", three_score_count)\n",
    "print(\"Number of students who filled address:\", four_score_count)"
   ],
   "metadata": {
    "collapsed": false
   },
   "id": "bc8ff404b275ce14"
  },
  {
   "cell_type": "markdown",
   "source": [
    "Convert list to pandas series"
   ],
   "metadata": {
    "collapsed": false
   },
   "id": "8f151c1c47fec5cc"
  },
  {
   "cell_type": "code",
   "execution_count": null,
   "outputs": [],
   "source": [
    "email_score = pd.Series(email_score)\n",
    "age_education_scores = pd.Series(age_education_scores)\n",
    "status_score = pd.Series(status_score)\n",
    "address_score = pd.Series(address_score)"
   ],
   "metadata": {
    "collapsed": false
   },
   "id": "85be7868711d5775"
  },
  {
   "cell_type": "markdown",
   "source": [
    "Create DataFrame by merging these 4 Series and calculate impressive level"
   ],
   "metadata": {
    "collapsed": false
   },
   "id": "3eff94d988b82526"
  },
  {
   "cell_type": "code",
   "execution_count": null,
   "outputs": [],
   "source": [
    "d = {\n",
    "    'Email Score': email_score,\n",
    "    'Age Education Score': age_education_scores,\n",
    "    'Payment Score': status_score,\n",
    "    'Address Score': address_score,\n",
    "    'Point': email_score + status_score + address_score + age_education_scores,\n",
    "    'Impressive Level': ( email_score + status_score + address_score + age_education_scores ) / 17\n",
    "}\n",
    "df = pd.DataFrame(d)\n",
    "df"
   ],
   "metadata": {
    "collapsed": false
   },
   "id": "a69ab169d7212ec1"
  },
  {
   "cell_type": "markdown",
   "source": [
    "Create user-course table"
   ],
   "metadata": {
    "collapsed": false
   },
   "id": "f9b0843359f94dcd"
  },
  {
   "cell_type": "code",
   "execution_count": null,
   "outputs": [],
   "source": [
    "user = file.loc[:, 'ชื่อ-นามสกุล (อังกฤษ)']\n",
    "course = file.loc[:, 'หลักสูตรอบรมระยะสั้น']\n",
    "score = df['Impressive Level']\n",
    "# all user, course, score have the same length\n",
    "data = {\n",
    "    'User': user,\n",
    "    'Course': course,\n",
    "    'Score': score,\n",
    "}\n",
    "\n",
    "predata = pd.DataFrame(data)\n",
    "predata"
   ],
   "metadata": {
    "collapsed": false
   },
   "id": "3cf45ac79877d587"
  },
  {
   "cell_type": "markdown",
   "source": [
    "Calculate sparsity and csr matrix"
   ],
   "metadata": {
    "collapsed": false
   },
   "id": "9bece3af0bc2daa3"
  },
  {
   "cell_type": "code",
   "execution_count": null,
   "outputs": [],
   "source": [
    "# Pivot table by rotating course\n",
    "data = predata.pivot_table(index='Course', columns='User', values='Score').fillna(0)\n",
    "data.head()"
   ],
   "metadata": {
    "collapsed": false
   },
   "id": "a9c28176080eabd0"
  },
  {
   "cell_type": "code",
   "execution_count": null,
   "outputs": [],
   "source": [
    "# Item-User Rated Matrix\n",
    "data_mtx = csr_matrix(data.values)"
   ],
   "metadata": {
    "collapsed": false
   },
   "id": "ccc117194ab7b14d"
  },
  {
   "cell_type": "markdown",
   "source": [
    "Euclidean Distance & Cosine Similarity"
   ],
   "metadata": {
    "collapsed": false
   },
   "id": "b6273ad2dab1c8c9"
  },
  {
   "cell_type": "code",
   "execution_count": null,
   "outputs": [],
   "source": [
    "# model_knn = NearestNeighbors(metric='cosine', algorithm='brute', n_neighbors=int(np.around(math.sqrt(len(courses))))).fit(data_mtx)\n",
    "model_knn = NearestNeighbors(metric='cosine').fit(data_mtx)\n",
    "model_knn"
   ],
   "metadata": {
    "collapsed": false
   },
   "id": "757c2d0e75f07f69"
  },
  {
   "cell_type": "code",
   "execution_count": null,
   "outputs": [],
   "source": [
    "def recommender_knn(course_name, n_recommendations):\n",
    "    idx = process.extractOne(course_name, courses)[2]\n",
    "    print('Selected movie:', courses[idx], 'Index:', idx)\n",
    "    distances, indices = model_knn.kneighbors(data_mtx[idx], n_neighbors=n_recommendations, return_distance=True)\n",
    "    recommendations = [courses[i].where(i!=idx) for i in indices]\n",
    "    recommended_courses = recommendations[0][1:]\n",
    "    course_distances = distances[0][1:]\n",
    "    d = {\n",
    "        'Course': recommended_courses,\n",
    "        'Cosine Distance': course_distances\n",
    "    }\n",
    "    results = pd.DataFrame(data=d)\n",
    "    return results"
   ],
   "metadata": {
    "collapsed": false
   },
   "id": "4b6c8f03d2186801"
  },
  {
   "cell_type": "code",
   "execution_count": null,
   "outputs": [],
   "source": [
    "recommender_knn('การวินิจฉัยภาวะฉุกเฉินจากอุบัติเหตุ (Diagnostic Radiology of Traumatic Emergency)', 100)"
   ],
   "metadata": {
    "collapsed": false
   },
   "id": "5a532f42e3ecba85"
  },
  {
   "cell_type": "markdown",
   "source": [
    "Predata for hybrid recommendation"
   ],
   "metadata": {
    "collapsed": false
   },
   "id": "5fd1ad5c6c39d1e0"
  },
  {
   "cell_type": "code",
   "execution_count": null,
   "outputs": [],
   "source": [
    "def recommender_knn_all_courses(course_name):\n",
    "    model_knn.fit(data_mtx)\n",
    "    idx = process.extractOne(course_name, courses)[2]\n",
    "    print('Selected movie:', courses[idx], 'Index:', idx)\n",
    "    distances, indices = model_knn.kneighbors(data_mtx[idx], n_neighbors=len(courses))\n",
    "    recommendations = [courses[i].where(i!=idx) for i in indices]\n",
    "    recommended_courses = recommendations[0][1:]\n",
    "    scores = 1 - distances\n",
    "    course_distances = scores[0][1:]\n",
    "    d = {\n",
    "        'Course': recommended_courses,\n",
    "        'Score': course_distances\n",
    "    }\n",
    "    results = pd.DataFrame(data=d)\n",
    "    results = results.sort_index().rename_axis('Index')\n",
    "    return results"
   ],
   "metadata": {
    "collapsed": false
   },
   "id": "1691c4447c9c28ce"
  },
  {
   "cell_type": "code",
   "execution_count": null,
   "outputs": [],
   "source": [
    "recommender_knn_all_courses('การวินิจฉัยภาวะฉุกเฉินจากอุบัติเหตุ (Diagnostic Radiology of Traumatic Emergency)')"
   ],
   "metadata": {
    "collapsed": false
   },
   "id": "7c5bdf4dcc42b6d2"
  },
  {
   "cell_type": "code",
   "execution_count": 213,
   "outputs": [],
   "source": [
    "def recommender_knn_by_user(user_name, n_recommendations):\n",
    "    df = {\n",
    "        'User': pd.Series(file['ชื่อ-นามสกุล (อังกฤษ)']),\n",
    "        'Course': pd.Series(file['หลักสูตรอบรมระยะสั้น'])\n",
    "    }\n",
    "    \n",
    "    user_course = pd.DataFrame(df)\n",
    "    selected_user_name = user_course.loc[user_course['User'] == user_name]\n",
    "    selected_courses = selected_user_name['Course']\n",
    "    \n",
    "    recommended_courses = [ recommender_knn_all_courses(x) for x in selected_courses]\n",
    "    \n",
    "    # pre dataframe\n",
    "    df = pd.DataFrame({\n",
    "        'Course': [],\n",
    "        'Score': []\n",
    "    }).rename_axis('Index')\n",
    "    \n",
    "    for x in recommended_courses:\n",
    "        df = df._append(x)\n",
    "    df =  df.sort_values('Score', ascending=False).drop_duplicates('Course')\n",
    "    return df.head(n_recommendations)"
   ],
   "metadata": {
    "collapsed": false,
    "ExecuteTime": {
     "end_time": "2023-12-02T18:27:58.136345900Z",
     "start_time": "2023-12-02T18:27:58.088666400Z"
    }
   },
   "id": "e662f15c252f7be0"
  },
  {
   "cell_type": "markdown",
   "source": [
    "Items show permanence whereas, people change with time\n",
    "Items are fewer in numbers to deal with. Which leads to smaller similarity matrix. Amazon and Netflix use it!\n",
    "Better for New users:\n",
    "— Him selecting just one item will let us provide recommendations\n",
    "— But for user based, new user has to wait until next build of similarity matrix (which is the only computational part of the framework)"
   ],
   "metadata": {
    "collapsed": false
   },
   "id": "429d96f86e0c15be"
  },
  {
   "cell_type": "code",
   "execution_count": 214,
   "outputs": [
    {
     "name": "stdout",
     "output_type": "stream",
     "text": [
      "Selected movie: หลักการและพื้นฐานของเครื่องมือทางรังสีวิทยา (Basic Principle of Diagnostic Radiology Imaging Instruments) Index: 131\n",
      "Selected movie: การวินิจฉัยภาวะฉุกเฉินที่ไม่ได้เกิดจากอุบัติเหตุ (Diagnostic Radiology of Non-Traumatic Emergency) Index: 43\n",
      "Selected movie: การวินิจฉัยภาวะฉุกเฉินจากอุบัติเหตุ (Diagnostic Radiology of Traumatic Emergency) Index: 42\n"
     ]
    },
    {
     "data": {
      "text/plain": "                                                  Course     Score\nIndex                                                             \n43     การวินิจฉัยภาวะฉุกเฉินที่ไม่ได้เกิดจากอุบัติเห...  0.754585\n42     การวินิจฉัยภาวะฉุกเฉินจากอุบัติเหตุ (Diagnosti...  0.754585\n152    เตรียมความพร้อมทางรังสีวิทยาสำหรับบุคลากรทางกา...  0.326572\n131    หลักการและพื้นฐานของเครื่องมือทางรังสีวิทยา (B...  0.279851\n110                                   รังสีวิทยาวินิจฉัย  0.258932\n124    สารสนเทศทางสาธารณสุข 2566 (Public Health Infor...  0.069610\n163                             เวชศาสตร์ครอบครัวขั้นสูง  0.061968\n41     การวิจัยแบบผสมผสานทางสุขภาพ (Mixed Methods Res...  0.032926\n85     ความรู้พื้นฐานในการทำวิจัยเพื่อพัฒนางาน (Resea...  0.027183\n117    วิทยาศาสตร์การแพทย์คลินิก สาขาวิชาเวชศาสตร์ฉุก...  0.026566",
      "text/html": "<div>\n<style scoped>\n    .dataframe tbody tr th:only-of-type {\n        vertical-align: middle;\n    }\n\n    .dataframe tbody tr th {\n        vertical-align: top;\n    }\n\n    .dataframe thead th {\n        text-align: right;\n    }\n</style>\n<table border=\"1\" class=\"dataframe\">\n  <thead>\n    <tr style=\"text-align: right;\">\n      <th></th>\n      <th>Course</th>\n      <th>Score</th>\n    </tr>\n    <tr>\n      <th>Index</th>\n      <th></th>\n      <th></th>\n    </tr>\n  </thead>\n  <tbody>\n    <tr>\n      <th>43</th>\n      <td>การวินิจฉัยภาวะฉุกเฉินที่ไม่ได้เกิดจากอุบัติเห...</td>\n      <td>0.754585</td>\n    </tr>\n    <tr>\n      <th>42</th>\n      <td>การวินิจฉัยภาวะฉุกเฉินจากอุบัติเหตุ (Diagnosti...</td>\n      <td>0.754585</td>\n    </tr>\n    <tr>\n      <th>152</th>\n      <td>เตรียมความพร้อมทางรังสีวิทยาสำหรับบุคลากรทางกา...</td>\n      <td>0.326572</td>\n    </tr>\n    <tr>\n      <th>131</th>\n      <td>หลักการและพื้นฐานของเครื่องมือทางรังสีวิทยา (B...</td>\n      <td>0.279851</td>\n    </tr>\n    <tr>\n      <th>110</th>\n      <td>รังสีวิทยาวินิจฉัย</td>\n      <td>0.258932</td>\n    </tr>\n    <tr>\n      <th>124</th>\n      <td>สารสนเทศทางสาธารณสุข 2566 (Public Health Infor...</td>\n      <td>0.069610</td>\n    </tr>\n    <tr>\n      <th>163</th>\n      <td>เวชศาสตร์ครอบครัวขั้นสูง</td>\n      <td>0.061968</td>\n    </tr>\n    <tr>\n      <th>41</th>\n      <td>การวิจัยแบบผสมผสานทางสุขภาพ (Mixed Methods Res...</td>\n      <td>0.032926</td>\n    </tr>\n    <tr>\n      <th>85</th>\n      <td>ความรู้พื้นฐานในการทำวิจัยเพื่อพัฒนางาน (Resea...</td>\n      <td>0.027183</td>\n    </tr>\n    <tr>\n      <th>117</th>\n      <td>วิทยาศาสตร์การแพทย์คลินิก สาขาวิชาเวชศาสตร์ฉุก...</td>\n      <td>0.026566</td>\n    </tr>\n  </tbody>\n</table>\n</div>"
     },
     "execution_count": 214,
     "metadata": {},
     "output_type": "execute_result"
    }
   ],
   "source": [
    "recommender_knn_by_user('PORPHAING JANTIP', 10)"
   ],
   "metadata": {
    "collapsed": false,
    "ExecuteTime": {
     "end_time": "2023-12-02T18:28:02.306643800Z",
     "start_time": "2023-12-02T18:28:02.173384Z"
    }
   },
   "id": "bf895bd5e81470f1"
  }
 ],
 "metadata": {
  "kernelspec": {
   "display_name": "Python 3",
   "language": "python",
   "name": "python3"
  },
  "language_info": {
   "codemirror_mode": {
    "name": "ipython",
    "version": 2
   },
   "file_extension": ".py",
   "mimetype": "text/x-python",
   "name": "python",
   "nbconvert_exporter": "python",
   "pygments_lexer": "ipython2",
   "version": "2.7.6"
  }
 },
 "nbformat": 4,
 "nbformat_minor": 5
}
