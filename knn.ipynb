{
 "cells": [
  {
   "cell_type": "markdown",
   "source": [
    "Import required packages"
   ],
   "metadata": {
    "collapsed": false
   },
   "id": "ab6c4e4bacf216d9"
  },
  {
   "cell_type": "code",
   "execution_count": 7,
   "outputs": [],
   "source": [
    "import pandas as pd\n",
    "import numpy as np\n",
    "import math\n",
    "import matplotlib.pyplot as plt\n",
    "from sklearn.metrics.pairwise import linear_kernel\n",
    "from copy import deepcopy\n",
    "from scipy.spatial.distance import pdist, squareform\n",
    "from scipy.sparse import csr_matrix\n",
    "from sklearn.neighbors import NearestNeighbors, KNeighborsClassifier\n",
    "from fuzzywuzzy import process\n",
    "from sklearn.model_selection import train_test_split"
   ],
   "metadata": {
    "collapsed": false,
    "ExecuteTime": {
     "end_time": "2023-12-06T15:35:44.416248500Z",
     "start_time": "2023-12-06T15:35:44.395139400Z"
    }
   },
   "id": "c62dc7f1ed89ae7"
  },
  {
   "cell_type": "markdown",
   "source": [
    "Read the file"
   ],
   "metadata": {
    "collapsed": false
   },
   "id": "242b11ab91b6317c"
  },
  {
   "cell_type": "code",
   "execution_count": 2,
   "outputs": [],
   "source": [
    "file = pd.read_excel('shortcourses2566.xlsx')"
   ],
   "metadata": {
    "collapsed": false,
    "ExecuteTime": {
     "end_time": "2023-12-06T14:52:12.412611200Z",
     "start_time": "2023-12-06T14:52:09.256412400Z"
    }
   },
   "id": "bd28f4af2e948d19"
  },
  {
   "cell_type": "markdown",
   "source": [
    "Count the number of courses"
   ],
   "metadata": {
    "collapsed": false
   },
   "id": "818fa3df70292be8"
  },
  {
   "cell_type": "code",
   "execution_count": 3,
   "outputs": [],
   "source": [
    "course_counts = pd.DataFrame(file)['หลักสูตรอบรมระยะสั้น'].value_counts()\n",
    "courses = pd.Series(course_counts.index)\n",
    "courses = courses.sort_values().set_axis(range(0,len(courses)))"
   ],
   "metadata": {
    "collapsed": false,
    "ExecuteTime": {
     "end_time": "2023-12-06T14:52:12.428494400Z",
     "start_time": "2023-12-06T14:52:12.415611500Z"
    }
   },
   "id": "31e9dd8b82ea460"
  },
  {
   "cell_type": "markdown",
   "source": [
    "Create Series of users"
   ],
   "metadata": {
    "collapsed": false
   },
   "id": "660047dea5f5e30f"
  },
  {
   "cell_type": "code",
   "execution_count": 4,
   "outputs": [
    {
     "data": {
      "text/plain": "0             PORPHAING JANTIP\n1         THANAKORN DARASRISAK\n2             KARNJANA EAMTANG\n3             KARNJANA EAMTANG\n4       THITIMUN VORATHONGCHAI\n                 ...          \n6122         KITTINON SANTASUP\n6123      WITTAWAT SERMSRIPONG\n6124               NON NAKKARA\n6125         PHATTHARAPHON LIN\n6126      THANAPAT SEEMAKAJOHN\nName: User, Length: 6127, dtype: object"
     },
     "execution_count": 4,
     "metadata": {},
     "output_type": "execute_result"
    }
   ],
   "source": [
    "s_name = file.loc[:, 'ชื่อ-นามสกุล (อังกฤษ)']\n",
    "Users = pd.Series(s_name, name='User')\n",
    "Users"
   ],
   "metadata": {
    "collapsed": false,
    "ExecuteTime": {
     "end_time": "2023-12-06T14:52:12.497347900Z",
     "start_time": "2023-12-06T14:52:12.427491200Z"
    }
   },
   "id": "4a15f7567347c8ad"
  },
  {
   "cell_type": "markdown",
   "source": [
    "Create Series of emails"
   ],
   "metadata": {
    "collapsed": false
   },
   "id": "f7b2c49bcdf31b35"
  },
  {
   "cell_type": "code",
   "execution_count": 5,
   "outputs": [
    {
     "data": {
      "text/plain": "0            tanghaoren17@gamil.com\n1               tuakung21@gmail.com\n2            karnjana.aon@gmail.com\n3            karnjana.aon@gmail.com\n4          thitimun.rama1@gmail.com\n                   ...             \n6122           kittinon_s@cmu.ac.th\n6123        wittawat_serm@cmu.ac.th\n6124          non_nakkara@cmu.ac.th\n6125    phattharaphon_lin@cmu.ac.th\n6126         thanapat_see@cmu.ac.th\nName: Email, Length: 6127, dtype: object"
     },
     "execution_count": 5,
     "metadata": {},
     "output_type": "execute_result"
    }
   ],
   "source": [
    "s_email = file.loc[:, 'อีเมล'].fillna(\"\")\n",
    "Emails = pd.Series(s_email ,name='Email')\n",
    "Emails"
   ],
   "metadata": {
    "collapsed": false,
    "ExecuteTime": {
     "end_time": "2023-12-06T14:52:12.500349600Z",
     "start_time": "2023-12-06T14:52:12.448228100Z"
    }
   },
   "id": "e13822d070f92ca"
  },
  {
   "cell_type": "markdown",
   "source": [
    "Provide a score to each user based on their email domain"
   ],
   "metadata": {
    "collapsed": false
   },
   "id": "11949f5819447936"
  },
  {
   "cell_type": "code",
   "execution_count": 6,
   "outputs": [
    {
     "data": {
      "text/plain": "0       1\n1       1\n2       1\n3       1\n4       1\n       ..\n6122    2\n6123    2\n6124    2\n6125    2\n6126    2\nName: Score Email, Length: 6127, dtype: int64"
     },
     "execution_count": 6,
     "metadata": {},
     "output_type": "execute_result"
    }
   ],
   "source": [
    "email_score = []\n",
    "for data in Emails:\n",
    "    if data != '':\n",
    "        if data.split('@')[1] == 'cmu.ac.th':\n",
    "            email_score.append(2)\n",
    "        else:\n",
    "            email_score.append(1)\n",
    "    else:\n",
    "        email_score.append(0)\n",
    "email_score = pd.Series(email_score, name='Score Email')\n",
    "\n",
    "email_score"
   ],
   "metadata": {
    "collapsed": false,
    "ExecuteTime": {
     "end_time": "2023-12-06T14:52:12.518359100Z",
     "start_time": "2023-12-06T14:52:12.478837900Z"
    }
   },
   "id": "f1e524c073f32b43"
  },
  {
   "cell_type": "markdown",
   "source": [
    "Email Score Statistic"
   ],
   "metadata": {
    "collapsed": false
   },
   "id": "76c0ab19ea19d307"
  },
  {
   "cell_type": "code",
   "execution_count": 7,
   "outputs": [
    {
     "name": "stdout",
     "output_type": "stream",
     "text": [
      "Number of students who fill cmu email: 1268\n",
      "Number of students who fill other email: 4853\n",
      "Number of students who do not fill email: 6\n"
     ]
    }
   ],
   "source": [
    "zero_score_count = email_score.where(email_score == 0).count()\n",
    "one_score_count = email_score.where(email_score == 1).count()\n",
    "two_score_count = email_score.where(email_score == 2).count()\n",
    "\n",
    "print(\"Number of students who fill cmu email:\", two_score_count)\n",
    "print(\"Number of students who fill other email:\", one_score_count)\n",
    "print(\"Number of students who do not fill email:\", zero_score_count)"
   ],
   "metadata": {
    "collapsed": false,
    "ExecuteTime": {
     "end_time": "2023-12-06T14:52:12.520867600Z",
     "start_time": "2023-12-06T14:52:12.486648600Z"
    }
   },
   "id": "85ccdb4be641eebc"
  },
  {
   "cell_type": "markdown",
   "source": [
    "Create function to calculate age-education score"
   ],
   "metadata": {
    "collapsed": false
   },
   "id": "7994ef4c99d630db"
  },
  {
   "cell_type": "code",
   "execution_count": 8,
   "outputs": [],
   "source": [
    "def getAgeEducationScore(age, limit_age):\n",
    "    if age <= limit_age:\n",
    "        score = 1\n",
    "    elif limit_age == 0:\n",
    "        score = 0\n",
    "    else:\n",
    "        score = 3\n",
    "    return score"
   ],
   "metadata": {
    "collapsed": false,
    "ExecuteTime": {
     "end_time": "2023-12-06T14:52:12.619779400Z",
     "start_time": "2023-12-06T14:52:12.499352300Z"
    }
   },
   "id": "4394064aa1feef7e"
  },
  {
   "cell_type": "markdown",
   "source": [
    "Create set of the educational range"
   ],
   "metadata": {
    "collapsed": false
   },
   "id": "d4f7e41e9f63192"
  },
  {
   "cell_type": "code",
   "execution_count": 9,
   "outputs": [],
   "source": [
    "set_nan = {'อื่นๆ (-)', np.nan}\n",
    "set_primaryschool = {'ประถมศึกษา', 'อื่นๆ (ป.4)', 'อื่นๆ (ป.7)', 'อื่นๆ (ป7)'}\n",
    "set_middleschool = {'มัธยมศึกษาตอนต้น', 'Secondary school', 'อื่นๆ (มศ.3)'}\n",
    "set_highschool = {'มัธยมศึกษาตอนปลาย', 'High school', 'Vocational', 'การศึกษานอกระบบ', \n",
    "                  'ประกาศนียบัตรวิชาชีพ (ปวช.)', 'อื่นๆ (ม.ปลาย จบหลักสูตรEMR เป็นจนท.ปฏิบัติการ)',\n",
    "                  'อื่นๆ (กำลังศึกษาชั้นมัธยมศึกษาตอนปลาย)', 'อื่นๆ (กำลังศึกษาชั้นมัธยมศึกษาปีที่6)', \n",
    "                  'อื่นๆ (มศ.5)'}\n",
    "set_bachelor = {'ปริญญาตรี', 'Bachelor degree', 'Diploma', 'High Vocational', \n",
    "                'ประกาศนียบัตรวิชาชีพชั้นสูง (ปวส.)', 'อื่นๆ (กำลังศึกษาในระดับปริญญาตรี)', \n",
    "                'อื่นๆ (กำลังศึกษาปริญญาตรี สาขารังสีเทคนิค)', 'อื่นๆ (ปริญญาแพทยศาสตร์บัณฑิต)', \n",
    "                'อื่นๆ (นักศึกษาแพทย์ปี 5)', 'อื่นๆ (นักศึกษาแพทย์ มช ปี4 ศูนย์เชียงราย)', \n",
    "                'อื่นๆ (แพทยศาสตร์บัณฑิต)', 'อื่นๆ (แพทย์)', 'อื่นๆ (ประกาศณียบัตรผู้ช่วยพยาบาล)', \n",
    "                'อนุปริญญา', 'อื่นๆ (ป.ตรี)', 'อื่นๆ (ผู้ช่วยพยาบาล)'}\n",
    "set_masterdocter = {'ปริญญาโท', 'ปริญญาเอก', \"Master's degree\", 'Other (OBGYN specalist lavel 1)', \n",
    "                    'Other (Residency)', 'Ph.D.', 'อื่นๆ (Internal Medicine)', \n",
    "                    'อื่นๆ (เฉพาะทาง)', 'อื่นๆ (วุฒิบัตร)', 'อื่นๆ (วว.ออร์โธปิดิกส์)', \n",
    "                    'อื่นๆ (วุฒิบัตรแสดงความรู้ความชำนาญในการประกอบวิชาชีพเภสัชกรรม สาขาเภสัชบำบัด)', \n",
    "                    'อื่นๆ (วุฒิบัตรผู้เชี่ยวชาญสาขาทันตกรรมทั่วไป)', 'อื่นๆ (วุฒิบัตรศัลยศาสตร์และแม็กซิลโลเฟเชียล)'}\n",
    "\n",
    "list_degree = ((set_nan, 0), (set_primaryschool, 16), (set_middleschool, 19), \n",
    "               (set_highschool, 22), (set_bachelor,26), (set_masterdocter,40))"
   ],
   "metadata": {
    "collapsed": false,
    "ExecuteTime": {
     "end_time": "2023-12-06T14:52:12.655601600Z",
     "start_time": "2023-12-06T14:52:12.508362800Z"
    }
   },
   "id": "c0007cbf8f688400"
  },
  {
   "cell_type": "markdown",
   "source": [
    "Create Series of Age-Education"
   ],
   "metadata": {
    "collapsed": false
   },
   "id": "35f525151c3e465"
  },
  {
   "cell_type": "code",
   "execution_count": 10,
   "outputs": [],
   "source": [
    "ages = file.loc[:, 'อายุ']\n",
    "educations = file.loc[:, 'วุฒิการศึกษา']\n",
    "age_education_scores = []\n",
    "\n",
    "for i,x in enumerate(educations):\n",
    "    for y in list_degree:\n",
    "        if x in y[0]:\n",
    "            age_education_scores.append(getAgeEducationScore(ages[i], y[1]))\n",
    "            \n",
    "age_education_scores = pd.Series(age_education_scores, name='Age Education Score')"
   ],
   "metadata": {
    "collapsed": false,
    "ExecuteTime": {
     "end_time": "2023-12-06T14:52:12.681815100Z",
     "start_time": "2023-12-06T14:52:12.521888800Z"
    }
   },
   "id": "de572cfc3eba1999"
  },
  {
   "cell_type": "markdown",
   "source": [
    "Age-Education Score Statistic"
   ],
   "metadata": {
    "collapsed": false
   },
   "id": "979576370fd029e"
  },
  {
   "cell_type": "code",
   "execution_count": 11,
   "outputs": [
    {
     "name": "stdout",
     "output_type": "stream",
     "text": [
      "Number of students who do not specify education: 123\n",
      "Number of students who do not specify education: 4229\n",
      "Number of students who do not specify education: 1775\n"
     ]
    }
   ],
   "source": [
    "zero_score_count = age_education_scores.where(age_education_scores == 0).count()\n",
    "one_score_count = age_education_scores.where(age_education_scores == 1).count()\n",
    "three_score_count = age_education_scores.where(age_education_scores == 3).count()\n",
    "\n",
    "print(\"Number of students who do not specify education:\", zero_score_count)\n",
    "print(\"Number of students who do not specify education:\", one_score_count)\n",
    "print(\"Number of students who do not specify education:\", three_score_count)"
   ],
   "metadata": {
    "collapsed": false,
    "ExecuteTime": {
     "end_time": "2023-12-06T14:52:12.683827700Z",
     "start_time": "2023-12-06T14:52:12.585422900Z"
    }
   },
   "id": "a048e86a9da172fb"
  },
  {
   "cell_type": "markdown",
   "source": [
    "Create Series of status"
   ],
   "metadata": {
    "collapsed": false
   },
   "id": "8a43ca4f431f2471"
  },
  {
   "cell_type": "code",
   "execution_count": 12,
   "outputs": [
    {
     "data": {
      "text/plain": "0       ชำระเงิน\n1       ชำระเงิน\n2       ชำระเงิน\n3       ชำระเงิน\n4       ชำระเงิน\n          ...   \n6122    ชำระเงิน\n6123    ชำระเงิน\n6124    ชำระเงิน\n6125    ชำระเงิน\n6126    ชำระเงิน\nName: Status, Length: 6127, dtype: object"
     },
     "execution_count": 12,
     "metadata": {},
     "output_type": "execute_result"
    }
   ],
   "source": [
    "status = file.loc[:, 'สถานะ'].fillna(\"\")\n",
    "status = pd.Series(status ,name='Status')\n",
    "status"
   ],
   "metadata": {
    "collapsed": false,
    "ExecuteTime": {
     "end_time": "2023-12-06T14:52:12.704019400Z",
     "start_time": "2023-12-06T14:52:12.595597200Z"
    }
   },
   "id": "d688c9723aa362ed"
  },
  {
   "cell_type": "markdown",
   "source": [
    "Provide a score to each user based on their purchase status"
   ],
   "metadata": {
    "collapsed": false
   },
   "id": "1ab166a2f299918e"
  },
  {
   "cell_type": "code",
   "execution_count": 13,
   "outputs": [],
   "source": [
    "status_score = []\n",
    "for x in status:\n",
    "    if x == 'ชำระเงิน':\n",
    "        status_score.append(8)\n",
    "    if x == 'ไม่ผ่านการอนุมัติ':\n",
    "        status_score.append(7)\n",
    "    if x == 'ค้างชำระ':\n",
    "        status_score.append(5)\n",
    "status_score = pd.Series(status_score)"
   ],
   "metadata": {
    "collapsed": false,
    "ExecuteTime": {
     "end_time": "2023-12-06T14:52:12.708028100Z",
     "start_time": "2023-12-06T14:52:12.615880200Z"
    }
   },
   "id": "7389c71cff1839dc"
  },
  {
   "cell_type": "markdown",
   "source": [
    "Purchase Status Score Statistics"
   ],
   "metadata": {
    "collapsed": false
   },
   "id": "bbe2c423280fccea"
  },
  {
   "cell_type": "code",
   "execution_count": 14,
   "outputs": [
    {
     "name": "stdout",
     "output_type": "stream",
     "text": [
      "Number of students who are in arrears: 531\n",
      "Number of students whose payment was not approved: 124\n",
      "Number of students with payment approval: 5472\n"
     ]
    }
   ],
   "source": [
    "five_score_count = status_score.where(status_score == 5).count()\n",
    "seven_score_count = status_score.where(status_score == 7).count()\n",
    "eight_score_count = status_score.where(status_score == 8).count()\n",
    "\n",
    "print(\"Number of students who are in arrears:\", five_score_count)\n",
    "print(\"Number of students whose payment was not approved:\", seven_score_count)\n",
    "print(\"Number of students with payment approval:\", eight_score_count)"
   ],
   "metadata": {
    "collapsed": false,
    "ExecuteTime": {
     "end_time": "2023-12-06T14:52:12.840923700Z",
     "start_time": "2023-12-06T14:52:12.631334700Z"
    }
   },
   "id": "af5c05716dc6be6c"
  },
  {
   "cell_type": "markdown",
   "source": [
    "Create Series of address"
   ],
   "metadata": {
    "collapsed": false
   },
   "id": "7b64d7f595919afc"
  },
  {
   "cell_type": "code",
   "execution_count": 15,
   "outputs": [
    {
     "data": {
      "text/plain": "0                                                        \n1       125/27 ซ.3 ถ.ราษฎรยินดี ต.หน้าเมือง อ.เมือง จ....\n2                                                        \n3                                                        \n4                                                        \n                              ...                        \n6122                                                     \n6123                                                     \n6124                                                     \n6125                                                     \n6126                                                     \nName: Status, Length: 6127, dtype: object"
     },
     "execution_count": 15,
     "metadata": {},
     "output_type": "execute_result"
    }
   ],
   "source": [
    "address = file.loc[:, 'ที่อยู่'].fillna(\"\")\n",
    "address = pd.Series(address ,name='Status')\n",
    "address"
   ],
   "metadata": {
    "collapsed": false,
    "ExecuteTime": {
     "end_time": "2023-12-06T14:52:12.963569800Z",
     "start_time": "2023-12-06T14:52:12.648067100Z"
    }
   },
   "id": "512d74529e0b4578"
  },
  {
   "cell_type": "markdown",
   "source": [
    "Provide a score to each user based on whether they provide address information or not"
   ],
   "metadata": {
    "collapsed": false
   },
   "id": "bc82718ebc22fa02"
  },
  {
   "cell_type": "code",
   "execution_count": 16,
   "outputs": [],
   "source": [
    "address_score = [ 1 if x == '' else 2 for x in address]\n",
    "address_score = pd.Series(address_score)"
   ],
   "metadata": {
    "collapsed": false,
    "ExecuteTime": {
     "end_time": "2023-12-06T14:52:12.964569100Z",
     "start_time": "2023-12-06T14:52:12.663334500Z"
    }
   },
   "id": "b9a87d97e4849723"
  },
  {
   "cell_type": "markdown",
   "source": [
    "Address Score Statistic"
   ],
   "metadata": {
    "collapsed": false
   },
   "id": "3cfd7655f531aaed"
  },
  {
   "cell_type": "code",
   "execution_count": 17,
   "outputs": [
    {
     "name": "stdout",
     "output_type": "stream",
     "text": [
      "Number of students who did not fill address: 4005\n",
      "Number of students who filled address: 2122\n"
     ]
    }
   ],
   "source": [
    "three_score_count = address_score.where(address_score == 1).count()\n",
    "four_score_count = address_score.where(address_score == 2).count()\n",
    "\n",
    "print(\"Number of students who did not fill address:\", three_score_count)\n",
    "print(\"Number of students who filled address:\", four_score_count)"
   ],
   "metadata": {
    "collapsed": false,
    "ExecuteTime": {
     "end_time": "2023-12-06T14:52:12.990177200Z",
     "start_time": "2023-12-06T14:52:12.677772Z"
    }
   },
   "id": "bc8ff404b275ce14"
  },
  {
   "cell_type": "markdown",
   "source": [
    "Convert list to pandas series"
   ],
   "metadata": {
    "collapsed": false
   },
   "id": "8f151c1c47fec5cc"
  },
  {
   "cell_type": "code",
   "execution_count": 18,
   "outputs": [],
   "source": [
    "email_score = pd.Series(email_score)\n",
    "age_education_scores = pd.Series(age_education_scores)\n",
    "status_score = pd.Series(status_score)\n",
    "address_score = pd.Series(address_score)"
   ],
   "metadata": {
    "collapsed": false,
    "ExecuteTime": {
     "end_time": "2023-12-06T14:52:13.043778900Z",
     "start_time": "2023-12-06T14:52:12.691832500Z"
    }
   },
   "id": "85be7868711d5775"
  },
  {
   "cell_type": "markdown",
   "source": [
    "Create DataFrame by merging these 4 Series and calculate impressive level"
   ],
   "metadata": {
    "collapsed": false
   },
   "id": "3eff94d988b82526"
  },
  {
   "cell_type": "code",
   "execution_count": 6,
   "outputs": [
    {
     "ename": "NameError",
     "evalue": "name 'file' is not defined",
     "output_type": "error",
     "traceback": [
      "\u001B[1;31m---------------------------------------------------------------------------\u001B[0m",
      "\u001B[1;31mNameError\u001B[0m                                 Traceback (most recent call last)",
      "Cell \u001B[1;32mIn[6], line 1\u001B[0m\n\u001B[1;32m----> 1\u001B[0m user \u001B[38;5;241m=\u001B[39m file\u001B[38;5;241m.\u001B[39mloc[:, \u001B[38;5;124m'\u001B[39m\u001B[38;5;124mชื่อ-นามสกุล (อังกฤษ)\u001B[39m\u001B[38;5;124m'\u001B[39m]\n\u001B[0;32m      2\u001B[0m course \u001B[38;5;241m=\u001B[39m file\u001B[38;5;241m.\u001B[39mloc[:, \u001B[38;5;124m'\u001B[39m\u001B[38;5;124mหลักสูตรอบรมระยะสั้น\u001B[39m\u001B[38;5;124m'\u001B[39m]\n\u001B[0;32m      3\u001B[0m d \u001B[38;5;241m=\u001B[39m {\n\u001B[0;32m      4\u001B[0m     \u001B[38;5;124m'\u001B[39m\u001B[38;5;124mUser\u001B[39m\u001B[38;5;124m'\u001B[39m: user,\n\u001B[0;32m      5\u001B[0m     \u001B[38;5;124m'\u001B[39m\u001B[38;5;124mCourse\u001B[39m\u001B[38;5;124m'\u001B[39m: course,\n\u001B[1;32m   (...)\u001B[0m\n\u001B[0;32m     11\u001B[0m     \u001B[38;5;124m'\u001B[39m\u001B[38;5;124mScore\u001B[39m\u001B[38;5;124m'\u001B[39m: ( email_score \u001B[38;5;241m+\u001B[39m status_score \u001B[38;5;241m+\u001B[39m address_score \u001B[38;5;241m+\u001B[39m age_education_scores ) \u001B[38;5;241m/\u001B[39m \u001B[38;5;241m17\u001B[39m\n\u001B[0;32m     12\u001B[0m }\n",
      "\u001B[1;31mNameError\u001B[0m: name 'file' is not defined"
     ]
    }
   ],
   "source": [
    "user = file.loc[:, 'ชื่อ-นามสกุล (อังกฤษ)']\n",
    "course = file.loc[:, 'หลักสูตรอบรมระยะสั้น']\n",
    "d = {\n",
    "    'User': user,\n",
    "    'Course': course,\n",
    "    'Email Score': email_score,\n",
    "    'Age Education Score': age_education_scores,\n",
    "    'Payment Score': status_score,\n",
    "    'Address Score': address_score,\n",
    "    'Point': email_score + status_score + address_score + age_education_scores,\n",
    "    'Score': ( email_score + status_score + address_score + age_education_scores ) / 17\n",
    "}\n",
    "df = pd.DataFrame(d)\n",
    "df.head()"
   ],
   "metadata": {
    "collapsed": false,
    "ExecuteTime": {
     "end_time": "2023-12-06T15:34:56.146000500Z",
     "start_time": "2023-12-06T15:34:54.775500500Z"
    }
   },
   "id": "a69ab169d7212ec1"
  },
  {
   "cell_type": "markdown",
   "source": [
    "Create user-course table"
   ],
   "metadata": {
    "collapsed": false
   },
   "id": "f9b0843359f94dcd"
  },
  {
   "cell_type": "code",
   "execution_count": 20,
   "outputs": [
    {
     "data": {
      "text/plain": "                        User  \\\n0           PORPHAING JANTIP   \n1       THANAKORN DARASRISAK   \n2           KARNJANA EAMTANG   \n3           KARNJANA EAMTANG   \n4     THITIMUN VORATHONGCHAI   \n...                      ...   \n6122       KITTINON SANTASUP   \n6123    WITTAWAT SERMSRIPONG   \n6124             NON NAKKARA   \n6125       PHATTHARAPHON LIN   \n6126    THANAPAT SEEMAKAJOHN   \n\n                                                 Course     Score  \n0     หลักการและพื้นฐานของเครื่องมือทางรังสีวิทยา (B...  0.647059  \n1     การวินิจฉัยภาวะฉุกเฉินจากอุบัติเหตุ (Diagnosti...  0.823529  \n2     การวินิจฉัยภาวะฉุกเฉินจากอุบัติเหตุ (Diagnosti...  0.764706  \n3     การวินิจฉัยภาวะฉุกเฉินที่ไม่ได้เกิดจากอุบัติเห...  0.764706  \n4     หลักการและพื้นฐานของเครื่องมือทางรังสีวิทยา (B...  0.764706  \n...                                                 ...       ...  \n6122  เตรียมความพร้อมทางรังสีวิทยาสำหรับบุคลากรทางกา...  0.705882  \n6123  เตรียมความพร้อมทางรังสีวิทยาสำหรับบุคลากรทางกา...  0.823529  \n6124  เตรียมความพร้อมทางรังสีวิทยาสำหรับบุคลากรทางกา...  0.705882  \n6125  เตรียมความพร้อมทางรังสีวิทยาสำหรับบุคลากรทางกา...  0.705882  \n6126  เตรียมความพร้อมทางรังสีวิทยาสำหรับบุคลากรทางกา...  0.705882  \n\n[6127 rows x 3 columns]",
      "text/html": "<div>\n<style scoped>\n    .dataframe tbody tr th:only-of-type {\n        vertical-align: middle;\n    }\n\n    .dataframe tbody tr th {\n        vertical-align: top;\n    }\n\n    .dataframe thead th {\n        text-align: right;\n    }\n</style>\n<table border=\"1\" class=\"dataframe\">\n  <thead>\n    <tr style=\"text-align: right;\">\n      <th></th>\n      <th>User</th>\n      <th>Course</th>\n      <th>Score</th>\n    </tr>\n  </thead>\n  <tbody>\n    <tr>\n      <th>0</th>\n      <td>PORPHAING JANTIP</td>\n      <td>หลักการและพื้นฐานของเครื่องมือทางรังสีวิทยา (B...</td>\n      <td>0.647059</td>\n    </tr>\n    <tr>\n      <th>1</th>\n      <td>THANAKORN DARASRISAK</td>\n      <td>การวินิจฉัยภาวะฉุกเฉินจากอุบัติเหตุ (Diagnosti...</td>\n      <td>0.823529</td>\n    </tr>\n    <tr>\n      <th>2</th>\n      <td>KARNJANA EAMTANG</td>\n      <td>การวินิจฉัยภาวะฉุกเฉินจากอุบัติเหตุ (Diagnosti...</td>\n      <td>0.764706</td>\n    </tr>\n    <tr>\n      <th>3</th>\n      <td>KARNJANA EAMTANG</td>\n      <td>การวินิจฉัยภาวะฉุกเฉินที่ไม่ได้เกิดจากอุบัติเห...</td>\n      <td>0.764706</td>\n    </tr>\n    <tr>\n      <th>4</th>\n      <td>THITIMUN VORATHONGCHAI</td>\n      <td>หลักการและพื้นฐานของเครื่องมือทางรังสีวิทยา (B...</td>\n      <td>0.764706</td>\n    </tr>\n    <tr>\n      <th>...</th>\n      <td>...</td>\n      <td>...</td>\n      <td>...</td>\n    </tr>\n    <tr>\n      <th>6122</th>\n      <td>KITTINON SANTASUP</td>\n      <td>เตรียมความพร้อมทางรังสีวิทยาสำหรับบุคลากรทางกา...</td>\n      <td>0.705882</td>\n    </tr>\n    <tr>\n      <th>6123</th>\n      <td>WITTAWAT SERMSRIPONG</td>\n      <td>เตรียมความพร้อมทางรังสีวิทยาสำหรับบุคลากรทางกา...</td>\n      <td>0.823529</td>\n    </tr>\n    <tr>\n      <th>6124</th>\n      <td>NON NAKKARA</td>\n      <td>เตรียมความพร้อมทางรังสีวิทยาสำหรับบุคลากรทางกา...</td>\n      <td>0.705882</td>\n    </tr>\n    <tr>\n      <th>6125</th>\n      <td>PHATTHARAPHON LIN</td>\n      <td>เตรียมความพร้อมทางรังสีวิทยาสำหรับบุคลากรทางกา...</td>\n      <td>0.705882</td>\n    </tr>\n    <tr>\n      <th>6126</th>\n      <td>THANAPAT SEEMAKAJOHN</td>\n      <td>เตรียมความพร้อมทางรังสีวิทยาสำหรับบุคลากรทางกา...</td>\n      <td>0.705882</td>\n    </tr>\n  </tbody>\n</table>\n<p>6127 rows × 3 columns</p>\n</div>"
     },
     "execution_count": 20,
     "metadata": {},
     "output_type": "execute_result"
    }
   ],
   "source": [
    "# all user, course, score have the same length\n",
    "data = {\n",
    "    'User': df['User'],\n",
    "    'Course': df['Course'],\n",
    "    'Score': df['Score'],\n",
    "}\n",
    "\n",
    "predata = pd.DataFrame(data)\n",
    "predata"
   ],
   "metadata": {
    "collapsed": false,
    "ExecuteTime": {
     "end_time": "2023-12-06T14:52:13.065010500Z",
     "start_time": "2023-12-06T14:52:12.728675300Z"
    }
   },
   "id": "3cf45ac79877d587"
  },
  {
   "cell_type": "markdown",
   "source": [
    "Calculate sparsity and csr matrix"
   ],
   "metadata": {
    "collapsed": false
   },
   "id": "9bece3af0bc2daa3"
  },
  {
   "cell_type": "code",
   "execution_count": 21,
   "outputs": [
    {
     "data": {
      "text/plain": "User                                                AAIYANA MUSTAFA  \\\nCourse                                                                \nCancer Epidemiology and Prevention                              0.0   \nCoaching Skill : Crafting a New You สำหรับนักศึ...              0.0   \nCoaching Skill : Crafting a New You สำหรับบุคลา...              0.0   \nDevelopment Studies & Social Research Specializ...              0.0   \nDigital Transformation: e-Document                              0.0   \n\nUser                                                ABDULFATTAH SENG  \\\nCourse                                                                 \nCancer Epidemiology and Prevention                               0.0   \nCoaching Skill : Crafting a New You สำหรับนักศึ...               0.0   \nCoaching Skill : Crafting a New You สำหรับบุคลา...               0.0   \nDevelopment Studies & Social Research Specializ...               0.0   \nDigital Transformation: e-Document                               0.0   \n\nUser                                                ABIGAIL LINE  \\\nCourse                                                             \nCancer Epidemiology and Prevention                           0.0   \nCoaching Skill : Crafting a New You สำหรับนักศึ...           0.0   \nCoaching Skill : Crafting a New You สำหรับบุคลา...           0.0   \nDevelopment Studies & Social Research Specializ...           0.0   \nDigital Transformation: e-Document                           0.0   \n\nUser                                                ABRAM THANAWONG  \\\nCourse                                                                \nCancer Epidemiology and Prevention                              0.0   \nCoaching Skill : Crafting a New You สำหรับนักศึ...              0.0   \nCoaching Skill : Crafting a New You สำหรับบุคลา...              0.0   \nDevelopment Studies & Social Research Specializ...              0.0   \nDigital Transformation: e-Document                              0.0   \n\nUser                                                ACHIRA TEAWSIRISUP  \\\nCourse                                                                   \nCancer Epidemiology and Prevention                                 0.0   \nCoaching Skill : Crafting a New You สำหรับนักศึ...                 0.0   \nCoaching Skill : Crafting a New You สำหรับบุคลา...                 0.0   \nDevelopment Studies & Social Research Specializ...                 0.0   \nDigital Transformation: e-Document                                 0.0   \n\nUser                                                ACHIRAWIT AKSORNDIT  \\\nCourse                                                                    \nCancer Epidemiology and Prevention                                  0.0   \nCoaching Skill : Crafting a New You สำหรับนักศึ...                  0.0   \nCoaching Skill : Crafting a New You สำหรับบุคลา...                  0.0   \nDevelopment Studies & Social Research Specializ...                  0.0   \nDigital Transformation: e-Document                                  0.0   \n\nUser                                                ACHIRAWIT PHUJOMCHAE  \\\nCourse                                                                     \nCancer Epidemiology and Prevention                              0.000000   \nCoaching Skill : Crafting a New You สำหรับนักศึ...              0.000000   \nCoaching Skill : Crafting a New You สำหรับบุคลา...              0.000000   \nDevelopment Studies & Social Research Specializ...              0.588235   \nDigital Transformation: e-Document                              0.000000   \n\nUser                                                ACHIRAYA INNA  \\\nCourse                                                              \nCancer Epidemiology and Prevention                            0.0   \nCoaching Skill : Crafting a New You สำหรับนักศึ...            0.0   \nCoaching Skill : Crafting a New You สำหรับบุคลา...            0.0   \nDevelopment Studies & Social Research Specializ...            0.0   \nDigital Transformation: e-Document                            0.0   \n\nUser                                                ACHIRAYA NUISEE  \\\nCourse                                                                \nCancer Epidemiology and Prevention                              0.0   \nCoaching Skill : Crafting a New You สำหรับนักศึ...              0.0   \nCoaching Skill : Crafting a New You สำหรับบุคลา...              0.0   \nDevelopment Studies & Social Research Specializ...              0.0   \nDigital Transformation: e-Document                              0.0   \n\nUser                                                ACHIRAYA SUKPAISARN  ...  \\\nCourse                                                                   ...   \nCancer Epidemiology and Prevention                                  0.0  ...   \nCoaching Skill : Crafting a New You สำหรับนักศึ...                  0.0  ...   \nCoaching Skill : Crafting a New You สำหรับบุคลา...                  0.0  ...   \nDevelopment Studies & Social Research Specializ...                  0.0  ...   \nDigital Transformation: e-Document                                  0.0  ...   \n\nUser                                                YYY TTTT  ZABIDIN SENSANA  \\\nCourse                                                                          \nCancer Epidemiology and Prevention                       0.0              0.0   \nCoaching Skill : Crafting a New You สำหรับนักศึ...       0.0              0.0   \nCoaching Skill : Crafting a New You สำหรับบุคลา...       0.0              0.0   \nDevelopment Studies & Social Research Specializ...       0.0              0.0   \nDigital Transformation: e-Document                       0.0              0.0   \n\nUser                                                ZAR CHI LIN -  \\\nCourse                                                              \nCancer Epidemiology and Prevention                            0.0   \nCoaching Skill : Crafting a New You สำหรับนักศึ...            0.0   \nCoaching Skill : Crafting a New You สำหรับบุคลา...            0.0   \nDevelopment Studies & Social Research Specializ...            0.0   \nDigital Transformation: e-Document                            0.0   \n\nUser                                                ZAYNUB NAEEM   ZE NYOI  \\\nCourse                                                                       \nCancer Epidemiology and Prevention                           0.0  0.000000   \nCoaching Skill : Crafting a New You สำหรับนักศึ...           0.0  0.000000   \nCoaching Skill : Crafting a New You สำหรับบุคลา...           0.0  0.000000   \nDevelopment Studies & Social Research Specializ...           0.0  0.764706   \nDigital Transformation: e-Document                           0.0  0.000000   \n\nUser                                                ZHANGJINSHUO DONG  \\\nCourse                                                                  \nCancer Epidemiology and Prevention                                0.0   \nCoaching Skill : Crafting a New You สำหรับนักศึ...                0.0   \nCoaching Skill : Crafting a New You สำหรับบุคลา...                0.0   \nDevelopment Studies & Social Research Specializ...                0.0   \nDigital Transformation: e-Document                                0.0   \n\nUser                                                ZHENGHAO LIU  ZHENYI JIN  \\\nCourse                                                                         \nCancer Epidemiology and Prevention                           0.0         0.0   \nCoaching Skill : Crafting a New You สำหรับนักศึ...           0.0         0.0   \nCoaching Skill : Crafting a New You สำหรับบุคลา...           0.0         0.0   \nDevelopment Studies & Social Research Specializ...           0.0         0.0   \nDigital Transformation: e-Document                           0.0         0.0   \n\nUser                                                ZIWEN YONG  \\\nCourse                                                           \nCancer Epidemiology and Prevention                         0.0   \nCoaching Skill : Crafting a New You สำหรับนักศึ...         0.0   \nCoaching Skill : Crafting a New You สำหรับบุคลา...         0.0   \nDevelopment Studies & Social Research Specializ...         0.0   \nDigital Transformation: e-Document                         0.0   \n\nUser                                                ZOE BESTMANNSMITH  \nCourse                                                                 \nCancer Epidemiology and Prevention                                0.0  \nCoaching Skill : Crafting a New You สำหรับนักศึ...                0.0  \nCoaching Skill : Crafting a New You สำหรับบุคลา...                0.0  \nDevelopment Studies & Social Research Specializ...                0.0  \nDigital Transformation: e-Document                                0.0  \n\n[5 rows x 4652 columns]",
      "text/html": "<div>\n<style scoped>\n    .dataframe tbody tr th:only-of-type {\n        vertical-align: middle;\n    }\n\n    .dataframe tbody tr th {\n        vertical-align: top;\n    }\n\n    .dataframe thead th {\n        text-align: right;\n    }\n</style>\n<table border=\"1\" class=\"dataframe\">\n  <thead>\n    <tr style=\"text-align: right;\">\n      <th>User</th>\n      <th>AAIYANA MUSTAFA</th>\n      <th>ABDULFATTAH SENG</th>\n      <th>ABIGAIL LINE</th>\n      <th>ABRAM THANAWONG</th>\n      <th>ACHIRA TEAWSIRISUP</th>\n      <th>ACHIRAWIT AKSORNDIT</th>\n      <th>ACHIRAWIT PHUJOMCHAE</th>\n      <th>ACHIRAYA INNA</th>\n      <th>ACHIRAYA NUISEE</th>\n      <th>ACHIRAYA SUKPAISARN</th>\n      <th>...</th>\n      <th>YYY TTTT</th>\n      <th>ZABIDIN SENSANA</th>\n      <th>ZAR CHI LIN -</th>\n      <th>ZAYNUB NAEEM</th>\n      <th>ZE NYOI</th>\n      <th>ZHANGJINSHUO DONG</th>\n      <th>ZHENGHAO LIU</th>\n      <th>ZHENYI JIN</th>\n      <th>ZIWEN YONG</th>\n      <th>ZOE BESTMANNSMITH</th>\n    </tr>\n    <tr>\n      <th>Course</th>\n      <th></th>\n      <th></th>\n      <th></th>\n      <th></th>\n      <th></th>\n      <th></th>\n      <th></th>\n      <th></th>\n      <th></th>\n      <th></th>\n      <th></th>\n      <th></th>\n      <th></th>\n      <th></th>\n      <th></th>\n      <th></th>\n      <th></th>\n      <th></th>\n      <th></th>\n      <th></th>\n      <th></th>\n    </tr>\n  </thead>\n  <tbody>\n    <tr>\n      <th>Cancer Epidemiology and Prevention</th>\n      <td>0.0</td>\n      <td>0.0</td>\n      <td>0.0</td>\n      <td>0.0</td>\n      <td>0.0</td>\n      <td>0.0</td>\n      <td>0.000000</td>\n      <td>0.0</td>\n      <td>0.0</td>\n      <td>0.0</td>\n      <td>...</td>\n      <td>0.0</td>\n      <td>0.0</td>\n      <td>0.0</td>\n      <td>0.0</td>\n      <td>0.000000</td>\n      <td>0.0</td>\n      <td>0.0</td>\n      <td>0.0</td>\n      <td>0.0</td>\n      <td>0.0</td>\n    </tr>\n    <tr>\n      <th>Coaching Skill : Crafting a New You สำหรับนักศึกษา มหาวิทยาลัยเชียงใหม่</th>\n      <td>0.0</td>\n      <td>0.0</td>\n      <td>0.0</td>\n      <td>0.0</td>\n      <td>0.0</td>\n      <td>0.0</td>\n      <td>0.000000</td>\n      <td>0.0</td>\n      <td>0.0</td>\n      <td>0.0</td>\n      <td>...</td>\n      <td>0.0</td>\n      <td>0.0</td>\n      <td>0.0</td>\n      <td>0.0</td>\n      <td>0.000000</td>\n      <td>0.0</td>\n      <td>0.0</td>\n      <td>0.0</td>\n      <td>0.0</td>\n      <td>0.0</td>\n    </tr>\n    <tr>\n      <th>Coaching Skill : Crafting a New You สำหรับบุคลากร มหาวิทยาลัยเชียงใหม่</th>\n      <td>0.0</td>\n      <td>0.0</td>\n      <td>0.0</td>\n      <td>0.0</td>\n      <td>0.0</td>\n      <td>0.0</td>\n      <td>0.000000</td>\n      <td>0.0</td>\n      <td>0.0</td>\n      <td>0.0</td>\n      <td>...</td>\n      <td>0.0</td>\n      <td>0.0</td>\n      <td>0.0</td>\n      <td>0.0</td>\n      <td>0.000000</td>\n      <td>0.0</td>\n      <td>0.0</td>\n      <td>0.0</td>\n      <td>0.0</td>\n      <td>0.0</td>\n    </tr>\n    <tr>\n      <th>Development Studies &amp; Social Research Specialization 2023</th>\n      <td>0.0</td>\n      <td>0.0</td>\n      <td>0.0</td>\n      <td>0.0</td>\n      <td>0.0</td>\n      <td>0.0</td>\n      <td>0.588235</td>\n      <td>0.0</td>\n      <td>0.0</td>\n      <td>0.0</td>\n      <td>...</td>\n      <td>0.0</td>\n      <td>0.0</td>\n      <td>0.0</td>\n      <td>0.0</td>\n      <td>0.764706</td>\n      <td>0.0</td>\n      <td>0.0</td>\n      <td>0.0</td>\n      <td>0.0</td>\n      <td>0.0</td>\n    </tr>\n    <tr>\n      <th>Digital Transformation: e-Document</th>\n      <td>0.0</td>\n      <td>0.0</td>\n      <td>0.0</td>\n      <td>0.0</td>\n      <td>0.0</td>\n      <td>0.0</td>\n      <td>0.000000</td>\n      <td>0.0</td>\n      <td>0.0</td>\n      <td>0.0</td>\n      <td>...</td>\n      <td>0.0</td>\n      <td>0.0</td>\n      <td>0.0</td>\n      <td>0.0</td>\n      <td>0.000000</td>\n      <td>0.0</td>\n      <td>0.0</td>\n      <td>0.0</td>\n      <td>0.0</td>\n      <td>0.0</td>\n    </tr>\n  </tbody>\n</table>\n<p>5 rows × 4652 columns</p>\n</div>"
     },
     "execution_count": 21,
     "metadata": {},
     "output_type": "execute_result"
    }
   ],
   "source": [
    "# Pivot table by rotating course\n",
    "data = predata.pivot_table(index='Course', columns='User', values='Score').fillna(0)\n",
    "data.head()"
   ],
   "metadata": {
    "collapsed": false,
    "ExecuteTime": {
     "end_time": "2023-12-06T14:52:13.299370300Z",
     "start_time": "2023-12-06T14:52:12.749001600Z"
    }
   },
   "id": "a9c28176080eabd0"
  },
  {
   "cell_type": "code",
   "execution_count": 22,
   "outputs": [],
   "source": [
    "# Item-User Rated Matrix\n",
    "data_mtx = csr_matrix(data.values)"
   ],
   "metadata": {
    "collapsed": false,
    "ExecuteTime": {
     "end_time": "2023-12-06T14:52:13.299370300Z",
     "start_time": "2023-12-06T14:52:12.917166100Z"
    }
   },
   "id": "ccc117194ab7b14d"
  },
  {
   "cell_type": "markdown",
   "source": [
    "Euclidean Distance & Cosine Similarity"
   ],
   "metadata": {
    "collapsed": false
   },
   "id": "b6273ad2dab1c8c9"
  },
  {
   "cell_type": "code",
   "execution_count": 23,
   "outputs": [
    {
     "data": {
      "text/plain": "NearestNeighbors(metric='cosine')",
      "text/html": "<style>#sk-container-id-1 {color: black;}#sk-container-id-1 pre{padding: 0;}#sk-container-id-1 div.sk-toggleable {background-color: white;}#sk-container-id-1 label.sk-toggleable__label {cursor: pointer;display: block;width: 100%;margin-bottom: 0;padding: 0.3em;box-sizing: border-box;text-align: center;}#sk-container-id-1 label.sk-toggleable__label-arrow:before {content: \"▸\";float: left;margin-right: 0.25em;color: #696969;}#sk-container-id-1 label.sk-toggleable__label-arrow:hover:before {color: black;}#sk-container-id-1 div.sk-estimator:hover label.sk-toggleable__label-arrow:before {color: black;}#sk-container-id-1 div.sk-toggleable__content {max-height: 0;max-width: 0;overflow: hidden;text-align: left;background-color: #f0f8ff;}#sk-container-id-1 div.sk-toggleable__content pre {margin: 0.2em;color: black;border-radius: 0.25em;background-color: #f0f8ff;}#sk-container-id-1 input.sk-toggleable__control:checked~div.sk-toggleable__content {max-height: 200px;max-width: 100%;overflow: auto;}#sk-container-id-1 input.sk-toggleable__control:checked~label.sk-toggleable__label-arrow:before {content: \"▾\";}#sk-container-id-1 div.sk-estimator input.sk-toggleable__control:checked~label.sk-toggleable__label {background-color: #d4ebff;}#sk-container-id-1 div.sk-label input.sk-toggleable__control:checked~label.sk-toggleable__label {background-color: #d4ebff;}#sk-container-id-1 input.sk-hidden--visually {border: 0;clip: rect(1px 1px 1px 1px);clip: rect(1px, 1px, 1px, 1px);height: 1px;margin: -1px;overflow: hidden;padding: 0;position: absolute;width: 1px;}#sk-container-id-1 div.sk-estimator {font-family: monospace;background-color: #f0f8ff;border: 1px dotted black;border-radius: 0.25em;box-sizing: border-box;margin-bottom: 0.5em;}#sk-container-id-1 div.sk-estimator:hover {background-color: #d4ebff;}#sk-container-id-1 div.sk-parallel-item::after {content: \"\";width: 100%;border-bottom: 1px solid gray;flex-grow: 1;}#sk-container-id-1 div.sk-label:hover label.sk-toggleable__label {background-color: #d4ebff;}#sk-container-id-1 div.sk-serial::before {content: \"\";position: absolute;border-left: 1px solid gray;box-sizing: border-box;top: 0;bottom: 0;left: 50%;z-index: 0;}#sk-container-id-1 div.sk-serial {display: flex;flex-direction: column;align-items: center;background-color: white;padding-right: 0.2em;padding-left: 0.2em;position: relative;}#sk-container-id-1 div.sk-item {position: relative;z-index: 1;}#sk-container-id-1 div.sk-parallel {display: flex;align-items: stretch;justify-content: center;background-color: white;position: relative;}#sk-container-id-1 div.sk-item::before, #sk-container-id-1 div.sk-parallel-item::before {content: \"\";position: absolute;border-left: 1px solid gray;box-sizing: border-box;top: 0;bottom: 0;left: 50%;z-index: -1;}#sk-container-id-1 div.sk-parallel-item {display: flex;flex-direction: column;z-index: 1;position: relative;background-color: white;}#sk-container-id-1 div.sk-parallel-item:first-child::after {align-self: flex-end;width: 50%;}#sk-container-id-1 div.sk-parallel-item:last-child::after {align-self: flex-start;width: 50%;}#sk-container-id-1 div.sk-parallel-item:only-child::after {width: 0;}#sk-container-id-1 div.sk-dashed-wrapped {border: 1px dashed gray;margin: 0 0.4em 0.5em 0.4em;box-sizing: border-box;padding-bottom: 0.4em;background-color: white;}#sk-container-id-1 div.sk-label label {font-family: monospace;font-weight: bold;display: inline-block;line-height: 1.2em;}#sk-container-id-1 div.sk-label-container {text-align: center;}#sk-container-id-1 div.sk-container {/* jupyter's `normalize.less` sets `[hidden] { display: none; }` but bootstrap.min.css set `[hidden] { display: none !important; }` so we also need the `!important` here to be able to override the default hidden behavior on the sphinx rendered scikit-learn.org. See: https://github.com/scikit-learn/scikit-learn/issues/21755 */display: inline-block !important;position: relative;}#sk-container-id-1 div.sk-text-repr-fallback {display: none;}</style><div id=\"sk-container-id-1\" class=\"sk-top-container\"><div class=\"sk-text-repr-fallback\"><pre>NearestNeighbors(metric=&#x27;cosine&#x27;)</pre><b>In a Jupyter environment, please rerun this cell to show the HTML representation or trust the notebook. <br />On GitHub, the HTML representation is unable to render, please try loading this page with nbviewer.org.</b></div><div class=\"sk-container\" hidden><div class=\"sk-item\"><div class=\"sk-estimator sk-toggleable\"><input class=\"sk-toggleable__control sk-hidden--visually\" id=\"sk-estimator-id-1\" type=\"checkbox\" checked><label for=\"sk-estimator-id-1\" class=\"sk-toggleable__label sk-toggleable__label-arrow\">NearestNeighbors</label><div class=\"sk-toggleable__content\"><pre>NearestNeighbors(metric=&#x27;cosine&#x27;)</pre></div></div></div></div></div>"
     },
     "execution_count": 23,
     "metadata": {},
     "output_type": "execute_result"
    }
   ],
   "source": [
    "# model_knn = NearestNeighbors(metric='cosine', algorithm='brute', n_neighbors=int(np.around(math.sqrt(len(courses))))).fit(data_mtx)\n",
    "model_knn = NearestNeighbors(metric='cosine').fit(data_mtx)\n",
    "model_knn"
   ],
   "metadata": {
    "collapsed": false,
    "ExecuteTime": {
     "end_time": "2023-12-06T14:52:13.301580Z",
     "start_time": "2023-12-06T14:52:12.917166100Z"
    }
   },
   "id": "757c2d0e75f07f69"
  },
  {
   "cell_type": "code",
   "execution_count": 24,
   "outputs": [],
   "source": [
    "def recommender_knn(course_name, n_recommendations):\n",
    "    idx = process.extractOne(course_name, courses)[2]\n",
    "    print('Selected movie:', courses[idx], 'Index:', idx)\n",
    "    distances, indices = model_knn.kneighbors(data_mtx[idx], n_neighbors=n_recommendations, return_distance=True)\n",
    "    recommendations = [courses[i].where(i!=idx) for i in indices]\n",
    "    recommended_courses = recommendations[0][1:]\n",
    "    course_distances = distances[0][1:]\n",
    "    d = {\n",
    "        'Course': recommended_courses,\n",
    "        'Cosine Distance': course_distances\n",
    "    }\n",
    "    results = pd.DataFrame(data=d)\n",
    "    return results"
   ],
   "metadata": {
    "collapsed": false,
    "ExecuteTime": {
     "end_time": "2023-12-06T14:52:13.302593600Z",
     "start_time": "2023-12-06T14:52:12.918166900Z"
    }
   },
   "id": "4b6c8f03d2186801"
  },
  {
   "cell_type": "code",
   "execution_count": 25,
   "outputs": [
    {
     "name": "stdout",
     "output_type": "stream",
     "text": [
      "Selected movie: การวินิจฉัยภาวะฉุกเฉินจากอุบัติเหตุ (Diagnostic Radiology of Traumatic Emergency) Index: 42\n"
     ]
    },
    {
     "data": {
      "text/plain": "                                                Course  Cosine Distance\n43   การวินิจฉัยภาวะฉุกเฉินที่ไม่ได้เกิดจากอุบัติเห...         0.245415\n131  หลักการและพื้นฐานของเครื่องมือทางรังสีวิทยา (B...         0.720149\n110                                 รังสีวิทยาวินิจฉัย         0.771847\n152  เตรียมความพร้อมทางรังสีวิทยาสำหรับบุคลากรทางกา...         0.819078\n124  สารสนเทศทางสาธารณสุข 2566 (Public Health Infor...         0.931377\n..                                                 ...              ...\n140  หลักเศรษฐศาสตร์สาธารณสุข (Principle of Health ...         1.000000\n141  หุ่นยนต์วิจักษณ์ (Robotics Appreciation) 2566 ...         1.000000\n142  หุ่นยนต์วิจักษณ์ (Robotics Appreciation) 2566 ...         1.000000\n118  วิทยาศาสตร์ขั้นสูงในการดูแลผิวพรรณและสุขภาวะผิ...         1.000000\n39   การพัฒนาปัญญาด้วยเกมต่อศัพท์ภาษาอังกฤษ (Intell...         1.000000\n\n[99 rows x 2 columns]",
      "text/html": "<div>\n<style scoped>\n    .dataframe tbody tr th:only-of-type {\n        vertical-align: middle;\n    }\n\n    .dataframe tbody tr th {\n        vertical-align: top;\n    }\n\n    .dataframe thead th {\n        text-align: right;\n    }\n</style>\n<table border=\"1\" class=\"dataframe\">\n  <thead>\n    <tr style=\"text-align: right;\">\n      <th></th>\n      <th>Course</th>\n      <th>Cosine Distance</th>\n    </tr>\n  </thead>\n  <tbody>\n    <tr>\n      <th>43</th>\n      <td>การวินิจฉัยภาวะฉุกเฉินที่ไม่ได้เกิดจากอุบัติเห...</td>\n      <td>0.245415</td>\n    </tr>\n    <tr>\n      <th>131</th>\n      <td>หลักการและพื้นฐานของเครื่องมือทางรังสีวิทยา (B...</td>\n      <td>0.720149</td>\n    </tr>\n    <tr>\n      <th>110</th>\n      <td>รังสีวิทยาวินิจฉัย</td>\n      <td>0.771847</td>\n    </tr>\n    <tr>\n      <th>152</th>\n      <td>เตรียมความพร้อมทางรังสีวิทยาสำหรับบุคลากรทางกา...</td>\n      <td>0.819078</td>\n    </tr>\n    <tr>\n      <th>124</th>\n      <td>สารสนเทศทางสาธารณสุข 2566 (Public Health Infor...</td>\n      <td>0.931377</td>\n    </tr>\n    <tr>\n      <th>...</th>\n      <td>...</td>\n      <td>...</td>\n    </tr>\n    <tr>\n      <th>140</th>\n      <td>หลักเศรษฐศาสตร์สาธารณสุข (Principle of Health ...</td>\n      <td>1.000000</td>\n    </tr>\n    <tr>\n      <th>141</th>\n      <td>หุ่นยนต์วิจักษณ์ (Robotics Appreciation) 2566 ...</td>\n      <td>1.000000</td>\n    </tr>\n    <tr>\n      <th>142</th>\n      <td>หุ่นยนต์วิจักษณ์ (Robotics Appreciation) 2566 ...</td>\n      <td>1.000000</td>\n    </tr>\n    <tr>\n      <th>118</th>\n      <td>วิทยาศาสตร์ขั้นสูงในการดูแลผิวพรรณและสุขภาวะผิ...</td>\n      <td>1.000000</td>\n    </tr>\n    <tr>\n      <th>39</th>\n      <td>การพัฒนาปัญญาด้วยเกมต่อศัพท์ภาษาอังกฤษ (Intell...</td>\n      <td>1.000000</td>\n    </tr>\n  </tbody>\n</table>\n<p>99 rows × 2 columns</p>\n</div>"
     },
     "execution_count": 25,
     "metadata": {},
     "output_type": "execute_result"
    }
   ],
   "source": [
    "recommender_knn('การวินิจฉัยภาวะฉุกเฉินจากอุบัติเหตุ (Diagnostic Radiology of Traumatic Emergency)', 100)"
   ],
   "metadata": {
    "collapsed": false,
    "ExecuteTime": {
     "end_time": "2023-12-06T14:52:13.304589400Z",
     "start_time": "2023-12-06T14:52:12.918166900Z"
    }
   },
   "id": "5a532f42e3ecba85"
  },
  {
   "cell_type": "markdown",
   "source": [
    "Predata for hybrid recommendation"
   ],
   "metadata": {
    "collapsed": false
   },
   "id": "5fd1ad5c6c39d1e0"
  },
  {
   "cell_type": "code",
   "execution_count": 26,
   "outputs": [],
   "source": [
    "def recommender_knn_all_courses(course_name):\n",
    "    model_knn.fit(data_mtx)\n",
    "    idx = process.extractOne(course_name, courses)[2]\n",
    "    print('Selected movie:', courses[idx], 'Index:', idx)\n",
    "    distances, indices = model_knn.kneighbors(data_mtx[idx], n_neighbors=len(courses))\n",
    "    recommendations = [courses[i].where(i!=idx) for i in indices]\n",
    "    recommended_courses = recommendations[0][1:]\n",
    "    scores = 1 - distances\n",
    "    course_distances = scores[0][1:]\n",
    "    d = {\n",
    "        'Course': recommended_courses,\n",
    "        'Score': course_distances\n",
    "    }\n",
    "    results = pd.DataFrame(data=d)\n",
    "    results = results.sort_index().rename_axis('Index')\n",
    "    return results"
   ],
   "metadata": {
    "collapsed": false,
    "ExecuteTime": {
     "end_time": "2023-12-06T14:52:13.311099Z",
     "start_time": "2023-12-06T14:52:12.948569500Z"
    }
   },
   "id": "1691c4447c9c28ce"
  },
  {
   "cell_type": "code",
   "execution_count": 27,
   "outputs": [
    {
     "name": "stdout",
     "output_type": "stream",
     "text": [
      "Selected movie: การวินิจฉัยภาวะฉุกเฉินจากอุบัติเหตุ (Diagnostic Radiology of Traumatic Emergency) Index: 42\n"
     ]
    },
    {
     "data": {
      "text/plain": "                                                  Course     Score\nIndex                                                             \n0                     Cancer Epidemiology and Prevention  0.000000\n1      Coaching Skill : Crafting a New You สำหรับนักศ...  0.000000\n2      Coaching Skill : Crafting a New You สำหรับบุคล...  0.000000\n3      Development Studies & Social Research Speciali...  0.017835\n4                     Digital Transformation: e-Document  0.000000\n...                                                  ...       ...\n163                             เวชศาสตร์ครอบครัวขั้นสูง  0.000000\n164    เวชศาสตร์ฟื้นฟูสำหรับแพทย์ฝึกอบรมเวชศาสตร์ฟื้น...  0.000000\n165    แปลงจุดแข็ง เป็นคุณค่า สร้างชีวิตสู่ความสุข  (...  0.000000\n166    แปลงจุดแข็ง เป็นคุณค่า สร้างชีวิตสู่ความสุข (S...  0.000000\n167    “ฟูมฟักทักษะสำคัญในชีวิตและการทำงาน Skills4Lif...  0.000000\n\n[167 rows x 2 columns]",
      "text/html": "<div>\n<style scoped>\n    .dataframe tbody tr th:only-of-type {\n        vertical-align: middle;\n    }\n\n    .dataframe tbody tr th {\n        vertical-align: top;\n    }\n\n    .dataframe thead th {\n        text-align: right;\n    }\n</style>\n<table border=\"1\" class=\"dataframe\">\n  <thead>\n    <tr style=\"text-align: right;\">\n      <th></th>\n      <th>Course</th>\n      <th>Score</th>\n    </tr>\n    <tr>\n      <th>Index</th>\n      <th></th>\n      <th></th>\n    </tr>\n  </thead>\n  <tbody>\n    <tr>\n      <th>0</th>\n      <td>Cancer Epidemiology and Prevention</td>\n      <td>0.000000</td>\n    </tr>\n    <tr>\n      <th>1</th>\n      <td>Coaching Skill : Crafting a New You สำหรับนักศ...</td>\n      <td>0.000000</td>\n    </tr>\n    <tr>\n      <th>2</th>\n      <td>Coaching Skill : Crafting a New You สำหรับบุคล...</td>\n      <td>0.000000</td>\n    </tr>\n    <tr>\n      <th>3</th>\n      <td>Development Studies &amp; Social Research Speciali...</td>\n      <td>0.017835</td>\n    </tr>\n    <tr>\n      <th>4</th>\n      <td>Digital Transformation: e-Document</td>\n      <td>0.000000</td>\n    </tr>\n    <tr>\n      <th>...</th>\n      <td>...</td>\n      <td>...</td>\n    </tr>\n    <tr>\n      <th>163</th>\n      <td>เวชศาสตร์ครอบครัวขั้นสูง</td>\n      <td>0.000000</td>\n    </tr>\n    <tr>\n      <th>164</th>\n      <td>เวชศาสตร์ฟื้นฟูสำหรับแพทย์ฝึกอบรมเวชศาสตร์ฟื้น...</td>\n      <td>0.000000</td>\n    </tr>\n    <tr>\n      <th>165</th>\n      <td>แปลงจุดแข็ง เป็นคุณค่า สร้างชีวิตสู่ความสุข  (...</td>\n      <td>0.000000</td>\n    </tr>\n    <tr>\n      <th>166</th>\n      <td>แปลงจุดแข็ง เป็นคุณค่า สร้างชีวิตสู่ความสุข (S...</td>\n      <td>0.000000</td>\n    </tr>\n    <tr>\n      <th>167</th>\n      <td>“ฟูมฟักทักษะสำคัญในชีวิตและการทำงาน Skills4Lif...</td>\n      <td>0.000000</td>\n    </tr>\n  </tbody>\n</table>\n<p>167 rows × 2 columns</p>\n</div>"
     },
     "execution_count": 27,
     "metadata": {},
     "output_type": "execute_result"
    }
   ],
   "source": [
    "recommender_knn_all_courses('การวินิจฉัยภาวะฉุกเฉินจากอุบัติเหตุ (Diagnostic Radiology of Traumatic Emergency)')"
   ],
   "metadata": {
    "collapsed": false,
    "ExecuteTime": {
     "end_time": "2023-12-06T14:52:13.330106900Z",
     "start_time": "2023-12-06T14:52:12.958559700Z"
    }
   },
   "id": "7c5bdf4dcc42b6d2"
  },
  {
   "cell_type": "code",
   "execution_count": 28,
   "outputs": [],
   "source": [
    "def recommender_knn_by_user(user_name, n_recommendations):\n",
    "    df = {\n",
    "        'User': pd.Series(file['ชื่อ-นามสกุล (อังกฤษ)']),\n",
    "        'Course': pd.Series(file['หลักสูตรอบรมระยะสั้น'])\n",
    "    }\n",
    "    \n",
    "    user_course = pd.DataFrame(df)\n",
    "    selected_user_name = user_course.loc[user_course['User'] == user_name]\n",
    "    selected_courses = selected_user_name['Course']\n",
    "    \n",
    "    recommended_courses = [ recommender_knn_all_courses(x) for x in selected_courses]\n",
    "    \n",
    "    # pre dataframe\n",
    "    df = pd.DataFrame({\n",
    "        'Course': [],\n",
    "        'Score': []\n",
    "    }).rename_axis('Index')\n",
    "    \n",
    "    for x in recommended_courses:\n",
    "        df = df._append(x)\n",
    "    df =  df.sort_values('Score', ascending=False).drop_duplicates('Course')\n",
    "    return df.head(n_recommendations)"
   ],
   "metadata": {
    "collapsed": false,
    "ExecuteTime": {
     "end_time": "2023-12-06T14:52:13.332240500Z",
     "start_time": "2023-12-06T14:52:13.038880600Z"
    }
   },
   "id": "e662f15c252f7be0"
  },
  {
   "cell_type": "markdown",
   "source": [
    "Items show permanence whereas, people change with time\n",
    "Items are fewer in numbers to deal with. Which leads to smaller similarity matrix. Amazon and Netflix use it!\n",
    "Better for New users:\n",
    "— Him selecting just one item will let us provide recommendations\n",
    "— But for user based, new user has to wait until next build of similarity matrix (which is the only computational part of the framework)"
   ],
   "metadata": {
    "collapsed": false
   },
   "id": "429d96f86e0c15be"
  },
  {
   "cell_type": "code",
   "execution_count": 29,
   "outputs": [
    {
     "name": "stdout",
     "output_type": "stream",
     "text": [
      "Selected movie: หลักการและพื้นฐานของเครื่องมือทางรังสีวิทยา (Basic Principle of Diagnostic Radiology Imaging Instruments) Index: 131\n",
      "Selected movie: การวินิจฉัยภาวะฉุกเฉินที่ไม่ได้เกิดจากอุบัติเหตุ (Diagnostic Radiology of Non-Traumatic Emergency) Index: 43\n",
      "Selected movie: การวินิจฉัยภาวะฉุกเฉินจากอุบัติเหตุ (Diagnostic Radiology of Traumatic Emergency) Index: 42\n"
     ]
    },
    {
     "data": {
      "text/plain": "                                                  Course     Score\nIndex                                                             \n43     การวินิจฉัยภาวะฉุกเฉินที่ไม่ได้เกิดจากอุบัติเห...  0.754585\n42     การวินิจฉัยภาวะฉุกเฉินจากอุบัติเหตุ (Diagnosti...  0.754585\n152    เตรียมความพร้อมทางรังสีวิทยาสำหรับบุคลากรทางกา...  0.326572\n131    หลักการและพื้นฐานของเครื่องมือทางรังสีวิทยา (B...  0.279851\n110                                   รังสีวิทยาวินิจฉัย  0.258932\n124    สารสนเทศทางสาธารณสุข 2566 (Public Health Infor...  0.069610\n163                             เวชศาสตร์ครอบครัวขั้นสูง  0.061968\n41     การวิจัยแบบผสมผสานทางสุขภาพ (Mixed Methods Res...  0.032926\n85     ความรู้พื้นฐานในการทำวิจัยเพื่อพัฒนางาน (Resea...  0.027183\n117    วิทยาศาสตร์การแพทย์คลินิก สาขาวิชาเวชศาสตร์ฉุก...  0.026566",
      "text/html": "<div>\n<style scoped>\n    .dataframe tbody tr th:only-of-type {\n        vertical-align: middle;\n    }\n\n    .dataframe tbody tr th {\n        vertical-align: top;\n    }\n\n    .dataframe thead th {\n        text-align: right;\n    }\n</style>\n<table border=\"1\" class=\"dataframe\">\n  <thead>\n    <tr style=\"text-align: right;\">\n      <th></th>\n      <th>Course</th>\n      <th>Score</th>\n    </tr>\n    <tr>\n      <th>Index</th>\n      <th></th>\n      <th></th>\n    </tr>\n  </thead>\n  <tbody>\n    <tr>\n      <th>43</th>\n      <td>การวินิจฉัยภาวะฉุกเฉินที่ไม่ได้เกิดจากอุบัติเห...</td>\n      <td>0.754585</td>\n    </tr>\n    <tr>\n      <th>42</th>\n      <td>การวินิจฉัยภาวะฉุกเฉินจากอุบัติเหตุ (Diagnosti...</td>\n      <td>0.754585</td>\n    </tr>\n    <tr>\n      <th>152</th>\n      <td>เตรียมความพร้อมทางรังสีวิทยาสำหรับบุคลากรทางกา...</td>\n      <td>0.326572</td>\n    </tr>\n    <tr>\n      <th>131</th>\n      <td>หลักการและพื้นฐานของเครื่องมือทางรังสีวิทยา (B...</td>\n      <td>0.279851</td>\n    </tr>\n    <tr>\n      <th>110</th>\n      <td>รังสีวิทยาวินิจฉัย</td>\n      <td>0.258932</td>\n    </tr>\n    <tr>\n      <th>124</th>\n      <td>สารสนเทศทางสาธารณสุข 2566 (Public Health Infor...</td>\n      <td>0.069610</td>\n    </tr>\n    <tr>\n      <th>163</th>\n      <td>เวชศาสตร์ครอบครัวขั้นสูง</td>\n      <td>0.061968</td>\n    </tr>\n    <tr>\n      <th>41</th>\n      <td>การวิจัยแบบผสมผสานทางสุขภาพ (Mixed Methods Res...</td>\n      <td>0.032926</td>\n    </tr>\n    <tr>\n      <th>85</th>\n      <td>ความรู้พื้นฐานในการทำวิจัยเพื่อพัฒนางาน (Resea...</td>\n      <td>0.027183</td>\n    </tr>\n    <tr>\n      <th>117</th>\n      <td>วิทยาศาสตร์การแพทย์คลินิก สาขาวิชาเวชศาสตร์ฉุก...</td>\n      <td>0.026566</td>\n    </tr>\n  </tbody>\n</table>\n</div>"
     },
     "execution_count": 29,
     "metadata": {},
     "output_type": "execute_result"
    }
   ],
   "source": [
    "recommender_knn_by_user('PORPHAING JANTIP', 10)"
   ],
   "metadata": {
    "collapsed": false,
    "ExecuteTime": {
     "end_time": "2023-12-06T14:52:13.467534500Z",
     "start_time": "2023-12-06T14:52:13.046778500Z"
    }
   },
   "id": "bf895bd5e81470f1"
  }
 ],
 "metadata": {
  "kernelspec": {
   "display_name": "Python 3",
   "language": "python",
   "name": "python3"
  },
  "language_info": {
   "codemirror_mode": {
    "name": "ipython",
    "version": 2
   },
   "file_extension": ".py",
   "mimetype": "text/x-python",
   "name": "python",
   "nbconvert_exporter": "python",
   "pygments_lexer": "ipython2",
   "version": "2.7.6"
  }
 },
 "nbformat": 4,
 "nbformat_minor": 5
}
