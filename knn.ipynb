{
 "cells": [
  {
   "cell_type": "markdown",
   "id": "ab6c4e4bacf216d9",
   "metadata": {
    "collapsed": false,
    "jupyter": {
     "outputs_hidden": false
    }
   },
   "source": [
    "Import required packages"
   ]
  },
  {
   "cell_type": "code",
   "execution_count": 3,
   "id": "c62dc7f1ed89ae7",
   "metadata": {
    "ExecuteTime": {
     "end_time": "2023-12-18T18:39:49.685745600Z",
     "start_time": "2023-12-18T18:39:47.031153200Z"
    },
    "collapsed": false,
    "jupyter": {
     "outputs_hidden": false
    }
   },
   "outputs": [],
   "source": [
    "import pandas as pd\n",
    "import numpy as np\n",
    "import matplotlib.pyplot as plt\n",
    "from sklearn.metrics.pairwise import linear_kernel\n",
    "from copy import deepcopy\n",
    "from scipy.spatial.distance import pdist, squareform\n",
    "from scipy.sparse import csr_matrix\n",
    "from sklearn.neighbors import NearestNeighbors\n",
    "from fuzzywuzzy import process"
   ]
  },
  {
   "cell_type": "markdown",
   "id": "242b11ab91b6317c",
   "metadata": {
    "collapsed": false,
    "jupyter": {
     "outputs_hidden": false
    }
   },
   "source": [
    "Read the file"
   ]
  },
  {
   "cell_type": "code",
   "execution_count": 4,
   "id": "bd28f4af2e948d19",
   "metadata": {
    "ExecuteTime": {
     "end_time": "2023-12-18T18:39:51.444179100Z",
     "start_time": "2023-12-18T18:39:49.685745600Z"
    },
    "collapsed": false,
    "jupyter": {
     "outputs_hidden": false
    }
   },
   "outputs": [],
   "source": [
    "file = pd.read_excel('shortcourses2566.xlsx')"
   ]
  },
  {
   "cell_type": "markdown",
   "id": "818fa3df70292be8",
   "metadata": {
    "collapsed": false,
    "jupyter": {
     "outputs_hidden": false
    }
   },
   "source": [
    "Count the number of courses"
   ]
  },
  {
   "cell_type": "code",
   "execution_count": 5,
   "id": "31e9dd8b82ea460",
   "metadata": {
    "ExecuteTime": {
     "end_time": "2023-12-18T18:39:51.458187600Z",
     "start_time": "2023-12-18T18:39:51.452079500Z"
    },
    "collapsed": false,
    "jupyter": {
     "outputs_hidden": false
    }
   },
   "outputs": [],
   "source": [
    "course_counts = pd.DataFrame(file)['หลักสูตรอบรมระยะสั้น'].value_counts()\n",
    "courses = pd.Series(course_counts.index)\n",
    "courses = courses.sort_values().set_axis(range(0,len(courses)))"
   ]
  },
  {
   "cell_type": "markdown",
   "id": "660047dea5f5e30f",
   "metadata": {
    "collapsed": false,
    "jupyter": {
     "outputs_hidden": false
    }
   },
   "source": [
    "Create Series of users"
   ]
  },
  {
   "cell_type": "code",
   "execution_count": 6,
   "id": "4a15f7567347c8ad",
   "metadata": {
    "ExecuteTime": {
     "end_time": "2023-12-18T18:39:51.499231600Z",
     "start_time": "2023-12-18T18:39:51.457342900Z"
    },
    "collapsed": false,
    "jupyter": {
     "outputs_hidden": false
    }
   },
   "outputs": [
    {
     "data": {
      "text/plain": [
       "0             PORPHAING JANTIP\n",
       "1         THANAKORN DARASRISAK\n",
       "2             KARNJANA EAMTANG\n",
       "3             KARNJANA EAMTANG\n",
       "4       THITIMUN VORATHONGCHAI\n",
       "                 ...          \n",
       "6122         KITTINON SANTASUP\n",
       "6123      WITTAWAT SERMSRIPONG\n",
       "6124               NON NAKKARA\n",
       "6125         PHATTHARAPHON LIN\n",
       "6126      THANAPAT SEEMAKAJOHN\n",
       "Name: User, Length: 6127, dtype: object"
      ]
     },
     "execution_count": 6,
     "metadata": {},
     "output_type": "execute_result"
    }
   ],
   "source": [
    "s_name = file.loc[:, 'ชื่อ-นามสกุล (อังกฤษ)']\n",
    "Users = pd.Series(s_name, name='User')\n",
    "Users"
   ]
  },
  {
   "cell_type": "markdown",
   "id": "f7b2c49bcdf31b35",
   "metadata": {
    "collapsed": false,
    "jupyter": {
     "outputs_hidden": false
    }
   },
   "source": [
    "Create Series of emails"
   ]
  },
  {
   "cell_type": "code",
   "execution_count": 7,
   "id": "e13822d070f92ca",
   "metadata": {
    "ExecuteTime": {
     "end_time": "2023-12-18T18:39:51.499231600Z",
     "start_time": "2023-12-18T18:39:51.475626Z"
    },
    "collapsed": false,
    "jupyter": {
     "outputs_hidden": false
    }
   },
   "outputs": [
    {
     "data": {
      "text/plain": [
       "0            tanghaoren17@gamil.com\n",
       "1               tuakung21@gmail.com\n",
       "2            karnjana.aon@gmail.com\n",
       "3            karnjana.aon@gmail.com\n",
       "4          thitimun.rama1@gmail.com\n",
       "                   ...             \n",
       "6122           kittinon_s@cmu.ac.th\n",
       "6123        wittawat_serm@cmu.ac.th\n",
       "6124          non_nakkara@cmu.ac.th\n",
       "6125    phattharaphon_lin@cmu.ac.th\n",
       "6126         thanapat_see@cmu.ac.th\n",
       "Name: Email, Length: 6127, dtype: object"
      ]
     },
     "execution_count": 7,
     "metadata": {},
     "output_type": "execute_result"
    }
   ],
   "source": [
    "s_email = file.loc[:, 'อีเมล'].fillna(\"\")\n",
    "Emails = pd.Series(s_email ,name='Email')\n",
    "Emails"
   ]
  },
  {
   "cell_type": "markdown",
   "id": "11949f5819447936",
   "metadata": {
    "collapsed": false,
    "jupyter": {
     "outputs_hidden": false
    }
   },
   "source": [
    "Provide a score to each user based on their email domain"
   ]
  },
  {
   "cell_type": "code",
   "execution_count": 8,
   "id": "f1e524c073f32b43",
   "metadata": {
    "ExecuteTime": {
     "end_time": "2023-12-18T18:39:51.499231600Z",
     "start_time": "2023-12-18T18:39:51.498725900Z"
    },
    "collapsed": false,
    "jupyter": {
     "outputs_hidden": false
    }
   },
   "outputs": [
    {
     "data": {
      "text/plain": [
       "0       1\n",
       "1       1\n",
       "2       1\n",
       "3       1\n",
       "4       1\n",
       "       ..\n",
       "6122    2\n",
       "6123    2\n",
       "6124    2\n",
       "6125    2\n",
       "6126    2\n",
       "Name: Score Email, Length: 6127, dtype: int64"
      ]
     },
     "execution_count": 8,
     "metadata": {},
     "output_type": "execute_result"
    }
   ],
   "source": [
    "email_score = []\n",
    "for data in Emails:\n",
    "    if data != '':\n",
    "        if data.split('@')[1] == 'cmu.ac.th':\n",
    "            email_score.append(2)\n",
    "        else:\n",
    "            email_score.append(1)\n",
    "    else:\n",
    "        email_score.append(0)\n",
    "email_score = pd.Series(email_score, name='Score Email')\n",
    "\n",
    "email_score"
   ]
  },
  {
   "cell_type": "markdown",
   "id": "76c0ab19ea19d307",
   "metadata": {
    "collapsed": false,
    "jupyter": {
     "outputs_hidden": false
    }
   },
   "source": [
    "Email Score Statistic"
   ]
  },
  {
   "cell_type": "code",
   "execution_count": 9,
   "id": "85ccdb4be641eebc",
   "metadata": {
    "ExecuteTime": {
     "end_time": "2023-12-18T18:39:51.534380500Z",
     "start_time": "2023-12-18T18:39:51.499231600Z"
    },
    "collapsed": false,
    "jupyter": {
     "outputs_hidden": false
    }
   },
   "outputs": [
    {
     "name": "stdout",
     "output_type": "stream",
     "text": [
      "Number of students who filled cmu email: 1268\n",
      "Number of students who filled other email: 4853\n",
      "Number of students who did not fill email: 6\n"
     ]
    }
   ],
   "source": [
    "zero_score_count = email_score.where(email_score == 0).count()\n",
    "one_score_count = email_score.where(email_score == 1).count()\n",
    "two_score_count = email_score.where(email_score == 2).count()\n",
    "\n",
    "print(\"Number of students who filled cmu email:\", two_score_count)\n",
    "print(\"Number of students who filled other email:\", one_score_count)\n",
    "print(\"Number of students who did not fill email:\", zero_score_count)"
   ]
  },
  {
   "cell_type": "markdown",
   "id": "7994ef4c99d630db",
   "metadata": {
    "collapsed": false,
    "jupyter": {
     "outputs_hidden": false
    }
   },
   "source": [
    "Create function to calculate age-education score"
   ]
  },
  {
   "cell_type": "code",
   "execution_count": 10,
   "id": "4394064aa1feef7e",
   "metadata": {
    "ExecuteTime": {
     "end_time": "2023-12-18T18:39:51.534380500Z",
     "start_time": "2023-12-18T18:39:51.515527300Z"
    },
    "collapsed": false,
    "jupyter": {
     "outputs_hidden": false
    }
   },
   "outputs": [],
   "source": [
    "def getAgeEducationScore(age, limit_age):\n",
    "    if age <= limit_age:\n",
    "        score = 0\n",
    "    elif age <= limit_age + 2:\n",
    "        score = 1\n",
    "    else:\n",
    "        score = 2\n",
    "    return score"
   ]
  },
  {
   "cell_type": "markdown",
   "id": "d4f7e41e9f63192",
   "metadata": {
    "collapsed": false,
    "jupyter": {
     "outputs_hidden": false
    }
   },
   "source": [
    "Create set of the educational range"
   ]
  },
  {
   "cell_type": "code",
   "execution_count": 11,
   "id": "c0007cbf8f688400",
   "metadata": {
    "ExecuteTime": {
     "end_time": "2023-12-18T18:39:51.622959800Z",
     "start_time": "2023-12-18T18:39:51.518977700Z"
    },
    "collapsed": false,
    "jupyter": {
     "outputs_hidden": false
    }
   },
   "outputs": [],
   "source": [
    "set_nan = {'อื่นๆ (-)', np.nan}\n",
    "set_primaryschool = {'ประถมศึกษา', 'อื่นๆ (ป.4)', 'อื่นๆ (ป.7)', 'อื่นๆ (ป7)'}\n",
    "set_middleschool = {'มัธยมศึกษาตอนต้น', 'Secondary school', 'อื่นๆ (มศ.3)'}\n",
    "set_highschool = {'มัธยมศึกษาตอนปลาย', 'High school', 'Vocational', 'การศึกษานอกระบบ', \n",
    "                  'ประกาศนียบัตรวิชาชีพ (ปวช.)', 'อื่นๆ (ม.ปลาย จบหลักสูตรEMR เป็นจนท.ปฏิบัติการ)',\n",
    "                  'อื่นๆ (กำลังศึกษาชั้นมัธยมศึกษาตอนปลาย)', 'อื่นๆ (กำลังศึกษาชั้นมัธยมศึกษาปีที่6)', \n",
    "                  'อื่นๆ (มศ.5)'}\n",
    "set_bachelor = {'ปริญญาตรี', 'Bachelor degree', 'Diploma', 'High Vocational', \n",
    "                'ประกาศนียบัตรวิชาชีพชั้นสูง (ปวส.)', 'อื่นๆ (กำลังศึกษาในระดับปริญญาตรี)', \n",
    "                'อื่นๆ (กำลังศึกษาปริญญาตรี สาขารังสีเทคนิค)', 'อื่นๆ (ปริญญาแพทยศาสตร์บัณฑิต)', \n",
    "                'อื่นๆ (นักศึกษาแพทย์ปี 5)', 'อื่นๆ (นักศึกษาแพทย์ มช ปี4 ศูนย์เชียงราย)', \n",
    "                'อื่นๆ (แพทยศาสตร์บัณฑิต)', 'อื่นๆ (แพทย์)', 'อื่นๆ (ประกาศณียบัตรผู้ช่วยพยาบาล)', \n",
    "                'อนุปริญญา', 'อื่นๆ (ป.ตรี)', 'อื่นๆ (ผู้ช่วยพยาบาล)'}\n",
    "set_masterdocter = {'ปริญญาโท', 'ปริญญาเอก', \"Master's degree\", 'Other (OBGYN specalist lavel 1)', \n",
    "                    'Other (Residency)', 'Ph.D.', 'อื่นๆ (Internal Medicine)', \n",
    "                    'อื่นๆ (เฉพาะทาง)', 'อื่นๆ (วุฒิบัตร)', 'อื่นๆ (วว.ออร์โธปิดิกส์)', \n",
    "                    'อื่นๆ (วุฒิบัตรแสดงความรู้ความชำนาญในการประกอบวิชาชีพเภสัชกรรม สาขาเภสัชบำบัด)', \n",
    "                    'อื่นๆ (วุฒิบัตรผู้เชี่ยวชาญสาขาทันตกรรมทั่วไป)', 'อื่นๆ (วุฒิบัตรศัลยศาสตร์และแม็กซิลโลเฟเชียล)'}\n",
    "\n",
    "list_degree = ((set_nan, 0), (set_primaryschool, 16), (set_middleschool, 19), \n",
    "               (set_highschool, 22), (set_bachelor,26), (set_masterdocter,40))"
   ]
  },
  {
   "cell_type": "markdown",
   "id": "35f525151c3e465",
   "metadata": {
    "collapsed": false,
    "jupyter": {
     "outputs_hidden": false
    }
   },
   "source": [
    "Create Series of Age-Education"
   ]
  },
  {
   "cell_type": "code",
   "execution_count": 12,
   "id": "de572cfc3eba1999",
   "metadata": {
    "ExecuteTime": {
     "end_time": "2023-12-18T18:39:51.692348500Z",
     "start_time": "2023-12-18T18:39:51.562665300Z"
    },
    "collapsed": false,
    "jupyter": {
     "outputs_hidden": false
    }
   },
   "outputs": [],
   "source": [
    "ages = file.loc[:, 'อายุ']\n",
    "educations = file.loc[:, 'วุฒิการศึกษา']\n",
    "age_education_scores = []\n",
    "\n",
    "for i,x in enumerate(educations):\n",
    "    for y in list_degree:\n",
    "        if x in y[0]:\n",
    "            age_education_scores.append(getAgeEducationScore(ages[i], y[1]))\n",
    "            \n",
    "age_education_scores = pd.Series(age_education_scores, name='Age Education Score')"
   ]
  },
  {
   "cell_type": "markdown",
   "id": "979576370fd029e",
   "metadata": {
    "collapsed": false,
    "jupyter": {
     "outputs_hidden": false
    }
   },
   "source": [
    "Age-Education Score Statistic"
   ]
  },
  {
   "cell_type": "code",
   "execution_count": 13,
   "id": "a048e86a9da172fb",
   "metadata": {
    "ExecuteTime": {
     "end_time": "2023-12-18T18:39:51.693379Z",
     "start_time": "2023-12-18T18:39:51.562665300Z"
    },
    "collapsed": false,
    "jupyter": {
     "outputs_hidden": false
    }
   },
   "outputs": [
    {
     "name": "stdout",
     "output_type": "stream",
     "text": [
      "Number of students who are currently in the educational system: 4229\n",
      "Number of students who were recently graduated: 487\n",
      "Number of students who are not in the educational system: 1411\n"
     ]
    }
   ],
   "source": [
    "zero_score_count = age_education_scores.where(age_education_scores == 0).count()\n",
    "one_score_count = age_education_scores.where(age_education_scores == 1).count()\n",
    "two_score_count = age_education_scores.where(age_education_scores == 2).count()\n",
    "\n",
    "print(\"Number of students who are currently in the educational system:\", zero_score_count)\n",
    "print(\"Number of students who were recently graduated:\", one_score_count)\n",
    "print(\"Number of students who are not in the educational system:\", two_score_count)"
   ]
  },
  {
   "cell_type": "markdown",
   "id": "8a43ca4f431f2471",
   "metadata": {
    "collapsed": false,
    "jupyter": {
     "outputs_hidden": false
    }
   },
   "source": [
    "Create Series of status"
   ]
  },
  {
   "cell_type": "code",
   "execution_count": 14,
   "id": "d688c9723aa362ed",
   "metadata": {
    "ExecuteTime": {
     "end_time": "2023-12-18T18:39:51.693379Z",
     "start_time": "2023-12-18T18:39:51.574844Z"
    },
    "collapsed": false,
    "jupyter": {
     "outputs_hidden": false
    }
   },
   "outputs": [
    {
     "data": {
      "text/plain": [
       "0       ชำระเงิน\n",
       "1       ชำระเงิน\n",
       "2       ชำระเงิน\n",
       "3       ชำระเงิน\n",
       "4       ชำระเงิน\n",
       "          ...   \n",
       "6122    ชำระเงิน\n",
       "6123    ชำระเงิน\n",
       "6124    ชำระเงิน\n",
       "6125    ชำระเงิน\n",
       "6126    ชำระเงิน\n",
       "Name: Status, Length: 6127, dtype: object"
      ]
     },
     "execution_count": 14,
     "metadata": {},
     "output_type": "execute_result"
    }
   ],
   "source": [
    "status = file.loc[:, 'สถานะ'].fillna(\"\")\n",
    "status = pd.Series(status ,name='Status')\n",
    "status"
   ]
  },
  {
   "cell_type": "markdown",
   "id": "1ab166a2f299918e",
   "metadata": {
    "collapsed": false,
    "jupyter": {
     "outputs_hidden": false
    }
   },
   "source": [
    "Provide a score to each user based on their purchase status"
   ]
  },
  {
   "cell_type": "code",
   "execution_count": 15,
   "id": "7389c71cff1839dc",
   "metadata": {
    "ExecuteTime": {
     "end_time": "2023-12-18T18:39:51.693379Z",
     "start_time": "2023-12-18T18:39:51.581932Z"
    },
    "collapsed": false,
    "jupyter": {
     "outputs_hidden": false
    }
   },
   "outputs": [],
   "source": [
    "status_score = []\n",
    "for x in status:\n",
    "    if x == 'ชำระเงิน':\n",
    "        status_score.append(8)\n",
    "    if x == 'ไม่ผ่านการอนุมัติ':\n",
    "        status_score.append(5)\n",
    "    if x == 'ค้างชำระ':\n",
    "        status_score.append(0)\n",
    "status_score = pd.Series(status_score)"
   ]
  },
  {
   "cell_type": "markdown",
   "id": "bbe2c423280fccea",
   "metadata": {
    "collapsed": false,
    "jupyter": {
     "outputs_hidden": false
    }
   },
   "source": [
    "Purchase Status Score Statistics"
   ]
  },
  {
   "cell_type": "code",
   "execution_count": 16,
   "id": "af5c05716dc6be6c",
   "metadata": {
    "ExecuteTime": {
     "end_time": "2023-12-18T18:39:51.693379Z",
     "start_time": "2023-12-18T18:39:51.591464700Z"
    },
    "collapsed": false,
    "jupyter": {
     "outputs_hidden": false
    }
   },
   "outputs": [
    {
     "name": "stdout",
     "output_type": "stream",
     "text": [
      "Number of students who are in arrears: 531\n",
      "Number of students whose payment was not approved: 124\n",
      "Number of students with payment approval: 5472\n"
     ]
    }
   ],
   "source": [
    "zero_score_count = status_score.where(status_score == 0).count()\n",
    "five_score_count = status_score.where(status_score == 5).count()\n",
    "eight_score_count = status_score.where(status_score == 8).count()\n",
    "\n",
    "print(\"Number of students who are in arrears:\", zero_score_count)\n",
    "print(\"Number of students whose payment was not approved:\", five_score_count)\n",
    "print(\"Number of students with payment approval:\", eight_score_count)"
   ]
  },
  {
   "cell_type": "markdown",
   "id": "7b64d7f595919afc",
   "metadata": {
    "collapsed": false,
    "jupyter": {
     "outputs_hidden": false
    }
   },
   "source": [
    "Create Series of address"
   ]
  },
  {
   "cell_type": "code",
   "execution_count": 17,
   "id": "512d74529e0b4578",
   "metadata": {
    "ExecuteTime": {
     "end_time": "2023-12-18T18:39:51.693379Z",
     "start_time": "2023-12-18T18:39:51.606951500Z"
    },
    "collapsed": false,
    "jupyter": {
     "outputs_hidden": false
    }
   },
   "outputs": [
    {
     "data": {
      "text/plain": [
       "0                                                        \n",
       "1       125/27 ซ.3 ถ.ราษฎรยินดี ต.หน้าเมือง อ.เมือง จ....\n",
       "2                                                        \n",
       "3                                                        \n",
       "4                                                        \n",
       "                              ...                        \n",
       "6122                                                     \n",
       "6123                                                     \n",
       "6124                                                     \n",
       "6125                                                     \n",
       "6126                                                     \n",
       "Name: Status, Length: 6127, dtype: object"
      ]
     },
     "execution_count": 17,
     "metadata": {},
     "output_type": "execute_result"
    }
   ],
   "source": [
    "address = file.loc[:, 'ที่อยู่'].fillna(\"\")\n",
    "address = pd.Series(address ,name='Status')\n",
    "address"
   ]
  },
  {
   "cell_type": "markdown",
   "id": "bc82718ebc22fa02",
   "metadata": {
    "collapsed": false,
    "jupyter": {
     "outputs_hidden": false
    }
   },
   "source": [
    "Provide a score to each user based on whether they provide address information or not"
   ]
  },
  {
   "cell_type": "code",
   "execution_count": 18,
   "id": "b9a87d97e4849723",
   "metadata": {
    "ExecuteTime": {
     "end_time": "2023-12-18T18:39:51.693379Z",
     "start_time": "2023-12-18T18:39:51.611206900Z"
    },
    "collapsed": false,
    "jupyter": {
     "outputs_hidden": false
    }
   },
   "outputs": [],
   "source": [
    "address_score = [ 0 if x == '' else 2 for x in address]\n",
    "address_score = pd.Series(address_score)"
   ]
  },
  {
   "cell_type": "markdown",
   "id": "3cfd7655f531aaed",
   "metadata": {
    "collapsed": false,
    "jupyter": {
     "outputs_hidden": false
    }
   },
   "source": [
    "Address Score Statistic"
   ]
  },
  {
   "cell_type": "code",
   "execution_count": 19,
   "id": "bc8ff404b275ce14",
   "metadata": {
    "ExecuteTime": {
     "end_time": "2023-12-18T18:39:51.693379Z",
     "start_time": "2023-12-18T18:39:51.622959800Z"
    },
    "collapsed": false,
    "jupyter": {
     "outputs_hidden": false
    }
   },
   "outputs": [
    {
     "name": "stdout",
     "output_type": "stream",
     "text": [
      "Number of students who did not fill address: 4005\n",
      "Number of students who filled address: 2122\n"
     ]
    }
   ],
   "source": [
    "zero_score_count = address_score.where(address_score == 0).count()\n",
    "two_score_count = address_score.where(address_score == 2).count()\n",
    "\n",
    "print(\"Number of students who did not fill address:\", zero_score_count)\n",
    "print(\"Number of students who filled address:\", two_score_count)"
   ]
  },
  {
   "cell_type": "markdown",
   "id": "f88cc6dae77adc9d",
   "metadata": {
    "collapsed": false,
    "jupyter": {
     "outputs_hidden": false
    }
   },
   "source": [
    "Create Series of data"
   ]
  },
  {
   "cell_type": "code",
   "execution_count": 20,
   "id": "d0ae6d0df56337d4",
   "metadata": {
    "ExecuteTime": {
     "end_time": "2023-12-18T18:39:51.693379Z",
     "start_time": "2023-12-18T18:39:51.626252900Z"
    },
    "collapsed": false,
    "jupyter": {
     "outputs_hidden": false
    }
   },
   "outputs": [],
   "source": [
    "enrollment = file.loc[:, 'วันที่สมัครอบรม'].fillna(\"\")\n",
    "enrollment = pd.Series(enrollment ,name='Date')\n",
    "enrollment = enrollment.str.slice(start=-8, stop=-6)"
   ]
  },
  {
   "cell_type": "markdown",
   "id": "c9d55bf9908ccd0",
   "metadata": {
    "collapsed": false,
    "jupyter": {
     "outputs_hidden": false
    }
   },
   "source": [
    "Provide a score to each user based on their enrollment date"
   ]
  },
  {
   "cell_type": "code",
   "execution_count": 21,
   "id": "c488cb07689f69a4",
   "metadata": {
    "ExecuteTime": {
     "end_time": "2023-12-18T18:39:51.864814600Z",
     "start_time": "2023-12-18T18:39:51.638742300Z"
    },
    "collapsed": false,
    "jupyter": {
     "outputs_hidden": false
    }
   },
   "outputs": [],
   "source": [
    "enrollment_set = {'08','09','10','15'}\n",
    "enrollment_score = [ 1 if x in enrollment_set else 0 for x in enrollment]\n",
    "enrollment_score = pd.Series(enrollment_score)"
   ]
  },
  {
   "cell_type": "markdown",
   "id": "3eff94d988b82526",
   "metadata": {
    "collapsed": false,
    "jupyter": {
     "outputs_hidden": false
    }
   },
   "source": [
    "Create DataFrame by merging these 4 Series and calculate impressive level"
   ]
  },
  {
   "cell_type": "code",
   "execution_count": 22,
   "id": "a69ab169d7212ec1",
   "metadata": {
    "ExecuteTime": {
     "end_time": "2023-12-18T18:39:51.866824600Z",
     "start_time": "2023-12-18T18:39:51.646402700Z"
    },
    "collapsed": false,
    "jupyter": {
     "outputs_hidden": false
    }
   },
   "outputs": [
    {
     "data": {
      "text/html": [
       "<div>\n",
       "<style scoped>\n",
       "    .dataframe tbody tr th:only-of-type {\n",
       "        vertical-align: middle;\n",
       "    }\n",
       "\n",
       "    .dataframe tbody tr th {\n",
       "        vertical-align: top;\n",
       "    }\n",
       "\n",
       "    .dataframe thead th {\n",
       "        text-align: right;\n",
       "    }\n",
       "</style>\n",
       "<table border=\"1\" class=\"dataframe\">\n",
       "  <thead>\n",
       "    <tr style=\"text-align: right;\">\n",
       "      <th></th>\n",
       "      <th>User</th>\n",
       "      <th>Course</th>\n",
       "      <th>Email Score</th>\n",
       "      <th>Age Education Score</th>\n",
       "      <th>Enrollment</th>\n",
       "      <th>Payment Score</th>\n",
       "      <th>Address Score</th>\n",
       "      <th>Point</th>\n",
       "      <th>Score</th>\n",
       "    </tr>\n",
       "  </thead>\n",
       "  <tbody>\n",
       "    <tr>\n",
       "      <th>0</th>\n",
       "      <td>PORPHAING JANTIP</td>\n",
       "      <td>หลักการและพื้นฐานของเครื่องมือทางรังสีวิทยา (B...</td>\n",
       "      <td>1</td>\n",
       "      <td>0</td>\n",
       "      <td>1</td>\n",
       "      <td>8</td>\n",
       "      <td>0</td>\n",
       "      <td>10</td>\n",
       "      <td>0.666667</td>\n",
       "    </tr>\n",
       "    <tr>\n",
       "      <th>1</th>\n",
       "      <td>THANAKORN DARASRISAK</td>\n",
       "      <td>การวินิจฉัยภาวะฉุกเฉินจากอุบัติเหตุ (Diagnosti...</td>\n",
       "      <td>1</td>\n",
       "      <td>1</td>\n",
       "      <td>1</td>\n",
       "      <td>8</td>\n",
       "      <td>2</td>\n",
       "      <td>13</td>\n",
       "      <td>0.866667</td>\n",
       "    </tr>\n",
       "    <tr>\n",
       "      <th>2</th>\n",
       "      <td>KARNJANA EAMTANG</td>\n",
       "      <td>การวินิจฉัยภาวะฉุกเฉินจากอุบัติเหตุ (Diagnosti...</td>\n",
       "      <td>1</td>\n",
       "      <td>2</td>\n",
       "      <td>0</td>\n",
       "      <td>8</td>\n",
       "      <td>0</td>\n",
       "      <td>11</td>\n",
       "      <td>0.733333</td>\n",
       "    </tr>\n",
       "    <tr>\n",
       "      <th>3</th>\n",
       "      <td>KARNJANA EAMTANG</td>\n",
       "      <td>การวินิจฉัยภาวะฉุกเฉินที่ไม่ได้เกิดจากอุบัติเห...</td>\n",
       "      <td>1</td>\n",
       "      <td>2</td>\n",
       "      <td>0</td>\n",
       "      <td>8</td>\n",
       "      <td>0</td>\n",
       "      <td>11</td>\n",
       "      <td>0.733333</td>\n",
       "    </tr>\n",
       "    <tr>\n",
       "      <th>4</th>\n",
       "      <td>THITIMUN VORATHONGCHAI</td>\n",
       "      <td>หลักการและพื้นฐานของเครื่องมือทางรังสีวิทยา (B...</td>\n",
       "      <td>1</td>\n",
       "      <td>2</td>\n",
       "      <td>0</td>\n",
       "      <td>8</td>\n",
       "      <td>0</td>\n",
       "      <td>11</td>\n",
       "      <td>0.733333</td>\n",
       "    </tr>\n",
       "    <tr>\n",
       "      <th>...</th>\n",
       "      <td>...</td>\n",
       "      <td>...</td>\n",
       "      <td>...</td>\n",
       "      <td>...</td>\n",
       "      <td>...</td>\n",
       "      <td>...</td>\n",
       "      <td>...</td>\n",
       "      <td>...</td>\n",
       "      <td>...</td>\n",
       "    </tr>\n",
       "    <tr>\n",
       "      <th>6122</th>\n",
       "      <td>KITTINON SANTASUP</td>\n",
       "      <td>เตรียมความพร้อมทางรังสีวิทยาสำหรับบุคลากรทางกา...</td>\n",
       "      <td>2</td>\n",
       "      <td>0</td>\n",
       "      <td>0</td>\n",
       "      <td>8</td>\n",
       "      <td>0</td>\n",
       "      <td>10</td>\n",
       "      <td>0.666667</td>\n",
       "    </tr>\n",
       "    <tr>\n",
       "      <th>6123</th>\n",
       "      <td>WITTAWAT SERMSRIPONG</td>\n",
       "      <td>เตรียมความพร้อมทางรังสีวิทยาสำหรับบุคลากรทางกา...</td>\n",
       "      <td>2</td>\n",
       "      <td>1</td>\n",
       "      <td>0</td>\n",
       "      <td>8</td>\n",
       "      <td>0</td>\n",
       "      <td>11</td>\n",
       "      <td>0.733333</td>\n",
       "    </tr>\n",
       "    <tr>\n",
       "      <th>6124</th>\n",
       "      <td>NON NAKKARA</td>\n",
       "      <td>เตรียมความพร้อมทางรังสีวิทยาสำหรับบุคลากรทางกา...</td>\n",
       "      <td>2</td>\n",
       "      <td>0</td>\n",
       "      <td>0</td>\n",
       "      <td>8</td>\n",
       "      <td>0</td>\n",
       "      <td>10</td>\n",
       "      <td>0.666667</td>\n",
       "    </tr>\n",
       "    <tr>\n",
       "      <th>6125</th>\n",
       "      <td>PHATTHARAPHON LIN</td>\n",
       "      <td>เตรียมความพร้อมทางรังสีวิทยาสำหรับบุคลากรทางกา...</td>\n",
       "      <td>2</td>\n",
       "      <td>0</td>\n",
       "      <td>0</td>\n",
       "      <td>8</td>\n",
       "      <td>0</td>\n",
       "      <td>10</td>\n",
       "      <td>0.666667</td>\n",
       "    </tr>\n",
       "    <tr>\n",
       "      <th>6126</th>\n",
       "      <td>THANAPAT SEEMAKAJOHN</td>\n",
       "      <td>เตรียมความพร้อมทางรังสีวิทยาสำหรับบุคลากรทางกา...</td>\n",
       "      <td>2</td>\n",
       "      <td>0</td>\n",
       "      <td>0</td>\n",
       "      <td>8</td>\n",
       "      <td>0</td>\n",
       "      <td>10</td>\n",
       "      <td>0.666667</td>\n",
       "    </tr>\n",
       "  </tbody>\n",
       "</table>\n",
       "<p>6127 rows × 9 columns</p>\n",
       "</div>"
      ],
      "text/plain": [
       "                        User  \\\n",
       "0           PORPHAING JANTIP   \n",
       "1       THANAKORN DARASRISAK   \n",
       "2           KARNJANA EAMTANG   \n",
       "3           KARNJANA EAMTANG   \n",
       "4     THITIMUN VORATHONGCHAI   \n",
       "...                      ...   \n",
       "6122       KITTINON SANTASUP   \n",
       "6123    WITTAWAT SERMSRIPONG   \n",
       "6124             NON NAKKARA   \n",
       "6125       PHATTHARAPHON LIN   \n",
       "6126    THANAPAT SEEMAKAJOHN   \n",
       "\n",
       "                                                 Course  Email Score  \\\n",
       "0     หลักการและพื้นฐานของเครื่องมือทางรังสีวิทยา (B...            1   \n",
       "1     การวินิจฉัยภาวะฉุกเฉินจากอุบัติเหตุ (Diagnosti...            1   \n",
       "2     การวินิจฉัยภาวะฉุกเฉินจากอุบัติเหตุ (Diagnosti...            1   \n",
       "3     การวินิจฉัยภาวะฉุกเฉินที่ไม่ได้เกิดจากอุบัติเห...            1   \n",
       "4     หลักการและพื้นฐานของเครื่องมือทางรังสีวิทยา (B...            1   \n",
       "...                                                 ...          ...   \n",
       "6122  เตรียมความพร้อมทางรังสีวิทยาสำหรับบุคลากรทางกา...            2   \n",
       "6123  เตรียมความพร้อมทางรังสีวิทยาสำหรับบุคลากรทางกา...            2   \n",
       "6124  เตรียมความพร้อมทางรังสีวิทยาสำหรับบุคลากรทางกา...            2   \n",
       "6125  เตรียมความพร้อมทางรังสีวิทยาสำหรับบุคลากรทางกา...            2   \n",
       "6126  เตรียมความพร้อมทางรังสีวิทยาสำหรับบุคลากรทางกา...            2   \n",
       "\n",
       "      Age Education Score  Enrollment  Payment Score  Address Score  Point  \\\n",
       "0                       0           1              8              0     10   \n",
       "1                       1           1              8              2     13   \n",
       "2                       2           0              8              0     11   \n",
       "3                       2           0              8              0     11   \n",
       "4                       2           0              8              0     11   \n",
       "...                   ...         ...            ...            ...    ...   \n",
       "6122                    0           0              8              0     10   \n",
       "6123                    1           0              8              0     11   \n",
       "6124                    0           0              8              0     10   \n",
       "6125                    0           0              8              0     10   \n",
       "6126                    0           0              8              0     10   \n",
       "\n",
       "         Score  \n",
       "0     0.666667  \n",
       "1     0.866667  \n",
       "2     0.733333  \n",
       "3     0.733333  \n",
       "4     0.733333  \n",
       "...        ...  \n",
       "6122  0.666667  \n",
       "6123  0.733333  \n",
       "6124  0.666667  \n",
       "6125  0.666667  \n",
       "6126  0.666667  \n",
       "\n",
       "[6127 rows x 9 columns]"
      ]
     },
     "execution_count": 22,
     "metadata": {},
     "output_type": "execute_result"
    }
   ],
   "source": [
    "user = file.loc[:, 'ชื่อ-นามสกุล (อังกฤษ)']\n",
    "course = file.loc[:, 'หลักสูตรอบรมระยะสั้น']\n",
    "d = {\n",
    "    'User': user,\n",
    "    'Course': course,\n",
    "    'Email Score': email_score,\n",
    "    'Age Education Score': age_education_scores,\n",
    "    'Enrollment': enrollment_score,\n",
    "    'Payment Score': status_score,\n",
    "    'Address Score': address_score,\n",
    "    'Point': email_score + status_score + address_score + age_education_scores + enrollment_score,\n",
    "    'Score': ( email_score + status_score + address_score + age_education_scores + enrollment_score ) / 15\n",
    "}\n",
    "df = pd.DataFrame(d)\n",
    "df"
   ]
  },
  {
   "cell_type": "markdown",
   "id": "f9b0843359f94dcd",
   "metadata": {
    "collapsed": false,
    "jupyter": {
     "outputs_hidden": false
    }
   },
   "source": [
    "Create user-course table"
   ]
  },
  {
   "cell_type": "code",
   "execution_count": 23,
   "id": "3cf45ac79877d587",
   "metadata": {
    "ExecuteTime": {
     "end_time": "2023-12-18T18:39:51.867824Z",
     "start_time": "2023-12-18T18:39:51.677133900Z"
    },
    "collapsed": false,
    "jupyter": {
     "outputs_hidden": false
    }
   },
   "outputs": [
    {
     "data": {
      "text/html": [
       "<div>\n",
       "<style scoped>\n",
       "    .dataframe tbody tr th:only-of-type {\n",
       "        vertical-align: middle;\n",
       "    }\n",
       "\n",
       "    .dataframe tbody tr th {\n",
       "        vertical-align: top;\n",
       "    }\n",
       "\n",
       "    .dataframe thead th {\n",
       "        text-align: right;\n",
       "    }\n",
       "</style>\n",
       "<table border=\"1\" class=\"dataframe\">\n",
       "  <thead>\n",
       "    <tr style=\"text-align: right;\">\n",
       "      <th></th>\n",
       "      <th>User</th>\n",
       "      <th>Course</th>\n",
       "      <th>Score</th>\n",
       "    </tr>\n",
       "  </thead>\n",
       "  <tbody>\n",
       "    <tr>\n",
       "      <th>0</th>\n",
       "      <td>PORPHAING JANTIP</td>\n",
       "      <td>หลักการและพื้นฐานของเครื่องมือทางรังสีวิทยา (B...</td>\n",
       "      <td>0.666667</td>\n",
       "    </tr>\n",
       "    <tr>\n",
       "      <th>1</th>\n",
       "      <td>THANAKORN DARASRISAK</td>\n",
       "      <td>การวินิจฉัยภาวะฉุกเฉินจากอุบัติเหตุ (Diagnosti...</td>\n",
       "      <td>0.866667</td>\n",
       "    </tr>\n",
       "    <tr>\n",
       "      <th>2</th>\n",
       "      <td>KARNJANA EAMTANG</td>\n",
       "      <td>การวินิจฉัยภาวะฉุกเฉินจากอุบัติเหตุ (Diagnosti...</td>\n",
       "      <td>0.733333</td>\n",
       "    </tr>\n",
       "    <tr>\n",
       "      <th>3</th>\n",
       "      <td>KARNJANA EAMTANG</td>\n",
       "      <td>การวินิจฉัยภาวะฉุกเฉินที่ไม่ได้เกิดจากอุบัติเห...</td>\n",
       "      <td>0.733333</td>\n",
       "    </tr>\n",
       "    <tr>\n",
       "      <th>4</th>\n",
       "      <td>THITIMUN VORATHONGCHAI</td>\n",
       "      <td>หลักการและพื้นฐานของเครื่องมือทางรังสีวิทยา (B...</td>\n",
       "      <td>0.733333</td>\n",
       "    </tr>\n",
       "    <tr>\n",
       "      <th>...</th>\n",
       "      <td>...</td>\n",
       "      <td>...</td>\n",
       "      <td>...</td>\n",
       "    </tr>\n",
       "    <tr>\n",
       "      <th>6122</th>\n",
       "      <td>KITTINON SANTASUP</td>\n",
       "      <td>เตรียมความพร้อมทางรังสีวิทยาสำหรับบุคลากรทางกา...</td>\n",
       "      <td>0.666667</td>\n",
       "    </tr>\n",
       "    <tr>\n",
       "      <th>6123</th>\n",
       "      <td>WITTAWAT SERMSRIPONG</td>\n",
       "      <td>เตรียมความพร้อมทางรังสีวิทยาสำหรับบุคลากรทางกา...</td>\n",
       "      <td>0.733333</td>\n",
       "    </tr>\n",
       "    <tr>\n",
       "      <th>6124</th>\n",
       "      <td>NON NAKKARA</td>\n",
       "      <td>เตรียมความพร้อมทางรังสีวิทยาสำหรับบุคลากรทางกา...</td>\n",
       "      <td>0.666667</td>\n",
       "    </tr>\n",
       "    <tr>\n",
       "      <th>6125</th>\n",
       "      <td>PHATTHARAPHON LIN</td>\n",
       "      <td>เตรียมความพร้อมทางรังสีวิทยาสำหรับบุคลากรทางกา...</td>\n",
       "      <td>0.666667</td>\n",
       "    </tr>\n",
       "    <tr>\n",
       "      <th>6126</th>\n",
       "      <td>THANAPAT SEEMAKAJOHN</td>\n",
       "      <td>เตรียมความพร้อมทางรังสีวิทยาสำหรับบุคลากรทางกา...</td>\n",
       "      <td>0.666667</td>\n",
       "    </tr>\n",
       "  </tbody>\n",
       "</table>\n",
       "<p>6127 rows × 3 columns</p>\n",
       "</div>"
      ],
      "text/plain": [
       "                        User  \\\n",
       "0           PORPHAING JANTIP   \n",
       "1       THANAKORN DARASRISAK   \n",
       "2           KARNJANA EAMTANG   \n",
       "3           KARNJANA EAMTANG   \n",
       "4     THITIMUN VORATHONGCHAI   \n",
       "...                      ...   \n",
       "6122       KITTINON SANTASUP   \n",
       "6123    WITTAWAT SERMSRIPONG   \n",
       "6124             NON NAKKARA   \n",
       "6125       PHATTHARAPHON LIN   \n",
       "6126    THANAPAT SEEMAKAJOHN   \n",
       "\n",
       "                                                 Course     Score  \n",
       "0     หลักการและพื้นฐานของเครื่องมือทางรังสีวิทยา (B...  0.666667  \n",
       "1     การวินิจฉัยภาวะฉุกเฉินจากอุบัติเหตุ (Diagnosti...  0.866667  \n",
       "2     การวินิจฉัยภาวะฉุกเฉินจากอุบัติเหตุ (Diagnosti...  0.733333  \n",
       "3     การวินิจฉัยภาวะฉุกเฉินที่ไม่ได้เกิดจากอุบัติเห...  0.733333  \n",
       "4     หลักการและพื้นฐานของเครื่องมือทางรังสีวิทยา (B...  0.733333  \n",
       "...                                                 ...       ...  \n",
       "6122  เตรียมความพร้อมทางรังสีวิทยาสำหรับบุคลากรทางกา...  0.666667  \n",
       "6123  เตรียมความพร้อมทางรังสีวิทยาสำหรับบุคลากรทางกา...  0.733333  \n",
       "6124  เตรียมความพร้อมทางรังสีวิทยาสำหรับบุคลากรทางกา...  0.666667  \n",
       "6125  เตรียมความพร้อมทางรังสีวิทยาสำหรับบุคลากรทางกา...  0.666667  \n",
       "6126  เตรียมความพร้อมทางรังสีวิทยาสำหรับบุคลากรทางกา...  0.666667  \n",
       "\n",
       "[6127 rows x 3 columns]"
      ]
     },
     "execution_count": 23,
     "metadata": {},
     "output_type": "execute_result"
    }
   ],
   "source": [
    "# all user, course, score have the same length\n",
    "data = {\n",
    "    'User': df['User'],\n",
    "    'Course': df['Course'],\n",
    "    'Score': df['Score'],\n",
    "}\n",
    "\n",
    "predata = pd.DataFrame(data)\n",
    "predata"
   ]
  },
  {
   "cell_type": "markdown",
   "id": "9bece3af0bc2daa3",
   "metadata": {
    "collapsed": false,
    "jupyter": {
     "outputs_hidden": false
    }
   },
   "source": [
    "Calculate sparsity and csr matrix"
   ]
  },
  {
   "cell_type": "code",
   "execution_count": 24,
   "id": "a9c28176080eabd0",
   "metadata": {
    "ExecuteTime": {
     "end_time": "2023-12-18T18:39:51.995817100Z",
     "start_time": "2023-12-18T18:39:51.684843500Z"
    },
    "collapsed": false,
    "jupyter": {
     "outputs_hidden": false
    }
   },
   "outputs": [
    {
     "data": {
      "text/html": [
       "<div>\n",
       "<style scoped>\n",
       "    .dataframe tbody tr th:only-of-type {\n",
       "        vertical-align: middle;\n",
       "    }\n",
       "\n",
       "    .dataframe tbody tr th {\n",
       "        vertical-align: top;\n",
       "    }\n",
       "\n",
       "    .dataframe thead th {\n",
       "        text-align: right;\n",
       "    }\n",
       "</style>\n",
       "<table border=\"1\" class=\"dataframe\">\n",
       "  <thead>\n",
       "    <tr style=\"text-align: right;\">\n",
       "      <th>User</th>\n",
       "      <th>AAIYANA MUSTAFA</th>\n",
       "      <th>ABDULFATTAH SENG</th>\n",
       "      <th>ABIGAIL LINE</th>\n",
       "      <th>ABRAM THANAWONG</th>\n",
       "      <th>ACHIRA TEAWSIRISUP</th>\n",
       "      <th>ACHIRAWIT AKSORNDIT</th>\n",
       "      <th>ACHIRAWIT PHUJOMCHAE</th>\n",
       "      <th>ACHIRAYA INNA</th>\n",
       "      <th>ACHIRAYA NUISEE</th>\n",
       "      <th>ACHIRAYA SUKPAISARN</th>\n",
       "      <th>...</th>\n",
       "      <th>YYY TTTT</th>\n",
       "      <th>ZABIDIN SENSANA</th>\n",
       "      <th>ZAR CHI LIN -</th>\n",
       "      <th>ZAYNUB NAEEM</th>\n",
       "      <th>ZE NYOI</th>\n",
       "      <th>ZHANGJINSHUO DONG</th>\n",
       "      <th>ZHENGHAO LIU</th>\n",
       "      <th>ZHENYI JIN</th>\n",
       "      <th>ZIWEN YONG</th>\n",
       "      <th>ZOE BESTMANNSMITH</th>\n",
       "    </tr>\n",
       "    <tr>\n",
       "      <th>Course</th>\n",
       "      <th></th>\n",
       "      <th></th>\n",
       "      <th></th>\n",
       "      <th></th>\n",
       "      <th></th>\n",
       "      <th></th>\n",
       "      <th></th>\n",
       "      <th></th>\n",
       "      <th></th>\n",
       "      <th></th>\n",
       "      <th></th>\n",
       "      <th></th>\n",
       "      <th></th>\n",
       "      <th></th>\n",
       "      <th></th>\n",
       "      <th></th>\n",
       "      <th></th>\n",
       "      <th></th>\n",
       "      <th></th>\n",
       "      <th></th>\n",
       "      <th></th>\n",
       "    </tr>\n",
       "  </thead>\n",
       "  <tbody>\n",
       "    <tr>\n",
       "      <th>Cancer Epidemiology and Prevention</th>\n",
       "      <td>0.0</td>\n",
       "      <td>0.0</td>\n",
       "      <td>0.0</td>\n",
       "      <td>0.0</td>\n",
       "      <td>0.0</td>\n",
       "      <td>0.0</td>\n",
       "      <td>0.0</td>\n",
       "      <td>0.0</td>\n",
       "      <td>0.0</td>\n",
       "      <td>0.0</td>\n",
       "      <td>...</td>\n",
       "      <td>0.0</td>\n",
       "      <td>0.0</td>\n",
       "      <td>0.0</td>\n",
       "      <td>0.0</td>\n",
       "      <td>0.000000</td>\n",
       "      <td>0.0</td>\n",
       "      <td>0.0</td>\n",
       "      <td>0.0</td>\n",
       "      <td>0.0</td>\n",
       "      <td>0.0</td>\n",
       "    </tr>\n",
       "    <tr>\n",
       "      <th>Coaching Skill : Crafting a New You สำหรับนักศึกษา มหาวิทยาลัยเชียงใหม่</th>\n",
       "      <td>0.0</td>\n",
       "      <td>0.0</td>\n",
       "      <td>0.0</td>\n",
       "      <td>0.0</td>\n",
       "      <td>0.0</td>\n",
       "      <td>0.0</td>\n",
       "      <td>0.0</td>\n",
       "      <td>0.0</td>\n",
       "      <td>0.0</td>\n",
       "      <td>0.0</td>\n",
       "      <td>...</td>\n",
       "      <td>0.0</td>\n",
       "      <td>0.0</td>\n",
       "      <td>0.0</td>\n",
       "      <td>0.0</td>\n",
       "      <td>0.000000</td>\n",
       "      <td>0.0</td>\n",
       "      <td>0.0</td>\n",
       "      <td>0.0</td>\n",
       "      <td>0.0</td>\n",
       "      <td>0.0</td>\n",
       "    </tr>\n",
       "    <tr>\n",
       "      <th>Coaching Skill : Crafting a New You สำหรับบุคลากร มหาวิทยาลัยเชียงใหม่</th>\n",
       "      <td>0.0</td>\n",
       "      <td>0.0</td>\n",
       "      <td>0.0</td>\n",
       "      <td>0.0</td>\n",
       "      <td>0.0</td>\n",
       "      <td>0.0</td>\n",
       "      <td>0.0</td>\n",
       "      <td>0.0</td>\n",
       "      <td>0.0</td>\n",
       "      <td>0.0</td>\n",
       "      <td>...</td>\n",
       "      <td>0.0</td>\n",
       "      <td>0.0</td>\n",
       "      <td>0.0</td>\n",
       "      <td>0.0</td>\n",
       "      <td>0.000000</td>\n",
       "      <td>0.0</td>\n",
       "      <td>0.0</td>\n",
       "      <td>0.0</td>\n",
       "      <td>0.0</td>\n",
       "      <td>0.0</td>\n",
       "    </tr>\n",
       "    <tr>\n",
       "      <th>Development Studies &amp; Social Research Specialization 2023</th>\n",
       "      <td>0.0</td>\n",
       "      <td>0.0</td>\n",
       "      <td>0.0</td>\n",
       "      <td>0.0</td>\n",
       "      <td>0.0</td>\n",
       "      <td>0.0</td>\n",
       "      <td>0.4</td>\n",
       "      <td>0.0</td>\n",
       "      <td>0.0</td>\n",
       "      <td>0.0</td>\n",
       "      <td>...</td>\n",
       "      <td>0.0</td>\n",
       "      <td>0.0</td>\n",
       "      <td>0.0</td>\n",
       "      <td>0.0</td>\n",
       "      <td>0.733333</td>\n",
       "      <td>0.0</td>\n",
       "      <td>0.0</td>\n",
       "      <td>0.0</td>\n",
       "      <td>0.0</td>\n",
       "      <td>0.0</td>\n",
       "    </tr>\n",
       "    <tr>\n",
       "      <th>Digital Transformation: e-Document</th>\n",
       "      <td>0.0</td>\n",
       "      <td>0.0</td>\n",
       "      <td>0.0</td>\n",
       "      <td>0.0</td>\n",
       "      <td>0.0</td>\n",
       "      <td>0.0</td>\n",
       "      <td>0.0</td>\n",
       "      <td>0.0</td>\n",
       "      <td>0.0</td>\n",
       "      <td>0.0</td>\n",
       "      <td>...</td>\n",
       "      <td>0.0</td>\n",
       "      <td>0.0</td>\n",
       "      <td>0.0</td>\n",
       "      <td>0.0</td>\n",
       "      <td>0.000000</td>\n",
       "      <td>0.0</td>\n",
       "      <td>0.0</td>\n",
       "      <td>0.0</td>\n",
       "      <td>0.0</td>\n",
       "      <td>0.0</td>\n",
       "    </tr>\n",
       "    <tr>\n",
       "      <th>...</th>\n",
       "      <td>...</td>\n",
       "      <td>...</td>\n",
       "      <td>...</td>\n",
       "      <td>...</td>\n",
       "      <td>...</td>\n",
       "      <td>...</td>\n",
       "      <td>...</td>\n",
       "      <td>...</td>\n",
       "      <td>...</td>\n",
       "      <td>...</td>\n",
       "      <td>...</td>\n",
       "      <td>...</td>\n",
       "      <td>...</td>\n",
       "      <td>...</td>\n",
       "      <td>...</td>\n",
       "      <td>...</td>\n",
       "      <td>...</td>\n",
       "      <td>...</td>\n",
       "      <td>...</td>\n",
       "      <td>...</td>\n",
       "      <td>...</td>\n",
       "    </tr>\n",
       "    <tr>\n",
       "      <th>เวชศาสตร์ครอบครัวขั้นสูง</th>\n",
       "      <td>0.0</td>\n",
       "      <td>0.0</td>\n",
       "      <td>0.0</td>\n",
       "      <td>0.0</td>\n",
       "      <td>0.0</td>\n",
       "      <td>0.0</td>\n",
       "      <td>0.0</td>\n",
       "      <td>0.0</td>\n",
       "      <td>0.0</td>\n",
       "      <td>0.0</td>\n",
       "      <td>...</td>\n",
       "      <td>0.0</td>\n",
       "      <td>0.0</td>\n",
       "      <td>0.0</td>\n",
       "      <td>0.0</td>\n",
       "      <td>0.000000</td>\n",
       "      <td>0.0</td>\n",
       "      <td>0.0</td>\n",
       "      <td>0.0</td>\n",
       "      <td>0.0</td>\n",
       "      <td>0.0</td>\n",
       "    </tr>\n",
       "    <tr>\n",
       "      <th>เวชศาสตร์ฟื้นฟูสำหรับแพทย์ฝึกอบรมเวชศาสตร์ฟื้นฟู มหาวิทยาลัยเชียงใหม่</th>\n",
       "      <td>0.0</td>\n",
       "      <td>0.0</td>\n",
       "      <td>0.0</td>\n",
       "      <td>0.0</td>\n",
       "      <td>0.0</td>\n",
       "      <td>0.0</td>\n",
       "      <td>0.0</td>\n",
       "      <td>0.0</td>\n",
       "      <td>0.0</td>\n",
       "      <td>0.0</td>\n",
       "      <td>...</td>\n",
       "      <td>0.0</td>\n",
       "      <td>0.0</td>\n",
       "      <td>0.0</td>\n",
       "      <td>0.0</td>\n",
       "      <td>0.000000</td>\n",
       "      <td>0.0</td>\n",
       "      <td>0.0</td>\n",
       "      <td>0.0</td>\n",
       "      <td>0.0</td>\n",
       "      <td>0.0</td>\n",
       "    </tr>\n",
       "    <tr>\n",
       "      <th>แปลงจุดแข็ง เป็นคุณค่า สร้างชีวิตสู่ความสุข  (Strengths Spotting : Turn on value and bring out the happiness) รุ่นที่ 1</th>\n",
       "      <td>0.0</td>\n",
       "      <td>0.0</td>\n",
       "      <td>0.0</td>\n",
       "      <td>0.0</td>\n",
       "      <td>0.0</td>\n",
       "      <td>0.0</td>\n",
       "      <td>0.0</td>\n",
       "      <td>0.0</td>\n",
       "      <td>0.0</td>\n",
       "      <td>0.0</td>\n",
       "      <td>...</td>\n",
       "      <td>0.0</td>\n",
       "      <td>0.0</td>\n",
       "      <td>0.0</td>\n",
       "      <td>0.0</td>\n",
       "      <td>0.000000</td>\n",
       "      <td>0.0</td>\n",
       "      <td>0.0</td>\n",
       "      <td>0.0</td>\n",
       "      <td>0.0</td>\n",
       "      <td>0.0</td>\n",
       "    </tr>\n",
       "    <tr>\n",
       "      <th>แปลงจุดแข็ง เป็นคุณค่า สร้างชีวิตสู่ความสุข (Strengths Spotting : Turn on value and bring out the happiness) รุ่นที่ 2</th>\n",
       "      <td>0.0</td>\n",
       "      <td>0.0</td>\n",
       "      <td>0.0</td>\n",
       "      <td>0.0</td>\n",
       "      <td>0.0</td>\n",
       "      <td>0.0</td>\n",
       "      <td>0.0</td>\n",
       "      <td>0.0</td>\n",
       "      <td>0.0</td>\n",
       "      <td>0.0</td>\n",
       "      <td>...</td>\n",
       "      <td>0.0</td>\n",
       "      <td>0.0</td>\n",
       "      <td>0.0</td>\n",
       "      <td>0.0</td>\n",
       "      <td>0.000000</td>\n",
       "      <td>0.0</td>\n",
       "      <td>0.0</td>\n",
       "      <td>0.0</td>\n",
       "      <td>0.0</td>\n",
       "      <td>0.0</td>\n",
       "    </tr>\n",
       "    <tr>\n",
       "      <th>“ฟูมฟักทักษะสำคัญในชีวิตและการทำงาน Skills4Life” สำหรับนักศึกษาคณะเภสัชศาสตร์ มหาวิทยาลัยเชียงใหม่</th>\n",
       "      <td>0.0</td>\n",
       "      <td>0.0</td>\n",
       "      <td>0.0</td>\n",
       "      <td>0.0</td>\n",
       "      <td>0.0</td>\n",
       "      <td>0.0</td>\n",
       "      <td>0.0</td>\n",
       "      <td>0.0</td>\n",
       "      <td>0.0</td>\n",
       "      <td>0.0</td>\n",
       "      <td>...</td>\n",
       "      <td>0.0</td>\n",
       "      <td>0.0</td>\n",
       "      <td>0.0</td>\n",
       "      <td>0.0</td>\n",
       "      <td>0.000000</td>\n",
       "      <td>0.0</td>\n",
       "      <td>0.0</td>\n",
       "      <td>0.0</td>\n",
       "      <td>0.0</td>\n",
       "      <td>0.0</td>\n",
       "    </tr>\n",
       "  </tbody>\n",
       "</table>\n",
       "<p>168 rows × 4652 columns</p>\n",
       "</div>"
      ],
      "text/plain": [
       "User                                                AAIYANA MUSTAFA  \\\n",
       "Course                                                                \n",
       "Cancer Epidemiology and Prevention                              0.0   \n",
       "Coaching Skill : Crafting a New You สำหรับนักศึ...              0.0   \n",
       "Coaching Skill : Crafting a New You สำหรับบุคลา...              0.0   \n",
       "Development Studies & Social Research Specializ...              0.0   \n",
       "Digital Transformation: e-Document                              0.0   \n",
       "...                                                             ...   \n",
       "เวชศาสตร์ครอบครัวขั้นสูง                                        0.0   \n",
       "เวชศาสตร์ฟื้นฟูสำหรับแพทย์ฝึกอบรมเวชศาสตร์ฟื้นฟ...              0.0   \n",
       "แปลงจุดแข็ง เป็นคุณค่า สร้างชีวิตสู่ความสุข  (S...              0.0   \n",
       "แปลงจุดแข็ง เป็นคุณค่า สร้างชีวิตสู่ความสุข (St...              0.0   \n",
       "“ฟูมฟักทักษะสำคัญในชีวิตและการทำงาน Skills4Life...              0.0   \n",
       "\n",
       "User                                                ABDULFATTAH SENG  \\\n",
       "Course                                                                 \n",
       "Cancer Epidemiology and Prevention                               0.0   \n",
       "Coaching Skill : Crafting a New You สำหรับนักศึ...               0.0   \n",
       "Coaching Skill : Crafting a New You สำหรับบุคลา...               0.0   \n",
       "Development Studies & Social Research Specializ...               0.0   \n",
       "Digital Transformation: e-Document                               0.0   \n",
       "...                                                              ...   \n",
       "เวชศาสตร์ครอบครัวขั้นสูง                                         0.0   \n",
       "เวชศาสตร์ฟื้นฟูสำหรับแพทย์ฝึกอบรมเวชศาสตร์ฟื้นฟ...               0.0   \n",
       "แปลงจุดแข็ง เป็นคุณค่า สร้างชีวิตสู่ความสุข  (S...               0.0   \n",
       "แปลงจุดแข็ง เป็นคุณค่า สร้างชีวิตสู่ความสุข (St...               0.0   \n",
       "“ฟูมฟักทักษะสำคัญในชีวิตและการทำงาน Skills4Life...               0.0   \n",
       "\n",
       "User                                                ABIGAIL LINE  \\\n",
       "Course                                                             \n",
       "Cancer Epidemiology and Prevention                           0.0   \n",
       "Coaching Skill : Crafting a New You สำหรับนักศึ...           0.0   \n",
       "Coaching Skill : Crafting a New You สำหรับบุคลา...           0.0   \n",
       "Development Studies & Social Research Specializ...           0.0   \n",
       "Digital Transformation: e-Document                           0.0   \n",
       "...                                                          ...   \n",
       "เวชศาสตร์ครอบครัวขั้นสูง                                     0.0   \n",
       "เวชศาสตร์ฟื้นฟูสำหรับแพทย์ฝึกอบรมเวชศาสตร์ฟื้นฟ...           0.0   \n",
       "แปลงจุดแข็ง เป็นคุณค่า สร้างชีวิตสู่ความสุข  (S...           0.0   \n",
       "แปลงจุดแข็ง เป็นคุณค่า สร้างชีวิตสู่ความสุข (St...           0.0   \n",
       "“ฟูมฟักทักษะสำคัญในชีวิตและการทำงาน Skills4Life...           0.0   \n",
       "\n",
       "User                                                ABRAM THANAWONG  \\\n",
       "Course                                                                \n",
       "Cancer Epidemiology and Prevention                              0.0   \n",
       "Coaching Skill : Crafting a New You สำหรับนักศึ...              0.0   \n",
       "Coaching Skill : Crafting a New You สำหรับบุคลา...              0.0   \n",
       "Development Studies & Social Research Specializ...              0.0   \n",
       "Digital Transformation: e-Document                              0.0   \n",
       "...                                                             ...   \n",
       "เวชศาสตร์ครอบครัวขั้นสูง                                        0.0   \n",
       "เวชศาสตร์ฟื้นฟูสำหรับแพทย์ฝึกอบรมเวชศาสตร์ฟื้นฟ...              0.0   \n",
       "แปลงจุดแข็ง เป็นคุณค่า สร้างชีวิตสู่ความสุข  (S...              0.0   \n",
       "แปลงจุดแข็ง เป็นคุณค่า สร้างชีวิตสู่ความสุข (St...              0.0   \n",
       "“ฟูมฟักทักษะสำคัญในชีวิตและการทำงาน Skills4Life...              0.0   \n",
       "\n",
       "User                                                ACHIRA TEAWSIRISUP  \\\n",
       "Course                                                                   \n",
       "Cancer Epidemiology and Prevention                                 0.0   \n",
       "Coaching Skill : Crafting a New You สำหรับนักศึ...                 0.0   \n",
       "Coaching Skill : Crafting a New You สำหรับบุคลา...                 0.0   \n",
       "Development Studies & Social Research Specializ...                 0.0   \n",
       "Digital Transformation: e-Document                                 0.0   \n",
       "...                                                                ...   \n",
       "เวชศาสตร์ครอบครัวขั้นสูง                                           0.0   \n",
       "เวชศาสตร์ฟื้นฟูสำหรับแพทย์ฝึกอบรมเวชศาสตร์ฟื้นฟ...                 0.0   \n",
       "แปลงจุดแข็ง เป็นคุณค่า สร้างชีวิตสู่ความสุข  (S...                 0.0   \n",
       "แปลงจุดแข็ง เป็นคุณค่า สร้างชีวิตสู่ความสุข (St...                 0.0   \n",
       "“ฟูมฟักทักษะสำคัญในชีวิตและการทำงาน Skills4Life...                 0.0   \n",
       "\n",
       "User                                                ACHIRAWIT AKSORNDIT  \\\n",
       "Course                                                                    \n",
       "Cancer Epidemiology and Prevention                                  0.0   \n",
       "Coaching Skill : Crafting a New You สำหรับนักศึ...                  0.0   \n",
       "Coaching Skill : Crafting a New You สำหรับบุคลา...                  0.0   \n",
       "Development Studies & Social Research Specializ...                  0.0   \n",
       "Digital Transformation: e-Document                                  0.0   \n",
       "...                                                                 ...   \n",
       "เวชศาสตร์ครอบครัวขั้นสูง                                            0.0   \n",
       "เวชศาสตร์ฟื้นฟูสำหรับแพทย์ฝึกอบรมเวชศาสตร์ฟื้นฟ...                  0.0   \n",
       "แปลงจุดแข็ง เป็นคุณค่า สร้างชีวิตสู่ความสุข  (S...                  0.0   \n",
       "แปลงจุดแข็ง เป็นคุณค่า สร้างชีวิตสู่ความสุข (St...                  0.0   \n",
       "“ฟูมฟักทักษะสำคัญในชีวิตและการทำงาน Skills4Life...                  0.0   \n",
       "\n",
       "User                                                ACHIRAWIT PHUJOMCHAE  \\\n",
       "Course                                                                     \n",
       "Cancer Epidemiology and Prevention                                   0.0   \n",
       "Coaching Skill : Crafting a New You สำหรับนักศึ...                   0.0   \n",
       "Coaching Skill : Crafting a New You สำหรับบุคลา...                   0.0   \n",
       "Development Studies & Social Research Specializ...                   0.4   \n",
       "Digital Transformation: e-Document                                   0.0   \n",
       "...                                                                  ...   \n",
       "เวชศาสตร์ครอบครัวขั้นสูง                                             0.0   \n",
       "เวชศาสตร์ฟื้นฟูสำหรับแพทย์ฝึกอบรมเวชศาสตร์ฟื้นฟ...                   0.0   \n",
       "แปลงจุดแข็ง เป็นคุณค่า สร้างชีวิตสู่ความสุข  (S...                   0.0   \n",
       "แปลงจุดแข็ง เป็นคุณค่า สร้างชีวิตสู่ความสุข (St...                   0.0   \n",
       "“ฟูมฟักทักษะสำคัญในชีวิตและการทำงาน Skills4Life...                   0.0   \n",
       "\n",
       "User                                                ACHIRAYA INNA  \\\n",
       "Course                                                              \n",
       "Cancer Epidemiology and Prevention                            0.0   \n",
       "Coaching Skill : Crafting a New You สำหรับนักศึ...            0.0   \n",
       "Coaching Skill : Crafting a New You สำหรับบุคลา...            0.0   \n",
       "Development Studies & Social Research Specializ...            0.0   \n",
       "Digital Transformation: e-Document                            0.0   \n",
       "...                                                           ...   \n",
       "เวชศาสตร์ครอบครัวขั้นสูง                                      0.0   \n",
       "เวชศาสตร์ฟื้นฟูสำหรับแพทย์ฝึกอบรมเวชศาสตร์ฟื้นฟ...            0.0   \n",
       "แปลงจุดแข็ง เป็นคุณค่า สร้างชีวิตสู่ความสุข  (S...            0.0   \n",
       "แปลงจุดแข็ง เป็นคุณค่า สร้างชีวิตสู่ความสุข (St...            0.0   \n",
       "“ฟูมฟักทักษะสำคัญในชีวิตและการทำงาน Skills4Life...            0.0   \n",
       "\n",
       "User                                                ACHIRAYA NUISEE  \\\n",
       "Course                                                                \n",
       "Cancer Epidemiology and Prevention                              0.0   \n",
       "Coaching Skill : Crafting a New You สำหรับนักศึ...              0.0   \n",
       "Coaching Skill : Crafting a New You สำหรับบุคลา...              0.0   \n",
       "Development Studies & Social Research Specializ...              0.0   \n",
       "Digital Transformation: e-Document                              0.0   \n",
       "...                                                             ...   \n",
       "เวชศาสตร์ครอบครัวขั้นสูง                                        0.0   \n",
       "เวชศาสตร์ฟื้นฟูสำหรับแพทย์ฝึกอบรมเวชศาสตร์ฟื้นฟ...              0.0   \n",
       "แปลงจุดแข็ง เป็นคุณค่า สร้างชีวิตสู่ความสุข  (S...              0.0   \n",
       "แปลงจุดแข็ง เป็นคุณค่า สร้างชีวิตสู่ความสุข (St...              0.0   \n",
       "“ฟูมฟักทักษะสำคัญในชีวิตและการทำงาน Skills4Life...              0.0   \n",
       "\n",
       "User                                                ACHIRAYA SUKPAISARN  ...  \\\n",
       "Course                                                                   ...   \n",
       "Cancer Epidemiology and Prevention                                  0.0  ...   \n",
       "Coaching Skill : Crafting a New You สำหรับนักศึ...                  0.0  ...   \n",
       "Coaching Skill : Crafting a New You สำหรับบุคลา...                  0.0  ...   \n",
       "Development Studies & Social Research Specializ...                  0.0  ...   \n",
       "Digital Transformation: e-Document                                  0.0  ...   \n",
       "...                                                                 ...  ...   \n",
       "เวชศาสตร์ครอบครัวขั้นสูง                                            0.0  ...   \n",
       "เวชศาสตร์ฟื้นฟูสำหรับแพทย์ฝึกอบรมเวชศาสตร์ฟื้นฟ...                  0.0  ...   \n",
       "แปลงจุดแข็ง เป็นคุณค่า สร้างชีวิตสู่ความสุข  (S...                  0.0  ...   \n",
       "แปลงจุดแข็ง เป็นคุณค่า สร้างชีวิตสู่ความสุข (St...                  0.0  ...   \n",
       "“ฟูมฟักทักษะสำคัญในชีวิตและการทำงาน Skills4Life...                  0.0  ...   \n",
       "\n",
       "User                                                YYY TTTT  ZABIDIN SENSANA  \\\n",
       "Course                                                                          \n",
       "Cancer Epidemiology and Prevention                       0.0              0.0   \n",
       "Coaching Skill : Crafting a New You สำหรับนักศึ...       0.0              0.0   \n",
       "Coaching Skill : Crafting a New You สำหรับบุคลา...       0.0              0.0   \n",
       "Development Studies & Social Research Specializ...       0.0              0.0   \n",
       "Digital Transformation: e-Document                       0.0              0.0   \n",
       "...                                                      ...              ...   \n",
       "เวชศาสตร์ครอบครัวขั้นสูง                                 0.0              0.0   \n",
       "เวชศาสตร์ฟื้นฟูสำหรับแพทย์ฝึกอบรมเวชศาสตร์ฟื้นฟ...       0.0              0.0   \n",
       "แปลงจุดแข็ง เป็นคุณค่า สร้างชีวิตสู่ความสุข  (S...       0.0              0.0   \n",
       "แปลงจุดแข็ง เป็นคุณค่า สร้างชีวิตสู่ความสุข (St...       0.0              0.0   \n",
       "“ฟูมฟักทักษะสำคัญในชีวิตและการทำงาน Skills4Life...       0.0              0.0   \n",
       "\n",
       "User                                                ZAR CHI LIN -  \\\n",
       "Course                                                              \n",
       "Cancer Epidemiology and Prevention                            0.0   \n",
       "Coaching Skill : Crafting a New You สำหรับนักศึ...            0.0   \n",
       "Coaching Skill : Crafting a New You สำหรับบุคลา...            0.0   \n",
       "Development Studies & Social Research Specializ...            0.0   \n",
       "Digital Transformation: e-Document                            0.0   \n",
       "...                                                           ...   \n",
       "เวชศาสตร์ครอบครัวขั้นสูง                                      0.0   \n",
       "เวชศาสตร์ฟื้นฟูสำหรับแพทย์ฝึกอบรมเวชศาสตร์ฟื้นฟ...            0.0   \n",
       "แปลงจุดแข็ง เป็นคุณค่า สร้างชีวิตสู่ความสุข  (S...            0.0   \n",
       "แปลงจุดแข็ง เป็นคุณค่า สร้างชีวิตสู่ความสุข (St...            0.0   \n",
       "“ฟูมฟักทักษะสำคัญในชีวิตและการทำงาน Skills4Life...            0.0   \n",
       "\n",
       "User                                                ZAYNUB NAEEM   ZE NYOI  \\\n",
       "Course                                                                       \n",
       "Cancer Epidemiology and Prevention                           0.0  0.000000   \n",
       "Coaching Skill : Crafting a New You สำหรับนักศึ...           0.0  0.000000   \n",
       "Coaching Skill : Crafting a New You สำหรับบุคลา...           0.0  0.000000   \n",
       "Development Studies & Social Research Specializ...           0.0  0.733333   \n",
       "Digital Transformation: e-Document                           0.0  0.000000   \n",
       "...                                                          ...       ...   \n",
       "เวชศาสตร์ครอบครัวขั้นสูง                                     0.0  0.000000   \n",
       "เวชศาสตร์ฟื้นฟูสำหรับแพทย์ฝึกอบรมเวชศาสตร์ฟื้นฟ...           0.0  0.000000   \n",
       "แปลงจุดแข็ง เป็นคุณค่า สร้างชีวิตสู่ความสุข  (S...           0.0  0.000000   \n",
       "แปลงจุดแข็ง เป็นคุณค่า สร้างชีวิตสู่ความสุข (St...           0.0  0.000000   \n",
       "“ฟูมฟักทักษะสำคัญในชีวิตและการทำงาน Skills4Life...           0.0  0.000000   \n",
       "\n",
       "User                                                ZHANGJINSHUO DONG  \\\n",
       "Course                                                                  \n",
       "Cancer Epidemiology and Prevention                                0.0   \n",
       "Coaching Skill : Crafting a New You สำหรับนักศึ...                0.0   \n",
       "Coaching Skill : Crafting a New You สำหรับบุคลา...                0.0   \n",
       "Development Studies & Social Research Specializ...                0.0   \n",
       "Digital Transformation: e-Document                                0.0   \n",
       "...                                                               ...   \n",
       "เวชศาสตร์ครอบครัวขั้นสูง                                          0.0   \n",
       "เวชศาสตร์ฟื้นฟูสำหรับแพทย์ฝึกอบรมเวชศาสตร์ฟื้นฟ...                0.0   \n",
       "แปลงจุดแข็ง เป็นคุณค่า สร้างชีวิตสู่ความสุข  (S...                0.0   \n",
       "แปลงจุดแข็ง เป็นคุณค่า สร้างชีวิตสู่ความสุข (St...                0.0   \n",
       "“ฟูมฟักทักษะสำคัญในชีวิตและการทำงาน Skills4Life...                0.0   \n",
       "\n",
       "User                                                ZHENGHAO LIU  ZHENYI JIN  \\\n",
       "Course                                                                         \n",
       "Cancer Epidemiology and Prevention                           0.0         0.0   \n",
       "Coaching Skill : Crafting a New You สำหรับนักศึ...           0.0         0.0   \n",
       "Coaching Skill : Crafting a New You สำหรับบุคลา...           0.0         0.0   \n",
       "Development Studies & Social Research Specializ...           0.0         0.0   \n",
       "Digital Transformation: e-Document                           0.0         0.0   \n",
       "...                                                          ...         ...   \n",
       "เวชศาสตร์ครอบครัวขั้นสูง                                     0.0         0.0   \n",
       "เวชศาสตร์ฟื้นฟูสำหรับแพทย์ฝึกอบรมเวชศาสตร์ฟื้นฟ...           0.0         0.0   \n",
       "แปลงจุดแข็ง เป็นคุณค่า สร้างชีวิตสู่ความสุข  (S...           0.0         0.0   \n",
       "แปลงจุดแข็ง เป็นคุณค่า สร้างชีวิตสู่ความสุข (St...           0.0         0.0   \n",
       "“ฟูมฟักทักษะสำคัญในชีวิตและการทำงาน Skills4Life...           0.0         0.0   \n",
       "\n",
       "User                                                ZIWEN YONG  \\\n",
       "Course                                                           \n",
       "Cancer Epidemiology and Prevention                         0.0   \n",
       "Coaching Skill : Crafting a New You สำหรับนักศึ...         0.0   \n",
       "Coaching Skill : Crafting a New You สำหรับบุคลา...         0.0   \n",
       "Development Studies & Social Research Specializ...         0.0   \n",
       "Digital Transformation: e-Document                         0.0   \n",
       "...                                                        ...   \n",
       "เวชศาสตร์ครอบครัวขั้นสูง                                   0.0   \n",
       "เวชศาสตร์ฟื้นฟูสำหรับแพทย์ฝึกอบรมเวชศาสตร์ฟื้นฟ...         0.0   \n",
       "แปลงจุดแข็ง เป็นคุณค่า สร้างชีวิตสู่ความสุข  (S...         0.0   \n",
       "แปลงจุดแข็ง เป็นคุณค่า สร้างชีวิตสู่ความสุข (St...         0.0   \n",
       "“ฟูมฟักทักษะสำคัญในชีวิตและการทำงาน Skills4Life...         0.0   \n",
       "\n",
       "User                                                ZOE BESTMANNSMITH  \n",
       "Course                                                                 \n",
       "Cancer Epidemiology and Prevention                                0.0  \n",
       "Coaching Skill : Crafting a New You สำหรับนักศึ...                0.0  \n",
       "Coaching Skill : Crafting a New You สำหรับบุคลา...                0.0  \n",
       "Development Studies & Social Research Specializ...                0.0  \n",
       "Digital Transformation: e-Document                                0.0  \n",
       "...                                                               ...  \n",
       "เวชศาสตร์ครอบครัวขั้นสูง                                          0.0  \n",
       "เวชศาสตร์ฟื้นฟูสำหรับแพทย์ฝึกอบรมเวชศาสตร์ฟื้นฟ...                0.0  \n",
       "แปลงจุดแข็ง เป็นคุณค่า สร้างชีวิตสู่ความสุข  (S...                0.0  \n",
       "แปลงจุดแข็ง เป็นคุณค่า สร้างชีวิตสู่ความสุข (St...                0.0  \n",
       "“ฟูมฟักทักษะสำคัญในชีวิตและการทำงาน Skills4Life...                0.0  \n",
       "\n",
       "[168 rows x 4652 columns]"
      ]
     },
     "execution_count": 24,
     "metadata": {},
     "output_type": "execute_result"
    }
   ],
   "source": [
    "# Pivot table by rotating course\n",
    "data = pd.pivot_table(predata, values='Score', index='Course', columns='User').fillna(0)\n",
    "data"
   ]
  },
  {
   "cell_type": "code",
   "execution_count": 25,
   "id": "ccc117194ab7b14d",
   "metadata": {
    "ExecuteTime": {
     "end_time": "2023-12-18T18:39:51.995817100Z",
     "start_time": "2023-12-18T18:39:51.766360700Z"
    },
    "collapsed": false,
    "jupyter": {
     "outputs_hidden": false
    }
   },
   "outputs": [],
   "source": [
    "# Item-User Rated Matrix\n",
    "data_mtx = csr_matrix(data.values)"
   ]
  },
  {
   "cell_type": "markdown",
   "id": "b6273ad2dab1c8c9",
   "metadata": {
    "collapsed": false,
    "jupyter": {
     "outputs_hidden": false
    }
   },
   "source": [
    "Euclidean Distance & Cosine Similarity"
   ]
  },
  {
   "cell_type": "code",
   "execution_count": 26,
   "id": "757c2d0e75f07f69",
   "metadata": {
    "ExecuteTime": {
     "end_time": "2023-12-18T18:39:51.995817100Z",
     "start_time": "2023-12-18T18:39:51.782664700Z"
    },
    "collapsed": false,
    "jupyter": {
     "outputs_hidden": false
    }
   },
   "outputs": [
    {
     "data": {
      "text/html": [
       "<style>#sk-container-id-1 {color: black;}#sk-container-id-1 pre{padding: 0;}#sk-container-id-1 div.sk-toggleable {background-color: white;}#sk-container-id-1 label.sk-toggleable__label {cursor: pointer;display: block;width: 100%;margin-bottom: 0;padding: 0.3em;box-sizing: border-box;text-align: center;}#sk-container-id-1 label.sk-toggleable__label-arrow:before {content: \"▸\";float: left;margin-right: 0.25em;color: #696969;}#sk-container-id-1 label.sk-toggleable__label-arrow:hover:before {color: black;}#sk-container-id-1 div.sk-estimator:hover label.sk-toggleable__label-arrow:before {color: black;}#sk-container-id-1 div.sk-toggleable__content {max-height: 0;max-width: 0;overflow: hidden;text-align: left;background-color: #f0f8ff;}#sk-container-id-1 div.sk-toggleable__content pre {margin: 0.2em;color: black;border-radius: 0.25em;background-color: #f0f8ff;}#sk-container-id-1 input.sk-toggleable__control:checked~div.sk-toggleable__content {max-height: 200px;max-width: 100%;overflow: auto;}#sk-container-id-1 input.sk-toggleable__control:checked~label.sk-toggleable__label-arrow:before {content: \"▾\";}#sk-container-id-1 div.sk-estimator input.sk-toggleable__control:checked~label.sk-toggleable__label {background-color: #d4ebff;}#sk-container-id-1 div.sk-label input.sk-toggleable__control:checked~label.sk-toggleable__label {background-color: #d4ebff;}#sk-container-id-1 input.sk-hidden--visually {border: 0;clip: rect(1px 1px 1px 1px);clip: rect(1px, 1px, 1px, 1px);height: 1px;margin: -1px;overflow: hidden;padding: 0;position: absolute;width: 1px;}#sk-container-id-1 div.sk-estimator {font-family: monospace;background-color: #f0f8ff;border: 1px dotted black;border-radius: 0.25em;box-sizing: border-box;margin-bottom: 0.5em;}#sk-container-id-1 div.sk-estimator:hover {background-color: #d4ebff;}#sk-container-id-1 div.sk-parallel-item::after {content: \"\";width: 100%;border-bottom: 1px solid gray;flex-grow: 1;}#sk-container-id-1 div.sk-label:hover label.sk-toggleable__label {background-color: #d4ebff;}#sk-container-id-1 div.sk-serial::before {content: \"\";position: absolute;border-left: 1px solid gray;box-sizing: border-box;top: 0;bottom: 0;left: 50%;z-index: 0;}#sk-container-id-1 div.sk-serial {display: flex;flex-direction: column;align-items: center;background-color: white;padding-right: 0.2em;padding-left: 0.2em;position: relative;}#sk-container-id-1 div.sk-item {position: relative;z-index: 1;}#sk-container-id-1 div.sk-parallel {display: flex;align-items: stretch;justify-content: center;background-color: white;position: relative;}#sk-container-id-1 div.sk-item::before, #sk-container-id-1 div.sk-parallel-item::before {content: \"\";position: absolute;border-left: 1px solid gray;box-sizing: border-box;top: 0;bottom: 0;left: 50%;z-index: -1;}#sk-container-id-1 div.sk-parallel-item {display: flex;flex-direction: column;z-index: 1;position: relative;background-color: white;}#sk-container-id-1 div.sk-parallel-item:first-child::after {align-self: flex-end;width: 50%;}#sk-container-id-1 div.sk-parallel-item:last-child::after {align-self: flex-start;width: 50%;}#sk-container-id-1 div.sk-parallel-item:only-child::after {width: 0;}#sk-container-id-1 div.sk-dashed-wrapped {border: 1px dashed gray;margin: 0 0.4em 0.5em 0.4em;box-sizing: border-box;padding-bottom: 0.4em;background-color: white;}#sk-container-id-1 div.sk-label label {font-family: monospace;font-weight: bold;display: inline-block;line-height: 1.2em;}#sk-container-id-1 div.sk-label-container {text-align: center;}#sk-container-id-1 div.sk-container {/* jupyter's `normalize.less` sets `[hidden] { display: none; }` but bootstrap.min.css set `[hidden] { display: none !important; }` so we also need the `!important` here to be able to override the default hidden behavior on the sphinx rendered scikit-learn.org. See: https://github.com/scikit-learn/scikit-learn/issues/21755 */display: inline-block !important;position: relative;}#sk-container-id-1 div.sk-text-repr-fallback {display: none;}</style><div id=\"sk-container-id-1\" class=\"sk-top-container\"><div class=\"sk-text-repr-fallback\"><pre>NearestNeighbors(algorithm=&#x27;brute&#x27;, metric=&#x27;cosine&#x27;)</pre><b>In a Jupyter environment, please rerun this cell to show the HTML representation or trust the notebook. <br />On GitHub, the HTML representation is unable to render, please try loading this page with nbviewer.org.</b></div><div class=\"sk-container\" hidden><div class=\"sk-item\"><div class=\"sk-estimator sk-toggleable\"><input class=\"sk-toggleable__control sk-hidden--visually\" id=\"sk-estimator-id-1\" type=\"checkbox\" checked><label for=\"sk-estimator-id-1\" class=\"sk-toggleable__label sk-toggleable__label-arrow\">NearestNeighbors</label><div class=\"sk-toggleable__content\"><pre>NearestNeighbors(algorithm=&#x27;brute&#x27;, metric=&#x27;cosine&#x27;)</pre></div></div></div></div></div>"
      ],
      "text/plain": [
       "NearestNeighbors(algorithm='brute', metric='cosine')"
      ]
     },
     "execution_count": 26,
     "metadata": {},
     "output_type": "execute_result"
    }
   ],
   "source": [
    "model_knn = NearestNeighbors(metric='cosine', algorithm='brute').fit(data_mtx)\n",
    "model_knn"
   ]
  },
  {
   "cell_type": "code",
   "execution_count": 27,
   "id": "4b6c8f03d2186801",
   "metadata": {
    "ExecuteTime": {
     "end_time": "2023-12-18T18:39:51.995817100Z",
     "start_time": "2023-12-18T18:39:51.801279800Z"
    },
    "collapsed": false,
    "jupyter": {
     "outputs_hidden": false
    }
   },
   "outputs": [],
   "source": [
    "def recommender_knn(course_name, n_recommendations):\n",
    "    idx = process.extractOne(course_name, courses)[2]\n",
    "    print('Selected movie:', courses[idx], 'Index:', idx)\n",
    "    distances, indices = model_knn.kneighbors(data_mtx[idx], n_neighbors=n_recommendations+1, return_distance=True)\n",
    "    recommendations = [courses[i].where(i!=idx) for i in indices]\n",
    "    recommended_courses = recommendations[0][1:]\n",
    "    course_distances = distances[0][1:]\n",
    "    d = {\n",
    "        'Course': recommended_courses,\n",
    "        'Cosine Distance': course_distances\n",
    "    }\n",
    "    results = pd.DataFrame(data=d)\n",
    "    return results"
   ]
  },
  {
   "cell_type": "code",
   "execution_count": 28,
   "id": "5a532f42e3ecba85",
   "metadata": {
    "ExecuteTime": {
     "end_time": "2023-12-18T18:39:51.995817100Z",
     "start_time": "2023-12-18T18:39:51.809402400Z"
    },
    "collapsed": false,
    "jupyter": {
     "outputs_hidden": false
    }
   },
   "outputs": [
    {
     "name": "stdout",
     "output_type": "stream",
     "text": [
      "Selected movie: หลักการและพื้นฐานของเครื่องมือทางรังสีวิทยา (Basic Principle of Diagnostic Radiology Imaging Instruments) Index: 131\n"
     ]
    },
    {
     "data": {
      "text/html": [
       "<div>\n",
       "<style scoped>\n",
       "    .dataframe tbody tr th:only-of-type {\n",
       "        vertical-align: middle;\n",
       "    }\n",
       "\n",
       "    .dataframe tbody tr th {\n",
       "        vertical-align: top;\n",
       "    }\n",
       "\n",
       "    .dataframe thead th {\n",
       "        text-align: right;\n",
       "    }\n",
       "</style>\n",
       "<table border=\"1\" class=\"dataframe\">\n",
       "  <thead>\n",
       "    <tr style=\"text-align: right;\">\n",
       "      <th></th>\n",
       "      <th>Course</th>\n",
       "      <th>Cosine Distance</th>\n",
       "    </tr>\n",
       "  </thead>\n",
       "  <tbody>\n",
       "    <tr>\n",
       "      <th>152</th>\n",
       "      <td>เตรียมความพร้อมทางรังสีวิทยาสำหรับบุคลากรทางกา...</td>\n",
       "      <td>0.672148</td>\n",
       "    </tr>\n",
       "    <tr>\n",
       "      <th>42</th>\n",
       "      <td>การวินิจฉัยภาวะฉุกเฉินจากอุบัติเหตุ (Diagnosti...</td>\n",
       "      <td>0.722518</td>\n",
       "    </tr>\n",
       "    <tr>\n",
       "      <th>43</th>\n",
       "      <td>การวินิจฉัยภาวะฉุกเฉินที่ไม่ได้เกิดจากอุบัติเห...</td>\n",
       "      <td>0.752072</td>\n",
       "    </tr>\n",
       "    <tr>\n",
       "      <th>163</th>\n",
       "      <td>เวชศาสตร์ครอบครัวขั้นสูง</td>\n",
       "      <td>0.932805</td>\n",
       "    </tr>\n",
       "    <tr>\n",
       "      <th>110</th>\n",
       "      <td>รังสีวิทยาวินิจฉัย</td>\n",
       "      <td>0.970761</td>\n",
       "    </tr>\n",
       "    <tr>\n",
       "      <th>...</th>\n",
       "      <td>...</td>\n",
       "      <td>...</td>\n",
       "    </tr>\n",
       "    <tr>\n",
       "      <th>62</th>\n",
       "      <td>การเขียนโครงการและกระบวนการใช้จ่ายเงินในกิจกรร...</td>\n",
       "      <td>1.000000</td>\n",
       "    </tr>\n",
       "    <tr>\n",
       "      <th>63</th>\n",
       "      <td>การเขียนโครงการและกระบวนการใช้จ่ายเงินในกิจกรร...</td>\n",
       "      <td>1.000000</td>\n",
       "    </tr>\n",
       "    <tr>\n",
       "      <th>64</th>\n",
       "      <td>การเขียนโครงการและกระบวนการใช้จ่ายเงินในกิจกรร...</td>\n",
       "      <td>1.000000</td>\n",
       "    </tr>\n",
       "    <tr>\n",
       "      <th>56</th>\n",
       "      <td>การเขียนโครงการและกระบวนการใช้จ่ายเงินในกิจกรร...</td>\n",
       "      <td>1.000000</td>\n",
       "    </tr>\n",
       "    <tr>\n",
       "      <th>166</th>\n",
       "      <td>แปลงจุดแข็ง เป็นคุณค่า สร้างชีวิตสู่ความสุข (S...</td>\n",
       "      <td>1.000000</td>\n",
       "    </tr>\n",
       "  </tbody>\n",
       "</table>\n",
       "<p>167 rows × 2 columns</p>\n",
       "</div>"
      ],
      "text/plain": [
       "                                                Course  Cosine Distance\n",
       "152  เตรียมความพร้อมทางรังสีวิทยาสำหรับบุคลากรทางกา...         0.672148\n",
       "42   การวินิจฉัยภาวะฉุกเฉินจากอุบัติเหตุ (Diagnosti...         0.722518\n",
       "43   การวินิจฉัยภาวะฉุกเฉินที่ไม่ได้เกิดจากอุบัติเห...         0.752072\n",
       "163                           เวชศาสตร์ครอบครัวขั้นสูง         0.932805\n",
       "110                                 รังสีวิทยาวินิจฉัย         0.970761\n",
       "..                                                 ...              ...\n",
       "62   การเขียนโครงการและกระบวนการใช้จ่ายเงินในกิจกรร...         1.000000\n",
       "63   การเขียนโครงการและกระบวนการใช้จ่ายเงินในกิจกรร...         1.000000\n",
       "64   การเขียนโครงการและกระบวนการใช้จ่ายเงินในกิจกรร...         1.000000\n",
       "56   การเขียนโครงการและกระบวนการใช้จ่ายเงินในกิจกรร...         1.000000\n",
       "166  แปลงจุดแข็ง เป็นคุณค่า สร้างชีวิตสู่ความสุข (S...         1.000000\n",
       "\n",
       "[167 rows x 2 columns]"
      ]
     },
     "execution_count": 28,
     "metadata": {},
     "output_type": "execute_result"
    }
   ],
   "source": [
    "recommender_knn('หลักการและพื้นฐานของเครื่องมือทางรังสีวิทยา (Basic Principle of Diagnostic Radiology Imaging Instruments)', 167)"
   ]
  },
  {
   "cell_type": "markdown",
   "id": "5fd1ad5c6c39d1e0",
   "metadata": {
    "collapsed": false,
    "jupyter": {
     "outputs_hidden": false
    }
   },
   "source": [
    "Predata for hybrid recommendation"
   ]
  },
  {
   "cell_type": "code",
   "execution_count": 29,
   "id": "1691c4447c9c28ce",
   "metadata": {
    "ExecuteTime": {
     "end_time": "2023-12-18T18:39:52.011252Z",
     "start_time": "2023-12-18T18:39:51.859110300Z"
    },
    "collapsed": false,
    "jupyter": {
     "outputs_hidden": false
    }
   },
   "outputs": [],
   "source": [
    "def recommender_knn_all_courses(course_name):\n",
    "    model_knn.fit(data_mtx)\n",
    "    idx = process.extractOne(course_name, courses)[2]\n",
    "    # print('Selected movie:', courses[idx], 'Index:', idx)\n",
    "    distances, indices = model_knn.kneighbors(data_mtx[idx], n_neighbors=len(courses))\n",
    "    recommendations = [courses[i].where(i!=idx) for i in indices]\n",
    "    recommended_courses = recommendations[0][1:]\n",
    "    scores = 1 - distances\n",
    "    course_distances = scores[0][1:]\n",
    "    d = {\n",
    "        'Course': recommended_courses,\n",
    "        'Score': course_distances\n",
    "    }\n",
    "    results = pd.DataFrame(data=d)\n",
    "    results = results.sort_index().rename_axis('Index')\n",
    "    return results"
   ]
  },
  {
   "cell_type": "code",
   "execution_count": 30,
   "id": "7c5bdf4dcc42b6d2",
   "metadata": {
    "ExecuteTime": {
     "end_time": "2023-12-18T18:39:52.122338300Z",
     "start_time": "2023-12-18T18:39:51.891850500Z"
    },
    "collapsed": false,
    "jupyter": {
     "outputs_hidden": false
    }
   },
   "outputs": [
    {
     "data": {
      "text/html": [
       "<div>\n",
       "<style scoped>\n",
       "    .dataframe tbody tr th:only-of-type {\n",
       "        vertical-align: middle;\n",
       "    }\n",
       "\n",
       "    .dataframe tbody tr th {\n",
       "        vertical-align: top;\n",
       "    }\n",
       "\n",
       "    .dataframe thead th {\n",
       "        text-align: right;\n",
       "    }\n",
       "</style>\n",
       "<table border=\"1\" class=\"dataframe\">\n",
       "  <thead>\n",
       "    <tr style=\"text-align: right;\">\n",
       "      <th></th>\n",
       "      <th>Course</th>\n",
       "      <th>Score</th>\n",
       "    </tr>\n",
       "    <tr>\n",
       "      <th>Index</th>\n",
       "      <th></th>\n",
       "      <th></th>\n",
       "    </tr>\n",
       "  </thead>\n",
       "  <tbody>\n",
       "    <tr>\n",
       "      <th>0</th>\n",
       "      <td>Cancer Epidemiology and Prevention</td>\n",
       "      <td>0.000000</td>\n",
       "    </tr>\n",
       "    <tr>\n",
       "      <th>1</th>\n",
       "      <td>Coaching Skill : Crafting a New You สำหรับนักศ...</td>\n",
       "      <td>0.000000</td>\n",
       "    </tr>\n",
       "    <tr>\n",
       "      <th>2</th>\n",
       "      <td>Coaching Skill : Crafting a New You สำหรับบุคล...</td>\n",
       "      <td>0.000000</td>\n",
       "    </tr>\n",
       "    <tr>\n",
       "      <th>3</th>\n",
       "      <td>Development Studies &amp; Social Research Speciali...</td>\n",
       "      <td>0.010863</td>\n",
       "    </tr>\n",
       "    <tr>\n",
       "      <th>4</th>\n",
       "      <td>Digital Transformation: e-Document</td>\n",
       "      <td>0.000000</td>\n",
       "    </tr>\n",
       "    <tr>\n",
       "      <th>...</th>\n",
       "      <td>...</td>\n",
       "      <td>...</td>\n",
       "    </tr>\n",
       "    <tr>\n",
       "      <th>163</th>\n",
       "      <td>เวชศาสตร์ครอบครัวขั้นสูง</td>\n",
       "      <td>0.067195</td>\n",
       "    </tr>\n",
       "    <tr>\n",
       "      <th>164</th>\n",
       "      <td>เวชศาสตร์ฟื้นฟูสำหรับแพทย์ฝึกอบรมเวชศาสตร์ฟื้น...</td>\n",
       "      <td>0.000000</td>\n",
       "    </tr>\n",
       "    <tr>\n",
       "      <th>165</th>\n",
       "      <td>แปลงจุดแข็ง เป็นคุณค่า สร้างชีวิตสู่ความสุข  (...</td>\n",
       "      <td>0.007425</td>\n",
       "    </tr>\n",
       "    <tr>\n",
       "      <th>166</th>\n",
       "      <td>แปลงจุดแข็ง เป็นคุณค่า สร้างชีวิตสู่ความสุข (S...</td>\n",
       "      <td>0.000000</td>\n",
       "    </tr>\n",
       "    <tr>\n",
       "      <th>167</th>\n",
       "      <td>“ฟูมฟักทักษะสำคัญในชีวิตและการทำงาน Skills4Lif...</td>\n",
       "      <td>0.005024</td>\n",
       "    </tr>\n",
       "  </tbody>\n",
       "</table>\n",
       "<p>167 rows × 2 columns</p>\n",
       "</div>"
      ],
      "text/plain": [
       "                                                  Course     Score\n",
       "Index                                                             \n",
       "0                     Cancer Epidemiology and Prevention  0.000000\n",
       "1      Coaching Skill : Crafting a New You สำหรับนักศ...  0.000000\n",
       "2      Coaching Skill : Crafting a New You สำหรับบุคล...  0.000000\n",
       "3      Development Studies & Social Research Speciali...  0.010863\n",
       "4                     Digital Transformation: e-Document  0.000000\n",
       "...                                                  ...       ...\n",
       "163                             เวชศาสตร์ครอบครัวขั้นสูง  0.067195\n",
       "164    เวชศาสตร์ฟื้นฟูสำหรับแพทย์ฝึกอบรมเวชศาสตร์ฟื้น...  0.000000\n",
       "165    แปลงจุดแข็ง เป็นคุณค่า สร้างชีวิตสู่ความสุข  (...  0.007425\n",
       "166    แปลงจุดแข็ง เป็นคุณค่า สร้างชีวิตสู่ความสุข (S...  0.000000\n",
       "167    “ฟูมฟักทักษะสำคัญในชีวิตและการทำงาน Skills4Lif...  0.005024\n",
       "\n",
       "[167 rows x 2 columns]"
      ]
     },
     "execution_count": 30,
     "metadata": {},
     "output_type": "execute_result"
    }
   ],
   "source": [
    "recommender_knn_all_courses('หลักการและพื้นฐานของเครื่องมือทางรังสีวิทยา (Basic Principle of Diagnostic Radiology Imaging Instruments)')"
   ]
  },
  {
   "cell_type": "code",
   "execution_count": 31,
   "id": "49aee5e9c7208208",
   "metadata": {
    "ExecuteTime": {
     "end_time": "2023-12-18T18:39:52.123339100Z",
     "start_time": "2023-12-18T18:39:51.935769800Z"
    },
    "collapsed": false,
    "jupyter": {
     "outputs_hidden": false
    }
   },
   "outputs": [],
   "source": [
    "def get_score_of_selected_courses(course_names):\n",
    "    # Take index of the selected courses\n",
    "    idx = [ process.extractOne(course_name, courses)[2] for course_name in course_names ]\n",
    "    \n",
    "    # take the selected course\n",
    "    course_scores = []\n",
    "    for course in courses:\n",
    "        if course not in course_names:\n",
    "            course_scores.append(recommender_knn_all_courses(course).iloc[idx])\n",
    "            \n",
    "    course_score_dict = {}\n",
    "    for i,name in enumerate(course_names):\n",
    "        course_score_dict[name] = []\n",
    "        for score in course_scores:\n",
    "            course_score_dict[name].append(score['Score'].iloc[i])\n",
    "           \n",
    "    course_score_df = pd.DataFrame(course_score_dict, index=range(0,len(course_scores)))\n",
    "    \n",
    "    return course_score_df.max()"
   ]
  },
  {
   "cell_type": "code",
   "execution_count": 32,
   "id": "e662f15c252f7be0",
   "metadata": {
    "ExecuteTime": {
     "end_time": "2023-12-18T18:39:52.123339100Z",
     "start_time": "2023-12-18T18:39:51.944581800Z"
    },
    "collapsed": false,
    "jupyter": {
     "outputs_hidden": false
    }
   },
   "outputs": [],
   "source": [
    "def recommender_knn_by_user(user_name, n_recommendations):\n",
    "    df = {\n",
    "        'User': pd.Series(file['ชื่อ-นามสกุล (อังกฤษ)']),\n",
    "        'Course': pd.Series(file['หลักสูตรอบรมระยะสั้น'])\n",
    "    }\n",
    "    \n",
    "    user_course = pd.DataFrame(df)\n",
    "    selected_user_name = user_course.loc[user_course['User'] == user_name]\n",
    "    selected_courses = selected_user_name['Course']\n",
    "    \n",
    "    recommended_courses = [ recommender_knn_all_courses(x) for x in selected_courses]\n",
    "    \n",
    "    # pre dataframe\n",
    "    df = pd.DataFrame({\n",
    "        'Course': [],\n",
    "        'Score': []\n",
    "    }).rename_axis('Index')\n",
    "    \n",
    "    for x in recommended_courses:\n",
    "        df = df._append(x)\n",
    "    df =  df.sort_values('Score', ascending=False).drop_duplicates('Course')\n",
    "    return df.head(n_recommendations)"
   ]
  },
  {
   "cell_type": "markdown",
   "id": "429d96f86e0c15be",
   "metadata": {
    "collapsed": false,
    "jupyter": {
     "outputs_hidden": false
    }
   },
   "source": [
    "Items show permanence whereas, people change with time\n",
    "Items are fewer in numbers to deal with. Which leads to smaller similarity matrix. Amazon and Netflix use it!\n",
    "Better for New users:\n",
    "— Him selecting just one item will let us provide recommendations\n",
    "— But for user based, new user has to wait until next build of similarity matrix (which is the only computational part of the framework)"
   ]
  },
  {
   "cell_type": "code",
   "execution_count": 33,
   "id": "bf895bd5e81470f1",
   "metadata": {
    "ExecuteTime": {
     "end_time": "2023-12-18T18:39:52.150574Z",
     "start_time": "2023-12-18T18:39:51.945100Z"
    },
    "collapsed": false,
    "jupyter": {
     "outputs_hidden": false
    }
   },
   "outputs": [
    {
     "data": {
      "text/html": [
       "<div>\n",
       "<style scoped>\n",
       "    .dataframe tbody tr th:only-of-type {\n",
       "        vertical-align: middle;\n",
       "    }\n",
       "\n",
       "    .dataframe tbody tr th {\n",
       "        vertical-align: top;\n",
       "    }\n",
       "\n",
       "    .dataframe thead th {\n",
       "        text-align: right;\n",
       "    }\n",
       "</style>\n",
       "<table border=\"1\" class=\"dataframe\">\n",
       "  <thead>\n",
       "    <tr style=\"text-align: right;\">\n",
       "      <th></th>\n",
       "      <th>Course</th>\n",
       "      <th>Score</th>\n",
       "    </tr>\n",
       "    <tr>\n",
       "      <th>Index</th>\n",
       "      <th></th>\n",
       "      <th></th>\n",
       "    </tr>\n",
       "  </thead>\n",
       "  <tbody>\n",
       "    <tr>\n",
       "      <th>43</th>\n",
       "      <td>การวินิจฉัยภาวะฉุกเฉินที่ไม่ได้เกิดจากอุบัติเห...</td>\n",
       "      <td>0.759024</td>\n",
       "    </tr>\n",
       "    <tr>\n",
       "      <th>131</th>\n",
       "      <td>หลักการและพื้นฐานของเครื่องมือทางรังสีวิทยา (B...</td>\n",
       "      <td>0.277482</td>\n",
       "    </tr>\n",
       "    <tr>\n",
       "      <th>110</th>\n",
       "      <td>รังสีวิทยาวินิจฉัย</td>\n",
       "      <td>0.236569</td>\n",
       "    </tr>\n",
       "    <tr>\n",
       "      <th>152</th>\n",
       "      <td>เตรียมความพร้อมทางรังสีวิทยาสำหรับบุคลากรทางกา...</td>\n",
       "      <td>0.178877</td>\n",
       "    </tr>\n",
       "    <tr>\n",
       "      <th>124</th>\n",
       "      <td>สารสนเทศทางสาธารณสุข 2566 (Public Health Infor...</td>\n",
       "      <td>0.079594</td>\n",
       "    </tr>\n",
       "    <tr>\n",
       "      <th>41</th>\n",
       "      <td>การวิจัยแบบผสมผสานทางสุขภาพ (Mixed Methods Res...</td>\n",
       "      <td>0.036606</td>\n",
       "    </tr>\n",
       "    <tr>\n",
       "      <th>136</th>\n",
       "      <td>หลักสูตรอบรมเข้มข้นระยะสั้นแพทย์-วิศวกรรมและวิ...</td>\n",
       "      <td>0.023389</td>\n",
       "    </tr>\n",
       "    <tr>\n",
       "      <th>98</th>\n",
       "      <td>ทักษะความเป็นนักดนตรี</td>\n",
       "      <td>0.022867</td>\n",
       "    </tr>\n",
       "    <tr>\n",
       "      <th>3</th>\n",
       "      <td>Development Studies &amp; Social Research Speciali...</td>\n",
       "      <td>0.018290</td>\n",
       "    </tr>\n",
       "    <tr>\n",
       "      <th>162</th>\n",
       "      <td>เรียนรู้การคิดเชิงออกแบบ (Design Thinking) : ท...</td>\n",
       "      <td>0.016439</td>\n",
       "    </tr>\n",
       "  </tbody>\n",
       "</table>\n",
       "</div>"
      ],
      "text/plain": [
       "                                                  Course     Score\n",
       "Index                                                             \n",
       "43     การวินิจฉัยภาวะฉุกเฉินที่ไม่ได้เกิดจากอุบัติเห...  0.759024\n",
       "131    หลักการและพื้นฐานของเครื่องมือทางรังสีวิทยา (B...  0.277482\n",
       "110                                   รังสีวิทยาวินิจฉัย  0.236569\n",
       "152    เตรียมความพร้อมทางรังสีวิทยาสำหรับบุคลากรทางกา...  0.178877\n",
       "124    สารสนเทศทางสาธารณสุข 2566 (Public Health Infor...  0.079594\n",
       "41     การวิจัยแบบผสมผสานทางสุขภาพ (Mixed Methods Res...  0.036606\n",
       "136    หลักสูตรอบรมเข้มข้นระยะสั้นแพทย์-วิศวกรรมและวิ...  0.023389\n",
       "98                                 ทักษะความเป็นนักดนตรี  0.022867\n",
       "3      Development Studies & Social Research Speciali...  0.018290\n",
       "162    เรียนรู้การคิดเชิงออกแบบ (Design Thinking) : ท...  0.016439"
      ]
     },
     "execution_count": 33,
     "metadata": {},
     "output_type": "execute_result"
    }
   ],
   "source": [
    "recommender_knn_by_user('THANAKORN DARASRISAK', 10)"
   ]
  },
  {
   "cell_type": "markdown",
   "id": "f8ea4f22d3481e98",
   "metadata": {
    "collapsed": false,
    "jupyter": {
     "outputs_hidden": false
    }
   },
   "source": [
    "Training and Testing"
   ]
  },
  {
   "cell_type": "code",
   "execution_count": 34,
   "id": "ce5d56e62ccafebc",
   "metadata": {
    "ExecuteTime": {
     "end_time": "2023-12-18T18:39:52.172255700Z",
     "start_time": "2023-12-18T18:39:51.995817100Z"
    },
    "collapsed": false,
    "jupyter": {
     "outputs_hidden": false
    }
   },
   "outputs": [],
   "source": [
    "from sklearn.model_selection import train_test_split\n",
    "from sklearn.neighbors import KNeighborsRegressor"
   ]
  },
  {
   "cell_type": "markdown",
   "id": "aec6362ea62ebee2",
   "metadata": {
    "collapsed": false,
    "jupyter": {
     "outputs_hidden": false
    }
   },
   "source": [
    "Predata of training"
   ]
  },
  {
   "cell_type": "code",
   "execution_count": 35,
   "id": "41466518225fa551",
   "metadata": {
    "ExecuteTime": {
     "end_time": "2023-12-18T18:39:52.232962500Z",
     "start_time": "2023-12-18T18:39:52.003192800Z"
    },
    "collapsed": false,
    "jupyter": {
     "outputs_hidden": false
    }
   },
   "outputs": [
    {
     "data": {
      "text/html": [
       "<div>\n",
       "<style scoped>\n",
       "    .dataframe tbody tr th:only-of-type {\n",
       "        vertical-align: middle;\n",
       "    }\n",
       "\n",
       "    .dataframe tbody tr th {\n",
       "        vertical-align: top;\n",
       "    }\n",
       "\n",
       "    .dataframe thead th {\n",
       "        text-align: right;\n",
       "    }\n",
       "</style>\n",
       "<table border=\"1\" class=\"dataframe\">\n",
       "  <thead>\n",
       "    <tr style=\"text-align: right;\">\n",
       "      <th></th>\n",
       "      <th>Email Score</th>\n",
       "      <th>Age Education Score</th>\n",
       "      <th>Enrollment</th>\n",
       "      <th>Payment Score</th>\n",
       "      <th>Address Score</th>\n",
       "    </tr>\n",
       "    <tr>\n",
       "      <th>Course</th>\n",
       "      <th></th>\n",
       "      <th></th>\n",
       "      <th></th>\n",
       "      <th></th>\n",
       "      <th></th>\n",
       "    </tr>\n",
       "  </thead>\n",
       "  <tbody>\n",
       "    <tr>\n",
       "      <th>Cancer Epidemiology and Prevention</th>\n",
       "      <td>1.000000</td>\n",
       "      <td>1.500000</td>\n",
       "      <td>0.500000</td>\n",
       "      <td>8.000000</td>\n",
       "      <td>0.000000</td>\n",
       "    </tr>\n",
       "    <tr>\n",
       "      <th>Coaching Skill : Crafting a New You สำหรับนักศึกษา มหาวิทยาลัยเชียงใหม่</th>\n",
       "      <td>1.714286</td>\n",
       "      <td>0.285714</td>\n",
       "      <td>0.107143</td>\n",
       "      <td>8.000000</td>\n",
       "      <td>2.000000</td>\n",
       "    </tr>\n",
       "    <tr>\n",
       "      <th>Coaching Skill : Crafting a New You สำหรับบุคลากร มหาวิทยาลัยเชียงใหม่</th>\n",
       "      <td>1.692308</td>\n",
       "      <td>1.410256</td>\n",
       "      <td>0.307692</td>\n",
       "      <td>6.358974</td>\n",
       "      <td>1.846154</td>\n",
       "    </tr>\n",
       "    <tr>\n",
       "      <th>Development Studies &amp; Social Research Specialization 2023</th>\n",
       "      <td>1.028571</td>\n",
       "      <td>0.914286</td>\n",
       "      <td>0.200000</td>\n",
       "      <td>6.885714</td>\n",
       "      <td>0.400000</td>\n",
       "    </tr>\n",
       "    <tr>\n",
       "      <th>Digital Transformation: e-Document</th>\n",
       "      <td>1.863636</td>\n",
       "      <td>1.818182</td>\n",
       "      <td>0.681818</td>\n",
       "      <td>8.000000</td>\n",
       "      <td>0.545455</td>\n",
       "    </tr>\n",
       "    <tr>\n",
       "      <th>...</th>\n",
       "      <td>...</td>\n",
       "      <td>...</td>\n",
       "      <td>...</td>\n",
       "      <td>...</td>\n",
       "      <td>...</td>\n",
       "    </tr>\n",
       "    <tr>\n",
       "      <th>เวชศาสตร์ครอบครัวขั้นสูง</th>\n",
       "      <td>1.125000</td>\n",
       "      <td>1.000000</td>\n",
       "      <td>0.625000</td>\n",
       "      <td>8.000000</td>\n",
       "      <td>0.500000</td>\n",
       "    </tr>\n",
       "    <tr>\n",
       "      <th>เวชศาสตร์ฟื้นฟูสำหรับแพทย์ฝึกอบรมเวชศาสตร์ฟื้นฟู มหาวิทยาลัยเชียงใหม่</th>\n",
       "      <td>1.200000</td>\n",
       "      <td>0.800000</td>\n",
       "      <td>0.000000</td>\n",
       "      <td>8.000000</td>\n",
       "      <td>0.400000</td>\n",
       "    </tr>\n",
       "    <tr>\n",
       "      <th>แปลงจุดแข็ง เป็นคุณค่า สร้างชีวิตสู่ความสุข  (Strengths Spotting : Turn on value and bring out the happiness) รุ่นที่ 1</th>\n",
       "      <td>1.600000</td>\n",
       "      <td>1.100000</td>\n",
       "      <td>0.566667</td>\n",
       "      <td>8.000000</td>\n",
       "      <td>1.533333</td>\n",
       "    </tr>\n",
       "    <tr>\n",
       "      <th>แปลงจุดแข็ง เป็นคุณค่า สร้างชีวิตสู่ความสุข (Strengths Spotting : Turn on value and bring out the happiness) รุ่นที่ 2</th>\n",
       "      <td>1.619048</td>\n",
       "      <td>1.809524</td>\n",
       "      <td>0.476190</td>\n",
       "      <td>7.571429</td>\n",
       "      <td>1.238095</td>\n",
       "    </tr>\n",
       "    <tr>\n",
       "      <th>“ฟูมฟักทักษะสำคัญในชีวิตและการทำงาน Skills4Life” สำหรับนักศึกษาคณะเภสัชศาสตร์ มหาวิทยาลัยเชียงใหม่</th>\n",
       "      <td>1.927273</td>\n",
       "      <td>0.645455</td>\n",
       "      <td>0.090909</td>\n",
       "      <td>7.945455</td>\n",
       "      <td>0.090909</td>\n",
       "    </tr>\n",
       "  </tbody>\n",
       "</table>\n",
       "<p>168 rows × 5 columns</p>\n",
       "</div>"
      ],
      "text/plain": [
       "                                                    Email Score  \\\n",
       "Course                                                            \n",
       "Cancer Epidemiology and Prevention                     1.000000   \n",
       "Coaching Skill : Crafting a New You สำหรับนักศึ...     1.714286   \n",
       "Coaching Skill : Crafting a New You สำหรับบุคลา...     1.692308   \n",
       "Development Studies & Social Research Specializ...     1.028571   \n",
       "Digital Transformation: e-Document                     1.863636   \n",
       "...                                                         ...   \n",
       "เวชศาสตร์ครอบครัวขั้นสูง                               1.125000   \n",
       "เวชศาสตร์ฟื้นฟูสำหรับแพทย์ฝึกอบรมเวชศาสตร์ฟื้นฟ...     1.200000   \n",
       "แปลงจุดแข็ง เป็นคุณค่า สร้างชีวิตสู่ความสุข  (S...     1.600000   \n",
       "แปลงจุดแข็ง เป็นคุณค่า สร้างชีวิตสู่ความสุข (St...     1.619048   \n",
       "“ฟูมฟักทักษะสำคัญในชีวิตและการทำงาน Skills4Life...     1.927273   \n",
       "\n",
       "                                                    Age Education Score  \\\n",
       "Course                                                                    \n",
       "Cancer Epidemiology and Prevention                             1.500000   \n",
       "Coaching Skill : Crafting a New You สำหรับนักศึ...             0.285714   \n",
       "Coaching Skill : Crafting a New You สำหรับบุคลา...             1.410256   \n",
       "Development Studies & Social Research Specializ...             0.914286   \n",
       "Digital Transformation: e-Document                             1.818182   \n",
       "...                                                                 ...   \n",
       "เวชศาสตร์ครอบครัวขั้นสูง                                       1.000000   \n",
       "เวชศาสตร์ฟื้นฟูสำหรับแพทย์ฝึกอบรมเวชศาสตร์ฟื้นฟ...             0.800000   \n",
       "แปลงจุดแข็ง เป็นคุณค่า สร้างชีวิตสู่ความสุข  (S...             1.100000   \n",
       "แปลงจุดแข็ง เป็นคุณค่า สร้างชีวิตสู่ความสุข (St...             1.809524   \n",
       "“ฟูมฟักทักษะสำคัญในชีวิตและการทำงาน Skills4Life...             0.645455   \n",
       "\n",
       "                                                    Enrollment  Payment Score  \\\n",
       "Course                                                                          \n",
       "Cancer Epidemiology and Prevention                    0.500000       8.000000   \n",
       "Coaching Skill : Crafting a New You สำหรับนักศึ...    0.107143       8.000000   \n",
       "Coaching Skill : Crafting a New You สำหรับบุคลา...    0.307692       6.358974   \n",
       "Development Studies & Social Research Specializ...    0.200000       6.885714   \n",
       "Digital Transformation: e-Document                    0.681818       8.000000   \n",
       "...                                                        ...            ...   \n",
       "เวชศาสตร์ครอบครัวขั้นสูง                              0.625000       8.000000   \n",
       "เวชศาสตร์ฟื้นฟูสำหรับแพทย์ฝึกอบรมเวชศาสตร์ฟื้นฟ...    0.000000       8.000000   \n",
       "แปลงจุดแข็ง เป็นคุณค่า สร้างชีวิตสู่ความสุข  (S...    0.566667       8.000000   \n",
       "แปลงจุดแข็ง เป็นคุณค่า สร้างชีวิตสู่ความสุข (St...    0.476190       7.571429   \n",
       "“ฟูมฟักทักษะสำคัญในชีวิตและการทำงาน Skills4Life...    0.090909       7.945455   \n",
       "\n",
       "                                                    Address Score  \n",
       "Course                                                             \n",
       "Cancer Epidemiology and Prevention                       0.000000  \n",
       "Coaching Skill : Crafting a New You สำหรับนักศึ...       2.000000  \n",
       "Coaching Skill : Crafting a New You สำหรับบุคลา...       1.846154  \n",
       "Development Studies & Social Research Specializ...       0.400000  \n",
       "Digital Transformation: e-Document                       0.545455  \n",
       "...                                                           ...  \n",
       "เวชศาสตร์ครอบครัวขั้นสูง                                 0.500000  \n",
       "เวชศาสตร์ฟื้นฟูสำหรับแพทย์ฝึกอบรมเวชศาสตร์ฟื้นฟ...       0.400000  \n",
       "แปลงจุดแข็ง เป็นคุณค่า สร้างชีวิตสู่ความสุข  (S...       1.533333  \n",
       "แปลงจุดแข็ง เป็นคุณค่า สร้างชีวิตสู่ความสุข (St...       1.238095  \n",
       "“ฟูมฟักทักษะสำคัญในชีวิตและการทำงาน Skills4Life...       0.090909  \n",
       "\n",
       "[168 rows x 5 columns]"
      ]
     },
     "execution_count": 35,
     "metadata": {},
     "output_type": "execute_result"
    }
   ],
   "source": [
    "# Take 2 columns from Table\n",
    "course_score = df[['Course', 'Score']]\n",
    "\n",
    "# Sort the course\n",
    "course = df['Course'].sort_values().unique()\n",
    "\n",
    "# Calculate the mean of each course\n",
    "course_mean = course_score.groupby('Course')\n",
    "course_mean = course_mean.mean().loc[:, 'Score']\n",
    "\n",
    "# Take 2 columns from Table\n",
    "course_user = df[['Course', 'User']]\n",
    "\n",
    "# Count the number of users who enrolled each course \n",
    "course_count = course_user.value_counts('Course')\n",
    "course_count = course_count.sort_index()\n",
    "\n",
    "# Take feature columns from Table\n",
    "course_feature = df[['Course', 'Email Score', 'Age Education Score', 'Enrollment', 'Payment Score', 'Address Score']]\n",
    "agg_functions = {\n",
    "    'Email Score': 'mean',\n",
    "    'Age Education Score': 'mean',\n",
    "    'Enrollment': 'mean',\n",
    "    'Payment Score': 'mean',\n",
    "    'Address Score': 'mean',\n",
    "}\n",
    "course_feature = course_feature.groupby('Course').aggregate(agg_functions)\n",
    "course_feature"
   ]
  },
  {
   "cell_type": "markdown",
   "id": "b8f342827b015aa",
   "metadata": {
    "collapsed": false,
    "jupyter": {
     "outputs_hidden": false
    }
   },
   "source": [
    "Create the train dataframe"
   ]
  },
  {
   "cell_type": "code",
   "execution_count": 36,
   "id": "b584c42e911d1ebd",
   "metadata": {
    "ExecuteTime": {
     "end_time": "2023-12-18T18:39:52.295872300Z",
     "start_time": "2023-12-18T18:39:52.035996400Z"
    },
    "collapsed": false,
    "jupyter": {
     "outputs_hidden": false
    }
   },
   "outputs": [
    {
     "data": {
      "text/html": [
       "<div>\n",
       "<style scoped>\n",
       "    .dataframe tbody tr th:only-of-type {\n",
       "        vertical-align: middle;\n",
       "    }\n",
       "\n",
       "    .dataframe tbody tr th {\n",
       "        vertical-align: top;\n",
       "    }\n",
       "\n",
       "    .dataframe thead th {\n",
       "        text-align: right;\n",
       "    }\n",
       "</style>\n",
       "<table border=\"1\" class=\"dataframe\">\n",
       "  <thead>\n",
       "    <tr style=\"text-align: right;\">\n",
       "      <th></th>\n",
       "      <th>Email Score</th>\n",
       "      <th>Age Education Score</th>\n",
       "      <th>Enrollment</th>\n",
       "      <th>Payment Score</th>\n",
       "      <th>Address Score</th>\n",
       "      <th>Count</th>\n",
       "      <th>Score</th>\n",
       "    </tr>\n",
       "    <tr>\n",
       "      <th>Course</th>\n",
       "      <th></th>\n",
       "      <th></th>\n",
       "      <th></th>\n",
       "      <th></th>\n",
       "      <th></th>\n",
       "      <th></th>\n",
       "      <th></th>\n",
       "    </tr>\n",
       "  </thead>\n",
       "  <tbody>\n",
       "    <tr>\n",
       "      <th>Cancer Epidemiology and Prevention</th>\n",
       "      <td>1.000000</td>\n",
       "      <td>1.500000</td>\n",
       "      <td>0.500000</td>\n",
       "      <td>8.000000</td>\n",
       "      <td>0.000000</td>\n",
       "      <td>2</td>\n",
       "      <td>0.733333</td>\n",
       "    </tr>\n",
       "    <tr>\n",
       "      <th>Coaching Skill : Crafting a New You สำหรับนักศึกษา มหาวิทยาลัยเชียงใหม่</th>\n",
       "      <td>1.714286</td>\n",
       "      <td>0.285714</td>\n",
       "      <td>0.107143</td>\n",
       "      <td>8.000000</td>\n",
       "      <td>2.000000</td>\n",
       "      <td>28</td>\n",
       "      <td>0.807143</td>\n",
       "    </tr>\n",
       "    <tr>\n",
       "      <th>Coaching Skill : Crafting a New You สำหรับบุคลากร มหาวิทยาลัยเชียงใหม่</th>\n",
       "      <td>1.692308</td>\n",
       "      <td>1.410256</td>\n",
       "      <td>0.307692</td>\n",
       "      <td>6.358974</td>\n",
       "      <td>1.846154</td>\n",
       "      <td>39</td>\n",
       "      <td>0.774359</td>\n",
       "    </tr>\n",
       "    <tr>\n",
       "      <th>Development Studies &amp; Social Research Specialization 2023</th>\n",
       "      <td>1.028571</td>\n",
       "      <td>0.914286</td>\n",
       "      <td>0.200000</td>\n",
       "      <td>6.885714</td>\n",
       "      <td>0.400000</td>\n",
       "      <td>35</td>\n",
       "      <td>0.628571</td>\n",
       "    </tr>\n",
       "    <tr>\n",
       "      <th>Digital Transformation: e-Document</th>\n",
       "      <td>1.863636</td>\n",
       "      <td>1.818182</td>\n",
       "      <td>0.681818</td>\n",
       "      <td>8.000000</td>\n",
       "      <td>0.545455</td>\n",
       "      <td>22</td>\n",
       "      <td>0.860606</td>\n",
       "    </tr>\n",
       "    <tr>\n",
       "      <th>...</th>\n",
       "      <td>...</td>\n",
       "      <td>...</td>\n",
       "      <td>...</td>\n",
       "      <td>...</td>\n",
       "      <td>...</td>\n",
       "      <td>...</td>\n",
       "      <td>...</td>\n",
       "    </tr>\n",
       "    <tr>\n",
       "      <th>เวชศาสตร์ครอบครัวขั้นสูง</th>\n",
       "      <td>1.125000</td>\n",
       "      <td>1.000000</td>\n",
       "      <td>0.625000</td>\n",
       "      <td>8.000000</td>\n",
       "      <td>0.500000</td>\n",
       "      <td>8</td>\n",
       "      <td>0.750000</td>\n",
       "    </tr>\n",
       "    <tr>\n",
       "      <th>เวชศาสตร์ฟื้นฟูสำหรับแพทย์ฝึกอบรมเวชศาสตร์ฟื้นฟู มหาวิทยาลัยเชียงใหม่</th>\n",
       "      <td>1.200000</td>\n",
       "      <td>0.800000</td>\n",
       "      <td>0.000000</td>\n",
       "      <td>8.000000</td>\n",
       "      <td>0.400000</td>\n",
       "      <td>5</td>\n",
       "      <td>0.693333</td>\n",
       "    </tr>\n",
       "    <tr>\n",
       "      <th>แปลงจุดแข็ง เป็นคุณค่า สร้างชีวิตสู่ความสุข  (Strengths Spotting : Turn on value and bring out the happiness) รุ่นที่ 1</th>\n",
       "      <td>1.600000</td>\n",
       "      <td>1.100000</td>\n",
       "      <td>0.566667</td>\n",
       "      <td>8.000000</td>\n",
       "      <td>1.533333</td>\n",
       "      <td>30</td>\n",
       "      <td>0.853333</td>\n",
       "    </tr>\n",
       "    <tr>\n",
       "      <th>แปลงจุดแข็ง เป็นคุณค่า สร้างชีวิตสู่ความสุข (Strengths Spotting : Turn on value and bring out the happiness) รุ่นที่ 2</th>\n",
       "      <td>1.619048</td>\n",
       "      <td>1.809524</td>\n",
       "      <td>0.476190</td>\n",
       "      <td>7.571429</td>\n",
       "      <td>1.238095</td>\n",
       "      <td>21</td>\n",
       "      <td>0.847619</td>\n",
       "    </tr>\n",
       "    <tr>\n",
       "      <th>“ฟูมฟักทักษะสำคัญในชีวิตและการทำงาน Skills4Life” สำหรับนักศึกษาคณะเภสัชศาสตร์ มหาวิทยาลัยเชียงใหม่</th>\n",
       "      <td>1.927273</td>\n",
       "      <td>0.645455</td>\n",
       "      <td>0.090909</td>\n",
       "      <td>7.945455</td>\n",
       "      <td>0.090909</td>\n",
       "      <td>110</td>\n",
       "      <td>0.713333</td>\n",
       "    </tr>\n",
       "  </tbody>\n",
       "</table>\n",
       "<p>168 rows × 7 columns</p>\n",
       "</div>"
      ],
      "text/plain": [
       "                                                    Email Score  \\\n",
       "Course                                                            \n",
       "Cancer Epidemiology and Prevention                     1.000000   \n",
       "Coaching Skill : Crafting a New You สำหรับนักศึ...     1.714286   \n",
       "Coaching Skill : Crafting a New You สำหรับบุคลา...     1.692308   \n",
       "Development Studies & Social Research Specializ...     1.028571   \n",
       "Digital Transformation: e-Document                     1.863636   \n",
       "...                                                         ...   \n",
       "เวชศาสตร์ครอบครัวขั้นสูง                               1.125000   \n",
       "เวชศาสตร์ฟื้นฟูสำหรับแพทย์ฝึกอบรมเวชศาสตร์ฟื้นฟ...     1.200000   \n",
       "แปลงจุดแข็ง เป็นคุณค่า สร้างชีวิตสู่ความสุข  (S...     1.600000   \n",
       "แปลงจุดแข็ง เป็นคุณค่า สร้างชีวิตสู่ความสุข (St...     1.619048   \n",
       "“ฟูมฟักทักษะสำคัญในชีวิตและการทำงาน Skills4Life...     1.927273   \n",
       "\n",
       "                                                    Age Education Score  \\\n",
       "Course                                                                    \n",
       "Cancer Epidemiology and Prevention                             1.500000   \n",
       "Coaching Skill : Crafting a New You สำหรับนักศึ...             0.285714   \n",
       "Coaching Skill : Crafting a New You สำหรับบุคลา...             1.410256   \n",
       "Development Studies & Social Research Specializ...             0.914286   \n",
       "Digital Transformation: e-Document                             1.818182   \n",
       "...                                                                 ...   \n",
       "เวชศาสตร์ครอบครัวขั้นสูง                                       1.000000   \n",
       "เวชศาสตร์ฟื้นฟูสำหรับแพทย์ฝึกอบรมเวชศาสตร์ฟื้นฟ...             0.800000   \n",
       "แปลงจุดแข็ง เป็นคุณค่า สร้างชีวิตสู่ความสุข  (S...             1.100000   \n",
       "แปลงจุดแข็ง เป็นคุณค่า สร้างชีวิตสู่ความสุข (St...             1.809524   \n",
       "“ฟูมฟักทักษะสำคัญในชีวิตและการทำงาน Skills4Life...             0.645455   \n",
       "\n",
       "                                                    Enrollment  Payment Score  \\\n",
       "Course                                                                          \n",
       "Cancer Epidemiology and Prevention                    0.500000       8.000000   \n",
       "Coaching Skill : Crafting a New You สำหรับนักศึ...    0.107143       8.000000   \n",
       "Coaching Skill : Crafting a New You สำหรับบุคลา...    0.307692       6.358974   \n",
       "Development Studies & Social Research Specializ...    0.200000       6.885714   \n",
       "Digital Transformation: e-Document                    0.681818       8.000000   \n",
       "...                                                        ...            ...   \n",
       "เวชศาสตร์ครอบครัวขั้นสูง                              0.625000       8.000000   \n",
       "เวชศาสตร์ฟื้นฟูสำหรับแพทย์ฝึกอบรมเวชศาสตร์ฟื้นฟ...    0.000000       8.000000   \n",
       "แปลงจุดแข็ง เป็นคุณค่า สร้างชีวิตสู่ความสุข  (S...    0.566667       8.000000   \n",
       "แปลงจุดแข็ง เป็นคุณค่า สร้างชีวิตสู่ความสุข (St...    0.476190       7.571429   \n",
       "“ฟูมฟักทักษะสำคัญในชีวิตและการทำงาน Skills4Life...    0.090909       7.945455   \n",
       "\n",
       "                                                    Address Score  Count  \\\n",
       "Course                                                                     \n",
       "Cancer Epidemiology and Prevention                       0.000000      2   \n",
       "Coaching Skill : Crafting a New You สำหรับนักศึ...       2.000000     28   \n",
       "Coaching Skill : Crafting a New You สำหรับบุคลา...       1.846154     39   \n",
       "Development Studies & Social Research Specializ...       0.400000     35   \n",
       "Digital Transformation: e-Document                       0.545455     22   \n",
       "...                                                           ...    ...   \n",
       "เวชศาสตร์ครอบครัวขั้นสูง                                 0.500000      8   \n",
       "เวชศาสตร์ฟื้นฟูสำหรับแพทย์ฝึกอบรมเวชศาสตร์ฟื้นฟ...       0.400000      5   \n",
       "แปลงจุดแข็ง เป็นคุณค่า สร้างชีวิตสู่ความสุข  (S...       1.533333     30   \n",
       "แปลงจุดแข็ง เป็นคุณค่า สร้างชีวิตสู่ความสุข (St...       1.238095     21   \n",
       "“ฟูมฟักทักษะสำคัญในชีวิตและการทำงาน Skills4Life...       0.090909    110   \n",
       "\n",
       "                                                       Score  \n",
       "Course                                                        \n",
       "Cancer Epidemiology and Prevention                  0.733333  \n",
       "Coaching Skill : Crafting a New You สำหรับนักศึ...  0.807143  \n",
       "Coaching Skill : Crafting a New You สำหรับบุคลา...  0.774359  \n",
       "Development Studies & Social Research Specializ...  0.628571  \n",
       "Digital Transformation: e-Document                  0.860606  \n",
       "...                                                      ...  \n",
       "เวชศาสตร์ครอบครัวขั้นสูง                            0.750000  \n",
       "เวชศาสตร์ฟื้นฟูสำหรับแพทย์ฝึกอบรมเวชศาสตร์ฟื้นฟ...  0.693333  \n",
       "แปลงจุดแข็ง เป็นคุณค่า สร้างชีวิตสู่ความสุข  (S...  0.853333  \n",
       "แปลงจุดแข็ง เป็นคุณค่า สร้างชีวิตสู่ความสุข (St...  0.847619  \n",
       "“ฟูมฟักทักษะสำคัญในชีวิตและการทำงาน Skills4Life...  0.713333  \n",
       "\n",
       "[168 rows x 7 columns]"
      ]
     },
     "execution_count": 36,
     "metadata": {},
     "output_type": "execute_result"
    }
   ],
   "source": [
    "course_feature['Count'] = course_count\n",
    "course_feature['Score'] = course_mean\n",
    "train_df = pd.DataFrame(course_feature)\n",
    "train_df"
   ]
  },
  {
   "cell_type": "markdown",
   "id": "a0e1c30467cab51a",
   "metadata": {
    "collapsed": false,
    "jupyter": {
     "outputs_hidden": false
    }
   },
   "source": [
    "Split the train and the test"
   ]
  },
  {
   "cell_type": "code",
   "execution_count": 37,
   "id": "83e5605b241f020f",
   "metadata": {
    "ExecuteTime": {
     "end_time": "2023-12-18T18:44:43.166472200Z",
     "start_time": "2023-12-18T18:44:43.122671100Z"
    },
    "collapsed": false,
    "jupyter": {
     "outputs_hidden": false
    }
   },
   "outputs": [
    {
     "data": {
      "text/html": [
       "<div>\n",
       "<style scoped>\n",
       "    .dataframe tbody tr th:only-of-type {\n",
       "        vertical-align: middle;\n",
       "    }\n",
       "\n",
       "    .dataframe tbody tr th {\n",
       "        vertical-align: top;\n",
       "    }\n",
       "\n",
       "    .dataframe thead th {\n",
       "        text-align: right;\n",
       "    }\n",
       "</style>\n",
       "<table border=\"1\" class=\"dataframe\">\n",
       "  <thead>\n",
       "    <tr style=\"text-align: right;\">\n",
       "      <th></th>\n",
       "      <th>Email Score</th>\n",
       "      <th>Age Education Score</th>\n",
       "      <th>Enrollment</th>\n",
       "      <th>Payment Score</th>\n",
       "      <th>Address Score</th>\n",
       "      <th>Count</th>\n",
       "    </tr>\n",
       "    <tr>\n",
       "      <th>Course</th>\n",
       "      <th></th>\n",
       "      <th></th>\n",
       "      <th></th>\n",
       "      <th></th>\n",
       "      <th></th>\n",
       "      <th></th>\n",
       "    </tr>\n",
       "  </thead>\n",
       "  <tbody>\n",
       "    <tr>\n",
       "      <th>Cancer Epidemiology and Prevention</th>\n",
       "      <td>1.000000</td>\n",
       "      <td>1.500000</td>\n",
       "      <td>0.500000</td>\n",
       "      <td>8.000000</td>\n",
       "      <td>0.000000</td>\n",
       "      <td>2</td>\n",
       "    </tr>\n",
       "    <tr>\n",
       "      <th>Coaching Skill : Crafting a New You สำหรับนักศึกษา มหาวิทยาลัยเชียงใหม่</th>\n",
       "      <td>1.714286</td>\n",
       "      <td>0.285714</td>\n",
       "      <td>0.107143</td>\n",
       "      <td>8.000000</td>\n",
       "      <td>2.000000</td>\n",
       "      <td>28</td>\n",
       "    </tr>\n",
       "    <tr>\n",
       "      <th>Coaching Skill : Crafting a New You สำหรับบุคลากร มหาวิทยาลัยเชียงใหม่</th>\n",
       "      <td>1.692308</td>\n",
       "      <td>1.410256</td>\n",
       "      <td>0.307692</td>\n",
       "      <td>6.358974</td>\n",
       "      <td>1.846154</td>\n",
       "      <td>39</td>\n",
       "    </tr>\n",
       "    <tr>\n",
       "      <th>Development Studies &amp; Social Research Specialization 2023</th>\n",
       "      <td>1.028571</td>\n",
       "      <td>0.914286</td>\n",
       "      <td>0.200000</td>\n",
       "      <td>6.885714</td>\n",
       "      <td>0.400000</td>\n",
       "      <td>35</td>\n",
       "    </tr>\n",
       "    <tr>\n",
       "      <th>Digital Transformation: e-Document</th>\n",
       "      <td>1.863636</td>\n",
       "      <td>1.818182</td>\n",
       "      <td>0.681818</td>\n",
       "      <td>8.000000</td>\n",
       "      <td>0.545455</td>\n",
       "      <td>22</td>\n",
       "    </tr>\n",
       "    <tr>\n",
       "      <th>...</th>\n",
       "      <td>...</td>\n",
       "      <td>...</td>\n",
       "      <td>...</td>\n",
       "      <td>...</td>\n",
       "      <td>...</td>\n",
       "      <td>...</td>\n",
       "    </tr>\n",
       "    <tr>\n",
       "      <th>เวชศาสตร์ครอบครัวขั้นสูง</th>\n",
       "      <td>1.125000</td>\n",
       "      <td>1.000000</td>\n",
       "      <td>0.625000</td>\n",
       "      <td>8.000000</td>\n",
       "      <td>0.500000</td>\n",
       "      <td>8</td>\n",
       "    </tr>\n",
       "    <tr>\n",
       "      <th>เวชศาสตร์ฟื้นฟูสำหรับแพทย์ฝึกอบรมเวชศาสตร์ฟื้นฟู มหาวิทยาลัยเชียงใหม่</th>\n",
       "      <td>1.200000</td>\n",
       "      <td>0.800000</td>\n",
       "      <td>0.000000</td>\n",
       "      <td>8.000000</td>\n",
       "      <td>0.400000</td>\n",
       "      <td>5</td>\n",
       "    </tr>\n",
       "    <tr>\n",
       "      <th>แปลงจุดแข็ง เป็นคุณค่า สร้างชีวิตสู่ความสุข  (Strengths Spotting : Turn on value and bring out the happiness) รุ่นที่ 1</th>\n",
       "      <td>1.600000</td>\n",
       "      <td>1.100000</td>\n",
       "      <td>0.566667</td>\n",
       "      <td>8.000000</td>\n",
       "      <td>1.533333</td>\n",
       "      <td>30</td>\n",
       "    </tr>\n",
       "    <tr>\n",
       "      <th>แปลงจุดแข็ง เป็นคุณค่า สร้างชีวิตสู่ความสุข (Strengths Spotting : Turn on value and bring out the happiness) รุ่นที่ 2</th>\n",
       "      <td>1.619048</td>\n",
       "      <td>1.809524</td>\n",
       "      <td>0.476190</td>\n",
       "      <td>7.571429</td>\n",
       "      <td>1.238095</td>\n",
       "      <td>21</td>\n",
       "    </tr>\n",
       "    <tr>\n",
       "      <th>“ฟูมฟักทักษะสำคัญในชีวิตและการทำงาน Skills4Life” สำหรับนักศึกษาคณะเภสัชศาสตร์ มหาวิทยาลัยเชียงใหม่</th>\n",
       "      <td>1.927273</td>\n",
       "      <td>0.645455</td>\n",
       "      <td>0.090909</td>\n",
       "      <td>7.945455</td>\n",
       "      <td>0.090909</td>\n",
       "      <td>110</td>\n",
       "    </tr>\n",
       "  </tbody>\n",
       "</table>\n",
       "<p>168 rows × 6 columns</p>\n",
       "</div>"
      ],
      "text/plain": [
       "                                                    Email Score  \\\n",
       "Course                                                            \n",
       "Cancer Epidemiology and Prevention                     1.000000   \n",
       "Coaching Skill : Crafting a New You สำหรับนักศึ...     1.714286   \n",
       "Coaching Skill : Crafting a New You สำหรับบุคลา...     1.692308   \n",
       "Development Studies & Social Research Specializ...     1.028571   \n",
       "Digital Transformation: e-Document                     1.863636   \n",
       "...                                                         ...   \n",
       "เวชศาสตร์ครอบครัวขั้นสูง                               1.125000   \n",
       "เวชศาสตร์ฟื้นฟูสำหรับแพทย์ฝึกอบรมเวชศาสตร์ฟื้นฟ...     1.200000   \n",
       "แปลงจุดแข็ง เป็นคุณค่า สร้างชีวิตสู่ความสุข  (S...     1.600000   \n",
       "แปลงจุดแข็ง เป็นคุณค่า สร้างชีวิตสู่ความสุข (St...     1.619048   \n",
       "“ฟูมฟักทักษะสำคัญในชีวิตและการทำงาน Skills4Life...     1.927273   \n",
       "\n",
       "                                                    Age Education Score  \\\n",
       "Course                                                                    \n",
       "Cancer Epidemiology and Prevention                             1.500000   \n",
       "Coaching Skill : Crafting a New You สำหรับนักศึ...             0.285714   \n",
       "Coaching Skill : Crafting a New You สำหรับบุคลา...             1.410256   \n",
       "Development Studies & Social Research Specializ...             0.914286   \n",
       "Digital Transformation: e-Document                             1.818182   \n",
       "...                                                                 ...   \n",
       "เวชศาสตร์ครอบครัวขั้นสูง                                       1.000000   \n",
       "เวชศาสตร์ฟื้นฟูสำหรับแพทย์ฝึกอบรมเวชศาสตร์ฟื้นฟ...             0.800000   \n",
       "แปลงจุดแข็ง เป็นคุณค่า สร้างชีวิตสู่ความสุข  (S...             1.100000   \n",
       "แปลงจุดแข็ง เป็นคุณค่า สร้างชีวิตสู่ความสุข (St...             1.809524   \n",
       "“ฟูมฟักทักษะสำคัญในชีวิตและการทำงาน Skills4Life...             0.645455   \n",
       "\n",
       "                                                    Enrollment  Payment Score  \\\n",
       "Course                                                                          \n",
       "Cancer Epidemiology and Prevention                    0.500000       8.000000   \n",
       "Coaching Skill : Crafting a New You สำหรับนักศึ...    0.107143       8.000000   \n",
       "Coaching Skill : Crafting a New You สำหรับบุคลา...    0.307692       6.358974   \n",
       "Development Studies & Social Research Specializ...    0.200000       6.885714   \n",
       "Digital Transformation: e-Document                    0.681818       8.000000   \n",
       "...                                                        ...            ...   \n",
       "เวชศาสตร์ครอบครัวขั้นสูง                              0.625000       8.000000   \n",
       "เวชศาสตร์ฟื้นฟูสำหรับแพทย์ฝึกอบรมเวชศาสตร์ฟื้นฟ...    0.000000       8.000000   \n",
       "แปลงจุดแข็ง เป็นคุณค่า สร้างชีวิตสู่ความสุข  (S...    0.566667       8.000000   \n",
       "แปลงจุดแข็ง เป็นคุณค่า สร้างชีวิตสู่ความสุข (St...    0.476190       7.571429   \n",
       "“ฟูมฟักทักษะสำคัญในชีวิตและการทำงาน Skills4Life...    0.090909       7.945455   \n",
       "\n",
       "                                                    Address Score  Count  \n",
       "Course                                                                    \n",
       "Cancer Epidemiology and Prevention                       0.000000      2  \n",
       "Coaching Skill : Crafting a New You สำหรับนักศึ...       2.000000     28  \n",
       "Coaching Skill : Crafting a New You สำหรับบุคลา...       1.846154     39  \n",
       "Development Studies & Social Research Specializ...       0.400000     35  \n",
       "Digital Transformation: e-Document                       0.545455     22  \n",
       "...                                                           ...    ...  \n",
       "เวชศาสตร์ครอบครัวขั้นสูง                                 0.500000      8  \n",
       "เวชศาสตร์ฟื้นฟูสำหรับแพทย์ฝึกอบรมเวชศาสตร์ฟื้นฟ...       0.400000      5  \n",
       "แปลงจุดแข็ง เป็นคุณค่า สร้างชีวิตสู่ความสุข  (S...       1.533333     30  \n",
       "แปลงจุดแข็ง เป็นคุณค่า สร้างชีวิตสู่ความสุข (St...       1.238095     21  \n",
       "“ฟูมฟักทักษะสำคัญในชีวิตและการทำงาน Skills4Life...       0.090909    110  \n",
       "\n",
       "[168 rows x 6 columns]"
      ]
     },
     "execution_count": 37,
     "metadata": {},
     "output_type": "execute_result"
    }
   ],
   "source": [
    "# Get X and y features variables\n",
    "X = train_df[['Email Score', 'Age Education Score', 'Enrollment', 'Payment Score', 'Address Score', 'Count']]\n",
    "y = train_df['Score']\n",
    "\n",
    "# Use the train test split function\n",
    "X_train, X_test, y_train, y_test = train_test_split(\n",
    "    X, y, random_state=10, test_size=0.25\n",
    ")\n",
    "\n",
    "X"
   ]
  },
  {
   "cell_type": "code",
   "execution_count": 38,
   "id": "1ebfde189788d1b0",
   "metadata": {
    "ExecuteTime": {
     "end_time": "2023-12-18T18:39:52.408068500Z",
     "start_time": "2023-12-18T18:39:52.081372400Z"
    },
    "collapsed": false,
    "jupyter": {
     "outputs_hidden": false
    }
   },
   "outputs": [
    {
     "data": {
      "text/plain": [
       "array([0.22751323, 0.68935863, 0.63839597, 0.67287638, 0.63182383,\n",
       "       0.70740741, 0.65555556, 0.86111111, 0.70116402, 0.49363723,\n",
       "       0.73185185, 0.52222222, 0.69539044, 0.78968254, 0.67407407,\n",
       "       0.68844169, 0.85444444, 0.62222222, 0.53614164, 0.65509768,\n",
       "       0.68668936, 0.68951639, 0.65185185, 0.69482657, 0.68055556,\n",
       "       0.7262963 , 0.72075163, 0.65509768, 0.70515873, 0.63182383,\n",
       "       0.65837633, 0.65902993, 0.60987197, 0.72329174, 0.68951639,\n",
       "       0.6818104 , 0.40761905, 0.67756237, 0.22751323, 0.70750678,\n",
       "       0.6       , 0.58827839])"
      ]
     },
     "execution_count": 38,
     "metadata": {},
     "output_type": "execute_result"
    }
   ],
   "source": [
    "regressor = KNeighborsRegressor(n_neighbors=3)\n",
    "regressor.fit(X_train, y_train)\n",
    "predictions = regressor.predict(X_test)\n",
    "predictions"
   ]
  },
  {
   "cell_type": "code",
   "execution_count": 39,
   "id": "d31f84dd1f099bca",
   "metadata": {
    "ExecuteTime": {
     "end_time": "2023-12-18T18:39:53.180956300Z",
     "start_time": "2023-12-18T18:39:52.110328300Z"
    },
    "collapsed": false,
    "jupyter": {
     "outputs_hidden": false
    }
   },
   "outputs": [
    {
     "ename": "NameError",
     "evalue": "name 'mean_squared_error' is not defined",
     "output_type": "error",
     "traceback": [
      "\u001b[0;31m---------------------------------------------------------------------------\u001b[0m",
      "\u001b[0;31mNameError\u001b[0m                                 Traceback (most recent call last)",
      "Cell \u001b[0;32mIn[39], line 1\u001b[0m\n\u001b[0;32m----> 1\u001b[0m \u001b[38;5;28mprint\u001b[39m(\u001b[38;5;124m\"\u001b[39m\u001b[38;5;124mMean Squared Error:\u001b[39m\u001b[38;5;124m\"\u001b[39m, \u001b[43mmean_squared_error\u001b[49m(predictions,y_test))\n\u001b[1;32m      2\u001b[0m \u001b[38;5;28mprint\u001b[39m(\u001b[38;5;124m\"\u001b[39m\u001b[38;5;124mMean Absolute Error:\u001b[39m\u001b[38;5;124m\"\u001b[39m, mean_absolute_error(predictions,y_test))\n",
      "\u001b[0;31mNameError\u001b[0m: name 'mean_squared_error' is not defined"
     ]
    }
   ],
   "source": [
    "print(\"Mean Squared Error:\", mean_squared_error(predictions,y_test))\n",
    "print(\"Mean Absolute Error:\", mean_absolute_error(predictions,y_test))"
   ]
  }
 ],
 "metadata": {
  "kernelspec": {
   "display_name": "Python 3 (ipykernel)",
   "language": "python",
   "name": "python3"
  },
  "language_info": {
   "codemirror_mode": {
    "name": "ipython",
    "version": 3
   },
   "file_extension": ".py",
   "mimetype": "text/x-python",
   "name": "python",
   "nbconvert_exporter": "python",
   "pygments_lexer": "ipython3",
   "version": "3.10.13"
  }
 },
 "nbformat": 4,
 "nbformat_minor": 5
}
