{
 "cells": [
  {
   "cell_type": "code",
   "execution_count": 2,
   "metadata": {},
   "outputs": [],
   "source": [
    "import names\n",
    "import pandas as pd"
   ]
  },
  {
   "cell_type": "markdown",
   "metadata": {},
   "source": [
    "Create a list of names and replace them to people in the dataset"
   ]
  },
  {
   "cell_type": "code",
   "execution_count": 3,
   "metadata": {},
   "outputs": [],
   "source": [
    "df = pd.read_excel('dataset.xlsx')\n",
    "users = df['username'].drop_duplicates().to_list()\n",
    "fake_names = [(user, names.get_full_name()) for user in users]"
   ]
  },
  {
   "cell_type": "code",
   "execution_count": 4,
   "metadata": {},
   "outputs": [],
   "source": [
    "notduplicated_users = df['username']\n",
    "for user, name in fake_names:\n",
    "    notduplicated_users = notduplicated_users.replace(user, name)"
   ]
  },
  {
   "cell_type": "markdown",
   "metadata": {},
   "source": [
    "Take the list of courses and replace them to the courses in the dataset"
   ]
  },
  {
   "cell_type": "code",
   "execution_count": 16,
   "metadata": {},
   "outputs": [],
   "source": [
    "df = pd.read_excel('dataset.xlsx')\n",
    "courses = df['course'].drop_duplicates().to_list()\n",
    "\n",
    "df_coursera = pd.read_csv('Coursera.csv')\n",
    "coursera = df_coursera['Course Name'].to_list()\n",
    "coursera = coursera[: len(courses)]\n",
    "\n",
    "fake_courses = [(course, coursera[i]) for i, course in enumerate(courses)]"
   ]
  },
  {
   "cell_type": "code",
   "execution_count": 17,
   "metadata": {},
   "outputs": [
    {
     "data": {
      "text/plain": [
       "0       Write A Feature Length Screenplay For Film Or ...\n",
       "1       Business Strategy: Business Model Canvas Analy...\n",
       "2       Business Strategy: Business Model Canvas Analy...\n",
       "3                           Silicon Thin Film Solar Cells\n",
       "4       Write A Feature Length Screenplay For Film Or ...\n",
       "                              ...                        \n",
       "6122                                   Privacy in the USA\n",
       "6123                                   Privacy in the USA\n",
       "6124                                   Privacy in the USA\n",
       "6125                                   Privacy in the USA\n",
       "6126                                   Privacy in the USA\n",
       "Name: course, Length: 6127, dtype: object"
      ]
     },
     "execution_count": 17,
     "metadata": {},
     "output_type": "execute_result"
    }
   ],
   "source": [
    "notduplicated_courses = df['course']\n",
    "for course, new_course in fake_courses:\n",
    "    notduplicated_courses = notduplicated_courses.replace(course, new_course)\n",
    "notduplicated_courses"
   ]
  },
  {
   "cell_type": "markdown",
   "metadata": {},
   "source": [
    "Reformat the time in the dataset to a date format"
   ]
  },
  {
   "cell_type": "code",
   "execution_count": null,
   "metadata": {},
   "outputs": [],
   "source": []
  },
  {
   "cell_type": "markdown",
   "metadata": {},
   "source": [
    "Change the payment to an english language"
   ]
  },
  {
   "cell_type": "code",
   "execution_count": null,
   "metadata": {},
   "outputs": [],
   "source": []
  }
 ],
 "metadata": {
  "kernelspec": {
   "display_name": "Python 3",
   "language": "python",
   "name": "python3"
  },
  "language_info": {
   "codemirror_mode": {
    "name": "ipython",
    "version": 3
   },
   "file_extension": ".py",
   "mimetype": "text/x-python",
   "name": "python",
   "nbconvert_exporter": "python",
   "pygments_lexer": "ipython3",
   "version": "3.12.1"
  }
 },
 "nbformat": 4,
 "nbformat_minor": 2
}
