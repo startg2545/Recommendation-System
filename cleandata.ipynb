{
 "cells": [
  {
   "cell_type": "code",
   "execution_count": 204,
   "metadata": {},
   "outputs": [],
   "source": [
    "import names\n",
    "import numpy as np\n",
    "import pandas as pd"
   ]
  },
  {
   "cell_type": "markdown",
   "metadata": {},
   "source": [
    "Create a list of names and replace them to people in the dataset"
   ]
  },
  {
   "cell_type": "code",
   "execution_count": 205,
   "metadata": {},
   "outputs": [],
   "source": [
    "df = pd.read_excel('./uploads/shortcourses2566.xlsx')\n",
    "users = df['username'].drop_duplicates().to_list()\n",
    "fake_names = [(user, names.get_full_name()) for user in users]"
   ]
  },
  {
   "cell_type": "code",
   "execution_count": 206,
   "metadata": {},
   "outputs": [
    {
     "data": {
      "text/plain": [
       "0           Martha Long\n",
       "1          Billy Carter\n",
       "2        Carl Piccinone\n",
       "3        Carl Piccinone\n",
       "4        Rhoda Culligan\n",
       "             ...       \n",
       "6122    Roxanne Pouncil\n",
       "6123      Stephen Wolfe\n",
       "6124          Eric Wall\n",
       "6125    Charles Morvant\n",
       "6126       Cassidy Rice\n",
       "Name: username, Length: 6127, dtype: object"
      ]
     },
     "execution_count": 206,
     "metadata": {},
     "output_type": "execute_result"
    }
   ],
   "source": [
    "notduplicated_users = df['username']\n",
    "for user, name in fake_names:\n",
    "    notduplicated_users = notduplicated_users.replace(user, name)\n",
    "\n",
    "# Successfully replaced usernames with fake names\n",
    "notduplicated_users"
   ]
  },
  {
   "cell_type": "markdown",
   "metadata": {},
   "source": [
    "Take the list of courses and replace them to the courses in the dataset"
   ]
  },
  {
   "cell_type": "code",
   "execution_count": 207,
   "metadata": {},
   "outputs": [],
   "source": [
    "courses = df['course'].drop_duplicates()\n",
    "\n",
    "df_coursera = pd.read_csv('Coursera.csv')\n",
    "coursera = df_coursera['Course Name']"
   ]
  },
  {
   "cell_type": "code",
   "execution_count": 208,
   "metadata": {},
   "outputs": [],
   "source": [
    "from sklearn.feature_extraction.text import TfidfVectorizer\n",
    "from sklearn.metrics.pairwise import cosine_similarity\n",
    "\n",
    "# Convert courses and coursera into TF-IDF vectors\n",
    "tfidf_vectorizer = TfidfVectorizer()\n",
    "courses_tfidf = tfidf_vectorizer.fit_transform(courses)\n",
    "coursera_tfidf = tfidf_vectorizer.transform(coursera)\n",
    "\n",
    "# Calculate the cosine similarity\n",
    "cosine_sim = cosine_similarity(courses_tfidf, coursera_tfidf)\n",
    "\n",
    "# Take the highest cosine similarity for each course in the matrix called cosine_sim and store it in a list called best_courses\n",
    "similar_coursera = []\n",
    "for i in range(len(courses)):\n",
    "    similar_coursera.append(coursera[cosine_sim[i].argmax()])\n",
    "\n",
    "fake_courses = [(course, similar_coursera[i]) for i, course in enumerate(courses)]"
   ]
  },
  {
   "cell_type": "code",
   "execution_count": 209,
   "metadata": {},
   "outputs": [
    {
     "data": {
      "text/plain": [
       "0       Build Basic Generative Adversarial Networks (G...\n",
       "1        Emergency Care: Pregnancy, Infants, and Children\n",
       "2        Emergency Care: Pregnancy, Infants, and Children\n",
       "3       Non-Equilibrium Applications of Statistical Th...\n",
       "4       Build Basic Generative Adversarial Networks (G...\n",
       "                              ...                        \n",
       "6122    Addiction Treatment: Clinical Skills for Healt...\n",
       "6123    Addiction Treatment: Clinical Skills for Healt...\n",
       "6124    Addiction Treatment: Clinical Skills for Healt...\n",
       "6125    Addiction Treatment: Clinical Skills for Healt...\n",
       "6126    Addiction Treatment: Clinical Skills for Healt...\n",
       "Name: course, Length: 6127, dtype: object"
      ]
     },
     "execution_count": 209,
     "metadata": {},
     "output_type": "execute_result"
    }
   ],
   "source": [
    "notduplicated_courses = df['course']\n",
    "for course, coursera in fake_courses:\n",
    "    notduplicated_courses = notduplicated_courses.replace(course, coursera)\n",
    "\n",
    "# Successfully replaced courses by new course\n",
    "notduplicated_courses"
   ]
  },
  {
   "cell_type": "markdown",
   "metadata": {},
   "source": [
    "Reformat the time in the dataset to a date format"
   ]
  },
  {
   "cell_type": "code",
   "execution_count": 210,
   "metadata": {},
   "outputs": [
    {
     "data": {
      "text/plain": [
       "0        2566-01-1 08:30:00\n",
       "1        2566-01-1 10:48:00\n",
       "2        2566-01-1 16:31:00\n",
       "3        2566-01-1 16:33:00\n",
       "4        2566-01-1 22:14:00\n",
       "               ...         \n",
       "6122    2566-11-12 21:40:00\n",
       "6123    2566-11-12 21:48:00\n",
       "6124    2566-11-12 21:53:00\n",
       "6125    2566-11-12 23:20:00\n",
       "6126    2566-11-13 00:21:00\n",
       "Length: 6127, dtype: object"
      ]
     },
     "execution_count": 210,
     "metadata": {},
     "output_type": "execute_result"
    }
   ],
   "source": [
    "date = df['date']\n",
    "\n",
    "def reformat_month(month):\n",
    "    month_th = ['ม.ค.', 'ก.พ.', 'มี.ค.', 'เม.ย.', 'พ.ค.', 'มิ.ย.', 'ก.ค.', 'ส.ค.', 'ก.ย.', 'ต.ค.', 'พ.ย.', 'ธ.ค.']\n",
    "    month_en = ['01', '02', '03', '04', '05', '06', '07', '08', '09', '10', '11', '12']\n",
    "    return month_en[month_th.index(month)]\n",
    "\n",
    "reformat_date = []\n",
    "for i, t in enumerate(date):\n",
    "    list_date = t.split(' ')\n",
    "    day = list_date[0]\n",
    "    month = reformat_month(list_date[1])\n",
    "    year = list_date[2][: 4]\n",
    "    time = list_date[2][4:]\n",
    "    date_str = f'{year}-{month}-{day} {time}:00'\n",
    "    reformat_date.append(date_str)\n",
    "\n",
    "reformat_date = pd.Series(reformat_date)\n",
    "\n",
    "# Successfully changed string type to datetime\n",
    "reformat_date"
   ]
  },
  {
   "cell_type": "markdown",
   "metadata": {},
   "source": [
    "Change the payment to an english language"
   ]
  },
  {
   "cell_type": "code",
   "execution_count": 211,
   "metadata": {},
   "outputs": [
    {
     "data": {
      "text/plain": [
       "0       success\n",
       "1       success\n",
       "2       success\n",
       "3       success\n",
       "4       success\n",
       "         ...   \n",
       "6122    success\n",
       "6123    success\n",
       "6124    success\n",
       "6125    success\n",
       "6126    success\n",
       "Name: payment, Length: 6127, dtype: object"
      ]
     },
     "execution_count": 211,
     "metadata": {},
     "output_type": "execute_result"
    }
   ],
   "source": [
    "conditions = {\n",
    "    'ชำระเงิน': 'success',\n",
    "    'ค้างชำระ': 'failure',\n",
    "    'ไม่ผ่านการอนุมัติ': 'disapproval'\n",
    "\n",
    "}\n",
    "payment = df['payment'].replace(conditions)\n",
    "\n",
    "# Successfully replaced payment status\n",
    "payment"
   ]
  },
  {
   "cell_type": "markdown",
   "metadata": {},
   "source": [
    "Change the degree to an english language"
   ]
  },
  {
   "cell_type": "code",
   "execution_count": 212,
   "metadata": {},
   "outputs": [],
   "source": [
    "set_nan = {'อื่นๆ (-)', np.nan}\n",
    "set_primaryschool = {'ประถมศึกษา', 'อื่นๆ (ป.4)', 'อื่นๆ (ป.7)', 'อื่นๆ (ป7)'}\n",
    "set_middleschool = {'มัธยมศึกษาตอนต้น', 'Secondary school', 'อื่นๆ (มศ.3)'}\n",
    "set_highschool = {'มัธยมศึกษาตอนปลาย', 'High school', 'Vocational', 'การศึกษานอกระบบ', \n",
    "                  'ประกาศนียบัตรวิชาชีพ (ปวช.)', 'อื่นๆ (ม.ปลาย จบหลักสูตรEMR เป็นจนท.ปฏิบัติการ)',\n",
    "                  'อื่นๆ (กำลังศึกษาชั้นมัธยมศึกษาตอนปลาย)', 'อื่นๆ (กำลังศึกษาชั้นมัธยมศึกษาปีที่6)', \n",
    "                  'อื่นๆ (มศ.5)'}\n",
    "set_bachelor = {'ปริญญาตรี', 'Bachelor degree', 'Diploma', 'High Vocational', \n",
    "                'ประกาศนียบัตรวิชาชีพชั้นสูง (ปวส.)', 'อื่นๆ (กำลังศึกษาในระดับปริญญาตรี)', \n",
    "                'อื่นๆ (กำลังศึกษาปริญญาตรี สาขารังสีเทคนิค)', 'อื่นๆ (ปริญญาแพทยศาสตร์บัณฑิต)', \n",
    "                'อื่นๆ (นักศึกษาแพทย์ปี 5)', 'อื่นๆ (นักศึกษาแพทย์ มช ปี4 ศูนย์เชียงราย)', \n",
    "                'อื่นๆ (แพทยศาสตร์บัณฑิต)', 'อื่นๆ (แพทย์)', 'อื่นๆ (ประกาศณียบัตรผู้ช่วยพยาบาล)', \n",
    "                'อนุปริญญา', 'อื่นๆ (ป.ตรี)', 'อื่นๆ (ผู้ช่วยพยาบาล)'}\n",
    "set_master = {'ปริญญาโท', \"Master's degree\", 'Other (OBGYN specalist lavel 1)', \n",
    "                'Other (Residency)', 'อื่นๆ (Internal Medicine)', }\n",
    "\n",
    "set_phd = {'ปริญญาเอก', 'Ph.D.', 'อื่นๆ (เฉพาะทาง)', 'อื่นๆ (วุฒิบัตร)', 'อื่นๆ (วว.ออร์โธปิดิกส์)', \n",
    "                    'อื่นๆ (วุฒิบัตรแสดงความรู้ความชำนาญในการประกอบวิชาชีพเภสัชกรรม สาขาเภสัชบำบัด)', \n",
    "                    'อื่นๆ (วุฒิบัตรผู้เชี่ยวชาญสาขาทันตกรรมทั่วไป)', 'อื่นๆ (วุฒิบัตรศัลยศาสตร์และแม็กซิลโลเฟเชียล)'}"
   ]
  },
  {
   "cell_type": "code",
   "execution_count": 213,
   "metadata": {},
   "outputs": [
    {
     "data": {
      "text/plain": [
       "0       Middle school level\n",
       "1           Bachelor degree\n",
       "2           Bachelor degree\n",
       "3           Bachelor degree\n",
       "4           Bachelor degree\n",
       "               ...         \n",
       "6122        Bachelor degree\n",
       "6123      High school level\n",
       "6124        Bachelor degree\n",
       "6125      High school level\n",
       "6126        Bachelor degree\n",
       "Name: education, Length: 6127, dtype: object"
      ]
     },
     "execution_count": 213,
     "metadata": {},
     "output_type": "execute_result"
    }
   ],
   "source": [
    "education = df['education']\n",
    "education = education.replace(set_nan, 'None')\n",
    "education = education.replace(set_primaryschool, 'Primary school level')\n",
    "education = education.replace(set_middleschool, 'Middle school level')\n",
    "education = education.replace(set_highschool, 'High school level')\n",
    "education = education.replace(set_bachelor, 'Bachelor degree')\n",
    "education = education.replace(set_master, 'Master degree')\n",
    "education = education.replace(set_phd, 'Doctor degree')\n",
    "\n",
    "# Sucessfully replaced the education\n",
    "education"
   ]
  },
  {
   "cell_type": "code",
   "execution_count": 214,
   "metadata": {},
   "outputs": [
    {
     "data": {
      "text/plain": [
       "0                  NaN\n",
       "1       Filled address\n",
       "2                  NaN\n",
       "3                  NaN\n",
       "4                  NaN\n",
       "             ...      \n",
       "6122               NaN\n",
       "6123               NaN\n",
       "6124               NaN\n",
       "6125               NaN\n",
       "6126               NaN\n",
       "Length: 6127, dtype: object"
      ]
     },
     "execution_count": 214,
     "metadata": {},
     "output_type": "execute_result"
    }
   ],
   "source": [
    "df = pd.read_excel('./uploads/shortcourses2566.xlsx')\n",
    "address = df['address']\n",
    "address = pd.Series([ np.nan if str(data) == 'nan' else 'Filled address' for data in address])\n",
    "\n",
    "# Successfully replaced the address\n",
    "address"
   ]
  },
  {
   "cell_type": "markdown",
   "metadata": {},
   "source": [
    "Create a new dataset"
   ]
  },
  {
   "cell_type": "code",
   "execution_count": 242,
   "metadata": {},
   "outputs": [
    {
     "data": {
      "text/plain": [
       "0       gamil.com\n",
       "1       gmail.com\n",
       "2       gmail.com\n",
       "3       gmail.com\n",
       "4       gmail.com\n",
       "          ...    \n",
       "6122    cmu.ac.th\n",
       "6123    cmu.ac.th\n",
       "6124    cmu.ac.th\n",
       "6125    cmu.ac.th\n",
       "6126    cmu.ac.th\n",
       "Name: 1, Length: 6127, dtype: object"
      ]
     },
     "execution_count": 242,
     "metadata": {},
     "output_type": "execute_result"
    }
   ],
   "source": [
    "email = df['email']\n",
    "\n",
    "# Split @ into 2 parts\n",
    "email = email.str.split('@', expand=True)[1]\n",
    "\n",
    "# Successfully replaced the email with only domain\n",
    "email"
   ]
  },
  {
   "cell_type": "code",
   "execution_count": null,
   "metadata": {},
   "outputs": [],
   "source": [
    "# Create a new dataframe\n",
    "data = {\n",
    "    'username': notduplicated_users, # Correct\n",
    "    'education': education, # Correct\n",
    "    'age': df['age'], # Correct\n",
    "    'email': email, # Correct\n",
    "    'address': address, # Correct\n",
    "    'course': notduplicated_courses, # Correct\n",
    "    'time': reformat_date, # Correct\n",
    "    'payment': payment, # Correct\n",
    "}\n",
    "df = pd.DataFrame(data)\n",
    "\n",
    "# Save the dataframe to an Excel file\n",
    "df.to_excel('dataset.xlsx', index=False)"
   ]
  }
 ],
 "metadata": {
  "kernelspec": {
   "display_name": "Python 3",
   "language": "python",
   "name": "python3"
  },
  "language_info": {
   "codemirror_mode": {
    "name": "ipython",
    "version": 3
   },
   "file_extension": ".py",
   "mimetype": "text/x-python",
   "name": "python",
   "nbconvert_exporter": "python",
   "pygments_lexer": "ipython3",
   "version": "3.12.1"
  }
 },
 "nbformat": 4,
 "nbformat_minor": 2
}
