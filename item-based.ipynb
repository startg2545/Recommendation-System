{
 "cells": [
  {
   "cell_type": "raw",
   "source": [
    "Import required packages"
   ],
   "metadata": {
    "collapsed": false
   },
   "id": "639a1244d2ad81f7"
  },
  {
   "cell_type": "code",
   "execution_count": 2,
   "outputs": [],
   "source": [
    "import pandas as pd\n",
    "import numpy as np\n",
    "from sklearn.metrics.pairwise import linear_kernel\n",
    "from copy import deepcopy\n",
    "from scipy.spatial.distance import pdist, squareform\n",
    "import matplotlib.pyplot as plt"
   ],
   "metadata": {
    "collapsed": false,
    "ExecuteTime": {
     "end_time": "2023-11-23T14:43:56.843307Z",
     "start_time": "2023-11-23T14:43:53.801366200Z"
    }
   },
   "id": "717613d4faba66ed"
  },
  {
   "cell_type": "markdown",
   "source": [
    "Read the file"
   ],
   "metadata": {
    "collapsed": false
   },
   "id": "c2b13e97e12315ae"
  },
  {
   "cell_type": "code",
   "execution_count": 3,
   "outputs": [],
   "source": [
    "file = pd.read_excel('shortcourses2566.xlsx')"
   ],
   "metadata": {
    "collapsed": false,
    "ExecuteTime": {
     "end_time": "2023-11-23T14:43:59.194199200Z",
     "start_time": "2023-11-23T14:43:56.841104900Z"
    }
   },
   "id": "dc6b2bbbd8654b6b"
  },
  {
   "cell_type": "markdown",
   "source": [
    "Create Series of users"
   ],
   "metadata": {
    "collapsed": false
   },
   "id": "cafa70e83b149285"
  },
  {
   "cell_type": "code",
   "execution_count": 4,
   "outputs": [
    {
     "data": {
      "text/plain": "0             PORPHAING JANTIP\n1         THANAKORN DARASRISAK\n2             KARNJANA EAMTANG\n3             KARNJANA EAMTANG\n4       THITIMUN VORATHONGCHAI\n                 ...          \n6122         KITTINON SANTASUP\n6123      WITTAWAT SERMSRIPONG\n6124               NON NAKKARA\n6125         PHATTHARAPHON LIN\n6126      THANAPAT SEEMAKAJOHN\nName: Users, Length: 6127, dtype: object"
     },
     "execution_count": 4,
     "metadata": {},
     "output_type": "execute_result"
    }
   ],
   "source": [
    "s_name = file.loc[:, 'ชื่อ-นามสกุล (อังกฤษ)']\n",
    "Users = pd.Series(s_name, name='Users')\n",
    "Users"
   ],
   "metadata": {
    "collapsed": false,
    "ExecuteTime": {
     "end_time": "2023-11-23T14:43:59.220338900Z",
     "start_time": "2023-11-23T14:43:59.194199200Z"
    }
   },
   "id": "8d45c4c54a0d9363"
  },
  {
   "cell_type": "markdown",
   "source": [
    "Create Series of emails"
   ],
   "metadata": {
    "collapsed": false
   },
   "id": "de9c6e6e2e3fd2c5"
  },
  {
   "cell_type": "code",
   "execution_count": 5,
   "outputs": [
    {
     "data": {
      "text/plain": "0            tanghaoren17@gamil.com\n1               tuakung21@gmail.com\n2            karnjana.aon@gmail.com\n3            karnjana.aon@gmail.com\n4          thitimun.rama1@gmail.com\n                   ...             \n6122           kittinon_s@cmu.ac.th\n6123        wittawat_serm@cmu.ac.th\n6124          non_nakkara@cmu.ac.th\n6125    phattharaphon_lin@cmu.ac.th\n6126         thanapat_see@cmu.ac.th\nName: Emails, Length: 6127, dtype: object"
     },
     "execution_count": 5,
     "metadata": {},
     "output_type": "execute_result"
    }
   ],
   "source": [
    "s_email = file.loc[:, 'อีเมล'].fillna(\"\")\n",
    "Emails = pd.Series(s_email ,name='Emails')\n",
    "Emails\n"
   ],
   "metadata": {
    "collapsed": false,
    "ExecuteTime": {
     "end_time": "2023-11-23T14:43:59.262563Z",
     "start_time": "2023-11-23T14:43:59.213815100Z"
    }
   },
   "id": "c46f1feb1fec2cc6"
  },
  {
   "cell_type": "markdown",
   "source": [
    "Provide a score to each user based on their email domain"
   ],
   "metadata": {
    "collapsed": false
   },
   "id": "107019d623f4cc55"
  },
  {
   "cell_type": "code",
   "execution_count": 6,
   "outputs": [
    {
     "data": {
      "text/plain": "0       1\n1       1\n2       1\n3       1\n4       1\n       ..\n6122    2\n6123    2\n6124    2\n6125    2\n6126    2\nName: Score Emails, Length: 6127, dtype: int64"
     },
     "execution_count": 6,
     "metadata": {},
     "output_type": "execute_result"
    }
   ],
   "source": [
    "email_score = []\n",
    "for data in Emails:\n",
    "    if data != '':\n",
    "        if data.split('@')[1] == 'cmu.ac.th':\n",
    "            email_score.append(2)\n",
    "        else:\n",
    "            email_score.append(1)\n",
    "    else:\n",
    "        email_score.append(0)\n",
    "email_score = pd.Series(email_score, name='Score Emails')\n",
    "email_score"
   ],
   "metadata": {
    "collapsed": false,
    "ExecuteTime": {
     "end_time": "2023-11-23T14:43:59.287122400Z",
     "start_time": "2023-11-23T14:43:59.231067500Z"
    }
   },
   "id": "b275bd947237ec8c"
  },
  {
   "cell_type": "markdown",
   "source": [
    "Create function to calculate age-education score"
   ],
   "metadata": {
    "collapsed": false
   },
   "id": "a11d7e6897a6f859"
  },
  {
   "cell_type": "code",
   "execution_count": 7,
   "outputs": [],
   "source": [
    "def getAgeEducationScore(age, limit_age):\n",
    "    if age <= limit_age:\n",
    "        score = 1\n",
    "    else:\n",
    "        score = 3\n",
    "    return score"
   ],
   "metadata": {
    "collapsed": false,
    "ExecuteTime": {
     "end_time": "2023-11-23T14:43:59.288124300Z",
     "start_time": "2023-11-23T14:43:59.253591Z"
    }
   },
   "id": "364036364a866598"
  },
  {
   "cell_type": "markdown",
   "source": [
    "Create Series of Age-Education"
   ],
   "metadata": {
    "collapsed": false
   },
   "id": "383f28c6a996f51e"
  },
  {
   "cell_type": "code",
   "execution_count": 8,
   "outputs": [
    {
     "name": "stdout",
     "output_type": "stream",
     "text": [
      "6127\n"
     ]
    }
   ],
   "source": [
    "ages = file.loc[:, 'อายุ']\n",
    "educations = file.loc[:, 'วุฒิการศึกษา']\n",
    "age_education_scores = []\n",
    "# check output length of age_education_scores until it has 6127\n",
    "for i,x in enumerate(educations):\n",
    "    if  x == 'อื่นๆ (-)' or pd.isna(x) :\n",
    "        age_education_scores.append(getAgeEducationScore(ages[i], 0))\n",
    "    elif x == 'ประถมศึกษา' or x == 'อื่นๆ (ป.4)' or x == 'อื่นๆ (ป.7)' or x == 'อื่นๆ (ป7)':\n",
    "        age_education_scores.append(getAgeEducationScore(ages[i], 16))\n",
    "    elif x == 'มัธยมศึกษาตอนต้น' or x == 'Secondary school' or x == 'อื่นๆ (มศ.3)':\n",
    "        age_education_scores.append(getAgeEducationScore(ages[i], 19))\n",
    "    elif x == 'มัธยมศึกษาตอนปลาย' or x == 'High school' or x == 'Vocational' or x == 'การศึกษานอกระบบ' \\\n",
    "            or x == 'ประกาศนียบัตรวิชาชีพ (ปวช.)' or x == 'อื่นๆ (ม.ปลาย จบหลักสูตรEMR เป็นจนท.ปฏิบัติการ)' \\\n",
    "            or x == 'อื่นๆ (กำลังศึกษาชั้นมัธยมศึกษาตอนปลาย)' or x == 'อื่นๆ (กำลังศึกษาชั้นมัธยมศึกษาปีที่6)' \\\n",
    "            or x == 'อื่นๆ (มศ.5)' :\n",
    "        age_education_scores.append(getAgeEducationScore(ages[i], 22))\n",
    "    elif x == 'ปริญญาตรี' or x == 'Bachelor degree' or x == 'Diploma' or x == 'High Vocational' \\\n",
    "            or x == 'ประกาศนียบัตรวิชาชีพชั้นสูง (ปวส.)' or x == 'อื่นๆ (กำลังศึกษาในระดับปริญญาตรี)' \\\n",
    "            or x == 'อื่นๆ (กำลังศึกษาปริญญาตรี สาขารังสีเทคนิค)' or x == 'อื่นๆ (ปริญญาแพทยศาสตร์บัณฑิต)' \\\n",
    "            or x == 'อื่นๆ (นักศึกษาแพทย์ปี 5)' or x == 'อื่นๆ (นักศึกษาแพทย์ มช ปี4 ศูนย์เชียงราย)' \\\n",
    "            or x == 'อื่นๆ (แพทยศาสตร์บัณฑิต)' or x == 'อื่นๆ (แพทย์)'  or x == 'อื่นๆ (ประกาศณียบัตรผู้ช่วยพยาบาล)' \\\n",
    "            or x == 'อนุปริญญา' or x == 'อื่นๆ (ป.ตรี)' or x == 'อื่นๆ (ผู้ช่วยพยาบาล)':\n",
    "        age_education_scores.append(getAgeEducationScore(ages[i], 26))\n",
    "    elif x == 'ปริญญาโท' or x == 'ปริญญาเอก' or x == \"Master's degree\" or x == 'Other (OBGYN specalist lavel 1)' \\\n",
    "            or x == 'Other (Residency)' or x == 'Ph.D.' or x == 'อื่นๆ (Internal Medicine)' \\\n",
    "            or x == 'อื่นๆ (เฉพาะทาง)' or x == ('อื่นๆ (วุฒิบัตร)') or x == 'อื่นๆ (วว.ออร์โธปิดิกส์)' \\\n",
    "            or x == 'อื่นๆ (วุฒิบัตรแสดงความรู้ความชำนาญในการประกอบวิชาชีพเภสัชกรรม สาขาเภสัชบำบัด)' \\\n",
    "            or x == 'อื่นๆ (วุฒิบัตรผู้เชี่ยวชาญสาขาทันตกรรมทั่วไป)' or x == 'อื่นๆ (วุฒิบัตรศัลยศาสตร์และแม็กซิลโลเฟเชียล)':\n",
    "        age_education_scores.append(getAgeEducationScore(ages[i], 40))\n",
    "print(len(age_education_scores))"
   ],
   "metadata": {
    "collapsed": false,
    "ExecuteTime": {
     "end_time": "2023-11-23T14:43:59.366283900Z",
     "start_time": "2023-11-23T14:43:59.273082200Z"
    }
   },
   "id": "45e99acd68c9e77"
  },
  {
   "cell_type": "markdown",
   "source": [
    "Create Series of status"
   ],
   "metadata": {
    "collapsed": false
   },
   "id": "590ed4309726a494"
  },
  {
   "cell_type": "code",
   "execution_count": 9,
   "outputs": [],
   "source": [
    "status = file.loc[:, 'สถานะ'].fillna(\"\")\n",
    "status = pd.Series(status ,name='status')"
   ],
   "metadata": {
    "collapsed": false,
    "ExecuteTime": {
     "end_time": "2023-11-23T14:43:59.367292200Z",
     "start_time": "2023-11-23T14:43:59.326639500Z"
    }
   },
   "id": "138e98575332aa8"
  },
  {
   "cell_type": "markdown",
   "source": [
    "Provide a score to each user based on their purchase status"
   ],
   "metadata": {
    "collapsed": false
   },
   "id": "25fa97401f1ad07b"
  },
  {
   "cell_type": "code",
   "execution_count": 10,
   "outputs": [],
   "source": [
    "status_score = []\n",
    "for x in status:\n",
    "    if x == 'ชำระเงิน':\n",
    "        status_score.append(8)\n",
    "    if x == 'ไม่ผ่านการอนุมัติ':\n",
    "        status_score.append(7)\n",
    "    if x == 'ค้างชำระ':\n",
    "        status_score.append(5)"
   ],
   "metadata": {
    "collapsed": false,
    "ExecuteTime": {
     "end_time": "2023-11-23T14:43:59.385498Z",
     "start_time": "2023-11-23T14:43:59.338563100Z"
    }
   },
   "id": "c64c742d8df7b574"
  },
  {
   "cell_type": "markdown",
   "source": [
    "Create Series of address"
   ],
   "metadata": {
    "collapsed": false
   },
   "id": "7c6c7328e2f4501c"
  },
  {
   "cell_type": "code",
   "execution_count": 11,
   "outputs": [],
   "source": [
    "address = file.loc[:, 'ที่อยู่'].fillna(\"\")\n",
    "address = pd.Series(address ,name='status')"
   ],
   "metadata": {
    "collapsed": false,
    "ExecuteTime": {
     "end_time": "2023-11-23T14:43:59.386492500Z",
     "start_time": "2023-11-23T14:43:59.350282500Z"
    }
   },
   "id": "88a0f4cc7126c70a"
  },
  {
   "cell_type": "markdown",
   "source": [
    "Provide a score to each user based on their providing address information or not"
   ],
   "metadata": {
    "collapsed": false
   },
   "id": "6d61df31a62dcfd"
  },
  {
   "cell_type": "code",
   "execution_count": 18,
   "outputs": [],
   "source": [
    "address_score = []\n",
    "for x in address:\n",
    "    if x == \"\":\n",
    "        address_score.append(3)\n",
    "    else:\n",
    "        address_score.append(4)"
   ],
   "metadata": {
    "collapsed": false,
    "ExecuteTime": {
     "end_time": "2023-11-23T14:45:33.629231300Z",
     "start_time": "2023-11-23T14:45:33.616211300Z"
    }
   },
   "id": "3157f57133f58f5d"
  },
  {
   "cell_type": "markdown",
   "source": [
    "Convert list to pandas series"
   ],
   "metadata": {
    "collapsed": false
   },
   "id": "42ac704c83ce6743"
  },
  {
   "cell_type": "code",
   "execution_count": 13,
   "outputs": [],
   "source": [
    "email_score = pd.Series(email_score)\n",
    "# age_education_scores = pd.Series(age_education_scores)\n",
    "status_score = pd.Series(status_score, name='Payment Score')\n",
    "address_score = pd.Series(address_score, name='Address Score')"
   ],
   "metadata": {
    "collapsed": false,
    "ExecuteTime": {
     "end_time": "2023-11-23T14:43:59.500285600Z",
     "start_time": "2023-11-23T14:43:59.382493700Z"
    }
   },
   "id": "6c8be936222867fd"
  },
  {
   "cell_type": "markdown",
   "source": [
    "Create DataFrame by merging these 4 Series and calculate impressive level"
   ],
   "metadata": {
    "collapsed": false
   },
   "id": "37c06828f87d6a83"
  },
  {
   "cell_type": "code",
   "execution_count": 14,
   "outputs": [
    {
     "data": {
      "text/plain": "      Email Score  Payment Score  Address Score  Point  Impressive Level\n0               1              8              3     12            0.7500\n1               1              8              4     13            0.8125\n2               1              8              3     12            0.7500\n3               1              8              3     12            0.7500\n4               1              8              3     12            0.7500\n...           ...            ...            ...    ...               ...\n6122            2              8              3     13            0.8125\n6123            2              8              3     13            0.8125\n6124            2              8              3     13            0.8125\n6125            2              8              3     13            0.8125\n6126            2              8              3     13            0.8125\n\n[6127 rows x 5 columns]",
      "text/html": "<div>\n<style scoped>\n    .dataframe tbody tr th:only-of-type {\n        vertical-align: middle;\n    }\n\n    .dataframe tbody tr th {\n        vertical-align: top;\n    }\n\n    .dataframe thead th {\n        text-align: right;\n    }\n</style>\n<table border=\"1\" class=\"dataframe\">\n  <thead>\n    <tr style=\"text-align: right;\">\n      <th></th>\n      <th>Email Score</th>\n      <th>Payment Score</th>\n      <th>Address Score</th>\n      <th>Point</th>\n      <th>Impressive Level</th>\n    </tr>\n  </thead>\n  <tbody>\n    <tr>\n      <th>0</th>\n      <td>1</td>\n      <td>8</td>\n      <td>3</td>\n      <td>12</td>\n      <td>0.7500</td>\n    </tr>\n    <tr>\n      <th>1</th>\n      <td>1</td>\n      <td>8</td>\n      <td>4</td>\n      <td>13</td>\n      <td>0.8125</td>\n    </tr>\n    <tr>\n      <th>2</th>\n      <td>1</td>\n      <td>8</td>\n      <td>3</td>\n      <td>12</td>\n      <td>0.7500</td>\n    </tr>\n    <tr>\n      <th>3</th>\n      <td>1</td>\n      <td>8</td>\n      <td>3</td>\n      <td>12</td>\n      <td>0.7500</td>\n    </tr>\n    <tr>\n      <th>4</th>\n      <td>1</td>\n      <td>8</td>\n      <td>3</td>\n      <td>12</td>\n      <td>0.7500</td>\n    </tr>\n    <tr>\n      <th>...</th>\n      <td>...</td>\n      <td>...</td>\n      <td>...</td>\n      <td>...</td>\n      <td>...</td>\n    </tr>\n    <tr>\n      <th>6122</th>\n      <td>2</td>\n      <td>8</td>\n      <td>3</td>\n      <td>13</td>\n      <td>0.8125</td>\n    </tr>\n    <tr>\n      <th>6123</th>\n      <td>2</td>\n      <td>8</td>\n      <td>3</td>\n      <td>13</td>\n      <td>0.8125</td>\n    </tr>\n    <tr>\n      <th>6124</th>\n      <td>2</td>\n      <td>8</td>\n      <td>3</td>\n      <td>13</td>\n      <td>0.8125</td>\n    </tr>\n    <tr>\n      <th>6125</th>\n      <td>2</td>\n      <td>8</td>\n      <td>3</td>\n      <td>13</td>\n      <td>0.8125</td>\n    </tr>\n    <tr>\n      <th>6126</th>\n      <td>2</td>\n      <td>8</td>\n      <td>3</td>\n      <td>13</td>\n      <td>0.8125</td>\n    </tr>\n  </tbody>\n</table>\n<p>6127 rows × 5 columns</p>\n</div>"
     },
     "execution_count": 14,
     "metadata": {},
     "output_type": "execute_result"
    }
   ],
   "source": [
    "d = {\n",
    "    'Email Score': email_score,\n",
    "    # 'Age Education Score': age_education_scores,\n",
    "    'Payment Score': status_score,\n",
    "    'Address Score': address_score,\n",
    "    'Point': email_score + status_score + address_score,\n",
    "    'Impressive Level': ( email_score + status_score + address_score ) / 16\n",
    "}\n",
    "df = pd.DataFrame(d)\n",
    "df"
   ],
   "metadata": {
    "collapsed": false,
    "ExecuteTime": {
     "end_time": "2023-11-23T14:43:59.519810500Z",
     "start_time": "2023-11-23T14:43:59.397125600Z"
    }
   },
   "id": "aef861c78f1ff9cf"
  },
  {
   "cell_type": "markdown",
   "source": [
    "Create user-course table"
   ],
   "metadata": {
    "collapsed": false
   },
   "id": "62ca29f489859282"
  },
  {
   "cell_type": "code",
   "execution_count": 15,
   "outputs": [
    {
     "data": {
      "text/plain": "user                                                AAIYANA MUSTAFA  \\\ncourse                                                                \nCancer Epidemiology and Prevention                              0.0   \nCoaching Skill : Crafting a New You สำหรับนักศึ...              0.0   \nCoaching Skill : Crafting a New You สำหรับบุคลา...              0.0   \nDevelopment Studies & Social Research Specializ...              0.0   \nDigital Transformation: e-Document                              0.0   \n...                                                             ...   \nเวชศาสตร์ครอบครัวขั้นสูง                                        0.0   \nเวชศาสตร์ฟื้นฟูสำหรับแพทย์ฝึกอบรมเวชศาสตร์ฟื้นฟ...              0.0   \nแปลงจุดแข็ง เป็นคุณค่า สร้างชีวิตสู่ความสุข  (S...              0.0   \nแปลงจุดแข็ง เป็นคุณค่า สร้างชีวิตสู่ความสุข (St...              0.0   \n“ฟูมฟักทักษะสำคัญในชีวิตและการทำงาน Skills4Life...              0.0   \n\nuser                                                ABDULFATTAH SENG  \\\ncourse                                                                 \nCancer Epidemiology and Prevention                               0.0   \nCoaching Skill : Crafting a New You สำหรับนักศึ...               0.0   \nCoaching Skill : Crafting a New You สำหรับบุคลา...               0.0   \nDevelopment Studies & Social Research Specializ...               0.0   \nDigital Transformation: e-Document                               0.0   \n...                                                              ...   \nเวชศาสตร์ครอบครัวขั้นสูง                                         0.0   \nเวชศาสตร์ฟื้นฟูสำหรับแพทย์ฝึกอบรมเวชศาสตร์ฟื้นฟ...               0.0   \nแปลงจุดแข็ง เป็นคุณค่า สร้างชีวิตสู่ความสุข  (S...               0.0   \nแปลงจุดแข็ง เป็นคุณค่า สร้างชีวิตสู่ความสุข (St...               0.0   \n“ฟูมฟักทักษะสำคัญในชีวิตและการทำงาน Skills4Life...               0.0   \n\nuser                                                ABIGAIL LINE  \\\ncourse                                                             \nCancer Epidemiology and Prevention                           0.0   \nCoaching Skill : Crafting a New You สำหรับนักศึ...           0.0   \nCoaching Skill : Crafting a New You สำหรับบุคลา...           0.0   \nDevelopment Studies & Social Research Specializ...           0.0   \nDigital Transformation: e-Document                           0.0   \n...                                                          ...   \nเวชศาสตร์ครอบครัวขั้นสูง                                     0.0   \nเวชศาสตร์ฟื้นฟูสำหรับแพทย์ฝึกอบรมเวชศาสตร์ฟื้นฟ...           0.0   \nแปลงจุดแข็ง เป็นคุณค่า สร้างชีวิตสู่ความสุข  (S...           0.0   \nแปลงจุดแข็ง เป็นคุณค่า สร้างชีวิตสู่ความสุข (St...           0.0   \n“ฟูมฟักทักษะสำคัญในชีวิตและการทำงาน Skills4Life...           0.0   \n\nuser                                                ABRAM THANAWONG  \\\ncourse                                                                \nCancer Epidemiology and Prevention                              0.0   \nCoaching Skill : Crafting a New You สำหรับนักศึ...              0.0   \nCoaching Skill : Crafting a New You สำหรับบุคลา...              0.0   \nDevelopment Studies & Social Research Specializ...              0.0   \nDigital Transformation: e-Document                              0.0   \n...                                                             ...   \nเวชศาสตร์ครอบครัวขั้นสูง                                        0.0   \nเวชศาสตร์ฟื้นฟูสำหรับแพทย์ฝึกอบรมเวชศาสตร์ฟื้นฟ...              0.0   \nแปลงจุดแข็ง เป็นคุณค่า สร้างชีวิตสู่ความสุข  (S...              0.0   \nแปลงจุดแข็ง เป็นคุณค่า สร้างชีวิตสู่ความสุข (St...              0.0   \n“ฟูมฟักทักษะสำคัญในชีวิตและการทำงาน Skills4Life...              0.0   \n\nuser                                                ACHIRA TEAWSIRISUP  \\\ncourse                                                                   \nCancer Epidemiology and Prevention                                 0.0   \nCoaching Skill : Crafting a New You สำหรับนักศึ...                 0.0   \nCoaching Skill : Crafting a New You สำหรับบุคลา...                 0.0   \nDevelopment Studies & Social Research Specializ...                 0.0   \nDigital Transformation: e-Document                                 0.0   \n...                                                                ...   \nเวชศาสตร์ครอบครัวขั้นสูง                                           0.0   \nเวชศาสตร์ฟื้นฟูสำหรับแพทย์ฝึกอบรมเวชศาสตร์ฟื้นฟ...                 0.0   \nแปลงจุดแข็ง เป็นคุณค่า สร้างชีวิตสู่ความสุข  (S...                 0.0   \nแปลงจุดแข็ง เป็นคุณค่า สร้างชีวิตสู่ความสุข (St...                 0.0   \n“ฟูมฟักทักษะสำคัญในชีวิตและการทำงาน Skills4Life...                 0.0   \n\nuser                                                ACHIRAWIT AKSORNDIT  \\\ncourse                                                                    \nCancer Epidemiology and Prevention                                  0.0   \nCoaching Skill : Crafting a New You สำหรับนักศึ...                  0.0   \nCoaching Skill : Crafting a New You สำหรับบุคลา...                  0.0   \nDevelopment Studies & Social Research Specializ...                  0.0   \nDigital Transformation: e-Document                                  0.0   \n...                                                                 ...   \nเวชศาสตร์ครอบครัวขั้นสูง                                            0.0   \nเวชศาสตร์ฟื้นฟูสำหรับแพทย์ฝึกอบรมเวชศาสตร์ฟื้นฟ...                  0.0   \nแปลงจุดแข็ง เป็นคุณค่า สร้างชีวิตสู่ความสุข  (S...                  0.0   \nแปลงจุดแข็ง เป็นคุณค่า สร้างชีวิตสู่ความสุข (St...                  0.0   \n“ฟูมฟักทักษะสำคัญในชีวิตและการทำงาน Skills4Life...                  0.0   \n\nuser                                                ACHIRAWIT PHUJOMCHAE  \\\ncourse                                                                     \nCancer Epidemiology and Prevention                                0.0000   \nCoaching Skill : Crafting a New You สำหรับนักศึ...                0.0000   \nCoaching Skill : Crafting a New You สำหรับบุคลา...                0.0000   \nDevelopment Studies & Social Research Specializ...                0.6875   \nDigital Transformation: e-Document                                0.0000   \n...                                                                  ...   \nเวชศาสตร์ครอบครัวขั้นสูง                                          0.0000   \nเวชศาสตร์ฟื้นฟูสำหรับแพทย์ฝึกอบรมเวชศาสตร์ฟื้นฟ...                0.0000   \nแปลงจุดแข็ง เป็นคุณค่า สร้างชีวิตสู่ความสุข  (S...                0.0000   \nแปลงจุดแข็ง เป็นคุณค่า สร้างชีวิตสู่ความสุข (St...                0.0000   \n“ฟูมฟักทักษะสำคัญในชีวิตและการทำงาน Skills4Life...                0.0000   \n\nuser                                                ACHIRAYA INNA  \\\ncourse                                                              \nCancer Epidemiology and Prevention                            0.0   \nCoaching Skill : Crafting a New You สำหรับนักศึ...            0.0   \nCoaching Skill : Crafting a New You สำหรับบุคลา...            0.0   \nDevelopment Studies & Social Research Specializ...            0.0   \nDigital Transformation: e-Document                            0.0   \n...                                                           ...   \nเวชศาสตร์ครอบครัวขั้นสูง                                      0.0   \nเวชศาสตร์ฟื้นฟูสำหรับแพทย์ฝึกอบรมเวชศาสตร์ฟื้นฟ...            0.0   \nแปลงจุดแข็ง เป็นคุณค่า สร้างชีวิตสู่ความสุข  (S...            0.0   \nแปลงจุดแข็ง เป็นคุณค่า สร้างชีวิตสู่ความสุข (St...            0.0   \n“ฟูมฟักทักษะสำคัญในชีวิตและการทำงาน Skills4Life...            0.0   \n\nuser                                                ACHIRAYA NUISEE  \\\ncourse                                                                \nCancer Epidemiology and Prevention                              0.0   \nCoaching Skill : Crafting a New You สำหรับนักศึ...              0.0   \nCoaching Skill : Crafting a New You สำหรับบุคลา...              0.0   \nDevelopment Studies & Social Research Specializ...              0.0   \nDigital Transformation: e-Document                              0.0   \n...                                                             ...   \nเวชศาสตร์ครอบครัวขั้นสูง                                        0.0   \nเวชศาสตร์ฟื้นฟูสำหรับแพทย์ฝึกอบรมเวชศาสตร์ฟื้นฟ...              0.0   \nแปลงจุดแข็ง เป็นคุณค่า สร้างชีวิตสู่ความสุข  (S...              0.0   \nแปลงจุดแข็ง เป็นคุณค่า สร้างชีวิตสู่ความสุข (St...              0.0   \n“ฟูมฟักทักษะสำคัญในชีวิตและการทำงาน Skills4Life...              0.0   \n\nuser                                                ACHIRAYA SUKPAISARN  ...  \\\ncourse                                                                   ...   \nCancer Epidemiology and Prevention                                  0.0  ...   \nCoaching Skill : Crafting a New You สำหรับนักศึ...                  0.0  ...   \nCoaching Skill : Crafting a New You สำหรับบุคลา...                  0.0  ...   \nDevelopment Studies & Social Research Specializ...                  0.0  ...   \nDigital Transformation: e-Document                                  0.0  ...   \n...                                                                 ...  ...   \nเวชศาสตร์ครอบครัวขั้นสูง                                            0.0  ...   \nเวชศาสตร์ฟื้นฟูสำหรับแพทย์ฝึกอบรมเวชศาสตร์ฟื้นฟ...                  0.0  ...   \nแปลงจุดแข็ง เป็นคุณค่า สร้างชีวิตสู่ความสุข  (S...                  0.0  ...   \nแปลงจุดแข็ง เป็นคุณค่า สร้างชีวิตสู่ความสุข (St...                  0.0  ...   \n“ฟูมฟักทักษะสำคัญในชีวิตและการทำงาน Skills4Life...                  0.0  ...   \n\nuser                                                YYY TTTT  ZABIDIN SENSANA  \\\ncourse                                                                          \nCancer Epidemiology and Prevention                       0.0              0.0   \nCoaching Skill : Crafting a New You สำหรับนักศึ...       0.0              0.0   \nCoaching Skill : Crafting a New You สำหรับบุคลา...       0.0              0.0   \nDevelopment Studies & Social Research Specializ...       0.0              0.0   \nDigital Transformation: e-Document                       0.0              0.0   \n...                                                      ...              ...   \nเวชศาสตร์ครอบครัวขั้นสูง                                 0.0              0.0   \nเวชศาสตร์ฟื้นฟูสำหรับแพทย์ฝึกอบรมเวชศาสตร์ฟื้นฟ...       0.0              0.0   \nแปลงจุดแข็ง เป็นคุณค่า สร้างชีวิตสู่ความสุข  (S...       0.0              0.0   \nแปลงจุดแข็ง เป็นคุณค่า สร้างชีวิตสู่ความสุข (St...       0.0              0.0   \n“ฟูมฟักทักษะสำคัญในชีวิตและการทำงาน Skills4Life...       0.0              0.0   \n\nuser                                                ZAR CHI LIN -  \\\ncourse                                                              \nCancer Epidemiology and Prevention                            0.0   \nCoaching Skill : Crafting a New You สำหรับนักศึ...            0.0   \nCoaching Skill : Crafting a New You สำหรับบุคลา...            0.0   \nDevelopment Studies & Social Research Specializ...            0.0   \nDigital Transformation: e-Document                            0.0   \n...                                                           ...   \nเวชศาสตร์ครอบครัวขั้นสูง                                      0.0   \nเวชศาสตร์ฟื้นฟูสำหรับแพทย์ฝึกอบรมเวชศาสตร์ฟื้นฟ...            0.0   \nแปลงจุดแข็ง เป็นคุณค่า สร้างชีวิตสู่ความสุข  (S...            0.0   \nแปลงจุดแข็ง เป็นคุณค่า สร้างชีวิตสู่ความสุข (St...            0.0   \n“ฟูมฟักทักษะสำคัญในชีวิตและการทำงาน Skills4Life...            0.0   \n\nuser                                                ZAYNUB NAEEM  ZE NYOI  \\\ncourse                                                                      \nCancer Epidemiology and Prevention                           0.0     0.00   \nCoaching Skill : Crafting a New You สำหรับนักศึ...           0.0     0.00   \nCoaching Skill : Crafting a New You สำหรับบุคลา...           0.0     0.00   \nDevelopment Studies & Social Research Specializ...           0.0     0.75   \nDigital Transformation: e-Document                           0.0     0.00   \n...                                                          ...      ...   \nเวชศาสตร์ครอบครัวขั้นสูง                                     0.0     0.00   \nเวชศาสตร์ฟื้นฟูสำหรับแพทย์ฝึกอบรมเวชศาสตร์ฟื้นฟ...           0.0     0.00   \nแปลงจุดแข็ง เป็นคุณค่า สร้างชีวิตสู่ความสุข  (S...           0.0     0.00   \nแปลงจุดแข็ง เป็นคุณค่า สร้างชีวิตสู่ความสุข (St...           0.0     0.00   \n“ฟูมฟักทักษะสำคัญในชีวิตและการทำงาน Skills4Life...           0.0     0.00   \n\nuser                                                ZHANGJINSHUO DONG  \\\ncourse                                                                  \nCancer Epidemiology and Prevention                                0.0   \nCoaching Skill : Crafting a New You สำหรับนักศึ...                0.0   \nCoaching Skill : Crafting a New You สำหรับบุคลา...                0.0   \nDevelopment Studies & Social Research Specializ...                0.0   \nDigital Transformation: e-Document                                0.0   \n...                                                               ...   \nเวชศาสตร์ครอบครัวขั้นสูง                                          0.0   \nเวชศาสตร์ฟื้นฟูสำหรับแพทย์ฝึกอบรมเวชศาสตร์ฟื้นฟ...                0.0   \nแปลงจุดแข็ง เป็นคุณค่า สร้างชีวิตสู่ความสุข  (S...                0.0   \nแปลงจุดแข็ง เป็นคุณค่า สร้างชีวิตสู่ความสุข (St...                0.0   \n“ฟูมฟักทักษะสำคัญในชีวิตและการทำงาน Skills4Life...                0.0   \n\nuser                                                ZHENGHAO LIU  ZHENYI JIN  \\\ncourse                                                                         \nCancer Epidemiology and Prevention                           0.0         0.0   \nCoaching Skill : Crafting a New You สำหรับนักศึ...           0.0         0.0   \nCoaching Skill : Crafting a New You สำหรับบุคลา...           0.0         0.0   \nDevelopment Studies & Social Research Specializ...           0.0         0.0   \nDigital Transformation: e-Document                           0.0         0.0   \n...                                                          ...         ...   \nเวชศาสตร์ครอบครัวขั้นสูง                                     0.0         0.0   \nเวชศาสตร์ฟื้นฟูสำหรับแพทย์ฝึกอบรมเวชศาสตร์ฟื้นฟ...           0.0         0.0   \nแปลงจุดแข็ง เป็นคุณค่า สร้างชีวิตสู่ความสุข  (S...           0.0         0.0   \nแปลงจุดแข็ง เป็นคุณค่า สร้างชีวิตสู่ความสุข (St...           0.0         0.0   \n“ฟูมฟักทักษะสำคัญในชีวิตและการทำงาน Skills4Life...           0.0         0.0   \n\nuser                                                ZIWEN YONG  \\\ncourse                                                           \nCancer Epidemiology and Prevention                         0.0   \nCoaching Skill : Crafting a New You สำหรับนักศึ...         0.0   \nCoaching Skill : Crafting a New You สำหรับบุคลา...         0.0   \nDevelopment Studies & Social Research Specializ...         0.0   \nDigital Transformation: e-Document                         0.0   \n...                                                        ...   \nเวชศาสตร์ครอบครัวขั้นสูง                                   0.0   \nเวชศาสตร์ฟื้นฟูสำหรับแพทย์ฝึกอบรมเวชศาสตร์ฟื้นฟ...         0.0   \nแปลงจุดแข็ง เป็นคุณค่า สร้างชีวิตสู่ความสุข  (S...         0.0   \nแปลงจุดแข็ง เป็นคุณค่า สร้างชีวิตสู่ความสุข (St...         0.0   \n“ฟูมฟักทักษะสำคัญในชีวิตและการทำงาน Skills4Life...         0.0   \n\nuser                                                ZOE BESTMANNSMITH  \ncourse                                                                 \nCancer Epidemiology and Prevention                                0.0  \nCoaching Skill : Crafting a New You สำหรับนักศึ...                0.0  \nCoaching Skill : Crafting a New You สำหรับบุคลา...                0.0  \nDevelopment Studies & Social Research Specializ...                0.0  \nDigital Transformation: e-Document                                0.0  \n...                                                               ...  \nเวชศาสตร์ครอบครัวขั้นสูง                                          0.0  \nเวชศาสตร์ฟื้นฟูสำหรับแพทย์ฝึกอบรมเวชศาสตร์ฟื้นฟ...                0.0  \nแปลงจุดแข็ง เป็นคุณค่า สร้างชีวิตสู่ความสุข  (S...                0.0  \nแปลงจุดแข็ง เป็นคุณค่า สร้างชีวิตสู่ความสุข (St...                0.0  \n“ฟูมฟักทักษะสำคัญในชีวิตและการทำงาน Skills4Life...                0.0  \n\n[168 rows x 4652 columns]",
      "text/html": "<div>\n<style scoped>\n    .dataframe tbody tr th:only-of-type {\n        vertical-align: middle;\n    }\n\n    .dataframe tbody tr th {\n        vertical-align: top;\n    }\n\n    .dataframe thead th {\n        text-align: right;\n    }\n</style>\n<table border=\"1\" class=\"dataframe\">\n  <thead>\n    <tr style=\"text-align: right;\">\n      <th>user</th>\n      <th>AAIYANA MUSTAFA</th>\n      <th>ABDULFATTAH SENG</th>\n      <th>ABIGAIL LINE</th>\n      <th>ABRAM THANAWONG</th>\n      <th>ACHIRA TEAWSIRISUP</th>\n      <th>ACHIRAWIT AKSORNDIT</th>\n      <th>ACHIRAWIT PHUJOMCHAE</th>\n      <th>ACHIRAYA INNA</th>\n      <th>ACHIRAYA NUISEE</th>\n      <th>ACHIRAYA SUKPAISARN</th>\n      <th>...</th>\n      <th>YYY TTTT</th>\n      <th>ZABIDIN SENSANA</th>\n      <th>ZAR CHI LIN -</th>\n      <th>ZAYNUB NAEEM</th>\n      <th>ZE NYOI</th>\n      <th>ZHANGJINSHUO DONG</th>\n      <th>ZHENGHAO LIU</th>\n      <th>ZHENYI JIN</th>\n      <th>ZIWEN YONG</th>\n      <th>ZOE BESTMANNSMITH</th>\n    </tr>\n    <tr>\n      <th>course</th>\n      <th></th>\n      <th></th>\n      <th></th>\n      <th></th>\n      <th></th>\n      <th></th>\n      <th></th>\n      <th></th>\n      <th></th>\n      <th></th>\n      <th></th>\n      <th></th>\n      <th></th>\n      <th></th>\n      <th></th>\n      <th></th>\n      <th></th>\n      <th></th>\n      <th></th>\n      <th></th>\n      <th></th>\n    </tr>\n  </thead>\n  <tbody>\n    <tr>\n      <th>Cancer Epidemiology and Prevention</th>\n      <td>0.0</td>\n      <td>0.0</td>\n      <td>0.0</td>\n      <td>0.0</td>\n      <td>0.0</td>\n      <td>0.0</td>\n      <td>0.0000</td>\n      <td>0.0</td>\n      <td>0.0</td>\n      <td>0.0</td>\n      <td>...</td>\n      <td>0.0</td>\n      <td>0.0</td>\n      <td>0.0</td>\n      <td>0.0</td>\n      <td>0.00</td>\n      <td>0.0</td>\n      <td>0.0</td>\n      <td>0.0</td>\n      <td>0.0</td>\n      <td>0.0</td>\n    </tr>\n    <tr>\n      <th>Coaching Skill : Crafting a New You สำหรับนักศึกษา มหาวิทยาลัยเชียงใหม่</th>\n      <td>0.0</td>\n      <td>0.0</td>\n      <td>0.0</td>\n      <td>0.0</td>\n      <td>0.0</td>\n      <td>0.0</td>\n      <td>0.0000</td>\n      <td>0.0</td>\n      <td>0.0</td>\n      <td>0.0</td>\n      <td>...</td>\n      <td>0.0</td>\n      <td>0.0</td>\n      <td>0.0</td>\n      <td>0.0</td>\n      <td>0.00</td>\n      <td>0.0</td>\n      <td>0.0</td>\n      <td>0.0</td>\n      <td>0.0</td>\n      <td>0.0</td>\n    </tr>\n    <tr>\n      <th>Coaching Skill : Crafting a New You สำหรับบุคลากร มหาวิทยาลัยเชียงใหม่</th>\n      <td>0.0</td>\n      <td>0.0</td>\n      <td>0.0</td>\n      <td>0.0</td>\n      <td>0.0</td>\n      <td>0.0</td>\n      <td>0.0000</td>\n      <td>0.0</td>\n      <td>0.0</td>\n      <td>0.0</td>\n      <td>...</td>\n      <td>0.0</td>\n      <td>0.0</td>\n      <td>0.0</td>\n      <td>0.0</td>\n      <td>0.00</td>\n      <td>0.0</td>\n      <td>0.0</td>\n      <td>0.0</td>\n      <td>0.0</td>\n      <td>0.0</td>\n    </tr>\n    <tr>\n      <th>Development Studies &amp; Social Research Specialization 2023</th>\n      <td>0.0</td>\n      <td>0.0</td>\n      <td>0.0</td>\n      <td>0.0</td>\n      <td>0.0</td>\n      <td>0.0</td>\n      <td>0.6875</td>\n      <td>0.0</td>\n      <td>0.0</td>\n      <td>0.0</td>\n      <td>...</td>\n      <td>0.0</td>\n      <td>0.0</td>\n      <td>0.0</td>\n      <td>0.0</td>\n      <td>0.75</td>\n      <td>0.0</td>\n      <td>0.0</td>\n      <td>0.0</td>\n      <td>0.0</td>\n      <td>0.0</td>\n    </tr>\n    <tr>\n      <th>Digital Transformation: e-Document</th>\n      <td>0.0</td>\n      <td>0.0</td>\n      <td>0.0</td>\n      <td>0.0</td>\n      <td>0.0</td>\n      <td>0.0</td>\n      <td>0.0000</td>\n      <td>0.0</td>\n      <td>0.0</td>\n      <td>0.0</td>\n      <td>...</td>\n      <td>0.0</td>\n      <td>0.0</td>\n      <td>0.0</td>\n      <td>0.0</td>\n      <td>0.00</td>\n      <td>0.0</td>\n      <td>0.0</td>\n      <td>0.0</td>\n      <td>0.0</td>\n      <td>0.0</td>\n    </tr>\n    <tr>\n      <th>...</th>\n      <td>...</td>\n      <td>...</td>\n      <td>...</td>\n      <td>...</td>\n      <td>...</td>\n      <td>...</td>\n      <td>...</td>\n      <td>...</td>\n      <td>...</td>\n      <td>...</td>\n      <td>...</td>\n      <td>...</td>\n      <td>...</td>\n      <td>...</td>\n      <td>...</td>\n      <td>...</td>\n      <td>...</td>\n      <td>...</td>\n      <td>...</td>\n      <td>...</td>\n      <td>...</td>\n    </tr>\n    <tr>\n      <th>เวชศาสตร์ครอบครัวขั้นสูง</th>\n      <td>0.0</td>\n      <td>0.0</td>\n      <td>0.0</td>\n      <td>0.0</td>\n      <td>0.0</td>\n      <td>0.0</td>\n      <td>0.0000</td>\n      <td>0.0</td>\n      <td>0.0</td>\n      <td>0.0</td>\n      <td>...</td>\n      <td>0.0</td>\n      <td>0.0</td>\n      <td>0.0</td>\n      <td>0.0</td>\n      <td>0.00</td>\n      <td>0.0</td>\n      <td>0.0</td>\n      <td>0.0</td>\n      <td>0.0</td>\n      <td>0.0</td>\n    </tr>\n    <tr>\n      <th>เวชศาสตร์ฟื้นฟูสำหรับแพทย์ฝึกอบรมเวชศาสตร์ฟื้นฟู มหาวิทยาลัยเชียงใหม่</th>\n      <td>0.0</td>\n      <td>0.0</td>\n      <td>0.0</td>\n      <td>0.0</td>\n      <td>0.0</td>\n      <td>0.0</td>\n      <td>0.0000</td>\n      <td>0.0</td>\n      <td>0.0</td>\n      <td>0.0</td>\n      <td>...</td>\n      <td>0.0</td>\n      <td>0.0</td>\n      <td>0.0</td>\n      <td>0.0</td>\n      <td>0.00</td>\n      <td>0.0</td>\n      <td>0.0</td>\n      <td>0.0</td>\n      <td>0.0</td>\n      <td>0.0</td>\n    </tr>\n    <tr>\n      <th>แปลงจุดแข็ง เป็นคุณค่า สร้างชีวิตสู่ความสุข  (Strengths Spotting : Turn on value and bring out the happiness) รุ่นที่ 1</th>\n      <td>0.0</td>\n      <td>0.0</td>\n      <td>0.0</td>\n      <td>0.0</td>\n      <td>0.0</td>\n      <td>0.0</td>\n      <td>0.0000</td>\n      <td>0.0</td>\n      <td>0.0</td>\n      <td>0.0</td>\n      <td>...</td>\n      <td>0.0</td>\n      <td>0.0</td>\n      <td>0.0</td>\n      <td>0.0</td>\n      <td>0.00</td>\n      <td>0.0</td>\n      <td>0.0</td>\n      <td>0.0</td>\n      <td>0.0</td>\n      <td>0.0</td>\n    </tr>\n    <tr>\n      <th>แปลงจุดแข็ง เป็นคุณค่า สร้างชีวิตสู่ความสุข (Strengths Spotting : Turn on value and bring out the happiness) รุ่นที่ 2</th>\n      <td>0.0</td>\n      <td>0.0</td>\n      <td>0.0</td>\n      <td>0.0</td>\n      <td>0.0</td>\n      <td>0.0</td>\n      <td>0.0000</td>\n      <td>0.0</td>\n      <td>0.0</td>\n      <td>0.0</td>\n      <td>...</td>\n      <td>0.0</td>\n      <td>0.0</td>\n      <td>0.0</td>\n      <td>0.0</td>\n      <td>0.00</td>\n      <td>0.0</td>\n      <td>0.0</td>\n      <td>0.0</td>\n      <td>0.0</td>\n      <td>0.0</td>\n    </tr>\n    <tr>\n      <th>“ฟูมฟักทักษะสำคัญในชีวิตและการทำงาน Skills4Life” สำหรับนักศึกษาคณะเภสัชศาสตร์ มหาวิทยาลัยเชียงใหม่</th>\n      <td>0.0</td>\n      <td>0.0</td>\n      <td>0.0</td>\n      <td>0.0</td>\n      <td>0.0</td>\n      <td>0.0</td>\n      <td>0.0000</td>\n      <td>0.0</td>\n      <td>0.0</td>\n      <td>0.0</td>\n      <td>...</td>\n      <td>0.0</td>\n      <td>0.0</td>\n      <td>0.0</td>\n      <td>0.0</td>\n      <td>0.00</td>\n      <td>0.0</td>\n      <td>0.0</td>\n      <td>0.0</td>\n      <td>0.0</td>\n      <td>0.0</td>\n    </tr>\n  </tbody>\n</table>\n<p>168 rows × 4652 columns</p>\n</div>"
     },
     "execution_count": 15,
     "metadata": {},
     "output_type": "execute_result"
    }
   ],
   "source": [
    "user = file.loc[:, 'ชื่อ-นามสกุล (อังกฤษ)']\n",
    "course = file.loc[:, 'หลักสูตรอบรมระยะสั้น']\n",
    "score = df['Impressive Level']\n",
    "data = {\n",
    "    'user': user,\n",
    "    'course': course,\n",
    "    'score': score,\n",
    "}\n",
    "\n",
    "predata = pd.DataFrame(data)\n",
    "predata = predata.pivot_table(index='course', columns='user', values='score').fillna(0)\n",
    "predata"
   ],
   "metadata": {
    "collapsed": false,
    "ExecuteTime": {
     "end_time": "2023-11-23T14:43:59.537334300Z",
     "start_time": "2023-11-23T14:43:59.422422800Z"
    }
   },
   "id": "e3241335cab300e0"
  },
  {
   "cell_type": "markdown",
   "source": [
    "Calculate the similarity using cosine similarity"
   ],
   "metadata": {
    "collapsed": false
   },
   "id": "b19500ceeae15254"
  },
  {
   "cell_type": "code",
   "execution_count": 16,
   "outputs": [
    {
     "data": {
      "text/plain": "<matplotlib.image.AxesImage at 0x22d19611b50>"
     },
     "execution_count": 16,
     "metadata": {},
     "output_type": "execute_result"
    },
    {
     "data": {
      "text/plain": "<Figure size 640x480 with 1 Axes>",
      "image/png": "[encoded data removed]"
     },
     "metadata": {},
     "output_type": "display_data"
    }
   ],
   "source": [
    "distance_mtx = squareform(pdist(predata, 'cosine'))\n",
    "similarity_mtx = 1 - distance_mtx\n",
    "\n",
    "plt.imshow(similarity_mtx, cmap= 'Blues')"
   ],
   "metadata": {
    "collapsed": false,
    "ExecuteTime": {
     "end_time": "2023-11-23T14:44:00.162315700Z",
     "start_time": "2023-11-23T14:43:59.500285600Z"
    }
   },
   "id": "4fc8e04a564b7103"
  },
  {
   "cell_type": "markdown",
   "source": [
    "Make prediction of the rating of user on item"
   ],
   "metadata": {
    "collapsed": false
   },
   "id": "9680874c9baf38"
  },
  {
   "cell_type": "code",
   "execution_count": 17,
   "outputs": [
    {
     "name": "stdout",
     "output_type": "stream",
     "text": [
      "0.700011555925721\n"
     ]
    }
   ],
   "source": [
    "user_to_predict = \"NARINTIPP SHUSANG\"\n",
    "course_to_predict = \"การวินิจฉัยภาวะฉุกเฉินที่ไม่ได้เกิดจากอุบัติเหตุ (Diagnostic Radiology of Non-Traumatic Emergency)\"\n",
    "idx_course_to_predict = 0\n",
    "for i,x in enumerate(predata.index):\n",
    "    if x == course_to_predict:\n",
    "        idx_course_to_predict = i\n",
    "\n",
    "selected_user_ratings = predata.loc[:, [user_to_predict]].squeeze()\n",
    "selected_course_similarity = similarity_mtx[idx_course_to_predict]\n",
    "\n",
    "numerator = np.dot(selected_user_ratings,selected_course_similarity)\n",
    "denom = selected_course_similarity[selected_user_ratings > 0].sum()\n",
    "if denom != 0:\n",
    "    prediction = numerator / denom\n",
    "else:\n",
    "    prediction = 'Error: denom cannot be 0'\n",
    "print(prediction)"
   ],
   "metadata": {
    "collapsed": false,
    "ExecuteTime": {
     "end_time": "2023-11-23T14:44:00.163324500Z",
     "start_time": "2023-11-23T14:44:00.043123900Z"
    }
   },
   "id": "c1d7a5afc6d5277c"
  }
 ],
 "metadata": {
  "kernelspec": {
   "display_name": "Python 3",
   "language": "python",
   "name": "python3"
  },
  "language_info": {
   "codemirror_mode": {
    "name": "ipython",
    "version": 2
   },
   "file_extension": ".py",
   "mimetype": "text/x-python",
   "name": "python",
   "nbconvert_exporter": "python",
   "pygments_lexer": "ipython2",
   "version": "2.7.6"
  }
 },
 "nbformat": 4,
 "nbformat_minor": 5
}
