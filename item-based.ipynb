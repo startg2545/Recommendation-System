{
 "cells": [
  {
   "cell_type": "raw",
   "source": [
    "Import required packages"
   ],
   "metadata": {
    "collapsed": false
   },
   "id": "639a1244d2ad81f7"
  },
  {
   "cell_type": "code",
   "execution_count": 153,
   "outputs": [],
   "source": [
    "import pandas as pd\n",
    "import numpy as np\n",
    "import math"
   ],
   "metadata": {
    "collapsed": false,
    "ExecuteTime": {
     "end_time": "2023-11-23T14:23:28.467343500Z",
     "start_time": "2023-11-23T14:23:28.437142Z"
    }
   },
   "id": "7d61ab77d332bb9"
  },
  {
   "cell_type": "markdown",
   "source": [
    "Read the file"
   ],
   "metadata": {
    "collapsed": false
   },
   "id": "c2b13e97e12315ae"
  },
  {
   "cell_type": "code",
   "execution_count": 122,
   "outputs": [],
   "source": [
    "file = pd.read_excel('shortcourses2566.xlsx')"
   ],
   "metadata": {
    "collapsed": false,
    "ExecuteTime": {
     "end_time": "2023-11-23T13:43:00.313647600Z",
     "start_time": "2023-11-23T13:42:58.812409100Z"
    }
   },
   "id": "dc6b2bbbd8654b6b"
  },
  {
   "cell_type": "markdown",
   "source": [
    "Create Series of users"
   ],
   "metadata": {
    "collapsed": false
   },
   "id": "cafa70e83b149285"
  },
  {
   "cell_type": "code",
   "execution_count": 3,
   "outputs": [
    {
     "data": {
      "text/plain": "0             PORPHAING JANTIP\n1         THANAKORN DARASRISAK\n2             KARNJANA EAMTANG\n3             KARNJANA EAMTANG\n4       THITIMUN VORATHONGCHAI\n                 ...          \n6122         KITTINON SANTASUP\n6123      WITTAWAT SERMSRIPONG\n6124               NON NAKKARA\n6125         PHATTHARAPHON LIN\n6126      THANAPAT SEEMAKAJOHN\nName: Users, Length: 6127, dtype: object"
     },
     "execution_count": 3,
     "metadata": {},
     "output_type": "execute_result"
    }
   ],
   "source": [
    "s_name = file.loc[:, 'ชื่อ-นามสกุล (อังกฤษ)']\n",
    "Users = pd.Series(s_name, name='Users')\n",
    "Users"
   ],
   "metadata": {
    "collapsed": false,
    "ExecuteTime": {
     "end_time": "2023-11-23T07:54:45.992193600Z",
     "start_time": "2023-11-23T07:54:45.828333400Z"
    }
   },
   "id": "8d45c4c54a0d9363"
  },
  {
   "cell_type": "markdown",
   "source": [
    "Create Series of emails"
   ],
   "metadata": {
    "collapsed": false
   },
   "id": "de9c6e6e2e3fd2c5"
  },
  {
   "cell_type": "code",
   "execution_count": 5,
   "outputs": [
    {
     "data": {
      "text/plain": "0            tanghaoren17@gamil.com\n1               tuakung21@gmail.com\n2            karnjana.aon@gmail.com\n3            karnjana.aon@gmail.com\n4          thitimun.rama1@gmail.com\n                   ...             \n6122           kittinon_s@cmu.ac.th\n6123        wittawat_serm@cmu.ac.th\n6124          non_nakkara@cmu.ac.th\n6125    phattharaphon_lin@cmu.ac.th\n6126         thanapat_see@cmu.ac.th\nName: Emails, Length: 6127, dtype: object"
     },
     "execution_count": 5,
     "metadata": {},
     "output_type": "execute_result"
    }
   ],
   "source": [
    "s_email = file.loc[:, 'อีเมล'].fillna(\"\")\n",
    "Emails = pd.Series(s_email ,name='Emails')\n",
    "Emails\n"
   ],
   "metadata": {
    "collapsed": false,
    "ExecuteTime": {
     "end_time": "2023-11-22T15:41:02.473984900Z",
     "start_time": "2023-11-22T15:41:02.335150600Z"
    }
   },
   "id": "c46f1feb1fec2cc6"
  },
  {
   "cell_type": "markdown",
   "source": [
    "Provide a score to each user based on their email domain"
   ],
   "metadata": {
    "collapsed": false
   },
   "id": "107019d623f4cc55"
  },
  {
   "cell_type": "code",
   "execution_count": 6,
   "outputs": [
    {
     "data": {
      "text/plain": "0       1\n1       1\n2       1\n3       1\n4       1\n       ..\n6122    2\n6123    2\n6124    2\n6125    2\n6126    2\nName: Score Emails, Length: 6127, dtype: int64"
     },
     "execution_count": 6,
     "metadata": {},
     "output_type": "execute_result"
    }
   ],
   "source": [
    "email_score = []\n",
    "for data in Emails:\n",
    "    if data != '':\n",
    "        if data.split('@')[1] == 'cmu.ac.th':\n",
    "            email_score.append(2)\n",
    "        else:\n",
    "            email_score.append(1)\n",
    "    else:\n",
    "        email_score.append(0)\n",
    "email_score = pd.Series(email_score, name='Score Emails')\n",
    "email_score"
   ],
   "metadata": {
    "collapsed": false,
    "ExecuteTime": {
     "end_time": "2023-11-22T15:41:02.474984900Z",
     "start_time": "2023-11-22T15:41:02.353101Z"
    }
   },
   "id": "b275bd947237ec8c"
  },
  {
   "cell_type": "markdown",
   "source": [
    "Create function to calculate age-education score"
   ],
   "metadata": {
    "collapsed": false
   },
   "id": "a11d7e6897a6f859"
  },
  {
   "cell_type": "code",
   "execution_count": 4,
   "outputs": [],
   "source": [
    "def getAgeEducationScore(age, limit_age):\n",
    "    if age <= limit_age:\n",
    "        score = 1\n",
    "    else:\n",
    "        score = 3\n",
    "    return score"
   ],
   "metadata": {
    "collapsed": false,
    "ExecuteTime": {
     "end_time": "2023-11-23T07:55:02.781094Z",
     "start_time": "2023-11-23T07:55:02.747499900Z"
    }
   },
   "id": "364036364a866598"
  },
  {
   "cell_type": "markdown",
   "source": [
    "Create Series of Age-Education"
   ],
   "metadata": {
    "collapsed": false
   },
   "id": "383f28c6a996f51e"
  },
  {
   "cell_type": "code",
   "execution_count": 162,
   "outputs": [
    {
     "name": "stdout",
     "output_type": "stream",
     "text": [
      "6127\n"
     ]
    }
   ],
   "source": [
    "ages = file.loc[:, 'อายุ']\n",
    "educations = file.loc[:, 'วุฒิการศึกษา']\n",
    "age_education_scores = []\n",
    "# check output length of age_education_scores until it has 6127\n",
    "for i,x in enumerate(educations):\n",
    "    if  x == 'อื่นๆ (-)' or pd.isna(x) :\n",
    "        age_education_scores.append(getAgeEducationScore(ages[i], 0))\n",
    "    elif x == 'ประถมศึกษา' or x == 'อื่นๆ (ป.4)' or x == 'อื่นๆ (ป.7)' or x == 'อื่นๆ (ป7)':\n",
    "        age_education_scores.append(getAgeEducationScore(ages[i], 16))\n",
    "    elif x == 'มัธยมศึกษาตอนต้น' or x == 'Secondary school' or x == 'อื่นๆ (มศ.3)':\n",
    "        age_education_scores.append(getAgeEducationScore(ages[i], 19))\n",
    "    elif x == 'มัธยมศึกษาตอนปลาย' or x == 'High school' or x == 'Vocational' or x == 'การศึกษานอกระบบ' \\\n",
    "            or x == 'ประกาศนียบัตรวิชาชีพ (ปวช.)' or x == 'อื่นๆ (ม.ปลาย จบหลักสูตรEMR เป็นจนท.ปฏิบัติการ)'\\\n",
    "            or x == 'อื่นๆ (กำลังศึกษาชั้นมัธยมศึกษาตอนปลาย)' or x == 'อื่นๆ (กำลังศึกษาชั้นมัธยมศึกษาปีที่6)' \\\n",
    "            or x == 'อื่นๆ (มศ.5)' :\n",
    "        age_education_scores.append(getAgeEducationScore(ages[i], 22))\n",
    "    elif x == 'ปริญญาตรี' or x == 'Bachelor degree' or x == 'Diploma' or x == 'High Vocational' \\\n",
    "            or x == 'ประกาศนียบัตรวิชาชีพชั้นสูง (ปวส.)' or x == 'อื่นๆ (กำลังศึกษาในระดับปริญญาตรี)' \\\n",
    "            or x == 'อื่นๆ (กำลังศึกษาปริญญาตรี สาขารังสีเทคนิค)' or x == 'อื่นๆ (ปริญญาแพทยศาสตร์บัณฑิต)' \\\n",
    "            or x == 'อื่นๆ (นักศึกษาแพทย์ปี 5)' or x == 'อื่นๆ (นักศึกษาแพทย์ มช ปี4 ศูนย์เชียงราย)' \\\n",
    "            or x == 'อื่นๆ (แพทยศาสตร์บัณฑิต)' or x == 'อื่นๆ (แพทย์)'  or x == 'อื่นๆ (ประกาศณียบัตรผู้ช่วยพยาบาล)' \\\n",
    "            or x == 'อนุปริญญา' or x == 'อื่นๆ (ป.ตรี)' or x == 'อื่นๆ (ผู้ช่วยพยาบาล)':\n",
    "        age_education_scores.append(getAgeEducationScore(ages[i], 26))\n",
    "    elif x == 'ปริญญาโท' or x == 'ปริญญาเอก' or x == \"Master's degree\" or x == 'Other (OBGYN specalist lavel 1)' \\\n",
    "            or x == 'Other (Residency)' or x == 'Ph.D.' or x == 'อื่นๆ (Internal Medicine)' \\\n",
    "            or x == 'อื่นๆ (เฉพาะทาง)' or x == ('อื่นๆ (วุฒิบัตร)') or x == 'อื่นๆ (วว.ออร์โธปิดิกส์)' \\\n",
    "            or x == 'อื่นๆ (วุฒิบัตรแสดงความรู้ความชำนาญในการประกอบวิชาชีพเภสัชกรรม สาขาเภสัชบำบัด)'\\\n",
    "            or x == 'อื่นๆ (วุฒิบัตรผู้เชี่ยวชาญสาขาทันตกรรมทั่วไป)' or x == 'อื่นๆ (วุฒิบัตรศัลยศาสตร์และแม็กซิลโลเฟเชียล)':\n",
    "        age_education_scores.append(getAgeEducationScore(ages[i], 40))\n",
    "print(len(age_education_scores))\n"
   ],
   "metadata": {
    "collapsed": false,
    "ExecuteTime": {
     "end_time": "2023-11-23T14:36:20.635709900Z",
     "start_time": "2023-11-23T14:36:20.594147100Z"
    }
   },
   "id": "45e99acd68c9e77"
  },
  {
   "cell_type": "markdown",
   "source": [
    "Create Series of status"
   ],
   "metadata": {
    "collapsed": false
   },
   "id": "590ed4309726a494"
  },
  {
   "cell_type": "code",
   "execution_count": 97,
   "outputs": [],
   "source": [
    "status = file.loc[:, 'สถานะ'].fillna(\"\")\n",
    "status = pd.Series(status ,name='status')"
   ],
   "metadata": {
    "collapsed": false,
    "ExecuteTime": {
     "end_time": "2023-11-23T13:31:44.404323600Z",
     "start_time": "2023-11-23T13:31:44.400598800Z"
    }
   },
   "id": "138e98575332aa8"
  },
  {
   "cell_type": "markdown",
   "source": [
    "Provide a score to each user based on their purchase status"
   ],
   "metadata": {
    "collapsed": false
   },
   "id": "25fa97401f1ad07b"
  },
  {
   "cell_type": "code",
   "execution_count": 49,
   "outputs": [],
   "source": [
    "status_score = []\n",
    "for x in status:\n",
    "    if x == 'ชำระเงิน':\n",
    "        status_score.append(8)\n",
    "    if x == 'ไม่ผ่านการอนุมัติ':\n",
    "        status_score.append(7)\n",
    "    if x == 'ค้างชำระ':\n",
    "        status_score.append(5)"
   ],
   "metadata": {
    "collapsed": false,
    "ExecuteTime": {
     "end_time": "2023-11-23T12:56:54.646723300Z",
     "start_time": "2023-11-23T12:56:54.630898200Z"
    }
   },
   "id": "c64c742d8df7b574"
  },
  {
   "cell_type": "markdown",
   "source": [
    "Create Series of address"
   ],
   "metadata": {
    "collapsed": false
   },
   "id": "7c6c7328e2f4501c"
  },
  {
   "cell_type": "code",
   "execution_count": 20,
   "outputs": [],
   "source": [
    "address = file.loc[:, 'ที่อยู่'].fillna(\"\")\n",
    "address = pd.Series(address ,name='status')"
   ],
   "metadata": {
    "collapsed": false,
    "ExecuteTime": {
     "end_time": "2023-11-22T15:53:24.608793200Z",
     "start_time": "2023-11-22T15:53:24.602304800Z"
    }
   },
   "id": "88a0f4cc7126c70a"
  },
  {
   "cell_type": "markdown",
   "source": [
    "Provide a score to each user based on their providing address information or not"
   ],
   "metadata": {
    "collapsed": false
   },
   "id": "6d61df31a62dcfd"
  },
  {
   "cell_type": "code",
   "execution_count": 29,
   "outputs": [
    {
     "data": {
      "text/plain": "[3,\n 4,\n 3,\n 3,\n 3,\n 3,\n 3,\n 3,\n 4,\n 3,\n 3,\n 3,\n 3,\n 3,\n 3,\n 3,\n 3,\n 4,\n 4,\n 3,\n 4,\n 3,\n 4,\n 3,\n 3,\n 3,\n 4,\n 4,\n 3,\n 3,\n 3,\n 3,\n 3,\n 4,\n 4,\n 3,\n 3,\n 4,\n 4,\n 3,\n 4,\n 4,\n 3,\n 3,\n 3,\n 3,\n 3,\n 3,\n 3,\n 4,\n 3,\n 3,\n 3,\n 3,\n 3,\n 3,\n 3,\n 3,\n 3,\n 3,\n 4,\n 3,\n 3,\n 4,\n 3,\n 3,\n 3,\n 4,\n 4,\n 3,\n 3,\n 3,\n 4,\n 3,\n 3,\n 3,\n 3,\n 3,\n 3,\n 3,\n 4,\n 3,\n 3,\n 4,\n 3,\n 4,\n 3,\n 3,\n 3,\n 3,\n 3,\n 3,\n 3,\n 3,\n 3,\n 3,\n 4,\n 3,\n 3,\n 3,\n 3,\n 3,\n 3,\n 3,\n 3,\n 3,\n 3,\n 3,\n 3,\n 3,\n 3,\n 3,\n 3,\n 3,\n 3,\n 3,\n 3,\n 3,\n 3,\n 3,\n 3,\n 3,\n 3,\n 3,\n 3,\n 3,\n 3,\n 3,\n 3,\n 3,\n 3,\n 3,\n 3,\n 3,\n 3,\n 3,\n 3,\n 3,\n 3,\n 3,\n 3,\n 3,\n 3,\n 3,\n 3,\n 4,\n 3,\n 3,\n 3,\n 4,\n 3,\n 3,\n 3,\n 3,\n 3,\n 3,\n 3,\n 4,\n 4,\n 3,\n 3,\n 3,\n 3,\n 3,\n 3,\n 4,\n 4,\n 4,\n 3,\n 4,\n 3,\n 4,\n 4,\n 4,\n 3,\n 3,\n 3,\n 3,\n 4,\n 4,\n 4,\n 4,\n 4,\n 4,\n 4,\n 4,\n 4,\n 4,\n 4,\n 4,\n 4,\n 4,\n 4,\n 4,\n 4,\n 4,\n 4,\n 4,\n 4,\n 4,\n 4,\n 4,\n 4,\n 4,\n 4,\n 4,\n 4,\n 4,\n 4,\n 4,\n 4,\n 4,\n 3,\n 4,\n 4,\n 4,\n 4,\n 4,\n 4,\n 4,\n 4,\n 4,\n 4,\n 4,\n 4,\n 4,\n 3,\n 4,\n 4,\n 3,\n 4,\n 4,\n 3,\n 4,\n 4,\n 4,\n 4,\n 4,\n 4,\n 4,\n 4,\n 4,\n 4,\n 4,\n 4,\n 4,\n 4,\n 4,\n 4,\n 4,\n 4,\n 4,\n 4,\n 4,\n 4,\n 4,\n 4,\n 4,\n 3,\n 4,\n 4,\n 4,\n 4,\n 4,\n 3,\n 4,\n 3,\n 4,\n 4,\n 4,\n 4,\n 4,\n 4,\n 3,\n 4,\n 4,\n 4,\n 4,\n 3,\n 3,\n 3,\n 3,\n 3,\n 3,\n 3,\n 3,\n 3,\n 3,\n 4,\n 4,\n 3,\n 3,\n 4,\n 4,\n 3,\n 4,\n 4,\n 4,\n 4,\n 3,\n 4,\n 3,\n 3,\n 4,\n 4,\n 3,\n 4,\n 3,\n 4,\n 4,\n 4,\n 4,\n 4,\n 4,\n 4,\n 4,\n 4,\n 3,\n 3,\n 3,\n 3,\n 4,\n 3,\n 4,\n 4,\n 4,\n 4,\n 3,\n 4,\n 4,\n 4,\n 3,\n 4,\n 4,\n 4,\n 4,\n 4,\n 4,\n 4,\n 3,\n 4,\n 4,\n 3,\n 4,\n 4,\n 3,\n 4,\n 3,\n 3,\n 4,\n 4,\n 4,\n 4,\n 4,\n 4,\n 4,\n 3,\n 4,\n 4,\n 4,\n 4,\n 4,\n 4,\n 4,\n 4,\n 3,\n 3,\n 3,\n 4,\n 4,\n 4,\n 4,\n 4,\n 4,\n 4,\n 4,\n 4,\n 4,\n 4,\n 3,\n 4,\n 4,\n 4,\n 4,\n 3,\n 4,\n 4,\n 3,\n 3,\n 3,\n 3,\n 3,\n 3,\n 4,\n 3,\n 3,\n 3,\n 4,\n 4,\n 3,\n 4,\n 4,\n 4,\n 4,\n 4,\n 3,\n 3,\n 4,\n 4,\n 3,\n 3,\n 3,\n 3,\n 3,\n 4,\n 3,\n 4,\n 3,\n 3,\n 3,\n 3,\n 4,\n 3,\n 3,\n 3,\n 3,\n 3,\n 4,\n 3,\n 4,\n 4,\n 4,\n 4,\n 4,\n 4,\n 3,\n 4,\n 3,\n 4,\n 4,\n 3,\n 4,\n 4,\n 4,\n 3,\n 4,\n 4,\n 4,\n 4,\n 4,\n 4,\n 3,\n 3,\n 3,\n 3,\n 3,\n 4,\n 4,\n 3,\n 3,\n 3,\n 3,\n 3,\n 3,\n 3,\n 3,\n 3,\n 4,\n 4,\n 3,\n 4,\n 4,\n 4,\n 4,\n 4,\n 4,\n 4,\n 4,\n 4,\n 4,\n 4,\n 4,\n 4,\n 4,\n 4,\n 4,\n 4,\n 4,\n 4,\n 4,\n 4,\n 4,\n 4,\n 4,\n 4,\n 4,\n 4,\n 4,\n 4,\n 4,\n 4,\n 4,\n 4,\n 4,\n 4,\n 4,\n 4,\n 4,\n 4,\n 4,\n 4,\n 4,\n 4,\n 4,\n 4,\n 4,\n 4,\n 4,\n 4,\n 4,\n 3,\n 4,\n 4,\n 4,\n 4,\n 4,\n 4,\n 3,\n 3,\n 4,\n 4,\n 3,\n 4,\n 3,\n 4,\n 3,\n 4,\n 4,\n 4,\n 4,\n 3,\n 3,\n 4,\n 4,\n 4,\n 4,\n 4,\n 4,\n 4,\n 3,\n 4,\n 4,\n 4,\n 4,\n 4,\n 4,\n 4,\n 4,\n 4,\n 4,\n 3,\n 3,\n 3,\n 3,\n 4,\n 3,\n 4,\n 3,\n 4,\n 4,\n 3,\n 4,\n 3,\n 4,\n 4,\n 4,\n 4,\n 4,\n 4,\n 4,\n 3,\n 3,\n 3,\n 3,\n 3,\n 3,\n 3,\n 3,\n 3,\n 3,\n 4,\n 3,\n 3,\n 3,\n 3,\n 3,\n 4,\n 3,\n 3,\n 4,\n 4,\n 4,\n 3,\n 3,\n 3,\n 4,\n 4,\n 4,\n 3,\n 3,\n 3,\n 3,\n 4,\n 4,\n 3,\n 4,\n 4,\n 4,\n 4,\n 3,\n 3,\n 3,\n 3,\n 3,\n 3,\n 3,\n 3,\n 4,\n 3,\n 3,\n 3,\n 3,\n 3,\n 4,\n 3,\n 4,\n 4,\n 3,\n 3,\n 3,\n 3,\n 3,\n 3,\n 3,\n 3,\n 3,\n 3,\n 3,\n 3,\n 3,\n 3,\n 3,\n 3,\n 3,\n 3,\n 3,\n 3,\n 3,\n 3,\n 4,\n 3,\n 3,\n 3,\n 3,\n 3,\n 3,\n 3,\n 3,\n 3,\n 3,\n 3,\n 3,\n 4,\n 4,\n 3,\n 3,\n 3,\n 3,\n 3,\n 3,\n 3,\n 3,\n 3,\n 3,\n 4,\n 4,\n 4,\n 3,\n 3,\n 3,\n 3,\n 3,\n 3,\n 3,\n 3,\n 3,\n 3,\n 3,\n 3,\n 3,\n 3,\n 3,\n 3,\n 3,\n 4,\n 4,\n 4,\n 3,\n 3,\n 3,\n 3,\n 4,\n 3,\n 3,\n 4,\n 4,\n 4,\n 3,\n 3,\n 3,\n 3,\n 3,\n 3,\n 3,\n 3,\n 4,\n 4,\n 4,\n 4,\n 3,\n 3,\n 4,\n 4,\n 4,\n 3,\n 4,\n 3,\n 4,\n 4,\n 3,\n 3,\n 4,\n 4,\n 4,\n 4,\n 4,\n 4,\n 3,\n 3,\n 3,\n 4,\n 4,\n 3,\n 4,\n 4,\n 3,\n 3,\n 4,\n 4,\n 4,\n 4,\n 3,\n 4,\n 4,\n 4,\n 3,\n 4,\n 4,\n 3,\n 3,\n 4,\n 4,\n 4,\n 4,\n 3,\n 4,\n 4,\n 4,\n 3,\n 4,\n 3,\n 4,\n 4,\n 4,\n 4,\n 3,\n 4,\n 4,\n 4,\n 4,\n 4,\n 4,\n 4,\n 3,\n 4,\n 4,\n 4,\n 4,\n 3,\n 4,\n 4,\n 4,\n 4,\n 4,\n 4,\n 4,\n 4,\n 4,\n 4,\n 4,\n 4,\n 4,\n 3,\n 3,\n 4,\n 4,\n 3,\n 4,\n 4,\n 4,\n 3,\n 4,\n 3,\n 4,\n 3,\n 4,\n 4,\n 3,\n 4,\n 4,\n 4,\n 4,\n 4,\n 3,\n 3,\n 3,\n 3,\n 3,\n 4,\n 4,\n 3,\n 4,\n 4,\n 4,\n 4,\n 4,\n 4,\n 3,\n 4,\n 4,\n 4,\n 4,\n 3,\n 4,\n 4,\n 4,\n 4,\n 4,\n 4,\n 4,\n 4,\n 4,\n 4,\n 4,\n 3,\n 4,\n 4,\n 4,\n 3,\n 3,\n 3,\n 3,\n 3,\n 4,\n 3,\n 4,\n 4,\n 3,\n 4,\n 4,\n 4,\n 4,\n 4,\n 4,\n 4,\n 4,\n 3,\n 3,\n 4,\n 4,\n 4,\n 4,\n 4,\n 3,\n 4,\n 3,\n 4,\n 4,\n 4,\n 4,\n 4,\n 4,\n 4,\n 4,\n 3,\n 3,\n 4,\n 4,\n 4,\n 4,\n 4,\n 4,\n 3,\n 3,\n 4,\n 3,\n 3,\n 4,\n 4,\n 4,\n 4,\n 4,\n 4,\n 4,\n 4,\n 3,\n 3,\n 3,\n 3,\n 4,\n 4,\n 3,\n 3,\n 3,\n 3,\n 4,\n 4,\n 4,\n 4,\n 4,\n 3,\n 3,\n 4,\n 4,\n 4,\n 4,\n 4,\n 4,\n 4,\n 4,\n 4,\n 4,\n 4,\n 4,\n 4,\n 4,\n 4,\n 4,\n 4,\n 4,\n 4,\n 4,\n 4,\n 4,\n 4,\n 4,\n 4,\n 4,\n 4,\n 4,\n 4,\n 4,\n 4,\n 4,\n 4,\n 4,\n 4,\n 3,\n 4,\n 4,\n 4,\n 3,\n 4,\n 4,\n 3,\n 4,\n 4,\n 4,\n 4,\n 4,\n 4,\n 3,\n 3,\n 4,\n 4,\n 3,\n 4,\n 3,\n 4,\n 3,\n ...]"
     },
     "execution_count": 29,
     "metadata": {},
     "output_type": "execute_result"
    }
   ],
   "source": [
    "address_score = []\n",
    "for x in address:\n",
    "    if x == \"\":\n",
    "        address_score.append(3)\n",
    "    else:\n",
    "        address_score.append(4)\n",
    "address_score"
   ],
   "metadata": {
    "collapsed": false,
    "ExecuteTime": {
     "end_time": "2023-11-22T15:54:40.691678100Z",
     "start_time": "2023-11-22T15:54:40.685106Z"
    }
   },
   "id": "3157f57133f58f5d"
  }
 ],
 "metadata": {
  "kernelspec": {
   "display_name": "Python 3",
   "language": "python",
   "name": "python3"
  },
  "language_info": {
   "codemirror_mode": {
    "name": "ipython",
    "version": 2
   },
   "file_extension": ".py",
   "mimetype": "text/x-python",
   "name": "python",
   "nbconvert_exporter": "python",
   "pygments_lexer": "ipython2",
   "version": "2.7.6"
  }
 },
 "nbformat": 4,
 "nbformat_minor": 5
}
