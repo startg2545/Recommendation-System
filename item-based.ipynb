{
 "cells": [
  {
   "cell_type": "raw",
   "source": [
    "Import required packages"
   ],
   "metadata": {
    "collapsed": false
   },
   "id": "639a1244d2ad81f7"
  },
  {
   "cell_type": "code",
   "execution_count": 2,
   "outputs": [],
   "source": [
    "import pandas as pd\n",
    "import numpy as np  "
   ],
   "metadata": {
    "collapsed": false,
    "ExecuteTime": {
     "end_time": "2023-11-22T04:21:12.242762500Z",
     "start_time": "2023-11-22T04:21:11.324949100Z"
    }
   },
   "id": "7d61ab77d332bb9"
  },
  {
   "cell_type": "markdown",
   "source": [
    "Read the file"
   ],
   "metadata": {
    "collapsed": false
   },
   "id": "c2b13e97e12315ae"
  },
  {
   "cell_type": "code",
   "execution_count": 10,
   "outputs": [],
   "source": [
    "file = pd.read_excel('shortcourses2566.xlsx')"
   ],
   "metadata": {
    "collapsed": false,
    "ExecuteTime": {
     "end_time": "2023-11-22T04:28:35.426192100Z",
     "start_time": "2023-11-22T04:28:34.192542800Z"
    }
   },
   "id": "dc6b2bbbd8654b6b"
  },
  {
   "cell_type": "markdown",
   "source": [
    "Create Series of users"
   ],
   "metadata": {
    "collapsed": false
   },
   "id": "cafa70e83b149285"
  },
  {
   "cell_type": "code",
   "execution_count": 4,
   "outputs": [
    {
     "data": {
      "text/plain": "0             PORPHAING JANTIP\n1         THANAKORN DARASRISAK\n2             KARNJANA EAMTANG\n3             KARNJANA EAMTANG\n4       THITIMUN VORATHONGCHAI\n                 ...          \n6122         KITTINON SANTASUP\n6123      WITTAWAT SERMSRIPONG\n6124               NON NAKKARA\n6125         PHATTHARAPHON LIN\n6126      THANAPAT SEEMAKAJOHN\nName: Users, Length: 6127, dtype: object"
     },
     "execution_count": 4,
     "metadata": {},
     "output_type": "execute_result"
    }
   ],
   "source": [
    "s_name = file.loc[:, 'ชื่อ-นามสกุล (อังกฤษ)']\n",
    "Users = pd.Series(s_name, name='Users')\n",
    "Users"
   ],
   "metadata": {
    "collapsed": false,
    "ExecuteTime": {
     "end_time": "2023-11-22T04:21:14.078924900Z",
     "start_time": "2023-11-22T04:21:14.068987900Z"
    }
   },
   "id": "8d45c4c54a0d9363"
  },
  {
   "cell_type": "markdown",
   "source": [
    "Create Series of emails"
   ],
   "metadata": {
    "collapsed": false
   },
   "id": "de9c6e6e2e3fd2c5"
  },
  {
   "cell_type": "code",
   "execution_count": 5,
   "outputs": [
    {
     "data": {
      "text/plain": "0            tanghaoren17@gamil.com\n1               tuakung21@gmail.com\n2            karnjana.aon@gmail.com\n3            karnjana.aon@gmail.com\n4          thitimun.rama1@gmail.com\n                   ...             \n6122           kittinon_s@cmu.ac.th\n6123        wittawat_serm@cmu.ac.th\n6124          non_nakkara@cmu.ac.th\n6125    phattharaphon_lin@cmu.ac.th\n6126         thanapat_see@cmu.ac.th\nName: Emails, Length: 6127, dtype: object"
     },
     "execution_count": 5,
     "metadata": {},
     "output_type": "execute_result"
    }
   ],
   "source": [
    "s_email = file.loc[:, 'อีเมล'].fillna(\"\")\n",
    "Emails = pd.Series(s_email ,name='Emails')\n",
    "Emails\n"
   ],
   "metadata": {
    "collapsed": false,
    "ExecuteTime": {
     "end_time": "2023-11-22T04:21:14.110027700Z",
     "start_time": "2023-11-22T04:21:14.078924900Z"
    }
   },
   "id": "c46f1feb1fec2cc6"
  },
  {
   "cell_type": "markdown",
   "source": [
    "Provide a score to each user based on their email domain"
   ],
   "metadata": {
    "collapsed": false
   },
   "id": "107019d623f4cc55"
  },
  {
   "cell_type": "code",
   "execution_count": 8,
   "outputs": [
    {
     "data": {
      "text/plain": "0       1\n1       1\n2       1\n3       1\n4       1\n       ..\n6122    2\n6123    2\n6124    2\n6125    2\n6126    2\nName: Score Emails, Length: 6127, dtype: int64"
     },
     "execution_count": 8,
     "metadata": {},
     "output_type": "execute_result"
    }
   ],
   "source": [
    "email_score = []\n",
    "for data in Emails:\n",
    "    if data != '':\n",
    "        if data.split('@')[1] == 'cmu.ac.th':\n",
    "            email_score.append(2)\n",
    "        else:\n",
    "            email_score.append(1)\n",
    "    else:\n",
    "        email_score.append(0)\n",
    "email_score = pd.Series(email_score, name='Score Emails')\n",
    "email_score"
   ],
   "metadata": {
    "collapsed": false,
    "ExecuteTime": {
     "end_time": "2023-11-22T04:21:33.466203700Z",
     "start_time": "2023-11-22T04:21:33.447776100Z"
    }
   },
   "id": "b275bd947237ec8c"
  },
  {
   "cell_type": "markdown",
   "source": [
    "Create function to calculate age-education score"
   ],
   "metadata": {
    "collapsed": false
   },
   "id": "a11d7e6897a6f859"
  },
  {
   "cell_type": "code",
   "execution_count": 31,
   "outputs": [],
   "source": [
    "def getAgeEducationScore(age, limit_age):\n",
    "    if age <= limit_age:\n",
    "        score = 1\n",
    "    else:\n",
    "        score = 3\n",
    "    return score"
   ],
   "metadata": {
    "collapsed": false,
    "ExecuteTime": {
     "end_time": "2023-11-22T05:01:11.998590100Z",
     "start_time": "2023-11-22T05:01:11.982776400Z"
    }
   },
   "id": "364036364a866598"
  },
  {
   "cell_type": "markdown",
   "source": [
    "Create Series of Age-Education"
   ],
   "metadata": {
    "collapsed": false
   },
   "id": "383f28c6a996f51e"
  },
  {
   "cell_type": "code",
   "execution_count": 38,
   "outputs": [
    {
     "name": "stdout",
     "output_type": "stream",
     "text": [
      "4990\n"
     ]
    }
   ],
   "source": [
    "ages = file.loc[:, 'อายุ']\n",
    "educations = file.loc[:, 'วุฒิการศึกษา']\n",
    "age_education_scores = []\n",
    "# check output length of age_education_scores until it has 6127\n",
    "for i,x in enumerate(educations):\n",
    "    if x == 'ประถมศึกษา':\n",
    "        age_education_scores.append(getAgeEducationScore(ages[i], 16))\n",
    "    if x == 'มัธยมศึกษาตอนต้น':\n",
    "        age_education_scores.append(getAgeEducationScore(ages[i], 19))\n",
    "    if x == 'มัธยมศึกษาตอนปลาย':\n",
    "        age_education_scores.append(getAgeEducationScore(ages[i], 22))\n",
    "    if x == 'ปริญญาตรี':\n",
    "        age_education_scores.append(getAgeEducationScore(ages[i], 26))\n",
    "print(len(age_education_scores))"
   ],
   "metadata": {
    "collapsed": false,
    "ExecuteTime": {
     "end_time": "2023-11-22T05:06:34.277905100Z",
     "start_time": "2023-11-22T05:06:34.270674400Z"
    }
   },
   "id": "45e99acd68c9e77"
  }
 ],
 "metadata": {
  "kernelspec": {
   "display_name": "Python 3",
   "language": "python",
   "name": "python3"
  },
  "language_info": {
   "codemirror_mode": {
    "name": "ipython",
    "version": 2
   },
   "file_extension": ".py",
   "mimetype": "text/x-python",
   "name": "python",
   "nbconvert_exporter": "python",
   "pygments_lexer": "ipython2",
   "version": "2.7.6"
  }
 },
 "nbformat": 4,
 "nbformat_minor": 5
}
