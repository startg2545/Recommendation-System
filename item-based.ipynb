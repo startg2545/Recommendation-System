{
 "cells": [
  {
   "cell_type": "raw",
   "source": [
    "Import required packages"
   ],
   "metadata": {
    "collapsed": false
   },
   "id": "639a1244d2ad81f7"
  },
  {
   "cell_type": "code",
   "execution_count": 152,
   "outputs": [],
   "source": [
    "import pandas as pd\n",
    "import numpy as np  "
   ],
   "metadata": {
    "collapsed": false,
    "ExecuteTime": {
     "end_time": "2023-11-21T16:04:54.880250800Z",
     "start_time": "2023-11-21T16:04:54.862221900Z"
    }
   },
   "id": "7d61ab77d332bb9"
  },
  {
   "cell_type": "markdown",
   "source": [
    "Read the file"
   ],
   "metadata": {
    "collapsed": false
   },
   "id": "c2b13e97e12315ae"
  },
  {
   "cell_type": "code",
   "execution_count": 182,
   "outputs": [],
   "source": [
    "file = pd.read_excel('shortcourses2566.xlsx')"
   ],
   "metadata": {
    "collapsed": false,
    "ExecuteTime": {
     "end_time": "2023-11-21T16:27:13.324722300Z",
     "start_time": "2023-11-21T16:27:11.974578100Z"
    }
   },
   "id": "dc6b2bbbd8654b6b"
  },
  {
   "cell_type": "markdown",
   "source": [
    "Select column name users to series"
   ],
   "metadata": {
    "collapsed": false
   },
   "id": "cafa70e83b149285"
  },
  {
   "cell_type": "code",
   "execution_count": 69,
   "outputs": [
    {
     "data": {
      "text/plain": "0             PORPHAING JANTIP\n1         THANAKORN DARASRISAK\n2             KARNJANA EAMTANG\n3             KARNJANA EAMTANG\n4       THITIMUN VORATHONGCHAI\n                 ...          \n6122         KITTINON SANTASUP\n6123      WITTAWAT SERMSRIPONG\n6124               NON NAKKARA\n6125         PHATTHARAPHON LIN\n6126      THANAPAT SEEMAKAJOHN\nName: Users, Length: 6127, dtype: object"
     },
     "execution_count": 69,
     "metadata": {},
     "output_type": "execute_result"
    }
   ],
   "source": [
    "s_name = file.loc[:, 'ชื่อ-นามสกุล (อังกฤษ)']\n",
    "Users = pd.Series(s_name, name='Users')\n",
    "Users"
   ],
   "metadata": {
    "collapsed": false,
    "ExecuteTime": {
     "end_time": "2023-11-21T15:06:46.957288200Z",
     "start_time": "2023-11-21T15:06:46.933316900Z"
    }
   },
   "id": "8d45c4c54a0d9363"
  },
  {
   "cell_type": "markdown",
   "source": [
    "Determine interest of users by Emails have email = 1 (interest), don't have email = 0 (not interest)"
   ],
   "metadata": {
    "collapsed": false
   },
   "id": "de9c6e6e2e3fd2c5"
  },
  {
   "cell_type": "code",
   "execution_count": 195,
   "outputs": [
    {
     "data": {
      "text/plain": "0            tanghaoren17@gamil.com\n1               tuakung21@gmail.com\n2            karnjana.aon@gmail.com\n3            karnjana.aon@gmail.com\n4          thitimun.rama1@gmail.com\n                   ...             \n6122           kittinon_s@cmu.ac.th\n6123        wittawat_serm@cmu.ac.th\n6124          non_nakkara@cmu.ac.th\n6125    phattharaphon_lin@cmu.ac.th\n6126         thanapat_see@cmu.ac.th\nName: Emails, Length: 6127, dtype: object"
     },
     "execution_count": 195,
     "metadata": {},
     "output_type": "execute_result"
    }
   ],
   "source": [
    "s_email = file.loc[:, 'อีเมล'].fillna(\"\")\n",
    "Emails = pd.Series(s_email ,name='Emails')\n",
    "Emails\n"
   ],
   "metadata": {
    "collapsed": false,
    "ExecuteTime": {
     "end_time": "2023-11-21T16:47:52.945068200Z",
     "start_time": "2023-11-21T16:47:52.897214700Z"
    }
   },
   "id": "c46f1feb1fec2cc6"
  },
  {
   "cell_type": "code",
   "execution_count": 217,
   "outputs": [
    {
     "data": {
      "text/plain": "0       1\n1       1\n2       1\n3       1\n4       1\n       ..\n6122    2\n6123    2\n6124    2\n6125    2\n6126    2\nName: Score_Emails, Length: 6127, dtype: int64"
     },
     "execution_count": 217,
     "metadata": {},
     "output_type": "execute_result"
    }
   ],
   "source": [
    "email_score = []\n",
    "for data in Emails:\n",
    "    if data != '':\n",
    "        if data.split('@')[1] == 'cmu.ac.th':\n",
    "            email_score.append(2)\n",
    "        else:\n",
    "            email_score.append(1)\n",
    "    else:\n",
    "        email_score.append(0)\n",
    "email_score = pd.Series(email_score, name='Score_Emails')\n",
    "email_score"
   ],
   "metadata": {
    "collapsed": false,
    "ExecuteTime": {
     "end_time": "2023-11-21T17:16:37.915004100Z",
     "start_time": "2023-11-21T17:16:37.885352600Z"
    }
   },
   "id": "b275bd947237ec8c"
  },
  {
   "cell_type": "code",
   "execution_count": null,
   "outputs": [],
   "source": [],
   "metadata": {
    "collapsed": false
   },
   "id": "7b40abfde236ed4e"
  }
 ],
 "metadata": {
  "kernelspec": {
   "display_name": "Python 3",
   "language": "python",
   "name": "python3"
  },
  "language_info": {
   "codemirror_mode": {
    "name": "ipython",
    "version": 2
   },
   "file_extension": ".py",
   "mimetype": "text/x-python",
   "name": "python",
   "nbconvert_exporter": "python",
   "pygments_lexer": "ipython2",
   "version": "2.7.6"
  }
 },
 "nbformat": 4,
 "nbformat_minor": 5
}
