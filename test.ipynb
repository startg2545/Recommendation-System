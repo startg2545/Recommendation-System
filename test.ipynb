{
 "cells": [
  {
   "cell_type": "markdown",
   "metadata": {},
   "source": [
    "# Import libraries"
   ]
  },
  {
   "cell_type": "code",
   "execution_count": 1,
   "metadata": {},
   "outputs": [],
   "source": [
    "from sklearn.model_selection import train_test_split\n",
    "from sklearn.feature_extraction.text import TfidfVectorizer\n",
    "from sklearn.metrics import accuracy_score\n",
    "from sklearn.linear_model import LogisticRegression\n",
    "from sklearn.metrics.pairwise import linear_kernel\n",
    "import pandas as pd\n",
    "import numpy as np"
   ]
  },
  {
   "cell_type": "markdown",
   "metadata": {},
   "source": [
    "# Read datasets"
   ]
  },
  {
   "cell_type": "code",
   "execution_count": 2,
   "metadata": {},
   "outputs": [],
   "source": [
    "i_data = pd.read_excel('dataset/i_data.xlsx')\n",
    "ui_data = pd.read_excel('dataset/ui_data.xlsx')"
   ]
  },
  {
   "cell_type": "markdown",
   "metadata": {},
   "source": [
    "# Evaluation"
   ]
  },
  {
   "cell_type": "code",
   "execution_count": 36,
   "metadata": {},
   "outputs": [],
   "source": [
    "# Assuming your dataset is stored in a pandas DataFrame called 'ui_data'\n",
    "# and 'username' is the column containing names of users, 'course' is the column containing course name\n",
    "\n",
    "# The names of users who have taken more than one course\n",
    "usernames = ui_data['username'].value_counts()\n",
    "usernames = usernames[usernames > 1].index\n",
    "\n",
    "# Drop courses that have been taken more than 1 time by the same user\n",
    "ui_data_drop = ui_data.drop_duplicates(subset=['username', 'course'])\n",
    "\n",
    "# Calculate the number of courses each user has taken\n",
    "courses_per_user = ui_data_drop.groupby('username')['course'].count().reset_index()\n",
    "courses_per_user.columns = ['username', 'course_count']\n",
    "\n",
    "# Merge the courses_per_user DataFrame back to the original DataFrame\n",
    "merged_user_courses = ui_data_drop.merge(courses_per_user, on='username')\n",
    "\n",
    "# Sort the DataFrame by username and course to ensure consistent train-test split\n",
    "user_courses = merged_user_courses.sort_values(by=['username', 'course'])\n",
    "\n",
    "# Initialize a counter variable to keep track of the number of courses for each user\n",
    "course_counter = 1\n",
    "\n",
    "# Create a list to store the split information (True for training, False for testing)\n",
    "split_list = []\n",
    "\n",
    "# Iterate through each row to determine the split\n",
    "for index, row in user_courses.iterrows():\n",
    "    if course_counter < row['course_count']:\n",
    "        split_list.append(True)  # Training data\n",
    "    else:\n",
    "        split_list.append(False)  # Testing data\n",
    "        course_counter = 1  # Reset the counter for the next user\n",
    "    course_counter += 1\n",
    "\n",
    "# Add the split information to the DataFrame\n",
    "user_courses['split'] = split_list\n",
    "\n",
    "# Split the DataFrame into training and testing sets based on the 'split' column\n",
    "train_ui_data = user_courses[user_courses['split']]\n",
    "test_ui_data = user_courses[~user_courses['split']]\n",
    "\n",
    "# Drop the auxiliary columns used for splitting\n",
    "train_ui_data = train_ui_data.drop(['course_count', 'split'], axis=1)\n",
    "test_ui_data = test_ui_data.drop(['course_count', 'split'], axis=1)\n",
    "\n",
    "train_ui_data = train_ui_data.set_axis(range(len(train_ui_data)))\n",
    "test_ui_data = test_ui_data.set_axis(range(len(test_ui_data)))\n",
    "\n",
    "# Now train_ui_data contains rows where users learned n - 1 courses for training,\n",
    "# and test_ui_data contains rows where users learned course n for testing"
   ]
  },
  {
   "cell_type": "markdown",
   "metadata": {},
   "source": [
    "### TF-IDF and Linear Kernel Performance"
   ]
  },
  {
   "cell_type": "code",
   "execution_count": 64,
   "metadata": {},
   "outputs": [],
   "source": [
    "from src.isne_recommendation.TfidfLinearKernel import get_recommendations"
   ]
  },
  {
   "cell_type": "code",
   "execution_count": 65,
   "metadata": {},
   "outputs": [],
   "source": [
    "hit = []\n",
    "for name in usernames:\n",
    "    predictions = get_recommendations(name, i_data, train_ui_data, 10)\n",
    "    if type(predictions) is str:\n",
    "        isHit = False\n",
    "        hit.append(isHit)\n",
    "    else:\n",
    "        predictions = predictions['Course'].tolist()\n",
    "        results = test_ui_data[test_ui_data['username'] == name]['course'].iloc[0]\n",
    "        isHit = results in predictions\n",
    "        hit.append(isHit)"
   ]
  },
  {
   "cell_type": "code",
   "execution_count": 67,
   "metadata": {},
   "outputs": [
    {
     "data": {
      "text/plain": [
       "0.07083333333333333"
      ]
     },
     "execution_count": 67,
     "metadata": {},
     "output_type": "execute_result"
    }
   ],
   "source": [
    "hits = np.count_nonzero(hit)\n",
    "accuracy = hits / len(usernames)\n",
    "accuracy"
   ]
  },
  {
   "cell_type": "markdown",
   "metadata": {},
   "source": [
    "### Feature Ratings and KNN Performance"
   ]
  },
  {
   "cell_type": "code",
   "execution_count": 61,
   "metadata": {},
   "outputs": [],
   "source": [
    "from src.isne_recommendation.FeatureRatingsKNN import get_recommendations"
   ]
  },
  {
   "cell_type": "code",
   "execution_count": 17,
   "metadata": {},
   "outputs": [
    {
     "data": {
      "text/html": [
       "<div>\n",
       "<style scoped>\n",
       "    .dataframe tbody tr th:only-of-type {\n",
       "        vertical-align: middle;\n",
       "    }\n",
       "\n",
       "    .dataframe tbody tr th {\n",
       "        vertical-align: top;\n",
       "    }\n",
       "\n",
       "    .dataframe thead th {\n",
       "        text-align: right;\n",
       "    }\n",
       "</style>\n",
       "<table border=\"1\" class=\"dataframe\">\n",
       "  <thead>\n",
       "    <tr style=\"text-align: right;\">\n",
       "      <th></th>\n",
       "      <th>Course</th>\n",
       "      <th>Cosine Distance</th>\n",
       "      <th>Score</th>\n",
       "    </tr>\n",
       "  </thead>\n",
       "  <tbody>\n",
       "    <tr>\n",
       "      <th>0</th>\n",
       "      <td>Addiction Treatment: Clinical Skills for Healt...</td>\n",
       "      <td>0.670731</td>\n",
       "      <td>0.329269</td>\n",
       "    </tr>\n",
       "  </tbody>\n",
       "</table>\n",
       "</div>"
      ],
      "text/plain": [
       "                                              Course  Cosine Distance  \\\n",
       "0  Addiction Treatment: Clinical Skills for Healt...         0.670731   \n",
       "\n",
       "      Score  \n",
       "0  0.329269  "
      ]
     },
     "execution_count": 17,
     "metadata": {},
     "output_type": "execute_result"
    }
   ],
   "source": [
    "get_recommendations('Martha Long', ui_data, 10)"
   ]
  },
  {
   "cell_type": "code",
   "execution_count": 62,
   "metadata": {},
   "outputs": [],
   "source": [
    "hit = []\n",
    "for name in usernames:\n",
    "    predictions = get_recommendations(name, train_ui_data, 10)\n",
    "    if type(predictions) is str:\n",
    "        isHit = False\n",
    "        hit.append(isHit)\n",
    "    else:\n",
    "        predictions = predictions['Course'].tolist()\n",
    "        results = test_ui_data[test_ui_data['username'] == name]['course'].iloc[0]\n",
    "        isHit = results in predictions\n",
    "        hit.append(isHit)"
   ]
  },
  {
   "cell_type": "code",
   "execution_count": 63,
   "metadata": {},
   "outputs": [
    {
     "data": {
      "text/plain": [
       "0.21770833333333334"
      ]
     },
     "execution_count": 63,
     "metadata": {},
     "output_type": "execute_result"
    }
   ],
   "source": [
    "hits = np.count_nonzero(hit)\n",
    "accuracy = hits / len(usernames)\n",
    "accuracy"
   ]
  },
  {
   "cell_type": "markdown",
   "metadata": {},
   "source": [
    "### Hybrid"
   ]
  },
  {
   "cell_type": "code",
   "execution_count": 59,
   "metadata": {},
   "outputs": [],
   "source": [
    "from src.isne_recommendation.Hybrid import get_recommendations"
   ]
  },
  {
   "cell_type": "code",
   "execution_count": 19,
   "metadata": {},
   "outputs": [
    {
     "data": {
      "text/html": [
       "<div>\n",
       "<style scoped>\n",
       "    .dataframe tbody tr th:only-of-type {\n",
       "        vertical-align: middle;\n",
       "    }\n",
       "\n",
       "    .dataframe tbody tr th {\n",
       "        vertical-align: top;\n",
       "    }\n",
       "\n",
       "    .dataframe thead th {\n",
       "        text-align: right;\n",
       "    }\n",
       "</style>\n",
       "<table border=\"1\" class=\"dataframe\">\n",
       "  <thead>\n",
       "    <tr style=\"text-align: right;\">\n",
       "      <th></th>\n",
       "      <th>Course</th>\n",
       "      <th>Score</th>\n",
       "    </tr>\n",
       "    <tr>\n",
       "      <th>Index</th>\n",
       "      <th></th>\n",
       "      <th></th>\n",
       "    </tr>\n",
       "  </thead>\n",
       "  <tbody>\n",
       "    <tr>\n",
       "      <th>54</th>\n",
       "      <td>Non-Equilibrium Applications of Statistical Th...</td>\n",
       "      <td>0.655798</td>\n",
       "    </tr>\n",
       "    <tr>\n",
       "      <th>5</th>\n",
       "      <td>Build Basic Generative Adversarial Networks (G...</td>\n",
       "      <td>0.246585</td>\n",
       "    </tr>\n",
       "    <tr>\n",
       "      <th>1</th>\n",
       "      <td>Addiction Treatment: Clinical Skills for Healt...</td>\n",
       "      <td>0.170167</td>\n",
       "    </tr>\n",
       "    <tr>\n",
       "      <th>15</th>\n",
       "      <td>Culminating Project in Health Informatics</td>\n",
       "      <td>0.072155</td>\n",
       "    </tr>\n",
       "    <tr>\n",
       "      <th>8</th>\n",
       "      <td>COVID-19 - A clinical update</td>\n",
       "      <td>0.067086</td>\n",
       "    </tr>\n",
       "    <tr>\n",
       "      <th>0</th>\n",
       "      <td>A Crash Course in Data Science</td>\n",
       "      <td>0.048736</td>\n",
       "    </tr>\n",
       "    <tr>\n",
       "      <th>63</th>\n",
       "      <td>Qualitative Research Methods</td>\n",
       "      <td>0.042523</td>\n",
       "    </tr>\n",
       "    <tr>\n",
       "      <th>79</th>\n",
       "      <td>Write A Feature Length Screenplay For Film Or ...</td>\n",
       "      <td>0.036554</td>\n",
       "    </tr>\n",
       "    <tr>\n",
       "      <th>2</th>\n",
       "      <td>Agile Meets Design Thinking</td>\n",
       "      <td>0.027061</td>\n",
       "    </tr>\n",
       "    <tr>\n",
       "      <th>68</th>\n",
       "      <td>Social Media Management</td>\n",
       "      <td>0.024238</td>\n",
       "    </tr>\n",
       "  </tbody>\n",
       "</table>\n",
       "</div>"
      ],
      "text/plain": [
       "                                                  Course     Score\n",
       "Index                                                             \n",
       "54     Non-Equilibrium Applications of Statistical Th...  0.655798\n",
       "5      Build Basic Generative Adversarial Networks (G...  0.246585\n",
       "1      Addiction Treatment: Clinical Skills for Healt...  0.170167\n",
       "15             Culminating Project in Health Informatics  0.072155\n",
       "8                           COVID-19 - A clinical update  0.067086\n",
       "0                         A Crash Course in Data Science  0.048736\n",
       "63                          Qualitative Research Methods  0.042523\n",
       "79     Write A Feature Length Screenplay For Film Or ...  0.036554\n",
       "2                            Agile Meets Design Thinking  0.027061\n",
       "68                               Social Media Management  0.024238"
      ]
     },
     "execution_count": 19,
     "metadata": {},
     "output_type": "execute_result"
    }
   ],
   "source": [
    "get_recommendations('Billy Carter', i_data, ui_data, 10)"
   ]
  },
  {
   "cell_type": "code",
   "execution_count": 60,
   "metadata": {},
   "outputs": [],
   "source": [
    "hit = []\n",
    "for name in usernames:\n",
    "    predictions = get_recommendations(name, i_data, train_ui_data, 10)['Course'].tolist()\n",
    "    results = test_ui_data[test_ui_data['username'] == name]['course'].iloc[0]\n",
    "    isHit = results in predictions\n",
    "    hit.append(isHit)"
   ]
  },
  {
   "cell_type": "code",
   "execution_count": 57,
   "metadata": {},
   "outputs": [
    {
     "data": {
      "text/plain": [
       "0.275"
      ]
     },
     "execution_count": 57,
     "metadata": {},
     "output_type": "execute_result"
    }
   ],
   "source": [
    "hits = np.count_nonzero(hit)\n",
    "accuracy = hits / len(usernames)\n",
    "accuracy"
   ]
  },
  {
   "cell_type": "markdown",
   "metadata": {},
   "source": [
    "### Results "
   ]
  },
  {
   "cell_type": "markdown",
   "metadata": {},
   "source": [
    "- **The first approach**: _TF-IDF_ and _Linear Kernel_ Performance has an accuracy score of 7.08 percentage\n",
    "- **The second approach**: _Feature Ratings_ and _KNN Performance_ has an accuracy score of 21.77 percentage\n",
    "- **The third approach**: _Hybrid_ has an accuracy score of 27.5 percentage"
   ]
  }
 ],
 "metadata": {
  "kernelspec": {
   "display_name": "Python 3",
   "language": "python",
   "name": "python3"
  },
  "language_info": {
   "codemirror_mode": {
    "name": "ipython",
    "version": 3
   },
   "file_extension": ".py",
   "mimetype": "text/x-python",
   "name": "python",
   "nbconvert_exporter": "python",
   "pygments_lexer": "ipython3",
   "version": "3.12.2"
  }
 },
 "nbformat": 4,
 "nbformat_minor": 2
}
