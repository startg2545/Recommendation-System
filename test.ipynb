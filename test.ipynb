{
 "cells": [
  {
   "cell_type": "markdown",
   "metadata": {},
   "source": [
    "# Import libraries"
   ]
  },
  {
   "cell_type": "code",
   "execution_count": 1,
   "metadata": {},
   "outputs": [],
   "source": [
    "import pandas as pd\n",
    "from isne_recommendation import TfidfLinearKernel, FeatureRatingsKNN, Hybrid\n",
    "from sklearn.model_selection import train_test_split"
   ]
  },
  {
   "cell_type": "markdown",
   "metadata": {},
   "source": [
    "# Read datasets"
   ]
  },
  {
   "cell_type": "code",
   "execution_count": 2,
   "metadata": {},
   "outputs": [],
   "source": [
    "i_data = pd.read_excel('dataset/i_data.xlsx')\n",
    "ui_data = pd.read_excel('dataset/ui_data.xlsx')"
   ]
  },
  {
   "cell_type": "markdown",
   "metadata": {},
   "source": [
    "# Evaluation"
   ]
  },
  {
   "cell_type": "code",
   "execution_count": 9,
   "metadata": {},
   "outputs": [],
   "source": [
    "from src.isne_recommendation.TfidfLinearKernel import get_recommendations"
   ]
  },
  {
   "cell_type": "code",
   "execution_count": 26,
   "metadata": {},
   "outputs": [
    {
     "data": {
      "text/html": [
       "<div>\n",
       "<style scoped>\n",
       "    .dataframe tbody tr th:only-of-type {\n",
       "        vertical-align: middle;\n",
       "    }\n",
       "\n",
       "    .dataframe tbody tr th {\n",
       "        vertical-align: top;\n",
       "    }\n",
       "\n",
       "    .dataframe thead th {\n",
       "        text-align: right;\n",
       "    }\n",
       "</style>\n",
       "<table border=\"1\" class=\"dataframe\">\n",
       "  <thead>\n",
       "    <tr style=\"text-align: right;\">\n",
       "      <th></th>\n",
       "      <th>Course</th>\n",
       "      <th>Score</th>\n",
       "    </tr>\n",
       "  </thead>\n",
       "  <tbody>\n",
       "    <tr>\n",
       "      <th>5</th>\n",
       "      <td>Build Basic Generative Adversarial Networks (G...</td>\n",
       "      <td>1.000000</td>\n",
       "    </tr>\n",
       "    <tr>\n",
       "      <th>74</th>\n",
       "      <td>Water Supply and Sanitation Policy in Developi...</td>\n",
       "      <td>0.132246</td>\n",
       "    </tr>\n",
       "    <tr>\n",
       "      <th>7</th>\n",
       "      <td>Business English for Cross-cultural Communication</td>\n",
       "      <td>0.120705</td>\n",
       "    </tr>\n",
       "    <tr>\n",
       "      <th>0</th>\n",
       "      <td>A Crash Course in Data Science</td>\n",
       "      <td>0.117632</td>\n",
       "    </tr>\n",
       "    <tr>\n",
       "      <th>10</th>\n",
       "      <td>Cancer Prevention Web-Based Activity</td>\n",
       "      <td>0.113707</td>\n",
       "    </tr>\n",
       "    <tr>\n",
       "      <th>48</th>\n",
       "      <td>Legal aspects of conducting business in Russia</td>\n",
       "      <td>0.110358</td>\n",
       "    </tr>\n",
       "    <tr>\n",
       "      <th>9</th>\n",
       "      <td>Calculating Descriptive Statistics in R</td>\n",
       "      <td>0.107863</td>\n",
       "    </tr>\n",
       "    <tr>\n",
       "      <th>68</th>\n",
       "      <td>Social Media Management</td>\n",
       "      <td>0.106924</td>\n",
       "    </tr>\n",
       "    <tr>\n",
       "      <th>25</th>\n",
       "      <td>Emergency Care: Pregnancy, Infants, and Children</td>\n",
       "      <td>0.106736</td>\n",
       "    </tr>\n",
       "    <tr>\n",
       "      <th>14</th>\n",
       "      <td>Cryptography and Information Theory</td>\n",
       "      <td>0.105415</td>\n",
       "    </tr>\n",
       "  </tbody>\n",
       "</table>\n",
       "</div>"
      ],
      "text/plain": [
       "                                               Course     Score\n",
       "5   Build Basic Generative Adversarial Networks (G...  1.000000\n",
       "74  Water Supply and Sanitation Policy in Developi...  0.132246\n",
       "7   Business English for Cross-cultural Communication  0.120705\n",
       "0                      A Crash Course in Data Science  0.117632\n",
       "10               Cancer Prevention Web-Based Activity  0.113707\n",
       "48     Legal aspects of conducting business in Russia  0.110358\n",
       "9             Calculating Descriptive Statistics in R  0.107863\n",
       "68                            Social Media Management  0.106924\n",
       "25   Emergency Care: Pregnancy, Infants, and Children  0.106736\n",
       "14                Cryptography and Information Theory  0.105415"
      ]
     },
     "execution_count": 26,
     "metadata": {},
     "output_type": "execute_result"
    }
   ],
   "source": [
    "rec = get_recommendations('Martha Long', i_data, ui_data, 10)[0]\n",
    "rec = rec.sort_values(by=['Score'], ascending=False)\n",
    "rec = rec.head(10)\n",
    "rec"
   ]
  },
  {
   "cell_type": "code",
   "execution_count": 6,
   "metadata": {},
   "outputs": [
    {
     "data": {
      "text/html": [
       "<div>\n",
       "<style scoped>\n",
       "    .dataframe tbody tr th:only-of-type {\n",
       "        vertical-align: middle;\n",
       "    }\n",
       "\n",
       "    .dataframe tbody tr th {\n",
       "        vertical-align: top;\n",
       "    }\n",
       "\n",
       "    .dataframe thead th {\n",
       "        text-align: right;\n",
       "    }\n",
       "</style>\n",
       "<table border=\"1\" class=\"dataframe\">\n",
       "  <thead>\n",
       "    <tr style=\"text-align: right;\">\n",
       "      <th></th>\n",
       "      <th>Course</th>\n",
       "      <th>Score</th>\n",
       "    </tr>\n",
       "    <tr>\n",
       "      <th>Index</th>\n",
       "      <th></th>\n",
       "      <th></th>\n",
       "    </tr>\n",
       "  </thead>\n",
       "  <tbody>\n",
       "    <tr>\n",
       "      <th>42</th>\n",
       "      <td>Introduction to English Common Law</td>\n",
       "      <td>0.477360</td>\n",
       "    </tr>\n",
       "    <tr>\n",
       "      <th>55</th>\n",
       "      <td>Oral Communication for Engineering Leaders</td>\n",
       "      <td>0.334615</td>\n",
       "    </tr>\n",
       "    <tr>\n",
       "      <th>26</th>\n",
       "      <td>Environmental Management &amp; Ethics</td>\n",
       "      <td>0.293256</td>\n",
       "    </tr>\n",
       "    <tr>\n",
       "      <th>0</th>\n",
       "      <td>A Crash Course in Data Science</td>\n",
       "      <td>0.239388</td>\n",
       "    </tr>\n",
       "    <tr>\n",
       "      <th>7</th>\n",
       "      <td>Business English for Cross-cultural Communication</td>\n",
       "      <td>0.232154</td>\n",
       "    </tr>\n",
       "    <tr>\n",
       "      <th>9</th>\n",
       "      <td>Calculating Descriptive Statistics in R</td>\n",
       "      <td>0.223742</td>\n",
       "    </tr>\n",
       "    <tr>\n",
       "      <th>32</th>\n",
       "      <td>Foundations of Public Health Practice: The Pub...</td>\n",
       "      <td>0.217645</td>\n",
       "    </tr>\n",
       "    <tr>\n",
       "      <th>45</th>\n",
       "      <td>Introduction to Supply Chain Finance &amp; Blockch...</td>\n",
       "      <td>0.217531</td>\n",
       "    </tr>\n",
       "    <tr>\n",
       "      <th>21</th>\n",
       "      <td>Disease Screening in Public Health</td>\n",
       "      <td>0.216949</td>\n",
       "    </tr>\n",
       "    <tr>\n",
       "      <th>20</th>\n",
       "      <td>Discrete Mathematics</td>\n",
       "      <td>0.212680</td>\n",
       "    </tr>\n",
       "  </tbody>\n",
       "</table>\n",
       "</div>"
      ],
      "text/plain": [
       "                                                  Course     Score\n",
       "Index                                                             \n",
       "42                    Introduction to English Common Law  0.477360\n",
       "55            Oral Communication for Engineering Leaders  0.334615\n",
       "26                     Environmental Management & Ethics  0.293256\n",
       "0                         A Crash Course in Data Science  0.239388\n",
       "7      Business English for Cross-cultural Communication  0.232154\n",
       "9                Calculating Descriptive Statistics in R  0.223742\n",
       "32     Foundations of Public Health Practice: The Pub...  0.217645\n",
       "45     Introduction to Supply Chain Finance & Blockch...  0.217531\n",
       "21                    Disease Screening in Public Health  0.216949\n",
       "20                                  Discrete Mathematics  0.212680"
      ]
     },
     "execution_count": 6,
     "metadata": {},
     "output_type": "execute_result"
    }
   ],
   "source": [
    "from src.isne_recommendation.TfidfLinearKernel_old import get_recommendations\n",
    "\n",
    "get_recommendations('Martha Long', i_data, ui_data, 10)"
   ]
  }
 ],
 "metadata": {
  "kernelspec": {
   "display_name": "Python 3",
   "language": "python",
   "name": "python3"
  },
  "language_info": {
   "codemirror_mode": {
    "name": "ipython",
    "version": 3
   },
   "file_extension": ".py",
   "mimetype": "text/x-python",
   "name": "python",
   "nbconvert_exporter": "python",
   "pygments_lexer": "ipython3",
   "version": "3.12.2"
  }
 },
 "nbformat": 4,
 "nbformat_minor": 2
}
