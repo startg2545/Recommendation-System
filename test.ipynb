{
 "cells": [
  {
   "cell_type": "markdown",
   "metadata": {},
   "source": [
    "# Import libraries"
   ]
  },
  {
   "cell_type": "code",
   "execution_count": 1,
   "metadata": {},
   "outputs": [],
   "source": [
    "from sklearn.model_selection import train_test_split\n",
    "from sklearn.feature_extraction.text import TfidfVectorizer\n",
    "from sklearn.metrics import accuracy_score\n",
    "from sklearn.linear_model import LogisticRegression\n",
    "from sklearn.metrics.pairwise import linear_kernel\n",
    "import pandas as pd\n",
    "import numpy as np"
   ]
  },
  {
   "cell_type": "markdown",
   "metadata": {},
   "source": [
    "# Read datasets"
   ]
  },
  {
   "cell_type": "code",
   "execution_count": 2,
   "metadata": {},
   "outputs": [],
   "source": [
    "i_data = pd.read_excel('dataset/i_data.xlsx')\n",
    "ui_data = pd.read_excel('dataset/ui_data.xlsx')"
   ]
  },
  {
   "cell_type": "markdown",
   "metadata": {},
   "source": [
    "# Evaluation"
   ]
  },
  {
   "cell_type": "code",
   "execution_count": 3,
   "metadata": {},
   "outputs": [],
   "source": [
    "from src.isne_recommendation.TfidfLinearKernel import get_recommendations"
   ]
  },
  {
   "cell_type": "code",
   "execution_count": 4,
   "metadata": {},
   "outputs": [],
   "source": [
    "# Assuming your dataset is stored in a pandas DataFrame called 'ui_data'\n",
    "# and 'username' is the column containing names of users, 'course' is the column containing course name\n",
    "\n",
    "# Calculate the number of courses each user has taken\n",
    "courses_per_user = ui_data.groupby('username')['course'].count().reset_index()\n",
    "courses_per_user.columns = ['username', 'course_count']\n",
    "\n",
    "# Merge the courses_per_user DataFrame back to the original DataFrame\n",
    "merged_user_courses = ui_data.merge(courses_per_user, on='username')\n",
    "\n",
    "# Sort the DataFrame by username and course to ensure consistent train-test split\n",
    "user_courses = merged_user_courses.sort_values(by=['username', 'course'])\n",
    "\n",
    "# Initialize a counter variable to keep track of the number of courses for each user\n",
    "course_counter = 1\n",
    "\n",
    "# Create a list to store the split information (True for training, False for testing)\n",
    "split_list = []\n",
    "\n",
    "# Iterate through each row to determine the split\n",
    "for index, row in user_courses.iterrows():\n",
    "    if course_counter < row['course_count']:\n",
    "        split_list.append(True)  # Training data\n",
    "    else:\n",
    "        split_list.append(False)  # Testing data\n",
    "        course_counter = 1  # Reset the counter for the next user\n",
    "    course_counter += 1\n",
    "\n",
    "# Add the split information to the DataFrame\n",
    "user_courses['split'] = split_list\n",
    "\n",
    "# Split the DataFrame into training and testing sets based on the 'split' column\n",
    "train_ui_data = user_courses[user_courses['split']]\n",
    "test_ui_data = user_courses[~user_courses['split']]\n",
    "\n",
    "# Drop the auxiliary columns used for splitting\n",
    "train_ui_data = train_ui_data.drop(['course_count', 'split'], axis=1)\n",
    "test_ui_data = test_ui_data.drop(['course_count', 'split'], axis=1)\n",
    "\n",
    "# Now train_ui_data contains rows where users learned n - 1 courses for training,\n",
    "# and test_ui_data contains rows where users learned course n for testing"
   ]
  },
  {
   "cell_type": "markdown",
   "metadata": {},
   "source": [
    "# Recall @K"
   ]
  },
  {
   "cell_type": "code",
   "execution_count": 6,
   "metadata": {},
   "outputs": [
    {
     "data": {
      "text/html": [
       "<div>\n",
       "<style scoped>\n",
       "    .dataframe tbody tr th:only-of-type {\n",
       "        vertical-align: middle;\n",
       "    }\n",
       "\n",
       "    .dataframe tbody tr th {\n",
       "        vertical-align: top;\n",
       "    }\n",
       "\n",
       "    .dataframe thead th {\n",
       "        text-align: right;\n",
       "    }\n",
       "</style>\n",
       "<table border=\"1\" class=\"dataframe\">\n",
       "  <thead>\n",
       "    <tr style=\"text-align: right;\">\n",
       "      <th></th>\n",
       "      <th>Course</th>\n",
       "      <th>Score</th>\n",
       "    </tr>\n",
       "  </thead>\n",
       "  <tbody>\n",
       "    <tr>\n",
       "      <th>5</th>\n",
       "      <td>Build Basic Generative Adversarial Networks (G...</td>\n",
       "      <td>1.000000</td>\n",
       "    </tr>\n",
       "    <tr>\n",
       "      <th>54</th>\n",
       "      <td>Non-Equilibrium Applications of Statistical Th...</td>\n",
       "      <td>1.000000</td>\n",
       "    </tr>\n",
       "    <tr>\n",
       "      <th>56</th>\n",
       "      <td>Physics of silicon solar cells</td>\n",
       "      <td>0.210851</td>\n",
       "    </tr>\n",
       "    <tr>\n",
       "      <th>52</th>\n",
       "      <td>Medical Applications of Particle Accelerators ...</td>\n",
       "      <td>0.185854</td>\n",
       "    </tr>\n",
       "    <tr>\n",
       "      <th>31</th>\n",
       "      <td>Foundations of Public Health Practice: Behavio...</td>\n",
       "      <td>0.175814</td>\n",
       "    </tr>\n",
       "    <tr>\n",
       "      <th>62</th>\n",
       "      <td>Python and Machine Learning for Asset Management</td>\n",
       "      <td>0.170540</td>\n",
       "    </tr>\n",
       "    <tr>\n",
       "      <th>3</th>\n",
       "      <td>Biomedical Visualisation</td>\n",
       "      <td>0.169872</td>\n",
       "    </tr>\n",
       "    <tr>\n",
       "      <th>43</th>\n",
       "      <td>Introduction to International Criminal Law</td>\n",
       "      <td>0.163321</td>\n",
       "    </tr>\n",
       "    <tr>\n",
       "      <th>57</th>\n",
       "      <td>Political Governance and Public Policy in Russia</td>\n",
       "      <td>0.154583</td>\n",
       "    </tr>\n",
       "    <tr>\n",
       "      <th>21</th>\n",
       "      <td>Disease Screening in Public Health</td>\n",
       "      <td>0.152959</td>\n",
       "    </tr>\n",
       "  </tbody>\n",
       "</table>\n",
       "</div>"
      ],
      "text/plain": [
       "                                               Course     Score\n",
       "5   Build Basic Generative Adversarial Networks (G...  1.000000\n",
       "54  Non-Equilibrium Applications of Statistical Th...  1.000000\n",
       "56                     Physics of silicon solar cells  0.210851\n",
       "52  Medical Applications of Particle Accelerators ...  0.185854\n",
       "31  Foundations of Public Health Practice: Behavio...  0.175814\n",
       "62   Python and Machine Learning for Asset Management  0.170540\n",
       "3                            Biomedical Visualisation  0.169872\n",
       "43         Introduction to International Criminal Law  0.163321\n",
       "57   Political Governance and Public Policy in Russia  0.154583\n",
       "21                 Disease Screening in Public Health  0.152959"
      ]
     },
     "execution_count": 6,
     "metadata": {},
     "output_type": "execute_result"
    }
   ],
   "source": [
    "recommendations = get_recommendations('Martha Long', i_data, train_ui_data, 10)\n",
    "recommendations"
   ]
  }
 ],
 "metadata": {
  "kernelspec": {
   "display_name": "Python 3",
   "language": "python",
   "name": "python3"
  },
  "language_info": {
   "codemirror_mode": {
    "name": "ipython",
    "version": 3
   },
   "file_extension": ".py",
   "mimetype": "text/x-python",
   "name": "python",
   "nbconvert_exporter": "python",
   "pygments_lexer": "ipython3",
   "version": "3.12.2"
  }
 },
 "nbformat": 4,
 "nbformat_minor": 2
}
