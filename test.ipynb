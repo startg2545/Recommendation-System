{
 "cells": [
  {
   "cell_type": "markdown",
   "metadata": {},
   "source": [
    "# Import libraries"
   ]
  },
  {
   "cell_type": "code",
   "execution_count": 1,
   "metadata": {},
   "outputs": [],
   "source": [
    "import pandas as pd"
   ]
  },
  {
   "cell_type": "markdown",
   "metadata": {},
   "source": [
    "# Read datasets"
   ]
  },
  {
   "cell_type": "code",
   "execution_count": 2,
   "metadata": {},
   "outputs": [],
   "source": [
    "i_data = pd.read_excel('dataset/i_data.xlsx')\n",
    "ui_data = pd.read_excel('dataset/ui_data.xlsx')"
   ]
  },
  {
   "cell_type": "markdown",
   "metadata": {},
   "source": [
    "# Evaluation"
   ]
  },
  {
   "cell_type": "code",
   "execution_count": 3,
   "metadata": {},
   "outputs": [],
   "source": [
    "from src.isne_recommendation import TfidfLinearKernel"
   ]
  },
  {
   "cell_type": "code",
   "execution_count": 4,
   "metadata": {},
   "outputs": [],
   "source": [
    "model = TfidfLinearKernel.fit(i_data)\n",
    "prediction = TfidfLinearKernel.predict('Martha Long', i_data, ui_data, model, 10)"
   ]
  },
  {
   "cell_type": "code",
   "execution_count": 5,
   "metadata": {},
   "outputs": [
    {
     "data": {
      "text/plain": [
       "0.136986301369863"
      ]
     },
     "execution_count": 5,
     "metadata": {},
     "output_type": "execute_result"
    }
   ],
   "source": [
    "train, test = TfidfLinearKernel.train_test_split(ui_data)\n",
    "evaluation = TfidfLinearKernel.evaluate_model(train, test, i_data, model)\n",
    "evaluation"
   ]
  },
  {
   "cell_type": "code",
   "execution_count": 6,
   "metadata": {},
   "outputs": [],
   "source": [
    "from src.isne_recommendation import FeatureRatingsKNN"
   ]
  },
  {
   "cell_type": "code",
   "execution_count": 7,
   "metadata": {},
   "outputs": [],
   "source": [
    "model = FeatureRatingsKNN.fit(ui_data)\n",
    "prediction = FeatureRatingsKNN.predict('Martha Long', ui_data, model, 10)"
   ]
  },
  {
   "cell_type": "code",
   "execution_count": 8,
   "metadata": {},
   "outputs": [],
   "source": [
    "train, test = FeatureRatingsKNN.train_test_split(ui_data)\n",
    "train = train.set_axis(range(len(train)))"
   ]
  },
  {
   "cell_type": "code",
   "execution_count": 9,
   "metadata": {},
   "outputs": [
    {
     "data": {
      "text/plain": [
       "0.4349315068493151"
      ]
     },
     "execution_count": 9,
     "metadata": {},
     "output_type": "execute_result"
    }
   ],
   "source": [
    "train, test = FeatureRatingsKNN.train_test_split(ui_data)\n",
    "model = FeatureRatingsKNN.fit(train)\n",
    "evaluation = FeatureRatingsKNN.evaluate_model(train, test, model, 10)\n",
    "evaluation"
   ]
  },
  {
   "cell_type": "code",
   "execution_count": 10,
   "metadata": {},
   "outputs": [],
   "source": [
    "from src.isne_recommendation import Hybrid"
   ]
  },
  {
   "cell_type": "code",
   "execution_count": 11,
   "metadata": {},
   "outputs": [],
   "source": [
    "model = Hybrid.fit(i_data, ui_data)\n",
    "prediction = Hybrid.predict('Martha Long', i_data, ui_data, model, 10)"
   ]
  },
  {
   "cell_type": "code",
   "execution_count": 12,
   "metadata": {},
   "outputs": [
    {
     "data": {
      "text/plain": [
       "0.7568493150684932"
      ]
     },
     "execution_count": 12,
     "metadata": {},
     "output_type": "execute_result"
    }
   ],
   "source": [
    "train, test = Hybrid.train_test_split(ui_data)\n",
    "model = Hybrid.fit(i_data, train)\n",
    "evaluation = Hybrid.evaluate_model(train, test, i_data, model)\n",
    "evaluation"
   ]
  },
  {
   "cell_type": "markdown",
   "metadata": {},
   "source": [
    "### Results "
   ]
  },
  {
   "cell_type": "markdown",
   "metadata": {},
   "source": [
    "- **The first approach**: _TF-IDF_ and _Linear Kernel_ Performance has an accuracy score of 13.70 percentage\n",
    "- **The second approach**: _Feature Ratings_ and _KNN Performance_ has an accuracy score of 43.50 percentage\n",
    "- **The third approach**: _Hybrid_ has an accuracy score of 75.68 percentage"
   ]
  }
 ],
 "metadata": {
  "kernelspec": {
   "display_name": "Python 3",
   "language": "python",
   "name": "python3"
  },
  "language_info": {
   "codemirror_mode": {
    "name": "ipython",
    "version": 3
   },
   "file_extension": ".py",
   "mimetype": "text/x-python",
   "name": "python",
   "nbconvert_exporter": "python",
   "pygments_lexer": "ipython3",
   "version": "3.12.2"
  }
 },
 "nbformat": 4,
 "nbformat_minor": 2
}
